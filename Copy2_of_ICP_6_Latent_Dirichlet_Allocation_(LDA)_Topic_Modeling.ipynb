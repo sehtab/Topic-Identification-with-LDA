{
  "cells": [
    {
      "cell_type": "markdown",
      "id": "4e68dd8f-aab6-4969-be1c-85e3958eb5ca",
      "metadata": {
        "id": "4e68dd8f-aab6-4969-be1c-85e3958eb5ca"
      },
      "source": [
        "# Latent Dirichlet Allocation (LDA)"
      ]
    },
    {
      "cell_type": "markdown",
      "id": "02b7c30d-baa6-4186-a98a-f090f82e38a2",
      "metadata": {
        "id": "02b7c30d-baa6-4186-a98a-f090f82e38a2"
      },
      "source": [
        "![The Wonderful Wizard of Oz](https://www.gutenberg.org/files/55/55-h/images/cover.jpg)\n",
        "\n",
        "> The Wonderful Wizard of Oz {cite:p}`Baum` via https://www.gutenberg.org/ebooks/55"
      ]
    },
    {
      "cell_type": "markdown",
      "id": "59edb20a-f69d-4bce-8c40-035f1965df70",
      "metadata": {
        "id": "59edb20a-f69d-4bce-8c40-035f1965df70"
      },
      "source": [
        "To start our discussion, we should introduce what Topic Modeling is and how it can be applied. "
      ]
    },
    {
      "cell_type": "markdown",
      "id": "4172a2e2-8392-4287-805a-388c71209bd8",
      "metadata": {
        "id": "4172a2e2-8392-4287-805a-388c71209bd8"
      },
      "source": [
        ":::{note}\n",
        "\"Topic modeling is a princpled approach for discovering topics from a large corpus of text documents {cite:p}`liu2020sentiment` (pg.159).\"\n",
        ":::\n",
        "\n"
      ]
    },
    {
      "cell_type": "markdown",
      "id": "adf84bb5-fbd4-49a2-a75f-a626feb9bb38",
      "metadata": {
        "id": "adf84bb5-fbd4-49a2-a75f-a626feb9bb38"
      },
      "source": [
        "Already, we have few things to unpack. What are the topics? How are they defined? Do we define or does the computer? What is a large corpus? How many documents do we need?\n",
        "\n",
        "\n",
        "Let's start with a *large corpus of text documents*. Typically, we would have two documents 📄, five documents 📄, ten million documents 📄, can be thought of as our corpus. Yes, even 1 document 📄 can be used for topic modeling. So, defining, *large corpus of text documents*, can be subjective. \n",
        "\n",
        "As specified by Liu {cite:p}`liu2020sentiment`, we can start this conversation using one of the two basic types of topic modeling. This being *probabilistic Latent Dirichlet Allocation* or *Latent Dirichlet Allocation*. For our conversation, we will be using *Latent Dirichlet Allocation*. \n",
        "\n",
        "\n",
        "\n"
      ]
    },
    {
      "cell_type": "markdown",
      "id": "874d41a2-a582-4123-8601-066793c98966",
      "metadata": {
        "id": "874d41a2-a582-4123-8601-066793c98966"
      },
      "source": [
        "## Latent Dirichlet Allocation\n",
        "\n",
        "### Pronunciation\n",
        "\n",
        "#### Latent\n",
        "<audio controls>\n",
        "  <source src=\"https://github.com/dudaspm/LDA_Bias_Data/blob/main/audio/Latent.mp3?raw=true\"\n",
        "          type=\"audio/mp3\">\n",
        "Your browser does not support the audio element.\n",
        "</audio>\n",
        "\n",
        "#### Dirichlet\n",
        "<audio controls>\n",
        "  <source src=\"https://github.com/dudaspm/LDA_Bias_Data/blob/main/audio/Dirichlet.mp3?raw=true\"\n",
        "          type=\"audio/mp3\">\n",
        "Your browser does not support the audio element.\n",
        "</audio>\n",
        "\n",
        "#### Allocation\n",
        "<audio controls>\n",
        "  <source src=\"https://github.com/dudaspm/LDA_Bias_Data/blob/main/audio/Allocation.mp3?raw=true\"\n",
        "          type=\"audio/mp3\">\n",
        "Your browser does not support the audio element.\n",
        "</audio>\n",
        "\n",
        "Our pronunciation stems from a talk by David Blei who is a professor of Statistics and Computer Science at Columbia University during David's talk \"Probabilistic Topic Models and User Behavior {cite:p}`Blei_2017`.\" The citation provides a link to original YouTube video (which is a *great* resource), but specifically, helpful for the pronunciation. \n"
      ]
    },
    {
      "cell_type": "markdown",
      "id": "7e206b8d-bced-4d35-a346-8e1c45441936",
      "metadata": {
        "id": "7e206b8d-bced-4d35-a346-8e1c45441936"
      },
      "source": [
        "## What is Latent Dirichlet Allocation or LDA?\n",
        "\n",
        "LDA is an unsupervised learning model. "
      ]
    },
    {
      "cell_type": "markdown",
      "id": "8fde1589-0694-4185-a22f-af82265f034b",
      "metadata": {
        "id": "8fde1589-0694-4185-a22f-af82265f034b"
      },
      "source": [
        ":::{note}\n",
        "\n",
        "Topic Modeling with Documents  📄           \n",
        "            \n",
        "* supervised - Our documents 📄 are pre-labeled with the given topic(s). We can then train 🏋️ and test 🧪 (and also, you can include validating). **Usually** this is split:\n",
        "    * training 🏋️ 80% \n",
        "    * testing 🧪 20%. \n",
        "            \n",
        "   \n",
        "* unsupervised - Data is not labeled. So, we have no idea what the topics are beforehand. That being said, we can (and will) define the *number of topics*. \n",
        "\n",
        ":::\n"
      ]
    },
    {
      "cell_type": "markdown",
      "id": "d6bab6c7-8078-483b-a84a-dec916201024",
      "metadata": {
        "id": "d6bab6c7-8078-483b-a84a-dec916201024"
      },
      "source": [
        "So, coming back to our original questions:\n",
        "* What are topics? \n",
        "    * The topics will X number of sets of terms (we define this X) which will (could) have a common theme. \n",
        "* How are they defined? \n",
        "    * This is what we will get to in this notebook.     \n",
        "* Do we define or does the computer? \n",
        "    * LDA is unsupervised, so we define the number of topics. The computer provides the topics themselves. \n",
        "* What is a large corpus? and How many documents do we need? \n",
        "    * A bit subjective here. There is a *great* discussion about this by Tang et al.  {cite:p}`tang2014understanding` regarding this. If you have a chance, read all the points, but to sum it up\n",
        "        * The number of documents does matter, but at some point, increasing the number does not warrant better results. Even sampling 1000 papers from 1000000 papers could result in the same, if not better, results than 1000000 documents. \n",
        "        * The size of the documents also plays a role, so documents should not be short. Larger documents can be sampled and again receive the same desired output. \n",
        "\n"
      ]
    },
    {
      "cell_type": "markdown",
      "id": "faf3ca1c-1dc5-4f33-acfc-9e26c3f2c73b",
      "metadata": {
        "id": "faf3ca1c-1dc5-4f33-acfc-9e26c3f2c73b"
      },
      "source": [
        "### A Picture == 1000 Words\n",
        "\n",
        "One of the best representations of what LDA is and how to utilize it, can be found in Blei's work *Probabilistic topic models* {cite:p}`blei2012probabilistic` Please note that images and figure text come directly from work. All credit should go to Blei {cite:p}`blei2012probabilistic`\n",
        "\n",
        "![The intuitions behind latent Dirichlet allocation](http://deliveryimages.acm.org/10.1145/2140000/2133826/figs/f1.jpg)\n",
        "\"Figure 1. The intuitions behind latent Dirichlet allocation. We assume that some number of \"topics,\" which are distributions over words, exist for the whole collection (far left). Each document is assumed to be generated as follows. First choose a distribution over the topics (the histogram at right); then, for each word, choose a topic assignment (the colored coins) and choose the word from the corresponding topic. The topics and topic assignments in this figure are illustrative—they are not fit from real data. {cite:p}`blei2012probabilistic` (Page 3)\"\n",
        "\n",
        "![Real inference with LDA](https://deliveryimages.acm.org/10.1145/2140000/2133826/figs/f2.jpg)\n",
        "\"Figure 2. Real inference with LDA. We fit a 100-topic LDA model to 17,000 articles from the journal Science. At left are the inferred topic proportions for the example article in Figure 1. At right are the top 15 most frequent words from the most frequent topics found in this article. {cite:p}`blei2012probabilistic` (Page 4)\""
      ]
    },
    {
      "cell_type": "markdown",
      "id": "c4dbe6f0-e011-4ca9-b564-de59f28159b0",
      "metadata": {
        "id": "c4dbe6f0-e011-4ca9-b564-de59f28159b0"
      },
      "source": [
        "## Let's Try an Example"
      ]
    },
    {
      "cell_type": "markdown",
      "id": "0e9a02d3-1995-4ab1-949b-c0d548a6dd2d",
      "metadata": {
        "id": "0e9a02d3-1995-4ab1-949b-c0d548a6dd2d"
      },
      "source": [
        "For our example, we will be using a subset of books from L. Frank Baum that are part of the public domain (again, thank you https://www.gutenberg.org).\n",
        "\n",
        "* The Wonderful Wizard of Oz\n",
        "    * https://www.gutenberg.org/files/55/55-h/55-h.htm\n",
        "* The Marvellous Land of Oz\n",
        "    * https://www.gutenberg.org/files/54/54-h/54-h.htm\n",
        "* Ozma of Oz\n",
        "    * https://www.gutenberg.org/files/33361/33361-h/33361-h.htm\n",
        "* Dorothy and the Wizard in Oz \n",
        "    * https://www.gutenberg.org/files/22566/22566-h/22566-h.htm\n",
        "* The Road to Oz\n",
        "    * https://www.gutenberg.org/files/26624/26624-h/26624-h.htm # "
      ]
    },
    {
      "cell_type": "markdown",
      "id": "c1729ea5-325a-4474-bda3-c44d6aa8e05d",
      "metadata": {
        "id": "c1729ea5-325a-4474-bda3-c44d6aa8e05d"
      },
      "source": [
        "The books are all in the public domain, and the HTML can be found at https://www.gutenberg.org/.\n",
        "We will go through one example of how to get the text from the book using Python. Please note, this will not be the most optimal way to do this, but we hope we can make the process clear for you to try with other books or manuscripts. \n",
        "\n",
        "### Get the HTML for the Book\n",
        "\n",
        "We are going to use two libraries for this; one is a standard for Python called. \n",
        "\n",
        "```python\n",
        "import urllib\n",
        "```\n",
        "the other is a favorite of ours, called beautiful soup {cite:p}`BeautifulSoup`. \n",
        "\n",
        "```python\n",
        "from bs4 import BeautifulSoup\n",
        "```\n",
        "\n",
        "urllib will get the document, and BeautifulSoup makes it easy to parse. "
      ]
    },
    {
      "cell_type": "code",
      "execution_count": 1,
      "id": "fc077908-6bad-4e1c-80e1-161ba6a4458f",
      "metadata": {
        "id": "fc077908-6bad-4e1c-80e1-161ba6a4458f"
      },
      "outputs": [],
      "source": [
        "from urllib.request import urlopen\n",
        "from bs4 import BeautifulSoup\n",
        "\n",
        "url = \"https://www.gutenberg.org/files/55/55-h/55-h.htm\" \n",
        "html = urlopen(url).read()\n",
        "soup = BeautifulSoup(html, features=\"html.parser\")"
      ]
    },
    {
      "cell_type": "markdown",
      "id": "827e1e3a-a17c-475c-967b-9d99a63e4460",
      "metadata": {
        "id": "827e1e3a-a17c-475c-967b-9d99a63e4460"
      },
      "source": [
        "Here we remove any CSS (style) or JavaScript (script)"
      ]
    },
    {
      "cell_type": "code",
      "execution_count": 2,
      "id": "043de121-b7f6-4ec5-bed6-88f81c577e80",
      "metadata": {
        "id": "043de121-b7f6-4ec5-bed6-88f81c577e80"
      },
      "outputs": [],
      "source": [
        "for script in soup([\"script\", \"style\"]):\n",
        "    script.extract()"
      ]
    },
    {
      "cell_type": "markdown",
      "id": "90bf0a30-811c-4e30-b81b-5d798e66037f",
      "metadata": {
        "id": "90bf0a30-811c-4e30-b81b-5d798e66037f"
      },
      "source": [
        "Finally, get the text and add it to our document list. "
      ]
    },
    {
      "cell_type": "code",
      "execution_count": 3,
      "id": "f2baa4a1-c854-48d0-ba13-8a02232ab77c",
      "metadata": {
        "id": "f2baa4a1-c854-48d0-ba13-8a02232ab77c"
      },
      "outputs": [],
      "source": [
        "text = soup.get_text()\n",
        "documents = []\n",
        "documents.append(text)"
      ]
    },
    {
      "cell_type": "code",
      "source": [
        "text[:500]"
      ],
      "metadata": {
        "colab": {
          "base_uri": "https://localhost:8080/",
          "height": 87
        },
        "id": "zfB-_g2J2crG",
        "outputId": "224867fa-9b36-4758-962b-dcaa3bf1447b"
      },
      "id": "zfB-_g2J2crG",
      "execution_count": 4,
      "outputs": [
        {
          "output_type": "execute_result",
          "data": {
            "text/plain": [
              "'\\n\\n\\n\\n\\nThe Project Gutenberg eBook of The Wonderful Wizard of Oz, by L. Frank Baum\\n\\n\\n\\n\\nThe Project Gutenberg eBook of The Wonderful Wizard of Oz, by L. Frank Baum\\n\\r\\nThis eBook is for the use of anyone anywhere in the United States and\\r\\nmost other parts of the world at no cost and with almost no restrictions\\r\\nwhatsoever. You may copy it, give it away or re-use it under the terms\\r\\nof the Project Gutenberg License included with this eBook or online\\r\\nat www.gutenberg.org. If you\\r\\nare not located in th'"
            ],
            "application/vnd.google.colaboratory.intrinsic+json": {
              "type": "string"
            }
          },
          "metadata": {},
          "execution_count": 4
        }
      ]
    },
    {
      "cell_type": "markdown",
      "source": [],
      "metadata": {
        "id": "bEWORbfjli2P"
      },
      "id": "bEWORbfjli2P"
    },
    {
      "cell_type": "code",
      "source": [
        "len(text)"
      ],
      "metadata": {
        "colab": {
          "base_uri": "https://localhost:8080/"
        },
        "id": "6zimuojMljkU",
        "outputId": "1d90aeca-5f87-4d53-a4de-0ff11083aa0f"
      },
      "id": "6zimuojMljkU",
      "execution_count": 5,
      "outputs": [
        {
          "output_type": "execute_result",
          "data": {
            "text/plain": [
              "233238"
            ]
          },
          "metadata": {},
          "execution_count": 5
        }
      ]
    },
    {
      "cell_type": "markdown",
      "id": "9c513502-b0ee-4a8a-ae59-0195456bf56a",
      "metadata": {
        "id": "9c513502-b0ee-4a8a-ae59-0195456bf56a"
      },
      "source": [
        "We will repeat this process for the other four books. "
      ]
    },
    {
      "cell_type": "code",
      "execution_count": 6,
      "id": "e823b967-0720-4fd4-926f-84d013508da5",
      "metadata": {
        "id": "e823b967-0720-4fd4-926f-84d013508da5"
      },
      "outputs": [],
      "source": [
        "url = \"https://www.gutenberg.org/files/54/54-h/54-h.htm\" \n",
        "html = urlopen(url).read()\n",
        "soup = BeautifulSoup(html, features=\"html.parser\")\n",
        "for script in soup([\"script\", \"style\"]):\n",
        "    script.extract()\n",
        "text = soup.get_text()\n",
        "documents.append(text)\n",
        "\n",
        "url = \"https://www.gutenberg.org/files/33361/33361-h/33361-h.htm\" \n",
        "html = urlopen(url).read()\n",
        "soup = BeautifulSoup(html, features=\"html.parser\")\n",
        "for script in soup([\"script\", \"style\"]):\n",
        "    script.extract()\n",
        "text = soup.get_text()\n",
        "documents.append(text)\n",
        "\n",
        "url = \"https://www.gutenberg.org/files/22566/22566-h/22566-h.htm\" \n",
        "html = urlopen(url).read()\n",
        "soup = BeautifulSoup(html, features=\"html.parser\")\n",
        "for script in soup([\"script\", \"style\"]):\n",
        "    script.extract()\n",
        "text = soup.get_text()\n",
        "documents.append(text)\n",
        "\n",
        "url = \"https://www.gutenberg.org/files/26624/26624-h/26624-h.htm\" \n",
        "html = urlopen(url).read()\n",
        "soup = BeautifulSoup(html, features=\"html.parser\")\n",
        "for script in soup([\"script\", \"style\"]):\n",
        "    script.extract()\n",
        "text = soup.get_text()\n",
        "documents.append(text)"
      ]
    },
    {
      "cell_type": "code",
      "source": [
        "len(documents)"
      ],
      "metadata": {
        "colab": {
          "base_uri": "https://localhost:8080/"
        },
        "id": "sPMBvhK-2r22",
        "outputId": "b786f32f-575f-4439-8bf5-f8eccf3c2c70"
      },
      "id": "sPMBvhK-2r22",
      "execution_count": 7,
      "outputs": [
        {
          "output_type": "execute_result",
          "data": {
            "text/plain": [
              "5"
            ]
          },
          "metadata": {},
          "execution_count": 7
        }
      ]
    },
    {
      "cell_type": "markdown",
      "id": "79da5c65-d8e6-4687-b9dd-8432035b9234",
      "metadata": {
        "id": "79da5c65-d8e6-4687-b9dd-8432035b9234"
      },
      "source": [
        "### Create Tokens and Vocabulary\n",
        "\n",
        "Now that we have our books, we need to tokenize the stories by word and then create a vocabulary out of these tokens. sklearn is a fantastic library that we will be using throughout the notebook {cite:p}`sklearn_api`."
      ]
    },
    {
      "cell_type": "code",
      "execution_count": 8,
      "id": "a7db0482-3d3e-4530-ac72-2a4fdb658c89",
      "metadata": {
        "id": "a7db0482-3d3e-4530-ac72-2a4fdb658c89"
      },
      "outputs": [],
      "source": [
        "from sklearn.feature_extraction.text import CountVectorizer\n",
        "\n",
        "cv = CountVectorizer()\n",
        "df = cv.fit_transform(documents)\n",
        "vocab = cv.get_feature_names_out()"
      ]
    },
    {
      "cell_type": "code",
      "source": [
        "vocab"
      ],
      "metadata": {
        "colab": {
          "base_uri": "https://localhost:8080/"
        },
        "id": "lx3xbXB82ztN",
        "outputId": "2a11ca9c-e696-47f5-bc5b-6380eb779d6e"
      },
      "id": "lx3xbXB82ztN",
      "execution_count": 9,
      "outputs": [
        {
          "output_type": "execute_result",
          "data": {
            "text/plain": [
              "array(['00', '000', '10', ..., 'zoroaster', 'zuz', 'zy'], dtype=object)"
            ]
          },
          "metadata": {},
          "execution_count": 9
        }
      ]
    },
    {
      "cell_type": "markdown",
      "id": "b83a8cb3-8446-4e1b-b4e8-08f35e4ddbd6",
      "metadata": {
        "id": "b83a8cb3-8446-4e1b-b4e8-08f35e4ddbd6"
      },
      "source": [
        "Let's take a look at the tokens and the number of occurrence for the tokens. "
      ]
    },
    {
      "cell_type": "code",
      "execution_count": 10,
      "id": "010f147b-256f-4d79-aafb-28cb0ed3aa65",
      "metadata": {
        "id": "010f147b-256f-4d79-aafb-28cb0ed3aa65",
        "outputId": "e98393f3-c574-4526-c3d9-34d637f1a6bc",
        "colab": {
          "base_uri": "https://localhost:8080/"
        }
      },
      "outputs": [
        {
          "output_type": "stream",
          "name": "stdout",
          "text": [
            "(5, 9143)\n"
          ]
        }
      ],
      "source": [
        "print(df.shape)"
      ]
    },
    {
      "cell_type": "code",
      "source": [
        "print(df[0])"
      ],
      "metadata": {
        "colab": {
          "base_uri": "https://localhost:8080/"
        },
        "id": "urUZoXd7iYV2",
        "outputId": "6191ff99-4d1a-4fe7-a32d-a2eb7e88292c"
      },
      "id": "urUZoXd7iYV2",
      "execution_count": 11,
      "outputs": [
        {
          "output_type": "stream",
          "name": "stdout",
          "text": [
            "  (0, 8068)\t3198\n",
            "  (0, 6153)\t89\n",
            "  (0, 3799)\t99\n",
            "  (0, 2714)\t14\n",
            "  (0, 5459)\t976\n",
            "  (0, 9001)\t28\n",
            "  (0, 8982)\t44\n",
            "  (0, 5594)\t169\n",
            "  (0, 1344)\t119\n",
            "  (0, 3400)\t5\n",
            "  (0, 893)\t5\n",
            "  (0, 8101)\t196\n",
            "  (0, 4377)\t284\n",
            "  (0, 3330)\t354\n",
            "  (0, 8580)\t28\n",
            "  (0, 593)\t18\n",
            "  (0, 596)\t4\n",
            "  (0, 4216)\t544\n",
            "  (0, 8508)\t15\n",
            "  (0, 7635)\t19\n",
            "  (0, 551)\t1738\n",
            "  (0, 5169)\t24\n",
            "  (0, 5546)\t65\n",
            "  (0, 5665)\t2\n",
            "  (0, 9034)\t19\n",
            "  :\t:\n",
            "  (0, 5610)\t1\n",
            "  (0, 2548)\t1\n",
            "  (0, 5049)\t1\n",
            "  (0, 404)\t1\n",
            "  (0, 8786)\t1\n",
            "  (0, 2064)\t1\n",
            "  (0, 1408)\t1\n",
            "  (0, 6144)\t1\n",
            "  (0, 5052)\t1\n",
            "  (0, 3880)\t1\n",
            "  (0, 5535)\t1\n",
            "  (0, 7087)\t1\n",
            "  (0, 6140)\t1\n",
            "  (0, 4809)\t1\n",
            "  (0, 5321)\t1\n",
            "  (0, 8692)\t1\n",
            "  (0, 1841)\t1\n",
            "  (0, 5288)\t1\n",
            "  (0, 2724)\t1\n",
            "  (0, 4884)\t1\n",
            "  (0, 5812)\t1\n",
            "  (0, 3041)\t1\n",
            "  (0, 6139)\t1\n",
            "  (0, 7816)\t1\n",
            "  (0, 5332)\t1\n"
          ]
        }
      ]
    },
    {
      "cell_type": "markdown",
      "id": "f93c6b19-5e3d-4a83-9c5d-4d6518aaf4af",
      "metadata": {
        "id": "f93c6b19-5e3d-4a83-9c5d-4d6518aaf4af"
      },
      "source": [
        "The second number listed is the token number, and we use the vocab list to see what the actual word. An example would be to look at the first line. \n",
        "\n",
        "```python\n",
        "(0, 8068) 3198\n",
        "```\n",
        "The 8074 token was used 3198 times. The 8068 token is:"
      ]
    },
    {
      "cell_type": "code",
      "execution_count": 12,
      "id": "820ce127-340f-4ebc-8437-8571a1ee23a8",
      "metadata": {
        "id": "820ce127-340f-4ebc-8437-8571a1ee23a8",
        "outputId": "e9626ef4-e70c-40ec-d76c-5ea9dfed8b54",
        "colab": {
          "base_uri": "https://localhost:8080/"
        }
      },
      "outputs": [
        {
          "output_type": "stream",
          "name": "stdout",
          "text": [
            "third\n"
          ]
        }
      ],
      "source": [
        "print (vocab[8096])"
      ]
    },
    {
      "cell_type": "markdown",
      "id": "981cc43e-a82c-420d-b9b9-88ac24ec8ba7",
      "metadata": {
        "id": "981cc43e-a82c-420d-b9b9-88ac24ec8ba7"
      },
      "source": [
        "Not that surprising, the word \"the\" is used that many times. "
      ]
    },
    {
      "cell_type": "markdown",
      "id": "cfb90a61-dd71-4bcb-afd6-4d27bf47098e",
      "metadata": {
        "id": "cfb90a61-dd71-4bcb-afd6-4d27bf47098e"
      },
      "source": [
        ":::{note}\n",
        "\n",
        "Because there are many commonly used terms. We would want to remove these words from our dataset. These words are called *stopwords* and should be removed. We do showcase this later.  \n",
        "\n",
        ":::"
      ]
    },
    {
      "cell_type": "markdown",
      "id": "fa51075a-6cc9-4bcb-b136-951e622a44d8",
      "metadata": {
        "id": "fa51075a-6cc9-4bcb-b136-951e622a44d8"
      },
      "source": [
        "From here, we are actually at the point where we can run LDA.\n",
        "\n",
        "There are much more than two inputs available for LDA, but we will focus on two. \n",
        "> Here are the other inputs: https://scikit-learn.org/stable/modules/generated/sklearn.decomposition.LatentDirichletAllocation.html\n",
        "\n",
        "The two we will focus on are:\n",
        "\n",
        "* `n_components` - the number of topics, again, we need to specify this\n",
        "* `doc_topic_prior` - Prior of document topic distribution theta (or also referred to as `alpha`. If the value is None, defaults to 1 / n_components. Alpha\n",
        "* `topic_word_prior` - topic-word prior. Normally a number much less than 1, e.g. 0.001, to strongly prefer sparse word distributions, i.e. few words per topic.\n"
      ]
    },
    {
      "cell_type": "markdown",
      "source": [
        "Alpha and Beta Hyperparameters – alpha represents document-topic density and Beta represents topic-word density. Higher the value of alpha, documents are composed of more topics and lower the value of alpha, documents contain fewer topics. On the other hand, higher the beta, topics are composed of a large number of words in the corpus, and with the lower value of beta, they are composed of few words.\n",
        "\n",
        "Number of Topics – Number of topics to be extracted from the corpus. Researchers have developed approaches to obtain an optimal number of topics by using Kullback Leibler Divergence Score. \n",
        "\n",
        "Number of Topic Terms – Number of terms composed in a single topic. It is generally decided according to the requirement. If the problem statement talks about extracting themes or concepts, it is recommended to choose a higher number, if problem statement talks about extracting features or terms, a low number is recommended."
      ],
      "metadata": {
        "id": "oR5zk5ZV6i-T"
      },
      "id": "oR5zk5ZV6i-T"
    },
    {
      "cell_type": "code",
      "execution_count": 13,
      "id": "f00d8bf9-c910-49a7-b01b-f1fa3193f41a",
      "metadata": {
        "id": "f00d8bf9-c910-49a7-b01b-f1fa3193f41a",
        "outputId": "df2c98e3-58fe-4d00-b568-f6a3dfaa435d",
        "colab": {
          "base_uri": "https://localhost:8080/"
        }
      },
      "outputs": [
        {
          "output_type": "execute_result",
          "data": {
            "text/plain": [
              "LatentDirichletAllocation(doc_topic_prior=1, n_components=5)"
            ]
          },
          "metadata": {},
          "execution_count": 13
        }
      ],
      "source": [
        "from sklearn.decomposition import LatentDirichletAllocation\n",
        "lda = LatentDirichletAllocation(n_components = 5, doc_topic_prior=1)\n",
        "lda.fit(df)"
      ]
    },
    {
      "cell_type": "markdown",
      "source": [
        "For the n-dimensional array `arr`:\n",
        "`argsort()` returns a ranked n-dimensional array of arr, call it \"ranked_array\" which contains the indices that would sort arr in a descending fashion for the ith element in ranked_array, ranked_array[i] represents the index of the\n",
        "element in arr that should be at the ith index in ranked_array.\n",
        "\n",
        "Example: \n",
        "```python\n",
        "arr = [3,7,1,0,3,6]\n",
        "np.argsort(arr) = [3, 2, 0, 4, 5, 1] => gives index\n",
        "```\n",
        "In this example, `arr[3]` should be ranked 1st, `arr[2]` should be ranked 2nd, `arr[0]` should be ranked 3rd, ... and `arr[1]` should be ranked last.\n",
        "`word_idx` contains the indices in \"topic\" of the top num_top_words most relevant to a given topic. It is sorted ascending to begin with and then reversed (desc. now)    "
      ],
      "metadata": {
        "id": "8G9A16oq7zZO"
      },
      "id": "8G9A16oq7zZO"
    },
    {
      "cell_type": "code",
      "source": [
        "lda.components_[0].shape"
      ],
      "metadata": {
        "colab": {
          "base_uri": "https://localhost:8080/"
        },
        "id": "qfv4u77ii9GP",
        "outputId": "e05866c4-d23c-4dff-c35b-7ed2cd9f1915"
      },
      "id": "qfv4u77ii9GP",
      "execution_count": 14,
      "outputs": [
        {
          "output_type": "execute_result",
          "data": {
            "text/plain": [
              "(9143,)"
            ]
          },
          "metadata": {},
          "execution_count": 14
        }
      ]
    },
    {
      "cell_type": "code",
      "execution_count": 15,
      "id": "070e0159-357b-40d3-be47-da86e8c90bb5",
      "metadata": {
        "id": "070e0159-357b-40d3-be47-da86e8c90bb5",
        "outputId": "0ed5c5e3-a7d5-48ab-d341-6533fc6c823f",
        "colab": {
          "base_uri": "https://localhost:8080/"
        }
      },
      "outputs": [
        {
          "output_type": "stream",
          "name": "stdout",
          "text": [
            "Topic: 0\n",
            "  jinjur, tent, insect, whoa, chalk, mask, squirrels, locks, spicy, whined\n",
            "Topic: 1\n",
            "  jinjur, tent, insect, whoa, chalk, mask, squirrels, locks, spicy, whined\n",
            "Topic: 2\n",
            "  the, and, to, of, in, you, that, it, was, he\n",
            "Topic: 3\n",
            "  the, and, to, of, in, you, was, he, it, that\n",
            "Topic: 4\n",
            "  jinjur, tent, insect, whoa, chalk, mask, squirrels, locks, spicy, whined\n"
          ]
        }
      ],
      "source": [
        "import numpy as np \n",
        "topic_words = {}\n",
        "n_top_words = 10\n",
        "for topic, comp in enumerate(lda.components_):\n",
        "    # print(topic, comp)\n",
        "    word_idx = np.argsort(comp)[::-1][:n_top_words] #argsort to get index, and [::-1] to sort in descending\n",
        "    # store the words most relevant to the topic\n",
        "    topic_words[topic] = [vocab[i] for i in word_idx]\n",
        "    # break\n",
        "    \n",
        "for topic, words in topic_words.items():\n",
        "    print('Topic: %d' % topic)\n",
        "    print('  %s' % ', '.join(words))"
      ]
    },
    {
      "cell_type": "code",
      "source": [
        "len(lda.components_)"
      ],
      "metadata": {
        "colab": {
          "base_uri": "https://localhost:8080/"
        },
        "id": "jacKXv5x8sbG",
        "outputId": "de0ea073-bf11-47b4-d537-bdf9e6827b88"
      },
      "id": "jacKXv5x8sbG",
      "execution_count": 16,
      "outputs": [
        {
          "output_type": "execute_result",
          "data": {
            "text/plain": [
              "5"
            ]
          },
          "metadata": {},
          "execution_count": 16
        }
      ]
    },
    {
      "cell_type": "markdown",
      "id": "11fc0063-0c69-4d16-9a72-feaef7e6a550",
      "metadata": {
        "id": "11fc0063-0c69-4d16-9a72-feaef7e6a550"
      },
      "source": [
        "Looking at this, we do not get a clear picture of the topics. This time, let's remove those stopwords and see how important 🧼cleaning the data can be🧼! "
      ]
    },
    {
      "cell_type": "code",
      "execution_count": 17,
      "id": "49b1b809-062b-4cb4-b77b-846c2ef00ade",
      "metadata": {
        "id": "49b1b809-062b-4cb4-b77b-846c2ef00ade",
        "colab": {
          "base_uri": "https://localhost:8080/"
        },
        "outputId": "da4e007d-ab4f-437a-efb4-693cd2458efb"
      },
      "outputs": [
        {
          "output_type": "stream",
          "name": "stderr",
          "text": [
            "/usr/local/lib/python3.7/dist-packages/sklearn/utils/deprecation.py:87: FutureWarning: Function get_feature_names is deprecated; get_feature_names is deprecated in 1.0 and will be removed in 1.2. Please use get_feature_names_out instead.\n",
            "  warnings.warn(msg, category=FutureWarning)\n"
          ]
        }
      ],
      "source": [
        "from sklearn.feature_extraction.text import CountVectorizer\n",
        "\n",
        "# we can add this to the tokenization step\n",
        "cv = CountVectorizer(stop_words='english')\n",
        "df = cv.fit_transform(documents)\n",
        "vocab = cv.get_feature_names()"
      ]
    },
    {
      "cell_type": "code",
      "execution_count": 18,
      "id": "70f04ea2-d8d8-4ca1-98bb-c500367599e6",
      "metadata": {
        "id": "70f04ea2-d8d8-4ca1-98bb-c500367599e6",
        "outputId": "3702caba-4bdd-49ee-9d7b-e0401ccc9cd9",
        "colab": {
          "base_uri": "https://localhost:8080/"
        }
      },
      "outputs": [
        {
          "output_type": "execute_result",
          "data": {
            "text/plain": [
              "LatentDirichletAllocation(doc_topic_prior=1, n_components=4)"
            ]
          },
          "metadata": {},
          "execution_count": 18
        }
      ],
      "source": [
        "from sklearn.decomposition import LatentDirichletAllocation\n",
        "lda = LatentDirichletAllocation(n_components = 4, doc_topic_prior=1)\n",
        "lda.fit(df)"
      ]
    },
    {
      "cell_type": "code",
      "execution_count": 19,
      "id": "84f7c95d-cb88-48fb-86f5-ba7ef49933da",
      "metadata": {
        "id": "84f7c95d-cb88-48fb-86f5-ba7ef49933da",
        "outputId": "30cc0976-7dda-4f88-e16d-217798ea55b5",
        "colab": {
          "base_uri": "https://localhost:8080/"
        }
      },
      "outputs": [
        {
          "output_type": "stream",
          "name": "stdout",
          "text": [
            "Topic: 0\n",
            "  dorothy, said, scarecrow, woodman, lion, oz, great, tin, little, witch, asked, green, came, good, gutenberg, girl, toto, head, project, shall\n",
            "Topic: 1\n",
            "  headlong, parting, attended, smoothing, add, sinking, courageous, holiday, slim, gives, fought, stillness, emptied, sobbed, warmed, dogs, ringing, halfway, ermine, worries\n",
            "Topic: 2\n",
            "  said, scarecrow, dorothy, tip, pg, king, tin, woodman, horse, gutenberg, ozma, little, project, girl, jack, asked, saw, good, head, billina\n",
            "Topic: 3\n",
            "  dorothy, said, man, wizard, little, shaggy, pg, asked, bright, ozma, gutenberg, button, project, oz, like, jim, don, time, good, people\n"
          ]
        }
      ],
      "source": [
        "topic_words = {}\n",
        "n_top_words = 20\n",
        "for topic, comp in enumerate(lda.components_):\n",
        "    word_idx = np.argsort(comp)[::-1][:n_top_words]\n",
        "    # store the words most relevant to the topic\n",
        "    topic_words[topic] = [vocab[i] for i in word_idx]\n",
        "    \n",
        "for topic, words in topic_words.items():\n",
        "    print('Topic: %d' % topic)\n",
        "    print('  %s' % ', '.join(words))"
      ]
    },
    {
      "cell_type": "markdown",
      "id": "70b6b799-313b-4e74-81a3-4786aa70e702",
      "metadata": {
        "id": "70b6b799-313b-4e74-81a3-4786aa70e702"
      },
      "source": [
        "Much better!"
      ]
    },
    {
      "cell_type": "markdown",
      "source": [
        "#Twitter (Kaggle Data) - General\n",
        "\n",
        "Dataset Link: https://umkc.box.com/s/k9fpx5gr1nyrpv1f2ts2hywf3796o7m9"
      ],
      "metadata": {
        "id": "rBJarbhiB49D"
      },
      "id": "rBJarbhiB49D"
    },
    {
      "cell_type": "code",
      "source": [
        "import pandas as pd\n",
        "from sklearn.feature_extraction.text import TfidfVectorizer, CountVectorizer,HashingVectorizer\n",
        "from sklearn.decomposition import LatentDirichletAllocation\n"
      ],
      "metadata": {
        "id": "UlOp8eOXADu5"
      },
      "id": "UlOp8eOXADu5",
      "execution_count": 20,
      "outputs": []
    },
    {
      "cell_type": "code",
      "source": [
        "from google.colab import drive\n",
        "drive.mount('/content/drive')"
      ],
      "metadata": {
        "colab": {
          "base_uri": "https://localhost:8080/"
        },
        "id": "OUv6DSuqAEhM",
        "outputId": "fbae8a62-9811-4d6c-8e77-018d6fea5cc0"
      },
      "id": "OUv6DSuqAEhM",
      "execution_count": 21,
      "outputs": [
        {
          "output_type": "stream",
          "name": "stdout",
          "text": [
            "Mounted at /content/drive\n"
          ]
        }
      ]
    },
    {
      "cell_type": "code",
      "source": [
        "tweet_df = pd.read_csv('/content/drive/MyDrive/KDN-ICP-6/training.1600000.processed.noemoticon.csv', encoding = 'latin-1', header = None, \n",
        "                       names = ['target', 'ids', 'date', 'flag', 'user', 'text'])"
      ],
      "metadata": {
        "id": "E2w3qYDLAJ1q"
      },
      "id": "E2w3qYDLAJ1q",
      "execution_count": 22,
      "outputs": []
    },
    {
      "cell_type": "code",
      "source": [
        "sub_tweet_df = tweet_df.sample(n = 10000, random_state = 5100)"
      ],
      "metadata": {
        "id": "uWYqnKK1F3rS"
      },
      "id": "uWYqnKK1F3rS",
      "execution_count": 24,
      "outputs": []
    },
    {
      "cell_type": "code",
      "source": [
        "sub_tweet_df.head()"
      ],
      "metadata": {
        "colab": {
          "base_uri": "https://localhost:8080/",
          "height": 206
        },
        "id": "O3bFJ0SZAao1",
        "outputId": "40220fa1-ef7c-42e1-8b41-668981eed84d"
      },
      "id": "O3bFJ0SZAao1",
      "execution_count": 25,
      "outputs": [
        {
          "output_type": "execute_result",
          "data": {
            "text/plain": [
              "         target         ids                          date      flag  \\\n",
              "1139115       4  1976903218  Sat May 30 19:30:09 PDT 2009  NO_QUERY   \n",
              "1487230       4  2068237882  Sun Jun 07 13:44:15 PDT 2009  NO_QUERY   \n",
              "605873        0  2222400745  Thu Jun 18 06:55:54 PDT 2009  NO_QUERY   \n",
              "933794        4  1792114607  Wed May 13 22:09:42 PDT 2009  NO_QUERY   \n",
              "45752         0  1677236711  Sat May 02 01:04:36 PDT 2009  NO_QUERY   \n",
              "\n",
              "                 user                                               text  \n",
              "1139115        tamsul  @jaceypants Nope it's not goodbye because I'll...  \n",
              "1487230       Nadiabc                   here we go again... 5 days left   \n",
              "605873   rumtumtaggle  @kittodaijoubu aw  that person is obviously a ...  \n",
              "933794   Alexandreaaa  @TheRealJordin ..  get your armor lalala.. lov...  \n",
              "45752        casamera  @selassieanwar  sorry but you're blog isn't sh...  "
            ],
            "text/html": [
              "\n",
              "  <div id=\"df-6353b3d7-e2db-4580-9de0-15df2ff3f425\">\n",
              "    <div class=\"colab-df-container\">\n",
              "      <div>\n",
              "<style scoped>\n",
              "    .dataframe tbody tr th:only-of-type {\n",
              "        vertical-align: middle;\n",
              "    }\n",
              "\n",
              "    .dataframe tbody tr th {\n",
              "        vertical-align: top;\n",
              "    }\n",
              "\n",
              "    .dataframe thead th {\n",
              "        text-align: right;\n",
              "    }\n",
              "</style>\n",
              "<table border=\"1\" class=\"dataframe\">\n",
              "  <thead>\n",
              "    <tr style=\"text-align: right;\">\n",
              "      <th></th>\n",
              "      <th>target</th>\n",
              "      <th>ids</th>\n",
              "      <th>date</th>\n",
              "      <th>flag</th>\n",
              "      <th>user</th>\n",
              "      <th>text</th>\n",
              "    </tr>\n",
              "  </thead>\n",
              "  <tbody>\n",
              "    <tr>\n",
              "      <th>1139115</th>\n",
              "      <td>4</td>\n",
              "      <td>1976903218</td>\n",
              "      <td>Sat May 30 19:30:09 PDT 2009</td>\n",
              "      <td>NO_QUERY</td>\n",
              "      <td>tamsul</td>\n",
              "      <td>@jaceypants Nope it's not goodbye because I'll...</td>\n",
              "    </tr>\n",
              "    <tr>\n",
              "      <th>1487230</th>\n",
              "      <td>4</td>\n",
              "      <td>2068237882</td>\n",
              "      <td>Sun Jun 07 13:44:15 PDT 2009</td>\n",
              "      <td>NO_QUERY</td>\n",
              "      <td>Nadiabc</td>\n",
              "      <td>here we go again... 5 days left</td>\n",
              "    </tr>\n",
              "    <tr>\n",
              "      <th>605873</th>\n",
              "      <td>0</td>\n",
              "      <td>2222400745</td>\n",
              "      <td>Thu Jun 18 06:55:54 PDT 2009</td>\n",
              "      <td>NO_QUERY</td>\n",
              "      <td>rumtumtaggle</td>\n",
              "      <td>@kittodaijoubu aw  that person is obviously a ...</td>\n",
              "    </tr>\n",
              "    <tr>\n",
              "      <th>933794</th>\n",
              "      <td>4</td>\n",
              "      <td>1792114607</td>\n",
              "      <td>Wed May 13 22:09:42 PDT 2009</td>\n",
              "      <td>NO_QUERY</td>\n",
              "      <td>Alexandreaaa</td>\n",
              "      <td>@TheRealJordin ..  get your armor lalala.. lov...</td>\n",
              "    </tr>\n",
              "    <tr>\n",
              "      <th>45752</th>\n",
              "      <td>0</td>\n",
              "      <td>1677236711</td>\n",
              "      <td>Sat May 02 01:04:36 PDT 2009</td>\n",
              "      <td>NO_QUERY</td>\n",
              "      <td>casamera</td>\n",
              "      <td>@selassieanwar  sorry but you're blog isn't sh...</td>\n",
              "    </tr>\n",
              "  </tbody>\n",
              "</table>\n",
              "</div>\n",
              "      <button class=\"colab-df-convert\" onclick=\"convertToInteractive('df-6353b3d7-e2db-4580-9de0-15df2ff3f425')\"\n",
              "              title=\"Convert this dataframe to an interactive table.\"\n",
              "              style=\"display:none;\">\n",
              "        \n",
              "  <svg xmlns=\"http://www.w3.org/2000/svg\" height=\"24px\"viewBox=\"0 0 24 24\"\n",
              "       width=\"24px\">\n",
              "    <path d=\"M0 0h24v24H0V0z\" fill=\"none\"/>\n",
              "    <path d=\"M18.56 5.44l.94 2.06.94-2.06 2.06-.94-2.06-.94-.94-2.06-.94 2.06-2.06.94zm-11 1L8.5 8.5l.94-2.06 2.06-.94-2.06-.94L8.5 2.5l-.94 2.06-2.06.94zm10 10l.94 2.06.94-2.06 2.06-.94-2.06-.94-.94-2.06-.94 2.06-2.06.94z\"/><path d=\"M17.41 7.96l-1.37-1.37c-.4-.4-.92-.59-1.43-.59-.52 0-1.04.2-1.43.59L10.3 9.45l-7.72 7.72c-.78.78-.78 2.05 0 2.83L4 21.41c.39.39.9.59 1.41.59.51 0 1.02-.2 1.41-.59l7.78-7.78 2.81-2.81c.8-.78.8-2.07 0-2.86zM5.41 20L4 18.59l7.72-7.72 1.47 1.35L5.41 20z\"/>\n",
              "  </svg>\n",
              "      </button>\n",
              "      \n",
              "  <style>\n",
              "    .colab-df-container {\n",
              "      display:flex;\n",
              "      flex-wrap:wrap;\n",
              "      gap: 12px;\n",
              "    }\n",
              "\n",
              "    .colab-df-convert {\n",
              "      background-color: #E8F0FE;\n",
              "      border: none;\n",
              "      border-radius: 50%;\n",
              "      cursor: pointer;\n",
              "      display: none;\n",
              "      fill: #1967D2;\n",
              "      height: 32px;\n",
              "      padding: 0 0 0 0;\n",
              "      width: 32px;\n",
              "    }\n",
              "\n",
              "    .colab-df-convert:hover {\n",
              "      background-color: #E2EBFA;\n",
              "      box-shadow: 0px 1px 2px rgba(60, 64, 67, 0.3), 0px 1px 3px 1px rgba(60, 64, 67, 0.15);\n",
              "      fill: #174EA6;\n",
              "    }\n",
              "\n",
              "    [theme=dark] .colab-df-convert {\n",
              "      background-color: #3B4455;\n",
              "      fill: #D2E3FC;\n",
              "    }\n",
              "\n",
              "    [theme=dark] .colab-df-convert:hover {\n",
              "      background-color: #434B5C;\n",
              "      box-shadow: 0px 1px 3px 1px rgba(0, 0, 0, 0.15);\n",
              "      filter: drop-shadow(0px 1px 2px rgba(0, 0, 0, 0.3));\n",
              "      fill: #FFFFFF;\n",
              "    }\n",
              "  </style>\n",
              "\n",
              "      <script>\n",
              "        const buttonEl =\n",
              "          document.querySelector('#df-6353b3d7-e2db-4580-9de0-15df2ff3f425 button.colab-df-convert');\n",
              "        buttonEl.style.display =\n",
              "          google.colab.kernel.accessAllowed ? 'block' : 'none';\n",
              "\n",
              "        async function convertToInteractive(key) {\n",
              "          const element = document.querySelector('#df-6353b3d7-e2db-4580-9de0-15df2ff3f425');\n",
              "          const dataTable =\n",
              "            await google.colab.kernel.invokeFunction('convertToInteractive',\n",
              "                                                     [key], {});\n",
              "          if (!dataTable) return;\n",
              "\n",
              "          const docLinkHtml = 'Like what you see? Visit the ' +\n",
              "            '<a target=\"_blank\" href=https://colab.research.google.com/notebooks/data_table.ipynb>data table notebook</a>'\n",
              "            + ' to learn more about interactive tables.';\n",
              "          element.innerHTML = '';\n",
              "          dataTable['output_type'] = 'display_data';\n",
              "          await google.colab.output.renderOutput(dataTable, element);\n",
              "          const docLink = document.createElement('div');\n",
              "          docLink.innerHTML = docLinkHtml;\n",
              "          element.appendChild(docLink);\n",
              "        }\n",
              "      </script>\n",
              "    </div>\n",
              "  </div>\n",
              "  "
            ]
          },
          "metadata": {},
          "execution_count": 25
        }
      ]
    },
    {
      "cell_type": "code",
      "source": [
        "tfidf_vect = TfidfVectorizer(analyzer='word', stop_words = 'english')\n",
        "tfidf_tokens = tfidf_vect.fit_transform(sub_tweet_df['text'])\n"
      ],
      "metadata": {
        "id": "RpGhlEvSA9uN"
      },
      "id": "RpGhlEvSA9uN",
      "execution_count": 26,
      "outputs": []
    },
    {
      "cell_type": "code",
      "source": [
        "tfidf_vocab = tfidf_vect.get_feature_names_out()"
      ],
      "metadata": {
        "id": "LCHy71YRCOTz"
      },
      "id": "LCHy71YRCOTz",
      "execution_count": 27,
      "outputs": []
    },
    {
      "cell_type": "code",
      "source": [
        "print(tfidf_tokens[0])\n",
        "tfidf_vocab[6678]"
      ],
      "metadata": {
        "colab": {
          "base_uri": "https://localhost:8080/",
          "height": 104
        },
        "id": "lMjQahw_CU9L",
        "outputId": "cada84b7-64e4-4dd9-c98d-c04fe086a2f9"
      },
      "id": "lMjQahw_CU9L",
      "execution_count": 28,
      "outputs": [
        {
          "output_type": "stream",
          "name": "stdout",
          "text": [
            "  (0, 9633)\t0.31144307222209955\n",
            "  (0, 6678)\t0.5131316913515381\n",
            "  (0, 11547)\t0.489997082186444\n",
            "  (0, 8149)\t0.6321407592809857\n"
          ]
        },
        {
          "output_type": "execute_result",
          "data": {
            "text/plain": [
              "'goodbye'"
            ],
            "application/vnd.google.colaboratory.intrinsic+json": {
              "type": "string"
            }
          },
          "metadata": {},
          "execution_count": 28
        }
      ]
    },
    {
      "cell_type": "code",
      "source": [
        "lda = LatentDirichletAllocation(n_components = 10, doc_topic_prior=1)\n",
        "lda.fit(tfidf_tokens)"
      ],
      "metadata": {
        "colab": {
          "base_uri": "https://localhost:8080/"
        },
        "id": "hHEraqAZCenL",
        "outputId": "2bdc145b-c114-4505-fbec-9314fe1213d9"
      },
      "id": "hHEraqAZCenL",
      "execution_count": 29,
      "outputs": [
        {
          "output_type": "execute_result",
          "data": {
            "text/plain": [
              "LatentDirichletAllocation(doc_topic_prior=1)"
            ]
          },
          "metadata": {},
          "execution_count": 29
        }
      ]
    },
    {
      "cell_type": "code",
      "source": [
        "topic_words = {}\n",
        "n_top_words = 10\n",
        "for topic, comp in enumerate(lda.components_):\n",
        "    word_idx = np.argsort(comp)[::-1][:n_top_words]\n",
        "    # store the words most relevant to the topic\n",
        "    topic_words[topic] = [tfidf_vocab[i] for i in word_idx]\n",
        "    \n",
        "for topic, words in topic_words.items():\n",
        "    print('Topic: %d' % topic)\n",
        "    print('  %s' % ', '.join(words))"
      ],
      "metadata": {
        "colab": {
          "base_uri": "https://localhost:8080/"
        },
        "id": "r9FvtHiNCrWy",
        "outputId": "904223e8-8e59-455e-fce2-155884a67a86"
      },
      "id": "r9FvtHiNCrWy",
      "execution_count": 30,
      "outputs": [
        {
          "output_type": "stream",
          "name": "stdout",
          "text": [
            "Topic: 0\n",
            "  http, love, just, monday, finally, hi, don, quot, com, really\n",
            "Topic: 1\n",
            "  good, don, ready, today, weekend, just, think, got, sleep, quot\n",
            "Topic: 2\n",
            "  good, days, day, nice, going, come, way, awesome, tomorrow, just\n",
            "Topic: 3\n",
            "  twitpic, friends, love, http, cute, little, com, good, end, time\n",
            "Topic: 4\n",
            "  just, quot, like, morning, going, want, car, missing, work, help\n",
            "Topic: 5\n",
            "  tweet, time, bored, glad, watch, bad, hair, enjoy, work, post\n",
            "Topic: 6\n",
            "  work, like, girl, gonna, know, just, run, beach, need, reply\n",
            "Topic: 7\n",
            "  day, thanks, hurts, going, ugh, work, excited, hahaha, taking, just\n",
            "Topic: 8\n",
            "  work, just, tired, today, funny, eating, gotta, late, going, long\n",
            "Topic: 9\n",
            "  hot, thank, day, today, good, new, want, oh, use, lovely\n"
          ]
        }
      ]
    },
    {
      "cell_type": "code",
      "source": [],
      "metadata": {
        "id": "438TXF51GgYS"
      },
      "id": "438TXF51GgYS",
      "execution_count": null,
      "outputs": []
    },
    {
      "cell_type": "markdown",
      "source": [
        "#Twitter (Kaggle Data) - Mixed (general + politics + sports)\n"
      ],
      "metadata": {
        "id": "2C1gGU_MIduj"
      },
      "id": "2C1gGU_MIduj"
    },
    {
      "cell_type": "code",
      "source": [
        "import pandas as pd\n",
        "from sklearn.feature_extraction.text import TfidfVectorizer, CountVectorizer,HashingVectorizer\n",
        "from sklearn.decomposition import LatentDirichletAllocation\n"
      ],
      "metadata": {
        "id": "2vp3RQNAIdup"
      },
      "execution_count": 31,
      "outputs": [],
      "id": "2vp3RQNAIdup"
    },
    {
      "cell_type": "code",
      "source": [
        "from google.colab import drive\n",
        "drive.mount('/content/drive')"
      ],
      "metadata": {
        "colab": {
          "base_uri": "https://localhost:8080/"
        },
        "outputId": "c3350dfe-3cd8-4be8-e526-657af29da281",
        "id": "zajrQNVFIdup"
      },
      "execution_count": 32,
      "outputs": [
        {
          "output_type": "stream",
          "name": "stdout",
          "text": [
            "Drive already mounted at /content/drive; to attempt to forcibly remount, call drive.mount(\"/content/drive\", force_remount=True).\n"
          ]
        }
      ],
      "id": "zajrQNVFIdup"
    },
    {
      "cell_type": "code",
      "source": [
        "tweet_df_politics_1 = pd.read_csv('/content/drive/MyDrive/KDN-ICP-6/hashtag_joebiden.csv').dropna()\n",
        "tweet_df_politics_2 = pd.read_csv('/content/drive/MyDrive/KDN-ICP-6/hashtag_donaldtrump.csv', engine='python').dropna()\n",
        "tweet_df_sport = pd.read_csv('/content/drive/MyDrive/KDN-ICP-6/tokyo_2020_tweets.csv').dropna()\n",
        "\n",
        "\n",
        "tweet_df_general = pd.read_csv('/content/drive/MyDrive/KDN-ICP-6/training.1600000.processed.noemoticon.csv', encoding = 'latin-1', header = None, \n",
        "                       names = ['target', 'ids', 'date', 'flag', 'user', 'text'])"
      ],
      "metadata": {
        "colab": {
          "base_uri": "https://localhost:8080/"
        },
        "id": "h_EmlUWAIduq",
        "outputId": "b944caf6-c9c5-4b0b-bf56-0e5ae164f34e"
      },
      "execution_count": 33,
      "outputs": [
        {
          "output_type": "stream",
          "name": "stderr",
          "text": [
            "/usr/local/lib/python3.7/dist-packages/IPython/core/interactiveshell.py:3326: DtypeWarning: Columns (1,2,3,5,6,7,8,9,10,11,12,13,14,15,16,17,18,19,20) have mixed types.Specify dtype option on import or set low_memory=False.\n",
            "  exec(code_obj, self.user_global_ns, self.user_ns)\n"
          ]
        }
      ],
      "id": "h_EmlUWAIduq"
    },
    {
      "cell_type": "code",
      "source": [
        "tweet_df_sport.head()"
      ],
      "metadata": {
        "colab": {
          "base_uri": "https://localhost:8080/",
          "height": 478
        },
        "id": "RnGPAFwJIwMp",
        "outputId": "7d2ace86-ac94-4f69-d801-e951a6dfa1a1"
      },
      "id": "RnGPAFwJIwMp",
      "execution_count": 34,
      "outputs": [
        {
          "output_type": "execute_result",
          "data": {
            "text/plain": [
              "                    id                        user_name   user_location  \\\n",
              "0  1418888645105356803               Abhishek Srivastav    Udupi, India   \n",
              "1  1418888377680678918         Saikhom Mirabai Channu🇮🇳  Manipur, India   \n",
              "4  1418886894478270464                     Cameron Hart       Australia   \n",
              "5  1418885092571766792                       Sab Joke H           India   \n",
              "8  1418889399081656321  International Hockey Federation        Lausanne   \n",
              "\n",
              "                                    user_description         user_created  \\\n",
              "0               Trying to be mediocre in many things  2021-02-01 06:33:51   \n",
              "1      Indian weightlifter 48 kg category. Champion🏆  2018-04-07 10:10:22   \n",
              "4                            Football & Tennis Coach  2020-10-31 08:46:17   \n",
              "5                                        Follows you  2020-09-05 19:50:35   \n",
              "8  Official International Hockey Federation Twitt...  2010-10-20 10:45:59   \n",
              "\n",
              "   user_followers  user_friends  user_favourites  user_verified  \\\n",
              "0              45            39              293          False   \n",
              "1            5235             5             2969          False   \n",
              "4               6            37               31          False   \n",
              "5             107            88              102          False   \n",
              "8          103976          2724            36554           True   \n",
              "\n",
              "                  date                                               text  \\\n",
              "0  2021-07-24 10:59:49                    Let the party begin\\n#Tokyo2020   \n",
              "1  2021-07-24 10:58:45  Congratulations #Tokyo2020 https://t.co/8OFKMs...   \n",
              "4  2021-07-24 10:52:51  All I can think of every time I watch the ring...   \n",
              "5  2021-07-24 10:45:42  #Tokyo2020 #Olympics\\n#MirabaiChanu\\n#Weightli...   \n",
              "8  2021-07-24 11:02:49  Q3 🇨🇦 1-4 🇩🇪\\n\\nGreen card for Canada's captai...   \n",
              "\n",
              "                                            hashtags               source  \\\n",
              "0                                      ['Tokyo2020']  Twitter for Android   \n",
              "1                                      ['Tokyo2020']  Twitter for Android   \n",
              "4  ['Tokyo2020', 'ArtisticGymnastics', '7Olympics...   Twitter for iPhone   \n",
              "5  ['Tokyo2020', 'Olympics', 'MirabaiChanu', 'Wei...  Twitter for Android   \n",
              "8                           ['Tokyo2020', 'CANvGER']      Twitter Web App   \n",
              "\n",
              "   retweets  favorites  is_retweet  \n",
              "0         0          0       False  \n",
              "1         0          0       False  \n",
              "4         0          0       False  \n",
              "5         0          0       False  \n",
              "8         0          0       False  "
            ],
            "text/html": [
              "\n",
              "  <div id=\"df-5249be73-c212-4b9b-a079-b543d2188eb0\">\n",
              "    <div class=\"colab-df-container\">\n",
              "      <div>\n",
              "<style scoped>\n",
              "    .dataframe tbody tr th:only-of-type {\n",
              "        vertical-align: middle;\n",
              "    }\n",
              "\n",
              "    .dataframe tbody tr th {\n",
              "        vertical-align: top;\n",
              "    }\n",
              "\n",
              "    .dataframe thead th {\n",
              "        text-align: right;\n",
              "    }\n",
              "</style>\n",
              "<table border=\"1\" class=\"dataframe\">\n",
              "  <thead>\n",
              "    <tr style=\"text-align: right;\">\n",
              "      <th></th>\n",
              "      <th>id</th>\n",
              "      <th>user_name</th>\n",
              "      <th>user_location</th>\n",
              "      <th>user_description</th>\n",
              "      <th>user_created</th>\n",
              "      <th>user_followers</th>\n",
              "      <th>user_friends</th>\n",
              "      <th>user_favourites</th>\n",
              "      <th>user_verified</th>\n",
              "      <th>date</th>\n",
              "      <th>text</th>\n",
              "      <th>hashtags</th>\n",
              "      <th>source</th>\n",
              "      <th>retweets</th>\n",
              "      <th>favorites</th>\n",
              "      <th>is_retweet</th>\n",
              "    </tr>\n",
              "  </thead>\n",
              "  <tbody>\n",
              "    <tr>\n",
              "      <th>0</th>\n",
              "      <td>1418888645105356803</td>\n",
              "      <td>Abhishek Srivastav</td>\n",
              "      <td>Udupi, India</td>\n",
              "      <td>Trying to be mediocre in many things</td>\n",
              "      <td>2021-02-01 06:33:51</td>\n",
              "      <td>45</td>\n",
              "      <td>39</td>\n",
              "      <td>293</td>\n",
              "      <td>False</td>\n",
              "      <td>2021-07-24 10:59:49</td>\n",
              "      <td>Let the party begin\\n#Tokyo2020</td>\n",
              "      <td>['Tokyo2020']</td>\n",
              "      <td>Twitter for Android</td>\n",
              "      <td>0</td>\n",
              "      <td>0</td>\n",
              "      <td>False</td>\n",
              "    </tr>\n",
              "    <tr>\n",
              "      <th>1</th>\n",
              "      <td>1418888377680678918</td>\n",
              "      <td>Saikhom Mirabai Channu🇮🇳</td>\n",
              "      <td>Manipur, India</td>\n",
              "      <td>Indian weightlifter 48 kg category. Champion🏆</td>\n",
              "      <td>2018-04-07 10:10:22</td>\n",
              "      <td>5235</td>\n",
              "      <td>5</td>\n",
              "      <td>2969</td>\n",
              "      <td>False</td>\n",
              "      <td>2021-07-24 10:58:45</td>\n",
              "      <td>Congratulations #Tokyo2020 https://t.co/8OFKMs...</td>\n",
              "      <td>['Tokyo2020']</td>\n",
              "      <td>Twitter for Android</td>\n",
              "      <td>0</td>\n",
              "      <td>0</td>\n",
              "      <td>False</td>\n",
              "    </tr>\n",
              "    <tr>\n",
              "      <th>4</th>\n",
              "      <td>1418886894478270464</td>\n",
              "      <td>Cameron Hart</td>\n",
              "      <td>Australia</td>\n",
              "      <td>Football &amp; Tennis Coach</td>\n",
              "      <td>2020-10-31 08:46:17</td>\n",
              "      <td>6</td>\n",
              "      <td>37</td>\n",
              "      <td>31</td>\n",
              "      <td>False</td>\n",
              "      <td>2021-07-24 10:52:51</td>\n",
              "      <td>All I can think of every time I watch the ring...</td>\n",
              "      <td>['Tokyo2020', 'ArtisticGymnastics', '7Olympics...</td>\n",
              "      <td>Twitter for iPhone</td>\n",
              "      <td>0</td>\n",
              "      <td>0</td>\n",
              "      <td>False</td>\n",
              "    </tr>\n",
              "    <tr>\n",
              "      <th>5</th>\n",
              "      <td>1418885092571766792</td>\n",
              "      <td>Sab Joke H</td>\n",
              "      <td>India</td>\n",
              "      <td>Follows you</td>\n",
              "      <td>2020-09-05 19:50:35</td>\n",
              "      <td>107</td>\n",
              "      <td>88</td>\n",
              "      <td>102</td>\n",
              "      <td>False</td>\n",
              "      <td>2021-07-24 10:45:42</td>\n",
              "      <td>#Tokyo2020 #Olympics\\n#MirabaiChanu\\n#Weightli...</td>\n",
              "      <td>['Tokyo2020', 'Olympics', 'MirabaiChanu', 'Wei...</td>\n",
              "      <td>Twitter for Android</td>\n",
              "      <td>0</td>\n",
              "      <td>0</td>\n",
              "      <td>False</td>\n",
              "    </tr>\n",
              "    <tr>\n",
              "      <th>8</th>\n",
              "      <td>1418889399081656321</td>\n",
              "      <td>International Hockey Federation</td>\n",
              "      <td>Lausanne</td>\n",
              "      <td>Official International Hockey Federation Twitt...</td>\n",
              "      <td>2010-10-20 10:45:59</td>\n",
              "      <td>103976</td>\n",
              "      <td>2724</td>\n",
              "      <td>36554</td>\n",
              "      <td>True</td>\n",
              "      <td>2021-07-24 11:02:49</td>\n",
              "      <td>Q3 🇨🇦 1-4 🇩🇪\\n\\nGreen card for Canada's captai...</td>\n",
              "      <td>['Tokyo2020', 'CANvGER']</td>\n",
              "      <td>Twitter Web App</td>\n",
              "      <td>0</td>\n",
              "      <td>0</td>\n",
              "      <td>False</td>\n",
              "    </tr>\n",
              "  </tbody>\n",
              "</table>\n",
              "</div>\n",
              "      <button class=\"colab-df-convert\" onclick=\"convertToInteractive('df-5249be73-c212-4b9b-a079-b543d2188eb0')\"\n",
              "              title=\"Convert this dataframe to an interactive table.\"\n",
              "              style=\"display:none;\">\n",
              "        \n",
              "  <svg xmlns=\"http://www.w3.org/2000/svg\" height=\"24px\"viewBox=\"0 0 24 24\"\n",
              "       width=\"24px\">\n",
              "    <path d=\"M0 0h24v24H0V0z\" fill=\"none\"/>\n",
              "    <path d=\"M18.56 5.44l.94 2.06.94-2.06 2.06-.94-2.06-.94-.94-2.06-.94 2.06-2.06.94zm-11 1L8.5 8.5l.94-2.06 2.06-.94-2.06-.94L8.5 2.5l-.94 2.06-2.06.94zm10 10l.94 2.06.94-2.06 2.06-.94-2.06-.94-.94-2.06-.94 2.06-2.06.94z\"/><path d=\"M17.41 7.96l-1.37-1.37c-.4-.4-.92-.59-1.43-.59-.52 0-1.04.2-1.43.59L10.3 9.45l-7.72 7.72c-.78.78-.78 2.05 0 2.83L4 21.41c.39.39.9.59 1.41.59.51 0 1.02-.2 1.41-.59l7.78-7.78 2.81-2.81c.8-.78.8-2.07 0-2.86zM5.41 20L4 18.59l7.72-7.72 1.47 1.35L5.41 20z\"/>\n",
              "  </svg>\n",
              "      </button>\n",
              "      \n",
              "  <style>\n",
              "    .colab-df-container {\n",
              "      display:flex;\n",
              "      flex-wrap:wrap;\n",
              "      gap: 12px;\n",
              "    }\n",
              "\n",
              "    .colab-df-convert {\n",
              "      background-color: #E8F0FE;\n",
              "      border: none;\n",
              "      border-radius: 50%;\n",
              "      cursor: pointer;\n",
              "      display: none;\n",
              "      fill: #1967D2;\n",
              "      height: 32px;\n",
              "      padding: 0 0 0 0;\n",
              "      width: 32px;\n",
              "    }\n",
              "\n",
              "    .colab-df-convert:hover {\n",
              "      background-color: #E2EBFA;\n",
              "      box-shadow: 0px 1px 2px rgba(60, 64, 67, 0.3), 0px 1px 3px 1px rgba(60, 64, 67, 0.15);\n",
              "      fill: #174EA6;\n",
              "    }\n",
              "\n",
              "    [theme=dark] .colab-df-convert {\n",
              "      background-color: #3B4455;\n",
              "      fill: #D2E3FC;\n",
              "    }\n",
              "\n",
              "    [theme=dark] .colab-df-convert:hover {\n",
              "      background-color: #434B5C;\n",
              "      box-shadow: 0px 1px 3px 1px rgba(0, 0, 0, 0.15);\n",
              "      filter: drop-shadow(0px 1px 2px rgba(0, 0, 0, 0.3));\n",
              "      fill: #FFFFFF;\n",
              "    }\n",
              "  </style>\n",
              "\n",
              "      <script>\n",
              "        const buttonEl =\n",
              "          document.querySelector('#df-5249be73-c212-4b9b-a079-b543d2188eb0 button.colab-df-convert');\n",
              "        buttonEl.style.display =\n",
              "          google.colab.kernel.accessAllowed ? 'block' : 'none';\n",
              "\n",
              "        async function convertToInteractive(key) {\n",
              "          const element = document.querySelector('#df-5249be73-c212-4b9b-a079-b543d2188eb0');\n",
              "          const dataTable =\n",
              "            await google.colab.kernel.invokeFunction('convertToInteractive',\n",
              "                                                     [key], {});\n",
              "          if (!dataTable) return;\n",
              "\n",
              "          const docLinkHtml = 'Like what you see? Visit the ' +\n",
              "            '<a target=\"_blank\" href=https://colab.research.google.com/notebooks/data_table.ipynb>data table notebook</a>'\n",
              "            + ' to learn more about interactive tables.';\n",
              "          element.innerHTML = '';\n",
              "          dataTable['output_type'] = 'display_data';\n",
              "          await google.colab.output.renderOutput(dataTable, element);\n",
              "          const docLink = document.createElement('div');\n",
              "          docLink.innerHTML = docLinkHtml;\n",
              "          element.appendChild(docLink);\n",
              "        }\n",
              "      </script>\n",
              "    </div>\n",
              "  </div>\n",
              "  "
            ]
          },
          "metadata": {},
          "execution_count": 34
        }
      ]
    },
    {
      "cell_type": "code",
      "source": [
        "sub_tweet_df_1 = tweet_df_politics_1.sample(n = 2000)\n",
        "sub_tweet_df_1['text'] = sub_tweet_df_1['tweet']\n",
        "sub_tweet_df_2 = tweet_df_politics_2.sample(n = 2000)\n",
        "sub_tweet_df_2['text'] = sub_tweet_df_2['tweet']\n",
        "sub_tweet_df_3 = tweet_df_general.sample(n = 10000)\n",
        "sub_tweet_df_4 = tweet_df_sport.sample(n = 5000)\n",
        "\n"
      ],
      "metadata": {
        "id": "O9EKAw6dIduq"
      },
      "execution_count": 35,
      "outputs": [],
      "id": "O9EKAw6dIduq"
    },
    {
      "cell_type": "code",
      "source": [
        "all_sub_tweets_df = pd.concat([sub_tweet_df_1['text'], sub_tweet_df_2['text'], sub_tweet_df_3['text'], sub_tweet_df_4['text']]).to_frame(name = 'text')\n",
        "all_sub_tweets_df.head()"
      ],
      "metadata": {
        "colab": {
          "base_uri": "https://localhost:8080/",
          "height": 206
        },
        "id": "JiWuZzddNEFQ",
        "outputId": "b9aa4ff8-8b70-406b-c8fa-bf89a1af9d9e"
      },
      "id": "JiWuZzddNEFQ",
      "execution_count": 36,
      "outputs": [
        {
          "output_type": "execute_result",
          "data": {
            "text/plain": [
              "                                                     text\n",
              "126666  Turning the opponents microphone off during th...\n",
              "94325   @BarackObama powerful message in PA is what Am...\n",
              "182526  Trump has started ZERO new wars.\\n\\nWages have...\n",
              "136349  #Debate #Debates2020 #DebateTonight #Biden #Bi...\n",
              "33816   You have to see this. #Biden with his massive ..."
            ],
            "text/html": [
              "\n",
              "  <div id=\"df-363b96df-3799-4d30-b008-8f4478b268c5\">\n",
              "    <div class=\"colab-df-container\">\n",
              "      <div>\n",
              "<style scoped>\n",
              "    .dataframe tbody tr th:only-of-type {\n",
              "        vertical-align: middle;\n",
              "    }\n",
              "\n",
              "    .dataframe tbody tr th {\n",
              "        vertical-align: top;\n",
              "    }\n",
              "\n",
              "    .dataframe thead th {\n",
              "        text-align: right;\n",
              "    }\n",
              "</style>\n",
              "<table border=\"1\" class=\"dataframe\">\n",
              "  <thead>\n",
              "    <tr style=\"text-align: right;\">\n",
              "      <th></th>\n",
              "      <th>text</th>\n",
              "    </tr>\n",
              "  </thead>\n",
              "  <tbody>\n",
              "    <tr>\n",
              "      <th>126666</th>\n",
              "      <td>Turning the opponents microphone off during th...</td>\n",
              "    </tr>\n",
              "    <tr>\n",
              "      <th>94325</th>\n",
              "      <td>@BarackObama powerful message in PA is what Am...</td>\n",
              "    </tr>\n",
              "    <tr>\n",
              "      <th>182526</th>\n",
              "      <td>Trump has started ZERO new wars.\\n\\nWages have...</td>\n",
              "    </tr>\n",
              "    <tr>\n",
              "      <th>136349</th>\n",
              "      <td>#Debate #Debates2020 #DebateTonight #Biden #Bi...</td>\n",
              "    </tr>\n",
              "    <tr>\n",
              "      <th>33816</th>\n",
              "      <td>You have to see this. #Biden with his massive ...</td>\n",
              "    </tr>\n",
              "  </tbody>\n",
              "</table>\n",
              "</div>\n",
              "      <button class=\"colab-df-convert\" onclick=\"convertToInteractive('df-363b96df-3799-4d30-b008-8f4478b268c5')\"\n",
              "              title=\"Convert this dataframe to an interactive table.\"\n",
              "              style=\"display:none;\">\n",
              "        \n",
              "  <svg xmlns=\"http://www.w3.org/2000/svg\" height=\"24px\"viewBox=\"0 0 24 24\"\n",
              "       width=\"24px\">\n",
              "    <path d=\"M0 0h24v24H0V0z\" fill=\"none\"/>\n",
              "    <path d=\"M18.56 5.44l.94 2.06.94-2.06 2.06-.94-2.06-.94-.94-2.06-.94 2.06-2.06.94zm-11 1L8.5 8.5l.94-2.06 2.06-.94-2.06-.94L8.5 2.5l-.94 2.06-2.06.94zm10 10l.94 2.06.94-2.06 2.06-.94-2.06-.94-.94-2.06-.94 2.06-2.06.94z\"/><path d=\"M17.41 7.96l-1.37-1.37c-.4-.4-.92-.59-1.43-.59-.52 0-1.04.2-1.43.59L10.3 9.45l-7.72 7.72c-.78.78-.78 2.05 0 2.83L4 21.41c.39.39.9.59 1.41.59.51 0 1.02-.2 1.41-.59l7.78-7.78 2.81-2.81c.8-.78.8-2.07 0-2.86zM5.41 20L4 18.59l7.72-7.72 1.47 1.35L5.41 20z\"/>\n",
              "  </svg>\n",
              "      </button>\n",
              "      \n",
              "  <style>\n",
              "    .colab-df-container {\n",
              "      display:flex;\n",
              "      flex-wrap:wrap;\n",
              "      gap: 12px;\n",
              "    }\n",
              "\n",
              "    .colab-df-convert {\n",
              "      background-color: #E8F0FE;\n",
              "      border: none;\n",
              "      border-radius: 50%;\n",
              "      cursor: pointer;\n",
              "      display: none;\n",
              "      fill: #1967D2;\n",
              "      height: 32px;\n",
              "      padding: 0 0 0 0;\n",
              "      width: 32px;\n",
              "    }\n",
              "\n",
              "    .colab-df-convert:hover {\n",
              "      background-color: #E2EBFA;\n",
              "      box-shadow: 0px 1px 2px rgba(60, 64, 67, 0.3), 0px 1px 3px 1px rgba(60, 64, 67, 0.15);\n",
              "      fill: #174EA6;\n",
              "    }\n",
              "\n",
              "    [theme=dark] .colab-df-convert {\n",
              "      background-color: #3B4455;\n",
              "      fill: #D2E3FC;\n",
              "    }\n",
              "\n",
              "    [theme=dark] .colab-df-convert:hover {\n",
              "      background-color: #434B5C;\n",
              "      box-shadow: 0px 1px 3px 1px rgba(0, 0, 0, 0.15);\n",
              "      filter: drop-shadow(0px 1px 2px rgba(0, 0, 0, 0.3));\n",
              "      fill: #FFFFFF;\n",
              "    }\n",
              "  </style>\n",
              "\n",
              "      <script>\n",
              "        const buttonEl =\n",
              "          document.querySelector('#df-363b96df-3799-4d30-b008-8f4478b268c5 button.colab-df-convert');\n",
              "        buttonEl.style.display =\n",
              "          google.colab.kernel.accessAllowed ? 'block' : 'none';\n",
              "\n",
              "        async function convertToInteractive(key) {\n",
              "          const element = document.querySelector('#df-363b96df-3799-4d30-b008-8f4478b268c5');\n",
              "          const dataTable =\n",
              "            await google.colab.kernel.invokeFunction('convertToInteractive',\n",
              "                                                     [key], {});\n",
              "          if (!dataTable) return;\n",
              "\n",
              "          const docLinkHtml = 'Like what you see? Visit the ' +\n",
              "            '<a target=\"_blank\" href=https://colab.research.google.com/notebooks/data_table.ipynb>data table notebook</a>'\n",
              "            + ' to learn more about interactive tables.';\n",
              "          element.innerHTML = '';\n",
              "          dataTable['output_type'] = 'display_data';\n",
              "          await google.colab.output.renderOutput(dataTable, element);\n",
              "          const docLink = document.createElement('div');\n",
              "          docLink.innerHTML = docLinkHtml;\n",
              "          element.appendChild(docLink);\n",
              "        }\n",
              "      </script>\n",
              "    </div>\n",
              "  </div>\n",
              "  "
            ]
          },
          "metadata": {},
          "execution_count": 36
        }
      ]
    },
    {
      "cell_type": "code",
      "source": [
        "all_sub_tweets_df[15000:]"
      ],
      "metadata": {
        "colab": {
          "base_uri": "https://localhost:8080/",
          "height": 424
        },
        "id": "9z8l8Z9qN5gh",
        "outputId": "ab7dcca8-2737-4a1c-864b-ccf4c62ccb62"
      },
      "id": "9z8l8Z9qN5gh",
      "execution_count": 37,
      "outputs": [
        {
          "output_type": "execute_result",
          "data": {
            "text/plain": [
              "                                                    text\n",
              "14375  It was a different kind of game for #TeamGB ag...\n",
              "1796   Congratulations #MirabaiChanu for achieving th...\n",
              "11542        What’s this place called Taipei? #Tokyo2020\n",
              "1043   Congratulations to #MirabaiChanu for winning I...\n",
              "7510   Romanian women win in tenis in #Tokyo2020 🙏😍 h...\n",
              "...                                                  ...\n",
              "14816  90+3' | Another own goal by New Zealand \\n\\n🇺🇸...\n",
              "15293  What a dream come true for India! Thank you fo...\n",
              "14533  Off to a flying start! Huge congratulations to...\n",
              "5978   @PuneethRajkumar @mirabai_chanu Boss\\n\\n#Dvitv...\n",
              "9526   Sam Kerr is legit one of the best strikers in ...\n",
              "\n",
              "[4000 rows x 1 columns]"
            ],
            "text/html": [
              "\n",
              "  <div id=\"df-b56ca940-0697-4978-897e-8269539e478b\">\n",
              "    <div class=\"colab-df-container\">\n",
              "      <div>\n",
              "<style scoped>\n",
              "    .dataframe tbody tr th:only-of-type {\n",
              "        vertical-align: middle;\n",
              "    }\n",
              "\n",
              "    .dataframe tbody tr th {\n",
              "        vertical-align: top;\n",
              "    }\n",
              "\n",
              "    .dataframe thead th {\n",
              "        text-align: right;\n",
              "    }\n",
              "</style>\n",
              "<table border=\"1\" class=\"dataframe\">\n",
              "  <thead>\n",
              "    <tr style=\"text-align: right;\">\n",
              "      <th></th>\n",
              "      <th>text</th>\n",
              "    </tr>\n",
              "  </thead>\n",
              "  <tbody>\n",
              "    <tr>\n",
              "      <th>14375</th>\n",
              "      <td>It was a different kind of game for #TeamGB ag...</td>\n",
              "    </tr>\n",
              "    <tr>\n",
              "      <th>1796</th>\n",
              "      <td>Congratulations #MirabaiChanu for achieving th...</td>\n",
              "    </tr>\n",
              "    <tr>\n",
              "      <th>11542</th>\n",
              "      <td>What’s this place called Taipei? #Tokyo2020</td>\n",
              "    </tr>\n",
              "    <tr>\n",
              "      <th>1043</th>\n",
              "      <td>Congratulations to #MirabaiChanu for winning I...</td>\n",
              "    </tr>\n",
              "    <tr>\n",
              "      <th>7510</th>\n",
              "      <td>Romanian women win in tenis in #Tokyo2020 🙏😍 h...</td>\n",
              "    </tr>\n",
              "    <tr>\n",
              "      <th>...</th>\n",
              "      <td>...</td>\n",
              "    </tr>\n",
              "    <tr>\n",
              "      <th>14816</th>\n",
              "      <td>90+3' | Another own goal by New Zealand \\n\\n🇺🇸...</td>\n",
              "    </tr>\n",
              "    <tr>\n",
              "      <th>15293</th>\n",
              "      <td>What a dream come true for India! Thank you fo...</td>\n",
              "    </tr>\n",
              "    <tr>\n",
              "      <th>14533</th>\n",
              "      <td>Off to a flying start! Huge congratulations to...</td>\n",
              "    </tr>\n",
              "    <tr>\n",
              "      <th>5978</th>\n",
              "      <td>@PuneethRajkumar @mirabai_chanu Boss\\n\\n#Dvitv...</td>\n",
              "    </tr>\n",
              "    <tr>\n",
              "      <th>9526</th>\n",
              "      <td>Sam Kerr is legit one of the best strikers in ...</td>\n",
              "    </tr>\n",
              "  </tbody>\n",
              "</table>\n",
              "<p>4000 rows × 1 columns</p>\n",
              "</div>\n",
              "      <button class=\"colab-df-convert\" onclick=\"convertToInteractive('df-b56ca940-0697-4978-897e-8269539e478b')\"\n",
              "              title=\"Convert this dataframe to an interactive table.\"\n",
              "              style=\"display:none;\">\n",
              "        \n",
              "  <svg xmlns=\"http://www.w3.org/2000/svg\" height=\"24px\"viewBox=\"0 0 24 24\"\n",
              "       width=\"24px\">\n",
              "    <path d=\"M0 0h24v24H0V0z\" fill=\"none\"/>\n",
              "    <path d=\"M18.56 5.44l.94 2.06.94-2.06 2.06-.94-2.06-.94-.94-2.06-.94 2.06-2.06.94zm-11 1L8.5 8.5l.94-2.06 2.06-.94-2.06-.94L8.5 2.5l-.94 2.06-2.06.94zm10 10l.94 2.06.94-2.06 2.06-.94-2.06-.94-.94-2.06-.94 2.06-2.06.94z\"/><path d=\"M17.41 7.96l-1.37-1.37c-.4-.4-.92-.59-1.43-.59-.52 0-1.04.2-1.43.59L10.3 9.45l-7.72 7.72c-.78.78-.78 2.05 0 2.83L4 21.41c.39.39.9.59 1.41.59.51 0 1.02-.2 1.41-.59l7.78-7.78 2.81-2.81c.8-.78.8-2.07 0-2.86zM5.41 20L4 18.59l7.72-7.72 1.47 1.35L5.41 20z\"/>\n",
              "  </svg>\n",
              "      </button>\n",
              "      \n",
              "  <style>\n",
              "    .colab-df-container {\n",
              "      display:flex;\n",
              "      flex-wrap:wrap;\n",
              "      gap: 12px;\n",
              "    }\n",
              "\n",
              "    .colab-df-convert {\n",
              "      background-color: #E8F0FE;\n",
              "      border: none;\n",
              "      border-radius: 50%;\n",
              "      cursor: pointer;\n",
              "      display: none;\n",
              "      fill: #1967D2;\n",
              "      height: 32px;\n",
              "      padding: 0 0 0 0;\n",
              "      width: 32px;\n",
              "    }\n",
              "\n",
              "    .colab-df-convert:hover {\n",
              "      background-color: #E2EBFA;\n",
              "      box-shadow: 0px 1px 2px rgba(60, 64, 67, 0.3), 0px 1px 3px 1px rgba(60, 64, 67, 0.15);\n",
              "      fill: #174EA6;\n",
              "    }\n",
              "\n",
              "    [theme=dark] .colab-df-convert {\n",
              "      background-color: #3B4455;\n",
              "      fill: #D2E3FC;\n",
              "    }\n",
              "\n",
              "    [theme=dark] .colab-df-convert:hover {\n",
              "      background-color: #434B5C;\n",
              "      box-shadow: 0px 1px 3px 1px rgba(0, 0, 0, 0.15);\n",
              "      filter: drop-shadow(0px 1px 2px rgba(0, 0, 0, 0.3));\n",
              "      fill: #FFFFFF;\n",
              "    }\n",
              "  </style>\n",
              "\n",
              "      <script>\n",
              "        const buttonEl =\n",
              "          document.querySelector('#df-b56ca940-0697-4978-897e-8269539e478b button.colab-df-convert');\n",
              "        buttonEl.style.display =\n",
              "          google.colab.kernel.accessAllowed ? 'block' : 'none';\n",
              "\n",
              "        async function convertToInteractive(key) {\n",
              "          const element = document.querySelector('#df-b56ca940-0697-4978-897e-8269539e478b');\n",
              "          const dataTable =\n",
              "            await google.colab.kernel.invokeFunction('convertToInteractive',\n",
              "                                                     [key], {});\n",
              "          if (!dataTable) return;\n",
              "\n",
              "          const docLinkHtml = 'Like what you see? Visit the ' +\n",
              "            '<a target=\"_blank\" href=https://colab.research.google.com/notebooks/data_table.ipynb>data table notebook</a>'\n",
              "            + ' to learn more about interactive tables.';\n",
              "          element.innerHTML = '';\n",
              "          dataTable['output_type'] = 'display_data';\n",
              "          await google.colab.output.renderOutput(dataTable, element);\n",
              "          const docLink = document.createElement('div');\n",
              "          docLink.innerHTML = docLinkHtml;\n",
              "          element.appendChild(docLink);\n",
              "        }\n",
              "      </script>\n",
              "    </div>\n",
              "  </div>\n",
              "  "
            ]
          },
          "metadata": {},
          "execution_count": 37
        }
      ]
    },
    {
      "cell_type": "code",
      "source": [
        "all_sub_tweets_df.size"
      ],
      "metadata": {
        "colab": {
          "base_uri": "https://localhost:8080/"
        },
        "id": "HYjPLlWBNOFw",
        "outputId": "de52dcc7-2ee3-4667-a197-bf4390c5ae3c"
      },
      "id": "HYjPLlWBNOFw",
      "execution_count": 38,
      "outputs": [
        {
          "output_type": "execute_result",
          "data": {
            "text/plain": [
              "19000"
            ]
          },
          "metadata": {},
          "execution_count": 38
        }
      ]
    },
    {
      "cell_type": "markdown",
      "source": [
        "## Fitting"
      ],
      "metadata": {
        "id": "Q_HguSZROw0T"
      },
      "id": "Q_HguSZROw0T"
    },
    {
      "cell_type": "code",
      "source": [
        "tfidf_vect = TfidfVectorizer(analyzer='word', stop_words = 'english', max_df = 0.7)\n",
        "tfidf_tokens = tfidf_vect.fit_transform(all_sub_tweets_df['text'])\n",
        "# tfidf_tokens = tfidf_vect.fit_transform(all_sub_tweets_df['text_tokenized']) #if you have some custom cleaning function\n",
        "\n",
        "tfidf_vocab = tfidf_vect.get_feature_names_out()"
      ],
      "metadata": {
        "id": "Bq4O1-TUIduq"
      },
      "execution_count": 39,
      "outputs": [],
      "id": "Bq4O1-TUIduq"
    },
    {
      "cell_type": "code",
      "source": [
        "print(tfidf_tokens[:2])\n",
        "tfidf_vocab[9566]"
      ],
      "metadata": {
        "colab": {
          "base_uri": "https://localhost:8080/",
          "height": 712
        },
        "outputId": "e43c56e6-e811-4bd8-a391-bd1d25bd2d63",
        "id": "RhuFEnAOIduq"
      },
      "execution_count": 40,
      "outputs": [
        {
          "output_type": "stream",
          "name": "stdout",
          "text": [
            "  (0, 1725)\t0.32037648579889694\n",
            "  (0, 16598)\t0.0698788357328233\n",
            "  (0, 5015)\t0.1724305465522068\n",
            "  (0, 35366)\t0.24475666879637148\n",
            "  (0, 4986)\t0.10745589972157002\n",
            "  (0, 9546)\t0.18685007091373343\n",
            "  (0, 35395)\t0.22836192147722534\n",
            "  (0, 27394)\t0.21208256365060635\n",
            "  (0, 29490)\t0.16408995425466316\n",
            "  (0, 3019)\t0.1372114088252266\n",
            "  (0, 30193)\t0.1835960618040914\n",
            "  (0, 38490)\t0.15035527017542386\n",
            "  (0, 21048)\t0.16142936265056998\n",
            "  (0, 39196)\t0.18218527454240147\n",
            "  (0, 28683)\t0.24622371996794323\n",
            "  (0, 34328)\t0.26962139161450344\n",
            "  (0, 16912)\t0.20870910018175892\n",
            "  (0, 14813)\t0.13226905714819304\n",
            "  (0, 20834)\t0.13376117891399802\n",
            "  (0, 22928)\t0.20365254829897594\n",
            "  (0, 22766)\t0.29851745653087153\n",
            "  (0, 25467)\t0.29851745653087153\n",
            "  (0, 35621)\t0.25683467919054226\n",
            "  (1, 37266)\t0.27256044695304293\n",
            "  (1, 4995)\t0.32579506017212717\n",
            "  (1, 37254)\t0.16504548729167934\n",
            "  (1, 37283)\t0.2448441966020756\n",
            "  (1, 9439)\t0.20783969188391635\n",
            "  (1, 204)\t0.2380797112518789\n",
            "  (1, 27392)\t0.24908134083022815\n",
            "  (1, 3610)\t0.3462658850062536\n",
            "  (1, 24129)\t0.23904240211994432\n",
            "  (1, 2958)\t0.20120500019463972\n",
            "  (1, 25836)\t0.25461339113591175\n",
            "  (1, 22619)\t0.2639133119492956\n",
            "  (1, 27230)\t0.3060784917861416\n",
            "  (1, 4371)\t0.2701996187031201\n",
            "  (1, 4986)\t0.12464367293168582\n",
            "  (1, 29490)\t0.19033645097652988\n"
          ]
        },
        {
          "output_type": "execute_result",
          "data": {
            "text/plain": [
              "'deborshi'"
            ],
            "application/vnd.google.colaboratory.intrinsic+json": {
              "type": "string"
            }
          },
          "metadata": {},
          "execution_count": 40
        }
      ],
      "id": "RhuFEnAOIduq"
    },
    {
      "cell_type": "code",
      "source": [
        "lda = LatentDirichletAllocation(n_components = 10, doc_topic_prior = 1, topic_word_prior= 0.01)\n",
        "lda.fit(tfidf_tokens)"
      ],
      "metadata": {
        "colab": {
          "base_uri": "https://localhost:8080/"
        },
        "outputId": "b186bd81-f4a2-40ce-f05f-012c40d4bde6",
        "id": "XVyziTBVIduq"
      },
      "execution_count": 41,
      "outputs": [
        {
          "output_type": "execute_result",
          "data": {
            "text/plain": [
              "LatentDirichletAllocation(doc_topic_prior=1, topic_word_prior=0.01)"
            ]
          },
          "metadata": {},
          "execution_count": 41
        }
      ],
      "id": "XVyziTBVIduq"
    },
    {
      "cell_type": "code",
      "source": [
        "topic_words = {}\n",
        "n_top_words = 15\n",
        "for topic, comp in enumerate(lda.components_):\n",
        "    word_idx = np.argsort(comp)[::-1][:n_top_words]\n",
        "    # store the words most relevant to the topic\n",
        "    topic_words[topic] = [tfidf_vocab[i] for i in word_idx]\n",
        "    \n",
        "for topic, words in topic_words.items():\n",
        "    print('Topic: %d' % topic)\n",
        "    print('  %s' % ', '.join(words))"
      ],
      "metadata": {
        "id": "6U7kLVHkIduq",
        "colab": {
          "base_uri": "https://localhost:8080/"
        },
        "outputId": "63f7d62b-6f72-43ec-a7df-6d5dcc9672f8"
      },
      "execution_count": 42,
      "outputs": [
        {
          "output_type": "stream",
          "name": "stdout",
          "text": [
            "Topic: 0\n",
            "  tokyo2020, https, medal, trump, india, just, mirabaichanu, biden, right, got, makes, seen, better, weeks, olympics\n",
            "Topic: 1\n",
            "  tokyo2020, https, congratulations, medal, india, mirabaichanu, mirabai_chanu, olympics, proud, winning, trump, silver, weightlifting, heartiest, biden\n",
            "Topic: 2\n",
            "  quot, today, tokyo2020, like, banda, just, https, trump, yes, biden, birthday, tweet, pretty, bed, zambia\n",
            "Topic: 3\n",
            "  https, tokyo2020, trump, biden, good, joebiden, new, just, day, aus, puneethrajkumar, lunch, like, doing, need\n",
            "Topic: 4\n",
            "  tokyo2020, https, just, joebiden, want, time, don, football, biden, like, game, trump, try, hate, yulo\n",
            "Topic: 5\n",
            "  https, tokyo2020, trump, olympics, work, biden, joebiden, day, beach, going, just, tennis, thank, home, don\n",
            "Topic: 6\n",
            "  tokyo2020, olympics, https, really, great, good, tomorrow, com, http, just, sleep, day, today, time, weather\n",
            "Topic: 7\n",
            "  https, tokyo2020, know, trump, im, love, bad, got, house, olympics, playing, joebiden, good, just, day\n",
            "Topic: 8\n",
            "  https, trump, biden, debates2020, tokyo2020, election2020, day, amp, vote, india, donaldtrump, medal, start, needs, does\n",
            "Topic: 9\n",
            "  tokyo2020, https, congratulations, olympics, silver, mirabai_chanu, proud, tokyoolympics, india, biden, trump, vote, cheer4india, medal, mirabai\n"
          ]
        }
      ],
      "id": "6U7kLVHkIduq"
    },
    {
      "cell_type": "markdown",
      "source": [
        "\n",
        "\n",
        "```\n",
        "Topic: 0\n",
        "  tokyo2020, https, olympics, good, trump, amp, love, today, time, just, like, china, great, know, http\n",
        "Topic: 1\n",
        "  tokyo2020, https, day, olympics, trump, miss, want, http, just, good, com, don, biden, got, love\n",
        "Topic: 2\n",
        "  tokyo2020, https, olympics, trump, home, like, really, just, joebiden, biden, know, time, love, medal, going\n",
        "Topic: 3\n",
        "  tokyo2020, https, joebiden, olympics, biden, congratulations, hidilyn, trump, good, great, day, today, hate, badminton, going\n",
        "Topic: 4\n",
        "  https, tokyo2020, work, trump, today, good, biden, just, got, morning, time, day, sick, tomorrow, days\n",
        "Topic: 5\n",
        "  tokyo2020, https, just, like, don, lol, good, quot, love, trump, know, day, time, work, http\n",
        "Topic: 6\n",
        "  tokyo2020, day, https, just, olympics, good, school, happy, oh, quot, going, work, love, time, morning\n",
        "Topic: 7\n",
        "  tokyo2020, https, olympics, gold, hockey, just, team, watching, india, olympicgames, men, tokyoolympics, good, medal, women\n",
        "Topic: 8\n",
        "  tokyo2020, https, just, trump, going, olympics, day, good, time, biden, today, http, lol, like, rain\n",
        "Topic: 9\n",
        "  tokyo2020, https, trump, biden, olympics, just, like, love, quot, joebiden, day, thanks, amp, boxing, going\n",
        "```\n",
        "\n"
      ],
      "metadata": {
        "id": "C-6o6I4MSYMy"
      },
      "id": "C-6o6I4MSYMy"
    },
    {
      "cell_type": "markdown",
      "source": [
        "After some cleaning:\n",
        "```\n",
        "Topic: 0\n",
        "  watch, welcome, trump, good, biden, today, girl, olympic, day, need, follower, work, bored, ugh, make\n",
        "Topic: 1\n",
        "  yes, olympic, new, win, swim, trump, titmus, gold, medal, think, make, biden, great, today, know\n",
        "Topic: 2\n",
        "  gold, olympic, hidilyn, medal, teamgb, win, diaz, like, olympicgame, philippine, congratulation, congrat, know, woman, tokyoolympic\n",
        "Topic: 3\n",
        "  thank, day, work, good, sleep, school, like, think, today, trump, time, happy, wake, tomorrow, know\n",
        "Topic: 4\n",
        "  congratulation, proud, mirabaichanu, home, medal, silver, india, make, sad, feel, really, win, olympic, day, today\n",
        "Topic: 5\n",
        "  joebiden, biden, trump, olympic, donaldtrump, love, awesome, president, good, new, win, lol, time, bad, need\n",
        "Topic: 6\n",
        "  olympic, come, usa, cool, watch, want, wait, day, suck, time, hey, look, basketball, archery, work\n",
        "Topic: 7\n",
        "  olympic, hockey, india, wish, game, teamindia, win, team, let, good, man, tokyoolympic, rain, day, match\n",
        "Topic: 8\n",
        "  sorry, tweet, lol, love, trump, good, birthday, day, time, look, thank, happy, need, reply, think\n",
        "Topic: 9\n",
        "  good, trump, biden, love, miss, morning, time, vote, know, great, want, day, make, lol, weekend\n",
        "```"
      ],
      "metadata": {
        "id": "Jqo9BX9IrLpm"
      },
      "id": "Jqo9BX9IrLpm"
    },
    {
      "cell_type": "markdown",
      "source": [
        "## Assignment: \n",
        "- Find a way to make topics more clear cut. (Cleaning, Stemming words, Removing Redundancy, ...)\n"
      ],
      "metadata": {
        "id": "6uECIXGEidk6"
      },
      "id": "6uECIXGEidk6"
    },
    {
      "cell_type": "markdown",
      "source": [
        "# cleaning"
      ],
      "metadata": {
        "id": "l8G_UcdhJSU5"
      },
      "id": "l8G_UcdhJSU5"
    },
    {
      "cell_type": "code",
      "source": [
        "all_sub_tweets_df"
      ],
      "metadata": {
        "id": "Ed1pGwc0JUjv",
        "outputId": "8df95d5e-b47e-46ae-a2d8-924aea6b6c15",
        "colab": {
          "base_uri": "https://localhost:8080/",
          "height": 424
        }
      },
      "id": "Ed1pGwc0JUjv",
      "execution_count": 43,
      "outputs": [
        {
          "output_type": "execute_result",
          "data": {
            "text/plain": [
              "                                                     text\n",
              "126666  Turning the opponents microphone off during th...\n",
              "94325   @BarackObama powerful message in PA is what Am...\n",
              "182526  Trump has started ZERO new wars.\\n\\nWages have...\n",
              "136349  #Debate #Debates2020 #DebateTonight #Biden #Bi...\n",
              "33816   You have to see this. #Biden with his massive ...\n",
              "...                                                   ...\n",
              "14816   90+3' | Another own goal by New Zealand \\n\\n🇺🇸...\n",
              "15293   What a dream come true for India! Thank you fo...\n",
              "14533   Off to a flying start! Huge congratulations to...\n",
              "5978    @PuneethRajkumar @mirabai_chanu Boss\\n\\n#Dvitv...\n",
              "9526    Sam Kerr is legit one of the best strikers in ...\n",
              "\n",
              "[19000 rows x 1 columns]"
            ],
            "text/html": [
              "\n",
              "  <div id=\"df-45bc745c-9de8-4d10-8cee-b2387e82321f\">\n",
              "    <div class=\"colab-df-container\">\n",
              "      <div>\n",
              "<style scoped>\n",
              "    .dataframe tbody tr th:only-of-type {\n",
              "        vertical-align: middle;\n",
              "    }\n",
              "\n",
              "    .dataframe tbody tr th {\n",
              "        vertical-align: top;\n",
              "    }\n",
              "\n",
              "    .dataframe thead th {\n",
              "        text-align: right;\n",
              "    }\n",
              "</style>\n",
              "<table border=\"1\" class=\"dataframe\">\n",
              "  <thead>\n",
              "    <tr style=\"text-align: right;\">\n",
              "      <th></th>\n",
              "      <th>text</th>\n",
              "    </tr>\n",
              "  </thead>\n",
              "  <tbody>\n",
              "    <tr>\n",
              "      <th>126666</th>\n",
              "      <td>Turning the opponents microphone off during th...</td>\n",
              "    </tr>\n",
              "    <tr>\n",
              "      <th>94325</th>\n",
              "      <td>@BarackObama powerful message in PA is what Am...</td>\n",
              "    </tr>\n",
              "    <tr>\n",
              "      <th>182526</th>\n",
              "      <td>Trump has started ZERO new wars.\\n\\nWages have...</td>\n",
              "    </tr>\n",
              "    <tr>\n",
              "      <th>136349</th>\n",
              "      <td>#Debate #Debates2020 #DebateTonight #Biden #Bi...</td>\n",
              "    </tr>\n",
              "    <tr>\n",
              "      <th>33816</th>\n",
              "      <td>You have to see this. #Biden with his massive ...</td>\n",
              "    </tr>\n",
              "    <tr>\n",
              "      <th>...</th>\n",
              "      <td>...</td>\n",
              "    </tr>\n",
              "    <tr>\n",
              "      <th>14816</th>\n",
              "      <td>90+3' | Another own goal by New Zealand \\n\\n🇺🇸...</td>\n",
              "    </tr>\n",
              "    <tr>\n",
              "      <th>15293</th>\n",
              "      <td>What a dream come true for India! Thank you fo...</td>\n",
              "    </tr>\n",
              "    <tr>\n",
              "      <th>14533</th>\n",
              "      <td>Off to a flying start! Huge congratulations to...</td>\n",
              "    </tr>\n",
              "    <tr>\n",
              "      <th>5978</th>\n",
              "      <td>@PuneethRajkumar @mirabai_chanu Boss\\n\\n#Dvitv...</td>\n",
              "    </tr>\n",
              "    <tr>\n",
              "      <th>9526</th>\n",
              "      <td>Sam Kerr is legit one of the best strikers in ...</td>\n",
              "    </tr>\n",
              "  </tbody>\n",
              "</table>\n",
              "<p>19000 rows × 1 columns</p>\n",
              "</div>\n",
              "      <button class=\"colab-df-convert\" onclick=\"convertToInteractive('df-45bc745c-9de8-4d10-8cee-b2387e82321f')\"\n",
              "              title=\"Convert this dataframe to an interactive table.\"\n",
              "              style=\"display:none;\">\n",
              "        \n",
              "  <svg xmlns=\"http://www.w3.org/2000/svg\" height=\"24px\"viewBox=\"0 0 24 24\"\n",
              "       width=\"24px\">\n",
              "    <path d=\"M0 0h24v24H0V0z\" fill=\"none\"/>\n",
              "    <path d=\"M18.56 5.44l.94 2.06.94-2.06 2.06-.94-2.06-.94-.94-2.06-.94 2.06-2.06.94zm-11 1L8.5 8.5l.94-2.06 2.06-.94-2.06-.94L8.5 2.5l-.94 2.06-2.06.94zm10 10l.94 2.06.94-2.06 2.06-.94-2.06-.94-.94-2.06-.94 2.06-2.06.94z\"/><path d=\"M17.41 7.96l-1.37-1.37c-.4-.4-.92-.59-1.43-.59-.52 0-1.04.2-1.43.59L10.3 9.45l-7.72 7.72c-.78.78-.78 2.05 0 2.83L4 21.41c.39.39.9.59 1.41.59.51 0 1.02-.2 1.41-.59l7.78-7.78 2.81-2.81c.8-.78.8-2.07 0-2.86zM5.41 20L4 18.59l7.72-7.72 1.47 1.35L5.41 20z\"/>\n",
              "  </svg>\n",
              "      </button>\n",
              "      \n",
              "  <style>\n",
              "    .colab-df-container {\n",
              "      display:flex;\n",
              "      flex-wrap:wrap;\n",
              "      gap: 12px;\n",
              "    }\n",
              "\n",
              "    .colab-df-convert {\n",
              "      background-color: #E8F0FE;\n",
              "      border: none;\n",
              "      border-radius: 50%;\n",
              "      cursor: pointer;\n",
              "      display: none;\n",
              "      fill: #1967D2;\n",
              "      height: 32px;\n",
              "      padding: 0 0 0 0;\n",
              "      width: 32px;\n",
              "    }\n",
              "\n",
              "    .colab-df-convert:hover {\n",
              "      background-color: #E2EBFA;\n",
              "      box-shadow: 0px 1px 2px rgba(60, 64, 67, 0.3), 0px 1px 3px 1px rgba(60, 64, 67, 0.15);\n",
              "      fill: #174EA6;\n",
              "    }\n",
              "\n",
              "    [theme=dark] .colab-df-convert {\n",
              "      background-color: #3B4455;\n",
              "      fill: #D2E3FC;\n",
              "    }\n",
              "\n",
              "    [theme=dark] .colab-df-convert:hover {\n",
              "      background-color: #434B5C;\n",
              "      box-shadow: 0px 1px 3px 1px rgba(0, 0, 0, 0.15);\n",
              "      filter: drop-shadow(0px 1px 2px rgba(0, 0, 0, 0.3));\n",
              "      fill: #FFFFFF;\n",
              "    }\n",
              "  </style>\n",
              "\n",
              "      <script>\n",
              "        const buttonEl =\n",
              "          document.querySelector('#df-45bc745c-9de8-4d10-8cee-b2387e82321f button.colab-df-convert');\n",
              "        buttonEl.style.display =\n",
              "          google.colab.kernel.accessAllowed ? 'block' : 'none';\n",
              "\n",
              "        async function convertToInteractive(key) {\n",
              "          const element = document.querySelector('#df-45bc745c-9de8-4d10-8cee-b2387e82321f');\n",
              "          const dataTable =\n",
              "            await google.colab.kernel.invokeFunction('convertToInteractive',\n",
              "                                                     [key], {});\n",
              "          if (!dataTable) return;\n",
              "\n",
              "          const docLinkHtml = 'Like what you see? Visit the ' +\n",
              "            '<a target=\"_blank\" href=https://colab.research.google.com/notebooks/data_table.ipynb>data table notebook</a>'\n",
              "            + ' to learn more about interactive tables.';\n",
              "          element.innerHTML = '';\n",
              "          dataTable['output_type'] = 'display_data';\n",
              "          await google.colab.output.renderOutput(dataTable, element);\n",
              "          const docLink = document.createElement('div');\n",
              "          docLink.innerHTML = docLinkHtml;\n",
              "          element.appendChild(docLink);\n",
              "        }\n",
              "      </script>\n",
              "    </div>\n",
              "  </div>\n",
              "  "
            ]
          },
          "metadata": {},
          "execution_count": 43
        }
      ]
    },
    {
      "cell_type": "code",
      "source": [
        "all_sub_tweets_df['text'] = all_sub_tweets_df['text'].str.strip().replace(\"\\n\", \" \").replace(\"\\r\", \" \")\n",
        "all_sub_tweets_df['text'] = all_sub_tweets_df['text'].str.lower()\n",
        "all_sub_tweets_df['text'] = all_sub_tweets_df['text'].str.strip().replace(\"#\", \"\").replace(\"@\", \"\")\n",
        "all_sub_tweets_df"
      ],
      "metadata": {
        "id": "Z7Hk5fjsJcXn",
        "outputId": "910a830f-24ce-4963-ffda-d07985f3995a",
        "colab": {
          "base_uri": "https://localhost:8080/",
          "height": 424
        }
      },
      "id": "Z7Hk5fjsJcXn",
      "execution_count": 44,
      "outputs": [
        {
          "output_type": "execute_result",
          "data": {
            "text/plain": [
              "                                                     text\n",
              "126666  turning the opponents microphone off during th...\n",
              "94325   @barackobama powerful message in pa is what am...\n",
              "182526  trump has started zero new wars.\\n\\nwages have...\n",
              "136349  #debate #debates2020 #debatetonight #biden #bi...\n",
              "33816   you have to see this. #biden with his massive ...\n",
              "...                                                   ...\n",
              "14816   90+3' | another own goal by new zealand \\n\\n🇺🇸...\n",
              "15293   what a dream come true for india! thank you fo...\n",
              "14533   off to a flying start! huge congratulations to...\n",
              "5978    @puneethrajkumar @mirabai_chanu boss\\n\\n#dvitv...\n",
              "9526    sam kerr is legit one of the best strikers in ...\n",
              "\n",
              "[19000 rows x 1 columns]"
            ],
            "text/html": [
              "\n",
              "  <div id=\"df-97a63842-f690-4921-97a3-024cc0de9f82\">\n",
              "    <div class=\"colab-df-container\">\n",
              "      <div>\n",
              "<style scoped>\n",
              "    .dataframe tbody tr th:only-of-type {\n",
              "        vertical-align: middle;\n",
              "    }\n",
              "\n",
              "    .dataframe tbody tr th {\n",
              "        vertical-align: top;\n",
              "    }\n",
              "\n",
              "    .dataframe thead th {\n",
              "        text-align: right;\n",
              "    }\n",
              "</style>\n",
              "<table border=\"1\" class=\"dataframe\">\n",
              "  <thead>\n",
              "    <tr style=\"text-align: right;\">\n",
              "      <th></th>\n",
              "      <th>text</th>\n",
              "    </tr>\n",
              "  </thead>\n",
              "  <tbody>\n",
              "    <tr>\n",
              "      <th>126666</th>\n",
              "      <td>turning the opponents microphone off during th...</td>\n",
              "    </tr>\n",
              "    <tr>\n",
              "      <th>94325</th>\n",
              "      <td>@barackobama powerful message in pa is what am...</td>\n",
              "    </tr>\n",
              "    <tr>\n",
              "      <th>182526</th>\n",
              "      <td>trump has started zero new wars.\\n\\nwages have...</td>\n",
              "    </tr>\n",
              "    <tr>\n",
              "      <th>136349</th>\n",
              "      <td>#debate #debates2020 #debatetonight #biden #bi...</td>\n",
              "    </tr>\n",
              "    <tr>\n",
              "      <th>33816</th>\n",
              "      <td>you have to see this. #biden with his massive ...</td>\n",
              "    </tr>\n",
              "    <tr>\n",
              "      <th>...</th>\n",
              "      <td>...</td>\n",
              "    </tr>\n",
              "    <tr>\n",
              "      <th>14816</th>\n",
              "      <td>90+3' | another own goal by new zealand \\n\\n🇺🇸...</td>\n",
              "    </tr>\n",
              "    <tr>\n",
              "      <th>15293</th>\n",
              "      <td>what a dream come true for india! thank you fo...</td>\n",
              "    </tr>\n",
              "    <tr>\n",
              "      <th>14533</th>\n",
              "      <td>off to a flying start! huge congratulations to...</td>\n",
              "    </tr>\n",
              "    <tr>\n",
              "      <th>5978</th>\n",
              "      <td>@puneethrajkumar @mirabai_chanu boss\\n\\n#dvitv...</td>\n",
              "    </tr>\n",
              "    <tr>\n",
              "      <th>9526</th>\n",
              "      <td>sam kerr is legit one of the best strikers in ...</td>\n",
              "    </tr>\n",
              "  </tbody>\n",
              "</table>\n",
              "<p>19000 rows × 1 columns</p>\n",
              "</div>\n",
              "      <button class=\"colab-df-convert\" onclick=\"convertToInteractive('df-97a63842-f690-4921-97a3-024cc0de9f82')\"\n",
              "              title=\"Convert this dataframe to an interactive table.\"\n",
              "              style=\"display:none;\">\n",
              "        \n",
              "  <svg xmlns=\"http://www.w3.org/2000/svg\" height=\"24px\"viewBox=\"0 0 24 24\"\n",
              "       width=\"24px\">\n",
              "    <path d=\"M0 0h24v24H0V0z\" fill=\"none\"/>\n",
              "    <path d=\"M18.56 5.44l.94 2.06.94-2.06 2.06-.94-2.06-.94-.94-2.06-.94 2.06-2.06.94zm-11 1L8.5 8.5l.94-2.06 2.06-.94-2.06-.94L8.5 2.5l-.94 2.06-2.06.94zm10 10l.94 2.06.94-2.06 2.06-.94-2.06-.94-.94-2.06-.94 2.06-2.06.94z\"/><path d=\"M17.41 7.96l-1.37-1.37c-.4-.4-.92-.59-1.43-.59-.52 0-1.04.2-1.43.59L10.3 9.45l-7.72 7.72c-.78.78-.78 2.05 0 2.83L4 21.41c.39.39.9.59 1.41.59.51 0 1.02-.2 1.41-.59l7.78-7.78 2.81-2.81c.8-.78.8-2.07 0-2.86zM5.41 20L4 18.59l7.72-7.72 1.47 1.35L5.41 20z\"/>\n",
              "  </svg>\n",
              "      </button>\n",
              "      \n",
              "  <style>\n",
              "    .colab-df-container {\n",
              "      display:flex;\n",
              "      flex-wrap:wrap;\n",
              "      gap: 12px;\n",
              "    }\n",
              "\n",
              "    .colab-df-convert {\n",
              "      background-color: #E8F0FE;\n",
              "      border: none;\n",
              "      border-radius: 50%;\n",
              "      cursor: pointer;\n",
              "      display: none;\n",
              "      fill: #1967D2;\n",
              "      height: 32px;\n",
              "      padding: 0 0 0 0;\n",
              "      width: 32px;\n",
              "    }\n",
              "\n",
              "    .colab-df-convert:hover {\n",
              "      background-color: #E2EBFA;\n",
              "      box-shadow: 0px 1px 2px rgba(60, 64, 67, 0.3), 0px 1px 3px 1px rgba(60, 64, 67, 0.15);\n",
              "      fill: #174EA6;\n",
              "    }\n",
              "\n",
              "    [theme=dark] .colab-df-convert {\n",
              "      background-color: #3B4455;\n",
              "      fill: #D2E3FC;\n",
              "    }\n",
              "\n",
              "    [theme=dark] .colab-df-convert:hover {\n",
              "      background-color: #434B5C;\n",
              "      box-shadow: 0px 1px 3px 1px rgba(0, 0, 0, 0.15);\n",
              "      filter: drop-shadow(0px 1px 2px rgba(0, 0, 0, 0.3));\n",
              "      fill: #FFFFFF;\n",
              "    }\n",
              "  </style>\n",
              "\n",
              "      <script>\n",
              "        const buttonEl =\n",
              "          document.querySelector('#df-97a63842-f690-4921-97a3-024cc0de9f82 button.colab-df-convert');\n",
              "        buttonEl.style.display =\n",
              "          google.colab.kernel.accessAllowed ? 'block' : 'none';\n",
              "\n",
              "        async function convertToInteractive(key) {\n",
              "          const element = document.querySelector('#df-97a63842-f690-4921-97a3-024cc0de9f82');\n",
              "          const dataTable =\n",
              "            await google.colab.kernel.invokeFunction('convertToInteractive',\n",
              "                                                     [key], {});\n",
              "          if (!dataTable) return;\n",
              "\n",
              "          const docLinkHtml = 'Like what you see? Visit the ' +\n",
              "            '<a target=\"_blank\" href=https://colab.research.google.com/notebooks/data_table.ipynb>data table notebook</a>'\n",
              "            + ' to learn more about interactive tables.';\n",
              "          element.innerHTML = '';\n",
              "          dataTable['output_type'] = 'display_data';\n",
              "          await google.colab.output.renderOutput(dataTable, element);\n",
              "          const docLink = document.createElement('div');\n",
              "          docLink.innerHTML = docLinkHtml;\n",
              "          element.appendChild(docLink);\n",
              "        }\n",
              "      </script>\n",
              "    </div>\n",
              "  </div>\n",
              "  "
            ]
          },
          "metadata": {},
          "execution_count": 44
        }
      ]
    },
    {
      "cell_type": "code",
      "source": [
        "all_sub_tweets_df.size"
      ],
      "metadata": {
        "id": "NMFK4fsVJgbU",
        "outputId": "f36ee17b-6ae9-4d52-e9e3-108f27f3f6d8",
        "colab": {
          "base_uri": "https://localhost:8080/"
        }
      },
      "id": "NMFK4fsVJgbU",
      "execution_count": 45,
      "outputs": [
        {
          "output_type": "execute_result",
          "data": {
            "text/plain": [
              "19000"
            ]
          },
          "metadata": {},
          "execution_count": 45
        }
      ]
    },
    {
      "cell_type": "markdown",
      "source": [
        "# Stemming"
      ],
      "metadata": {
        "id": "3snPDqxGJkOg"
      },
      "id": "3snPDqxGJkOg"
    },
    {
      "cell_type": "code",
      "source": [
        "import pandas as pd\n",
        "from nltk.stem.snowball import SnowballStemmer\n",
        "from nltk.stem import PorterStemmer\n",
        "# Use English stemmer.\n",
        "stemmer = SnowballStemmer(\"english\")\n",
        "porter = PorterStemmer()\n",
        "all_sub_tweets_df_stem = all_sub_tweets_df['text'].apply(lambda x: [porter.stem(y) for y in x]) # Stem every word.\n",
        "all_sub_tweets_df_stem"
      ],
      "metadata": {
        "id": "GisuBWeOJmT7",
        "outputId": "be2322dc-d15c-4c37-d91f-19007efc9601",
        "colab": {
          "base_uri": "https://localhost:8080/"
        }
      },
      "id": "GisuBWeOJmT7",
      "execution_count": 46,
      "outputs": [
        {
          "output_type": "execute_result",
          "data": {
            "text/plain": [
              "126666    [t, u, r, n, i, n, g,  , t, h, e,  , o, p, p, ...\n",
              "94325     [@, b, a, r, a, c, k, o, b, a, m, a,  , p, o, ...\n",
              "182526    [t, r, u, m, p,  , h, a, s,  , s, t, a, r, t, ...\n",
              "136349    [#, d, e, b, a, t, e,  , #, d, e, b, a, t, e, ...\n",
              "33816     [y, o, u,  , h, a, v, e,  , t, o,  , s, e, e, ...\n",
              "                                ...                        \n",
              "14816     [9, 0, +, 3, ',  , |,  , a, n, o, t, h, e, r, ...\n",
              "15293     [w, h, a, t,  , a,  , d, r, e, a, m,  , c, o, ...\n",
              "14533     [o, f, f,  , t, o,  , a,  , f, l, y, i, n, g, ...\n",
              "5978      [@, p, u, n, e, e, t, h, r, a, j, k, u, m, a, ...\n",
              "9526      [s, a, m,  , k, e, r, r,  , i, s,  , l, e, g, ...\n",
              "Name: text, Length: 19000, dtype: object"
            ]
          },
          "metadata": {},
          "execution_count": 46
        }
      ]
    },
    {
      "cell_type": "markdown",
      "source": [
        "Stemming did not work well"
      ],
      "metadata": {
        "id": "bgrQvqLhJz58"
      },
      "id": "bgrQvqLhJz58"
    },
    {
      "cell_type": "markdown",
      "source": [
        "# Fitting"
      ],
      "metadata": {
        "id": "UAioXFKPJ7Mn"
      },
      "id": "UAioXFKPJ7Mn"
    },
    {
      "cell_type": "code",
      "source": [
        "tfidf_vect = TfidfVectorizer(analyzer='word', stop_words = 'english', max_df = 0.7)\n",
        "tfidf_tokens = tfidf_vect.fit_transform(all_sub_tweets_df['text'])\n",
        "# tfidf_tokens = tfidf_vect.fit_transform(all_sub_tweets_df['text_tokenized']) #if you have some custom cleaning function\n",
        "\n",
        "tfidf_vocab = tfidf_vect.get_feature_names_out()"
      ],
      "metadata": {
        "id": "RKqbMuezJ4aL"
      },
      "id": "RKqbMuezJ4aL",
      "execution_count": 47,
      "outputs": []
    },
    {
      "cell_type": "code",
      "source": [
        "print(tfidf_tokens)"
      ],
      "metadata": {
        "id": "pqpT08fQKEQO",
        "outputId": "6c764a0d-1937-48d1-a6eb-6bb3c46640c8",
        "colab": {
          "base_uri": "https://localhost:8080/"
        }
      },
      "id": "pqpT08fQKEQO",
      "execution_count": 48,
      "outputs": [
        {
          "output_type": "stream",
          "name": "stdout",
          "text": [
            "  (0, 1725)\t0.32037648579889694\n",
            "  (0, 16598)\t0.0698788357328233\n",
            "  (0, 5015)\t0.1724305465522068\n",
            "  (0, 35366)\t0.24475666879637148\n",
            "  (0, 4986)\t0.10745589972157002\n",
            "  (0, 9546)\t0.18685007091373343\n",
            "  (0, 35395)\t0.22836192147722534\n",
            "  (0, 27394)\t0.21208256365060635\n",
            "  (0, 29490)\t0.16408995425466316\n",
            "  (0, 3019)\t0.1372114088252266\n",
            "  (0, 30193)\t0.1835960618040914\n",
            "  (0, 38490)\t0.15035527017542386\n",
            "  (0, 21048)\t0.16142936265056998\n",
            "  (0, 39196)\t0.18218527454240147\n",
            "  (0, 28683)\t0.24622371996794323\n",
            "  (0, 34328)\t0.26962139161450344\n",
            "  (0, 16912)\t0.20870910018175892\n",
            "  (0, 14813)\t0.13226905714819304\n",
            "  (0, 20834)\t0.13376117891399802\n",
            "  (0, 22928)\t0.20365254829897594\n",
            "  (0, 22766)\t0.29851745653087153\n",
            "  (0, 25467)\t0.29851745653087153\n",
            "  (0, 35621)\t0.25683467919054226\n",
            "  (1, 37266)\t0.27256044695304293\n",
            "  (1, 4995)\t0.32579506017212717\n",
            "  :\t:\n",
            "  (18997, 16608)\t0.35664018040103335\n",
            "  (18997, 8179)\t0.23453153722941647\n",
            "  (18997, 32563)\t0.2921967826810603\n",
            "  (18997, 38260)\t0.269606232843698\n",
            "  (18997, 16598)\t0.11750895572455056\n",
            "  (18998, 756)\t0.42039566114554716\n",
            "  (18998, 11137)\t0.3031539142190498\n",
            "  (18998, 27822)\t0.6063078284380996\n",
            "  (18998, 33858)\t0.22404471110359628\n",
            "  (18998, 7152)\t0.229828226952228\n",
            "  (18998, 22935)\t0.19199386900248067\n",
            "  (18998, 34802)\t0.20986485757904547\n",
            "  (18998, 34793)\t0.10426810599990961\n",
            "  (18998, 18108)\t0.29155468462677536\n",
            "  (18998, 5602)\t0.2897552188365253\n",
            "  (18999, 32898)\t0.4464096739134144\n",
            "  (18999, 19508)\t0.2821695420623862\n",
            "  (18999, 34793)\t0.11072019885303709\n",
            "  (18999, 34304)\t0.3067600971897931\n",
            "  (18999, 21846)\t0.36415921634767784\n",
            "  (18999, 13035)\t0.35503515774126054\n",
            "  (18999, 20570)\t0.3981346133619469\n",
            "  (18999, 30250)\t0.2889432086957101\n",
            "  (18999, 4834)\t0.23549254321346128\n",
            "  (18999, 38509)\t0.242115775417825\n"
          ]
        }
      ]
    },
    {
      "cell_type": "code",
      "source": [
        "print(tfidf_tokens[:2])\n",
        "tfidf_vocab[9566]"
      ],
      "metadata": {
        "id": "AY3cfpLHKDwY",
        "outputId": "0a29b793-6467-4814-8116-8c19cf1df26e",
        "colab": {
          "base_uri": "https://localhost:8080/",
          "height": 712
        }
      },
      "id": "AY3cfpLHKDwY",
      "execution_count": 49,
      "outputs": [
        {
          "output_type": "stream",
          "name": "stdout",
          "text": [
            "  (0, 1725)\t0.32037648579889694\n",
            "  (0, 16598)\t0.0698788357328233\n",
            "  (0, 5015)\t0.1724305465522068\n",
            "  (0, 35366)\t0.24475666879637148\n",
            "  (0, 4986)\t0.10745589972157002\n",
            "  (0, 9546)\t0.18685007091373343\n",
            "  (0, 35395)\t0.22836192147722534\n",
            "  (0, 27394)\t0.21208256365060635\n",
            "  (0, 29490)\t0.16408995425466316\n",
            "  (0, 3019)\t0.1372114088252266\n",
            "  (0, 30193)\t0.1835960618040914\n",
            "  (0, 38490)\t0.15035527017542386\n",
            "  (0, 21048)\t0.16142936265056998\n",
            "  (0, 39196)\t0.18218527454240147\n",
            "  (0, 28683)\t0.24622371996794323\n",
            "  (0, 34328)\t0.26962139161450344\n",
            "  (0, 16912)\t0.20870910018175892\n",
            "  (0, 14813)\t0.13226905714819304\n",
            "  (0, 20834)\t0.13376117891399802\n",
            "  (0, 22928)\t0.20365254829897594\n",
            "  (0, 22766)\t0.29851745653087153\n",
            "  (0, 25467)\t0.29851745653087153\n",
            "  (0, 35621)\t0.25683467919054226\n",
            "  (1, 37266)\t0.27256044695304293\n",
            "  (1, 4995)\t0.32579506017212717\n",
            "  (1, 37254)\t0.16504548729167934\n",
            "  (1, 37283)\t0.2448441966020756\n",
            "  (1, 9439)\t0.20783969188391635\n",
            "  (1, 204)\t0.2380797112518789\n",
            "  (1, 27392)\t0.24908134083022815\n",
            "  (1, 3610)\t0.3462658850062536\n",
            "  (1, 24129)\t0.23904240211994432\n",
            "  (1, 2958)\t0.20120500019463972\n",
            "  (1, 25836)\t0.25461339113591175\n",
            "  (1, 22619)\t0.2639133119492956\n",
            "  (1, 27230)\t0.3060784917861416\n",
            "  (1, 4371)\t0.2701996187031201\n",
            "  (1, 4986)\t0.12464367293168582\n",
            "  (1, 29490)\t0.19033645097652988\n"
          ]
        },
        {
          "output_type": "execute_result",
          "data": {
            "text/plain": [
              "'deborshi'"
            ],
            "application/vnd.google.colaboratory.intrinsic+json": {
              "type": "string"
            }
          },
          "metadata": {},
          "execution_count": 49
        }
      ]
    },
    {
      "cell_type": "markdown",
      "source": [
        "# Applying LDA"
      ],
      "metadata": {
        "id": "GgJbv3GhKMi5"
      },
      "id": "GgJbv3GhKMi5"
    },
    {
      "cell_type": "code",
      "source": [
        "lda = LatentDirichletAllocation(n_components = 10, doc_topic_prior = 0.01, topic_word_prior= 0.001)\n",
        "lda.fit(tfidf_tokens)"
      ],
      "metadata": {
        "id": "WU5spNkrKPIi",
        "outputId": "fa99b53f-68d3-4d7f-e3b3-1832c6880c44",
        "colab": {
          "base_uri": "https://localhost:8080/"
        }
      },
      "id": "WU5spNkrKPIi",
      "execution_count": 50,
      "outputs": [
        {
          "output_type": "execute_result",
          "data": {
            "text/plain": [
              "LatentDirichletAllocation(doc_topic_prior=0.01, topic_word_prior=0.001)"
            ]
          },
          "metadata": {},
          "execution_count": 50
        }
      ]
    },
    {
      "cell_type": "code",
      "source": [
        "topic_words = {}\n",
        "n_top_words = 15\n",
        "for topic, comp in enumerate(lda.components_):\n",
        "    word_idx = np.argsort(comp)[::-1][:n_top_words]\n",
        "    # store the words most relevant to the topic\n",
        "    topic_words[topic] = [tfidf_vocab[i] for i in word_idx]\n",
        "    \n",
        "for topic, words in topic_words.items():\n",
        "    print('Topic: %d' % topic)\n",
        "    print('  %s' % ', '.join(words))"
      ],
      "metadata": {
        "id": "hUT8QyTUKSbH",
        "outputId": "d732e694-7f60-48a4-e069-82dc2e560cda",
        "colab": {
          "base_uri": "https://localhost:8080/"
        }
      },
      "id": "hUT8QyTUKSbH",
      "execution_count": 51,
      "outputs": [
        {
          "output_type": "stream",
          "name": "stdout",
          "text": [
            "Topic: 0\n",
            "  https, trump, just, tokyo2020, good, looking, today, biden, like, think, joebiden, day, work, really, woke\n",
            "Topic: 1\n",
            "  tokyo2020, https, kerr, banda, olympics, sam, trump, puneethrajkumar, swevaus, biden, penalty, matildas, yulo, tokyoolympics, good\n",
            "Topic: 2\n",
            "  trump, biden, https, joebiden, vote, election2020, tokyo2020, realdonaldtrump, just, bidenharris2020, amp, trump2020, election, electionday, america\n",
            "Topic: 3\n",
            "  tokyo2020, https, medal, congratulations, india, silver, mirabaichanu, mirabai_chanu, olympics, proud, winning, weightlifting, mirabai, women, tokyoolympics\n",
            "Topic: 4\n",
            "  https, tokyo2020, trump, joebiden, day, biden, olympics, vikas, just, boxing, http, today, com, night, good\n",
            "Topic: 5\n",
            "  tokyo2020, https, just, uswnt, goal, trump, love, day, quot, like, football, olympics, new, going, know\n",
            "Topic: 6\n",
            "  https, tokyo2020, work, quot, trump, biden, just, love, day, going, school, today, time, tired, joebiden\n",
            "Topic: 7\n",
            "  good, tokyo2020, morning, https, day, like, just, going, work, home, today, sleep, night, nice, don\n",
            "Topic: 8\n",
            "  https, trump, tokyo2020, biden, joebiden, vote, just, good, amp, day, olympics, don, hate, bored, great\n",
            "Topic: 9\n",
            "  https, tokyo2020, trump, just, good, biden, time, amp, like, feeling, got, know, today, going, olympics\n"
          ]
        }
      ]
    },
    {
      "cell_type": "markdown",
      "source": [
        "# Assignment: Reddit API\n",
        "\n",
        "- Define your own topics and select a few popular threads from those topics on Reddit\n",
        "- Retrieve the comment data using Praw API\n",
        "- Group comments together as one corpus\n",
        "- Perform Topic Modeling using LDA with various `n` topics.\n"
      ],
      "metadata": {
        "id": "RbFZksYvExvu"
      },
      "id": "RbFZksYvExvu"
    },
    {
      "cell_type": "code",
      "source": [
        " !pip install praw\n",
        "!pip install asyncpraw"
      ],
      "metadata": {
        "id": "nv8QT0TWIdur",
        "colab": {
          "base_uri": "https://localhost:8080/"
        },
        "outputId": "a51445d7-11f7-4553-9546-930764f9c80a"
      },
      "execution_count": 52,
      "outputs": [
        {
          "output_type": "stream",
          "name": "stdout",
          "text": [
            "Looking in indexes: https://pypi.org/simple, https://us-python.pkg.dev/colab-wheels/public/simple/\n",
            "Collecting praw\n",
            "  Downloading praw-7.6.0-py3-none-any.whl (188 kB)\n",
            "\u001b[K     |████████████████████████████████| 188 kB 5.0 MB/s \n",
            "\u001b[?25hCollecting websocket-client>=0.54.0\n",
            "  Downloading websocket_client-1.4.1-py3-none-any.whl (55 kB)\n",
            "\u001b[K     |████████████████████████████████| 55 kB 2.6 MB/s \n",
            "\u001b[?25hCollecting prawcore<3,>=2.1\n",
            "  Downloading prawcore-2.3.0-py3-none-any.whl (16 kB)\n",
            "Collecting update-checker>=0.18\n",
            "  Downloading update_checker-0.18.0-py3-none-any.whl (7.0 kB)\n",
            "Requirement already satisfied: requests<3.0,>=2.6.0 in /usr/local/lib/python3.7/dist-packages (from prawcore<3,>=2.1->praw) (2.23.0)\n",
            "Requirement already satisfied: idna<3,>=2.5 in /usr/local/lib/python3.7/dist-packages (from requests<3.0,>=2.6.0->prawcore<3,>=2.1->praw) (2.10)\n",
            "Requirement already satisfied: chardet<4,>=3.0.2 in /usr/local/lib/python3.7/dist-packages (from requests<3.0,>=2.6.0->prawcore<3,>=2.1->praw) (3.0.4)\n",
            "Requirement already satisfied: urllib3!=1.25.0,!=1.25.1,<1.26,>=1.21.1 in /usr/local/lib/python3.7/dist-packages (from requests<3.0,>=2.6.0->prawcore<3,>=2.1->praw) (1.24.3)\n",
            "Requirement already satisfied: certifi>=2017.4.17 in /usr/local/lib/python3.7/dist-packages (from requests<3.0,>=2.6.0->prawcore<3,>=2.1->praw) (2022.6.15)\n",
            "Installing collected packages: websocket-client, update-checker, prawcore, praw\n",
            "Successfully installed praw-7.6.0 prawcore-2.3.0 update-checker-0.18.0 websocket-client-1.4.1\n",
            "Looking in indexes: https://pypi.org/simple, https://us-python.pkg.dev/colab-wheels/public/simple/\n",
            "Collecting asyncpraw\n",
            "  Downloading asyncpraw-7.5.0-py3-none-any.whl (183 kB)\n",
            "\u001b[K     |████████████████████████████████| 183 kB 4.9 MB/s \n",
            "\u001b[?25hCollecting asyncio-extras<=1.3.2\n",
            "  Downloading asyncio_extras-1.3.2-py3-none-any.whl (8.4 kB)\n",
            "Collecting aiosqlite<=0.17.0\n",
            "  Downloading aiosqlite-0.17.0-py3-none-any.whl (15 kB)\n",
            "Collecting asyncprawcore<3,>=2.1\n",
            "  Downloading asyncprawcore-2.3.0-py3-none-any.whl (18 kB)\n",
            "Collecting aiofiles<=0.6.0\n",
            "  Downloading aiofiles-0.6.0-py3-none-any.whl (11 kB)\n",
            "Requirement already satisfied: update-checker>=0.18 in /usr/local/lib/python3.7/dist-packages (from asyncpraw) (0.18.0)\n",
            "Requirement already satisfied: typing_extensions>=3.7.2 in /usr/local/lib/python3.7/dist-packages (from aiosqlite<=0.17.0->asyncpraw) (4.1.1)\n",
            "Collecting async-generator>=1.3\n",
            "  Downloading async_generator-1.10-py3-none-any.whl (18 kB)\n",
            "Requirement already satisfied: yarl in /usr/local/lib/python3.7/dist-packages (from asyncprawcore<3,>=2.1->asyncpraw) (1.8.1)\n",
            "Requirement already satisfied: aiohttp in /usr/local/lib/python3.7/dist-packages (from asyncprawcore<3,>=2.1->asyncpraw) (3.8.1)\n",
            "Requirement already satisfied: requests>=2.3.0 in /usr/local/lib/python3.7/dist-packages (from update-checker>=0.18->asyncpraw) (2.23.0)\n",
            "Requirement already satisfied: idna<3,>=2.5 in /usr/local/lib/python3.7/dist-packages (from requests>=2.3.0->update-checker>=0.18->asyncpraw) (2.10)\n",
            "Requirement already satisfied: certifi>=2017.4.17 in /usr/local/lib/python3.7/dist-packages (from requests>=2.3.0->update-checker>=0.18->asyncpraw) (2022.6.15)\n",
            "Requirement already satisfied: chardet<4,>=3.0.2 in /usr/local/lib/python3.7/dist-packages (from requests>=2.3.0->update-checker>=0.18->asyncpraw) (3.0.4)\n",
            "Requirement already satisfied: urllib3!=1.25.0,!=1.25.1,<1.26,>=1.21.1 in /usr/local/lib/python3.7/dist-packages (from requests>=2.3.0->update-checker>=0.18->asyncpraw) (1.24.3)\n",
            "Requirement already satisfied: attrs>=17.3.0 in /usr/local/lib/python3.7/dist-packages (from aiohttp->asyncprawcore<3,>=2.1->asyncpraw) (22.1.0)\n",
            "Requirement already satisfied: aiosignal>=1.1.2 in /usr/local/lib/python3.7/dist-packages (from aiohttp->asyncprawcore<3,>=2.1->asyncpraw) (1.2.0)\n",
            "Requirement already satisfied: async-timeout<5.0,>=4.0.0a3 in /usr/local/lib/python3.7/dist-packages (from aiohttp->asyncprawcore<3,>=2.1->asyncpraw) (4.0.2)\n",
            "Requirement already satisfied: frozenlist>=1.1.1 in /usr/local/lib/python3.7/dist-packages (from aiohttp->asyncprawcore<3,>=2.1->asyncpraw) (1.3.1)\n",
            "Requirement already satisfied: multidict<7.0,>=4.5 in /usr/local/lib/python3.7/dist-packages (from aiohttp->asyncprawcore<3,>=2.1->asyncpraw) (6.0.2)\n",
            "Requirement already satisfied: asynctest==0.13.0 in /usr/local/lib/python3.7/dist-packages (from aiohttp->asyncprawcore<3,>=2.1->asyncpraw) (0.13.0)\n",
            "Requirement already satisfied: charset-normalizer<3.0,>=2.0 in /usr/local/lib/python3.7/dist-packages (from aiohttp->asyncprawcore<3,>=2.1->asyncpraw) (2.1.1)\n",
            "Installing collected packages: async-generator, asyncprawcore, asyncio-extras, aiosqlite, aiofiles, asyncpraw\n",
            "Successfully installed aiofiles-0.6.0 aiosqlite-0.17.0 async-generator-1.10 asyncio-extras-1.3.2 asyncpraw-7.5.0 asyncprawcore-2.3.0\n"
          ]
        }
      ],
      "id": "nv8QT0TWIdur"
    },
    {
      "cell_type": "code",
      "source": [],
      "metadata": {
        "id": "_sceCdgpDNS5"
      },
      "id": "_sceCdgpDNS5",
      "execution_count": null,
      "outputs": []
    },
    {
      "cell_type": "markdown",
      "source": [
        "How to get Client ID and Secret for Reddit API: https://www.youtube.com/watch?v=4Lmfgw4RZCM\n",
        "\n",
        "Create a new app and put some sample redirect URI and callback. "
      ],
      "metadata": {
        "id": "-V4elOf_DNiH"
      },
      "id": "-V4elOf_DNiH"
    },
    {
      "cell_type": "code",
      "source": [
        "import praw\n",
        "#import asyncpraw as praw\n",
        "from asyncpraw.models import MoreComments\n",
        "reddit = praw.Reddit(\n",
        "    user_agent=\"icp6\",\n",
        "    client_id=\"mj0MooumrU-UuM5CIw5NTQ\",\n",
        "    client_secret=\"sDjVxLtRSryKvjvTbSLMbowsm7mMYQ\",\n",
        "    redirect_uri='http://127.0.0.1:65010/'\n",
        "                                # 'authorize_callback'\n",
        "    # username=\"USERNAME\",\n",
        "    # password=\"PASSWORD\"\n",
        ")"
      ],
      "metadata": {
        "id": "ro-OZus7E2Ov"
      },
      "id": "ro-OZus7E2Ov",
      "execution_count": 53,
      "outputs": []
    },
    {
      "cell_type": "code",
      "source": [
        "import time\n",
        "from tqdm.notebook import tqdm\n",
        "topic_library = {\n",
        "    'Bitcoin' : [ 'https://www.reddit.com/r/Bitcoin/comments/xotd46/weird_feeling_about_the_next_23_years/', \n",
        "                  'https://www.reddit.com/r/Bitcoin/comments/xo8vbn/the_british_pound_is_falling_against_bitcoin/',\n",
        "                  'https://www.reddit.com/r/Bitcoin/comments/xofu41/bonds_collapsing_in_fiat_terms_fiat_collapsing_in/'],\n",
        "    'AI': [\n",
        "        'https://www.reddit.com/r/facepalm/comments/xle19o/texasbased_religiousright_activist_and_doctor/',\n",
        "        'https://www.reddit.com/r/polls/comments/xkcpsy/if_there_was_an_artificial_intelligence_that/',\n",
        "        'https://www.reddit.com/r/metaverse/comments/r135ea/5_jobs_that_will_exist_in_the_metaverse_how_to/',\n",
        "    ],\n",
        "    'COVID': [\n",
        "        'https://www.reddit.com/r/COVID19positive/comments/jnmdxw/remember_to_tell_your_loved_ones_you_love_them/',\n",
        "        'https://www.reddit.com/r/depression/comments/jnbcpf/im_so_lost_and_want_to_die_everyday/', \n",
        "        'https://www.reddit.com/r/COVID19_support/comments/jnjj18/the_virus_getting_closer_to_home_but_not/',\n",
        "        'https://www.reddit.com/r/COVID19_support/comments/jnf6l1/at_this_point_it_feels_like_my_mental_health_is/',\n",
        "        'https://www.reddit.com/r/COVID19_support/comments/jm80cw/i_cant_do_this_until_2022/',\n",
        "    ]\n",
        "}\n",
        "for topic, urls in tqdm(topic_library.items()):\n",
        "  for url in tqdm(urls):\n",
        "    submission = reddit.submission(url=url)\n",
        "    submission.comments.replace_more(limit=0) # flatten tree\n",
        "    all_comments = []\n",
        "    comments = submission.comments # all comments\n",
        "    # comments = submission.comments.list() # all comments\n",
        "    for top_level_comment in submission.comments:\n",
        "      if isinstance(top_level_comment, MoreComments):\n",
        "          continue\n",
        "      all_comments.append(top_level_comment.body)\n",
        "      with open('{}-reddit_author.txt'.format(topic), 'a') as f:\n",
        "          f.write(submission.selftext + '\\n')\n",
        "      with open('{}-reddit_comments.txt'.format(topic), 'a') as f:\n",
        "        for i, comment in enumerate(comments):\n",
        "          f.write(comment.body + '\\n')\n",
        "    # time.sleep(1.5)\n",
        "    \n",
        "  "
      ],
      "metadata": {
        "colab": {
          "base_uri": "https://localhost:8080/",
          "height": 909,
          "referenced_widgets": [
            "d05ebaea2a6249e280d148d040d04f9a",
            "5066c9acfc8e46cbb7a85050caec43a2",
            "71b3cb5d779443878623c52b1c8b27be",
            "b6e1a73f7e134724a43bf0ff27ec2616",
            "e7408d810da94336a66d3f659d5b4951",
            "51adc7dfd9844789b45a221d2170fa4a",
            "3befd110c4a8447dae75f0ef8389edcf",
            "48fb4a6b4af24428bce50efdec57a0c2",
            "10935848d9c040a49aaecca49613ada1",
            "fa137ce0e051451cb8669ff926051031",
            "903535b70ba4460eb329b7a79fd5d451",
            "787978c1d2644ae7a5f0e8e0d625a882",
            "b9a43082155a4c3ebc80a1ddf428c4a9",
            "57b101793dfd4659af10a0b320d1042b",
            "2a03f4f58f92473d9fc97a564316739d",
            "f57b2305d73142bdb747ff2a49f57076",
            "66654a073f33400b93982389e5681e31",
            "796e62dfeec14fbeaf7d733164d99ed2",
            "c71370d2f2034789947dc8f81b28ac83",
            "4419040036864f0eaa81ce0184468d5b",
            "5e0a425476e44d15a51fb3659d89fd69",
            "9d5aa4ec9cdf4143a2d9fc38eb3bbd61",
            "dd8813d604e64dddb1ec1d063ca1607a",
            "7bf3941571764a2380002eb0533cc8c9",
            "7b999f414f354573893ff05bc623e73f",
            "31381fb92a08426e90e02ff54dc7f605",
            "143f1df8f693423b88e046f3bc26104a",
            "ac7ebf6db9964a8faa7445b991c26e54",
            "57950bca4ea341168b39c12d9a813f44",
            "07138ba017fc4abe976facfa233f4e1d",
            "de457471e93241ed85d3aca7ca4c119d",
            "1868ba1f7b764a9995a233fd164e7dfe",
            "f8d5a6c3487e4458ab9bfafe9ee3791b",
            "fd410684e7dd4bea9cb9cec59b7bd3c9",
            "5d4b18574c654ca48c3452357aecaded",
            "04c4ef9876a74a4ab9fa57045c731ae9",
            "b7281ffd2ab54fe79dc922b35e287146",
            "b16fbec9417c489aa6dc9da04da773b7",
            "17ecb709d57b4c7680fb4eb7d6c8b5d6",
            "24a47e8058764bb594efa7120de542a9",
            "5db1ede2b68c46aa9c4d79caf46b0167",
            "daffcaf1a62b4ca89543b31a86a30ae1",
            "6974db57698a4d4597b4c6c47da5b826",
            "c9fb2957b2b046d4b22cacbad9a04bdf"
          ]
        },
        "id": "f7QXYXvPE99A",
        "outputId": "051aef8f-5663-483e-965a-4592669333c5"
      },
      "id": "f7QXYXvPE99A",
      "execution_count": 54,
      "outputs": [
        {
          "output_type": "display_data",
          "data": {
            "text/plain": [
              "  0%|          | 0/3 [00:00<?, ?it/s]"
            ],
            "application/vnd.jupyter.widget-view+json": {
              "version_major": 2,
              "version_minor": 0,
              "model_id": "d05ebaea2a6249e280d148d040d04f9a"
            }
          },
          "metadata": {}
        },
        {
          "output_type": "display_data",
          "data": {
            "text/plain": [
              "  0%|          | 0/3 [00:00<?, ?it/s]"
            ],
            "application/vnd.jupyter.widget-view+json": {
              "version_major": 2,
              "version_minor": 0,
              "model_id": "787978c1d2644ae7a5f0e8e0d625a882"
            }
          },
          "metadata": {}
        },
        {
          "output_type": "stream",
          "name": "stderr",
          "text": [
            "WARNING:praw:It appears that you are using PRAW in an asynchronous environment.\n",
            "It is strongly recommended to use Async PRAW: https://asyncpraw.readthedocs.io.\n",
            "See https://praw.readthedocs.io/en/latest/getting_started/multiple_instances.html#discord-bots-and-asynchronous-environments for more info.\n",
            "\n",
            "WARNING:praw:It appears that you are using PRAW in an asynchronous environment.\n",
            "It is strongly recommended to use Async PRAW: https://asyncpraw.readthedocs.io.\n",
            "See https://praw.readthedocs.io/en/latest/getting_started/multiple_instances.html#discord-bots-and-asynchronous-environments for more info.\n",
            "\n",
            "WARNING:praw:It appears that you are using PRAW in an asynchronous environment.\n",
            "It is strongly recommended to use Async PRAW: https://asyncpraw.readthedocs.io.\n",
            "See https://praw.readthedocs.io/en/latest/getting_started/multiple_instances.html#discord-bots-and-asynchronous-environments for more info.\n",
            "\n"
          ]
        },
        {
          "output_type": "display_data",
          "data": {
            "text/plain": [
              "  0%|          | 0/3 [00:00<?, ?it/s]"
            ],
            "application/vnd.jupyter.widget-view+json": {
              "version_major": 2,
              "version_minor": 0,
              "model_id": "dd8813d604e64dddb1ec1d063ca1607a"
            }
          },
          "metadata": {}
        },
        {
          "output_type": "stream",
          "name": "stderr",
          "text": [
            "WARNING:praw:It appears that you are using PRAW in an asynchronous environment.\n",
            "It is strongly recommended to use Async PRAW: https://asyncpraw.readthedocs.io.\n",
            "See https://praw.readthedocs.io/en/latest/getting_started/multiple_instances.html#discord-bots-and-asynchronous-environments for more info.\n",
            "\n",
            "WARNING:praw:It appears that you are using PRAW in an asynchronous environment.\n",
            "It is strongly recommended to use Async PRAW: https://asyncpraw.readthedocs.io.\n",
            "See https://praw.readthedocs.io/en/latest/getting_started/multiple_instances.html#discord-bots-and-asynchronous-environments for more info.\n",
            "\n",
            "WARNING:praw:It appears that you are using PRAW in an asynchronous environment.\n",
            "It is strongly recommended to use Async PRAW: https://asyncpraw.readthedocs.io.\n",
            "See https://praw.readthedocs.io/en/latest/getting_started/multiple_instances.html#discord-bots-and-asynchronous-environments for more info.\n",
            "\n"
          ]
        },
        {
          "output_type": "display_data",
          "data": {
            "text/plain": [
              "  0%|          | 0/5 [00:00<?, ?it/s]"
            ],
            "application/vnd.jupyter.widget-view+json": {
              "version_major": 2,
              "version_minor": 0,
              "model_id": "fd410684e7dd4bea9cb9cec59b7bd3c9"
            }
          },
          "metadata": {}
        },
        {
          "output_type": "stream",
          "name": "stderr",
          "text": [
            "WARNING:praw:It appears that you are using PRAW in an asynchronous environment.\n",
            "It is strongly recommended to use Async PRAW: https://asyncpraw.readthedocs.io.\n",
            "See https://praw.readthedocs.io/en/latest/getting_started/multiple_instances.html#discord-bots-and-asynchronous-environments for more info.\n",
            "\n",
            "WARNING:praw:It appears that you are using PRAW in an asynchronous environment.\n",
            "It is strongly recommended to use Async PRAW: https://asyncpraw.readthedocs.io.\n",
            "See https://praw.readthedocs.io/en/latest/getting_started/multiple_instances.html#discord-bots-and-asynchronous-environments for more info.\n",
            "\n",
            "WARNING:praw:It appears that you are using PRAW in an asynchronous environment.\n",
            "It is strongly recommended to use Async PRAW: https://asyncpraw.readthedocs.io.\n",
            "See https://praw.readthedocs.io/en/latest/getting_started/multiple_instances.html#discord-bots-and-asynchronous-environments for more info.\n",
            "\n",
            "WARNING:praw:It appears that you are using PRAW in an asynchronous environment.\n",
            "It is strongly recommended to use Async PRAW: https://asyncpraw.readthedocs.io.\n",
            "See https://praw.readthedocs.io/en/latest/getting_started/multiple_instances.html#discord-bots-and-asynchronous-environments for more info.\n",
            "\n",
            "WARNING:praw:It appears that you are using PRAW in an asynchronous environment.\n",
            "It is strongly recommended to use Async PRAW: https://asyncpraw.readthedocs.io.\n",
            "See https://praw.readthedocs.io/en/latest/getting_started/multiple_instances.html#discord-bots-and-asynchronous-environments for more info.\n",
            "\n"
          ]
        }
      ]
    },
    {
      "cell_type": "code",
      "source": [
        "import shutil\n",
        "for topic, _ in tqdm(topic_library.items()):\n",
        "  shutil.copy2('{}-reddit_author.txt'.format(topic), '/content/drive/MyDrive/KDN-ICP-6')\n",
        "  shutil.copy2('{}-reddit_comments.txt'.format(topic), '/content/drive/MyDrive/KDN-ICP-6')"
      ],
      "metadata": {
        "colab": {
          "base_uri": "https://localhost:8080/",
          "height": 49,
          "referenced_widgets": [
            "211aa8a644be49b0a729a6b00ddc7a3e",
            "b284889924a241d2a108aabe75861aa5",
            "dded95915ef74a3fabf275bbc0009af0",
            "5767a1c992e54700804a0aabb5452ed7",
            "2a801c5d436d465fb3e22c07477fd014",
            "9f6b805a89574ce28f7bbf4f3417b84d",
            "13f11ca524d1403fa5f456c97f4177e4",
            "4421b6ee62424d2d8c277ef3b57f32c5",
            "21a4dc818ae346fba8664cbc291e094a",
            "a271730cac874890a8a2cc57c7c3efd8",
            "2020df95dd3c48ca9e89aca45c596827"
          ]
        },
        "id": "SkPV2NKQx02Q",
        "outputId": "87f1a43e-cf22-46ba-d65b-4142034e07d2"
      },
      "id": "SkPV2NKQx02Q",
      "execution_count": 55,
      "outputs": [
        {
          "output_type": "display_data",
          "data": {
            "text/plain": [
              "  0%|          | 0/3 [00:00<?, ?it/s]"
            ],
            "application/vnd.jupyter.widget-view+json": {
              "version_major": 2,
              "version_minor": 0,
              "model_id": "211aa8a644be49b0a729a6b00ddc7a3e"
            }
          },
          "metadata": {}
        }
      ]
    },
    {
      "cell_type": "code",
      "source": [
        "import praw\n",
        "#import asyncpraw as praw\n",
        "from asyncpraw.models import MoreComments\n",
        "reddit = praw.Reddit(\n",
        "    user_agent=\"icp6\",\n",
        "    client_id=\"mj0MooumrU-UuM5CIw5NTQ\",\n",
        "    client_secret=\"sDjVxLtRSryKvjvTbSLMbowsm7mMYQ\",\n",
        "    redirect_uri='http://127.0.0.1:65010/'\n",
        "                                # 'authorize_callback'\n",
        "    # username=\"USERNAME\",\n",
        "    # password=\"PASSWORD\"\n",
        ")"
      ],
      "metadata": {
        "id": "hOqeGFgVwGIX"
      },
      "id": "hOqeGFgVwGIX",
      "execution_count": 56,
      "outputs": []
    },
    {
      "cell_type": "code",
      "source": [
        "import time\n",
        "from tqdm.notebook import tqdm\n",
        "topic_library = {\n",
        "    'Politics' : [ 'https://www.reddit.com/r/news/comments/x6jyk9/judge_grants_trumps_request_for_a_special_master/', \n",
        "    'https://www.reddit.com/r/politics/comments/x3o3hs/biden_lambastes_maga_republicans_in_rare_prime/',\n",
        "    'https://www.reddit.com/r/pics/comments/wwoqvg/op_apparently_you_have_to_take_your_political/'],\n",
        "    'Literature': [\n",
        "        'https://www.reddit.com/r/gaming/comments/vy8elo/i_am_an_english_teacher_teaching_a_video_game_as/',\n",
        "    'https://www.reddit.com/r/nursing/comments/xnqdm8/aita_nursing_edition_told_a_coworker_handing_out/',\n",
        "    'https://www.reddit.com/r/NoStupidQuestions/comments/wyzgrh/why_were_jews_illtreated_not_just_hitler_and/',\n",
        "    ],\n",
        "    'Astronomy': [\n",
        "         'https://www.reddit.com/r/DestinyLore/comments/xippjd/i_cant_take_it_anymore_sit_down_we_are_learning/',\n",
        "    'https://www.reddit.com/r/iphone/comments/xd53d5/astronomy_lockscreen_on_ios_16_not_only_shows_you/', \n",
        "    'https://www.reddit.com/r/space/comments/w9osfq/a_new_law_is_putting_astronomy_back_in_the_hands/',\n",
        "    \"https://www.reddit.com/r/space/comments/wv7ywb/hawaii_seeks_end_to_strife_over_astronomy_on/\",\n",
        "    \"https://www.reddit.com/r/Astronomy/comments/wg6596/i_was_asked_to_give_a_short_lecture_about/\",\n",
        "    \"https://www.reddit.com/r/DetailCraft/comments/xaiwb9/interior_details_astronomy_lab/\",\n",
        "    \n",
        "    ]\n",
        "}\n",
        "for topic, urls in tqdm(topic_library.items()):\n",
        "  for url in tqdm(urls):\n",
        "    submission = reddit.submission(url=url)\n",
        "    submission.comments.replace_more(limit=0) # flatten tree\n",
        "    all_comments = []\n",
        "    comments = submission.comments # all comments\n",
        "    # comments = submission.comments.list() # all comments\n",
        "    for top_level_comment in submission.comments:\n",
        "      if isinstance(top_level_comment, MoreComments):\n",
        "          continue\n",
        "      all_comments.append(top_level_comment.body)\n",
        "      with open('{}-reddit_author.txt'.format(topic), 'a') as f:\n",
        "          f.write(submission.selftext + '\\n')\n",
        "      with open('{}-reddit_comments.txt'.format(topic), 'a') as f:\n",
        "        for i, comment in enumerate(comments):\n",
        "          f.write(comment.body + '\\n')\n",
        "    # time.sleep(1.5)"
      ],
      "metadata": {
        "colab": {
          "base_uri": "https://localhost:8080/",
          "height": 979,
          "referenced_widgets": [
            "653f19bde9fa4415be700c0bd3f3e532",
            "08fd82389d254693a4ed580f9da1f777",
            "06f029d98b7442c9925f67fb0855920d",
            "fe5d0cfef28e4e71ae066d178dc215be",
            "01366dc0e3544ffc873f5ec9faef3ede",
            "e546c851db6042e998ab12117dea5db6",
            "335bd9c6dec34e1a981aefae13b2f98c",
            "7b8fbae8737a4c39b05df3d406fbfdf9",
            "18e6fae0a2d94b0a85654e6a7ebd9e6d",
            "f8ceacdd45914ab29fcd7a56dc0da583",
            "8d44b6b8411b415084f281e2cc444b0a",
            "44467ee56b444356a699c1aabe6c450f",
            "00198f24682c4b989dab7f32a5d66e0b",
            "0c2f0745da164298b4862beeb47c369d",
            "738ab7b88cbd41718bd3702e01f6a694",
            "7ae481cd60a64ab6bee6eeee28a00ca8",
            "1294631b1a4a4ca28d26d16abe494cd1",
            "71f948510f974b20a9b6caee123a7180",
            "9920a95be96c4b2085a2bc8425ed5f64",
            "023970bdec764a0db626cf909dec9204",
            "2a070b2632b1439496214900c1861bb5",
            "d3464c4ed0be48b2ba256736ac505632",
            "c6957f64c0c04dcda39f15d478110d56",
            "b55d9edcfdb84989b75c2fc6e5b36a1a",
            "54cde237dcd94bb38a008e9cad352576",
            "43d245dd9a6046c19308e8290a937078",
            "8c4b466fab4948fb86ead4d619edb6be",
            "c6579dec33cb48b381b8cf3e5317ece2",
            "aeca16a71a4d4047aacd9a6313475c63",
            "12a1639d7bd8457abf8b0f347cadd1bc",
            "b6b86d9f576d4a19b9a008d5dc9b94d4",
            "d10aaa6ebaa449748ea3910a55414166",
            "327c21b098514244acabb71805799526",
            "b554893296b041868be4650258f2d822",
            "12d5d68f5b444d51aedcaec45b68f09f",
            "5c2e6b92dc31443da6fcb16d1f039179",
            "8f2cf64e66c14ad29819cadb2e66bd6a",
            "d1718559b5be427791e1dee83f5d89d2",
            "1f6b7c0ad58e438aafbb1901bbe6a5b2",
            "9719c56be827420399ed621bcea39e6a",
            "7d172f1bf7034d18973a2c3e2f0651f0",
            "f0006284acae4ac19e47da5a11a44635",
            "d213111dfbcf44ba82f56a220bad9d7b",
            "a3904f0fe555445b911ad25d7c66725f"
          ]
        },
        "id": "CuBMbCokRcXW",
        "outputId": "4f622ae3-3ce4-4804-fac1-d198a09d8037"
      },
      "id": "CuBMbCokRcXW",
      "execution_count": 57,
      "outputs": [
        {
          "output_type": "display_data",
          "data": {
            "text/plain": [
              "  0%|          | 0/3 [00:00<?, ?it/s]"
            ],
            "application/vnd.jupyter.widget-view+json": {
              "version_major": 2,
              "version_minor": 0,
              "model_id": "653f19bde9fa4415be700c0bd3f3e532"
            }
          },
          "metadata": {}
        },
        {
          "output_type": "display_data",
          "data": {
            "text/plain": [
              "  0%|          | 0/3 [00:00<?, ?it/s]"
            ],
            "application/vnd.jupyter.widget-view+json": {
              "version_major": 2,
              "version_minor": 0,
              "model_id": "44467ee56b444356a699c1aabe6c450f"
            }
          },
          "metadata": {}
        },
        {
          "output_type": "stream",
          "name": "stderr",
          "text": [
            "WARNING:praw:It appears that you are using PRAW in an asynchronous environment.\n",
            "It is strongly recommended to use Async PRAW: https://asyncpraw.readthedocs.io.\n",
            "See https://praw.readthedocs.io/en/latest/getting_started/multiple_instances.html#discord-bots-and-asynchronous-environments for more info.\n",
            "\n",
            "WARNING:praw:It appears that you are using PRAW in an asynchronous environment.\n",
            "It is strongly recommended to use Async PRAW: https://asyncpraw.readthedocs.io.\n",
            "See https://praw.readthedocs.io/en/latest/getting_started/multiple_instances.html#discord-bots-and-asynchronous-environments for more info.\n",
            "\n",
            "WARNING:praw:It appears that you are using PRAW in an asynchronous environment.\n",
            "It is strongly recommended to use Async PRAW: https://asyncpraw.readthedocs.io.\n",
            "See https://praw.readthedocs.io/en/latest/getting_started/multiple_instances.html#discord-bots-and-asynchronous-environments for more info.\n",
            "\n"
          ]
        },
        {
          "output_type": "display_data",
          "data": {
            "text/plain": [
              "  0%|          | 0/3 [00:00<?, ?it/s]"
            ],
            "application/vnd.jupyter.widget-view+json": {
              "version_major": 2,
              "version_minor": 0,
              "model_id": "c6957f64c0c04dcda39f15d478110d56"
            }
          },
          "metadata": {}
        },
        {
          "output_type": "stream",
          "name": "stderr",
          "text": [
            "WARNING:praw:It appears that you are using PRAW in an asynchronous environment.\n",
            "It is strongly recommended to use Async PRAW: https://asyncpraw.readthedocs.io.\n",
            "See https://praw.readthedocs.io/en/latest/getting_started/multiple_instances.html#discord-bots-and-asynchronous-environments for more info.\n",
            "\n",
            "WARNING:praw:It appears that you are using PRAW in an asynchronous environment.\n",
            "It is strongly recommended to use Async PRAW: https://asyncpraw.readthedocs.io.\n",
            "See https://praw.readthedocs.io/en/latest/getting_started/multiple_instances.html#discord-bots-and-asynchronous-environments for more info.\n",
            "\n",
            "WARNING:praw:It appears that you are using PRAW in an asynchronous environment.\n",
            "It is strongly recommended to use Async PRAW: https://asyncpraw.readthedocs.io.\n",
            "See https://praw.readthedocs.io/en/latest/getting_started/multiple_instances.html#discord-bots-and-asynchronous-environments for more info.\n",
            "\n"
          ]
        },
        {
          "output_type": "display_data",
          "data": {
            "text/plain": [
              "  0%|          | 0/6 [00:00<?, ?it/s]"
            ],
            "application/vnd.jupyter.widget-view+json": {
              "version_major": 2,
              "version_minor": 0,
              "model_id": "b554893296b041868be4650258f2d822"
            }
          },
          "metadata": {}
        },
        {
          "output_type": "stream",
          "name": "stderr",
          "text": [
            "WARNING:praw:It appears that you are using PRAW in an asynchronous environment.\n",
            "It is strongly recommended to use Async PRAW: https://asyncpraw.readthedocs.io.\n",
            "See https://praw.readthedocs.io/en/latest/getting_started/multiple_instances.html#discord-bots-and-asynchronous-environments for more info.\n",
            "\n",
            "WARNING:praw:It appears that you are using PRAW in an asynchronous environment.\n",
            "It is strongly recommended to use Async PRAW: https://asyncpraw.readthedocs.io.\n",
            "See https://praw.readthedocs.io/en/latest/getting_started/multiple_instances.html#discord-bots-and-asynchronous-environments for more info.\n",
            "\n",
            "WARNING:praw:It appears that you are using PRAW in an asynchronous environment.\n",
            "It is strongly recommended to use Async PRAW: https://asyncpraw.readthedocs.io.\n",
            "See https://praw.readthedocs.io/en/latest/getting_started/multiple_instances.html#discord-bots-and-asynchronous-environments for more info.\n",
            "\n",
            "WARNING:praw:It appears that you are using PRAW in an asynchronous environment.\n",
            "It is strongly recommended to use Async PRAW: https://asyncpraw.readthedocs.io.\n",
            "See https://praw.readthedocs.io/en/latest/getting_started/multiple_instances.html#discord-bots-and-asynchronous-environments for more info.\n",
            "\n",
            "WARNING:praw:It appears that you are using PRAW in an asynchronous environment.\n",
            "It is strongly recommended to use Async PRAW: https://asyncpraw.readthedocs.io.\n",
            "See https://praw.readthedocs.io/en/latest/getting_started/multiple_instances.html#discord-bots-and-asynchronous-environments for more info.\n",
            "\n",
            "WARNING:praw:It appears that you are using PRAW in an asynchronous environment.\n",
            "It is strongly recommended to use Async PRAW: https://asyncpraw.readthedocs.io.\n",
            "See https://praw.readthedocs.io/en/latest/getting_started/multiple_instances.html#discord-bots-and-asynchronous-environments for more info.\n",
            "\n"
          ]
        }
      ]
    },
    {
      "cell_type": "code",
      "source": [
        "import shutil\n",
        "for topic, _ in tqdm(topic_library.items()):\n",
        "  shutil.copy2('{}-reddit_author.txt'.format(topic), '/content/drive/MyDrive/KDN-ICP-6')\n",
        "  shutil.copy2('{}-reddit_comments.txt'.format(topic), '/content/drive/MyDrive/KDN-ICP-6')"
      ],
      "metadata": {
        "colab": {
          "base_uri": "https://localhost:8080/",
          "height": 49,
          "referenced_widgets": [
            "37a5fdc0714b4801b7c00c2f02ad8eaf",
            "c23dd236834c494eac618fbbaff4d7d6",
            "4ad052b06cff450ba999efa92b7dcd2f",
            "46feeb9f84f7483aae3e6303a45471a1",
            "38dbce4452ab4105b3e6eda5d134c813",
            "d64f64faedf8477ba1e6420eab2fcf3e",
            "9e45748338824e77bc3d1c985a69b03f",
            "af2a9e184efd4fb4a9a86da4e33b6417",
            "05b9a7a972714f9489b2002587644acc",
            "d97eac8c366e42d48fc6bd7fac950d59",
            "5243fedcbfec4a509b33f1ac190bc6fa"
          ]
        },
        "id": "L2Kv3byNbfTb",
        "outputId": "b0cf749a-e31b-4177-99f5-bc7e62fcaca7"
      },
      "id": "L2Kv3byNbfTb",
      "execution_count": 58,
      "outputs": [
        {
          "output_type": "display_data",
          "data": {
            "text/plain": [
              "  0%|          | 0/3 [00:00<?, ?it/s]"
            ],
            "application/vnd.jupyter.widget-view+json": {
              "version_major": 2,
              "version_minor": 0,
              "model_id": "37a5fdc0714b4801b7c00c2f02ad8eaf"
            }
          },
          "metadata": {}
        }
      ]
    },
    {
      "cell_type": "code",
      "source": [
        "reddit_df = pd.DataFrame(columns = ['text'])\n",
        "for topic, _ in tqdm(topic_library.items()):\n",
        "  with open('{}-reddit_comments.txt'.format(topic)) as f:\n",
        "    lines = f.readlines()\n",
        "    reddit_sub_df = pd.DataFrame(lines, columns = ['text'])\n",
        "    reddit_sub_df = reddit_sub_df.sample(3000)\n",
        "    reddit_df= reddit_df.append(reddit_sub_df).reset_index(drop=True)\n",
        "# lines"
      ],
      "metadata": {
        "colab": {
          "base_uri": "https://localhost:8080/",
          "height": 49,
          "referenced_widgets": [
            "546453956ba343d1b0efa4428e7a6a8b",
            "115a8806ed1e4b519f4ed1a3b5fb76e5",
            "e425d8346e5a4a93bd2b7454f6ed4683",
            "066c644cb3294cfcbc29cf786ebbbd8b",
            "d9cd63104f194f99a6510e7fd4ca994b",
            "50296885c94840028c180567f212ccda",
            "4e797b52ee4448a1b4625754d39b2a92",
            "0cf4f8919517486194b3a3a1188e8bbc",
            "36e867ee625b4fc79f7ad8960f0c3d5f",
            "8068dd1f31444414bac346ccc6ebfc39",
            "12bb147855c04770b9a8bc131104aa5c"
          ]
        },
        "id": "VL9of2LiGBl3",
        "outputId": "b94a1d23-b4c4-4098-c841-b0005d3cc7e1"
      },
      "id": "VL9of2LiGBl3",
      "execution_count": 59,
      "outputs": [
        {
          "output_type": "display_data",
          "data": {
            "text/plain": [
              "  0%|          | 0/3 [00:00<?, ?it/s]"
            ],
            "application/vnd.jupyter.widget-view+json": {
              "version_major": 2,
              "version_minor": 0,
              "model_id": "546453956ba343d1b0efa4428e7a6a8b"
            }
          },
          "metadata": {}
        }
      ]
    },
    {
      "cell_type": "code",
      "source": [
        "reddit_df"
      ],
      "metadata": {
        "colab": {
          "base_uri": "https://localhost:8080/",
          "height": 424
        },
        "id": "lR7lEPu1Fu7j",
        "outputId": "3bc683b1-8463-4ee3-be1d-6d981053cb38"
      },
      "id": "lR7lEPu1Fu7j",
      "execution_count": 60,
      "outputs": [
        {
          "output_type": "execute_result",
          "data": {
            "text/plain": [
              "                                                   text\n",
              "0     Every time he said “MAGA” I think “Nazi”. Beca...\n",
              "1                                                    \\n\n",
              "2     As a reminder, this subreddit [is for civil di...\n",
              "3                                                    \\n\n",
              "4                                           Well done\\n\n",
              "...                                                 ...\n",
              "8995  If it was an oil well, I'd have sympathy. But ...\n",
              "8996  The time font is hideous. Anyone know how to c...\n",
              "8997  Nessus is an unstable centaur that passes thro...\n",
              "8998                                                 \\n\n",
              "8999  Am i the only one that doesn’t see the green d...\n",
              "\n",
              "[9000 rows x 1 columns]"
            ],
            "text/html": [
              "\n",
              "  <div id=\"df-80da84a3-a24e-46f7-afc3-b0ae18184fa7\">\n",
              "    <div class=\"colab-df-container\">\n",
              "      <div>\n",
              "<style scoped>\n",
              "    .dataframe tbody tr th:only-of-type {\n",
              "        vertical-align: middle;\n",
              "    }\n",
              "\n",
              "    .dataframe tbody tr th {\n",
              "        vertical-align: top;\n",
              "    }\n",
              "\n",
              "    .dataframe thead th {\n",
              "        text-align: right;\n",
              "    }\n",
              "</style>\n",
              "<table border=\"1\" class=\"dataframe\">\n",
              "  <thead>\n",
              "    <tr style=\"text-align: right;\">\n",
              "      <th></th>\n",
              "      <th>text</th>\n",
              "    </tr>\n",
              "  </thead>\n",
              "  <tbody>\n",
              "    <tr>\n",
              "      <th>0</th>\n",
              "      <td>Every time he said “MAGA” I think “Nazi”. Beca...</td>\n",
              "    </tr>\n",
              "    <tr>\n",
              "      <th>1</th>\n",
              "      <td>\\n</td>\n",
              "    </tr>\n",
              "    <tr>\n",
              "      <th>2</th>\n",
              "      <td>As a reminder, this subreddit [is for civil di...</td>\n",
              "    </tr>\n",
              "    <tr>\n",
              "      <th>3</th>\n",
              "      <td>\\n</td>\n",
              "    </tr>\n",
              "    <tr>\n",
              "      <th>4</th>\n",
              "      <td>Well done\\n</td>\n",
              "    </tr>\n",
              "    <tr>\n",
              "      <th>...</th>\n",
              "      <td>...</td>\n",
              "    </tr>\n",
              "    <tr>\n",
              "      <th>8995</th>\n",
              "      <td>If it was an oil well, I'd have sympathy. But ...</td>\n",
              "    </tr>\n",
              "    <tr>\n",
              "      <th>8996</th>\n",
              "      <td>The time font is hideous. Anyone know how to c...</td>\n",
              "    </tr>\n",
              "    <tr>\n",
              "      <th>8997</th>\n",
              "      <td>Nessus is an unstable centaur that passes thro...</td>\n",
              "    </tr>\n",
              "    <tr>\n",
              "      <th>8998</th>\n",
              "      <td>\\n</td>\n",
              "    </tr>\n",
              "    <tr>\n",
              "      <th>8999</th>\n",
              "      <td>Am i the only one that doesn’t see the green d...</td>\n",
              "    </tr>\n",
              "  </tbody>\n",
              "</table>\n",
              "<p>9000 rows × 1 columns</p>\n",
              "</div>\n",
              "      <button class=\"colab-df-convert\" onclick=\"convertToInteractive('df-80da84a3-a24e-46f7-afc3-b0ae18184fa7')\"\n",
              "              title=\"Convert this dataframe to an interactive table.\"\n",
              "              style=\"display:none;\">\n",
              "        \n",
              "  <svg xmlns=\"http://www.w3.org/2000/svg\" height=\"24px\"viewBox=\"0 0 24 24\"\n",
              "       width=\"24px\">\n",
              "    <path d=\"M0 0h24v24H0V0z\" fill=\"none\"/>\n",
              "    <path d=\"M18.56 5.44l.94 2.06.94-2.06 2.06-.94-2.06-.94-.94-2.06-.94 2.06-2.06.94zm-11 1L8.5 8.5l.94-2.06 2.06-.94-2.06-.94L8.5 2.5l-.94 2.06-2.06.94zm10 10l.94 2.06.94-2.06 2.06-.94-2.06-.94-.94-2.06-.94 2.06-2.06.94z\"/><path d=\"M17.41 7.96l-1.37-1.37c-.4-.4-.92-.59-1.43-.59-.52 0-1.04.2-1.43.59L10.3 9.45l-7.72 7.72c-.78.78-.78 2.05 0 2.83L4 21.41c.39.39.9.59 1.41.59.51 0 1.02-.2 1.41-.59l7.78-7.78 2.81-2.81c.8-.78.8-2.07 0-2.86zM5.41 20L4 18.59l7.72-7.72 1.47 1.35L5.41 20z\"/>\n",
              "  </svg>\n",
              "      </button>\n",
              "      \n",
              "  <style>\n",
              "    .colab-df-container {\n",
              "      display:flex;\n",
              "      flex-wrap:wrap;\n",
              "      gap: 12px;\n",
              "    }\n",
              "\n",
              "    .colab-df-convert {\n",
              "      background-color: #E8F0FE;\n",
              "      border: none;\n",
              "      border-radius: 50%;\n",
              "      cursor: pointer;\n",
              "      display: none;\n",
              "      fill: #1967D2;\n",
              "      height: 32px;\n",
              "      padding: 0 0 0 0;\n",
              "      width: 32px;\n",
              "    }\n",
              "\n",
              "    .colab-df-convert:hover {\n",
              "      background-color: #E2EBFA;\n",
              "      box-shadow: 0px 1px 2px rgba(60, 64, 67, 0.3), 0px 1px 3px 1px rgba(60, 64, 67, 0.15);\n",
              "      fill: #174EA6;\n",
              "    }\n",
              "\n",
              "    [theme=dark] .colab-df-convert {\n",
              "      background-color: #3B4455;\n",
              "      fill: #D2E3FC;\n",
              "    }\n",
              "\n",
              "    [theme=dark] .colab-df-convert:hover {\n",
              "      background-color: #434B5C;\n",
              "      box-shadow: 0px 1px 3px 1px rgba(0, 0, 0, 0.15);\n",
              "      filter: drop-shadow(0px 1px 2px rgba(0, 0, 0, 0.3));\n",
              "      fill: #FFFFFF;\n",
              "    }\n",
              "  </style>\n",
              "\n",
              "      <script>\n",
              "        const buttonEl =\n",
              "          document.querySelector('#df-80da84a3-a24e-46f7-afc3-b0ae18184fa7 button.colab-df-convert');\n",
              "        buttonEl.style.display =\n",
              "          google.colab.kernel.accessAllowed ? 'block' : 'none';\n",
              "\n",
              "        async function convertToInteractive(key) {\n",
              "          const element = document.querySelector('#df-80da84a3-a24e-46f7-afc3-b0ae18184fa7');\n",
              "          const dataTable =\n",
              "            await google.colab.kernel.invokeFunction('convertToInteractive',\n",
              "                                                     [key], {});\n",
              "          if (!dataTable) return;\n",
              "\n",
              "          const docLinkHtml = 'Like what you see? Visit the ' +\n",
              "            '<a target=\"_blank\" href=https://colab.research.google.com/notebooks/data_table.ipynb>data table notebook</a>'\n",
              "            + ' to learn more about interactive tables.';\n",
              "          element.innerHTML = '';\n",
              "          dataTable['output_type'] = 'display_data';\n",
              "          await google.colab.output.renderOutput(dataTable, element);\n",
              "          const docLink = document.createElement('div');\n",
              "          docLink.innerHTML = docLinkHtml;\n",
              "          element.appendChild(docLink);\n",
              "        }\n",
              "      </script>\n",
              "    </div>\n",
              "  </div>\n",
              "  "
            ]
          },
          "metadata": {},
          "execution_count": 60
        }
      ]
    },
    {
      "cell_type": "code",
      "source": [
        "tfidf_vect = TfidfVectorizer(analyzer='word', stop_words = 'english', max_df = 0.7)\n",
        "tfidf_tokens = tfidf_vect.fit_transform(reddit_df['text'])\n"
      ],
      "metadata": {
        "id": "Yw9uANcHZNsr"
      },
      "id": "Yw9uANcHZNsr",
      "execution_count": 61,
      "outputs": []
    },
    {
      "cell_type": "code",
      "source": [
        "tfidf_vocab = tfidf_vect.get_feature_names_out()"
      ],
      "metadata": {
        "id": "714nv5dvY5wH"
      },
      "id": "714nv5dvY5wH",
      "execution_count": 62,
      "outputs": []
    },
    {
      "cell_type": "code",
      "source": [
        "print(tfidf_tokens[0])\n",
        "tfidf_vocab[100]"
      ],
      "metadata": {
        "colab": {
          "base_uri": "https://localhost:8080/",
          "height": 122
        },
        "id": "eLiHxioEZWz1",
        "outputId": "bcb55b75-f75a-4292-e39f-b9d96be05c2d"
      },
      "id": "eLiHxioEZWz1",
      "execution_count": 63,
      "outputs": [
        {
          "output_type": "stream",
          "name": "stdout",
          "text": [
            "  (0, 3138)\t0.620731630301779\n",
            "  (0, 4765)\t0.362998142516076\n",
            "  (0, 2858)\t0.4341401384481422\n",
            "  (0, 4121)\t0.4117054885272026\n",
            "  (0, 4800)\t0.35347633948763757\n"
          ]
        },
        {
          "output_type": "execute_result",
          "data": {
            "text/plain": [
              "'absolute'"
            ],
            "application/vnd.google.colaboratory.intrinsic+json": {
              "type": "string"
            }
          },
          "metadata": {},
          "execution_count": 63
        }
      ]
    },
    {
      "cell_type": "code",
      "source": [
        "lda = LatentDirichletAllocation(n_components = 10, doc_topic_prior=1)\n",
        "lda.fit(tfidf_tokens)"
      ],
      "metadata": {
        "colab": {
          "base_uri": "https://localhost:8080/"
        },
        "id": "MCAEJfF1ZaV7",
        "outputId": "135287c8-4a0b-4604-aed6-f5cc9c067806"
      },
      "id": "MCAEJfF1ZaV7",
      "execution_count": 64,
      "outputs": [
        {
          "output_type": "execute_result",
          "data": {
            "text/plain": [
              "LatentDirichletAllocation(doc_topic_prior=1)"
            ]
          },
          "metadata": {},
          "execution_count": 64
        }
      ]
    },
    {
      "cell_type": "code",
      "source": [
        "import numpy as np \n",
        "topic_words = {}\n",
        "n_top_words = 15\n",
        "for topic, comp in enumerate(lda.components_):\n",
        "    word_idx = np.argsort(comp)[::-1][:n_top_words]\n",
        "    # store the words most relevant to the topic\n",
        "    topic_words[topic] = [tfidf_vocab[i] for i in word_idx]\n",
        "    \n",
        "for topic, words in topic_words.items():\n",
        "    print('Topic: %d' % topic)\n",
        "    print('  %s' % ', '.join(words))"
      ],
      "metadata": {
        "colab": {
          "base_uri": "https://localhost:8080/"
        },
        "id": "URiUv_V9ZcML",
        "outputId": "be02d601-f2a9-4c96-d0da-bf07caaef564"
      },
      "id": "URiUv_V9ZcML",
      "execution_count": 65,
      "outputs": [
        {
          "output_type": "stream",
          "name": "stdout",
          "text": [
            "Topic: 0\n",
            "  battery, trump, don, republicans, drain, appointed, nta, religious, white, want, live, reason, deleted, 10, attack\n",
            "Topic: 1\n",
            "  think, removed, love, gonna, say, feel, country, beach, ll, op, oh, going, using, fuck, flags\n",
            "Topic: 2\n",
            "  people, ve, culture, way, tmt, year, telling, happened, thought, telescopes, right, hawaiians, awesome, science, says\n",
            "Topic: 3\n",
            "  fucking, space, judge, comments, dot, question, green, location, don, usage, real, stub, w9osfq, just, society\n",
            "Topic: 4\n",
            "  asshole, like, lock, does, know, screen, politics, small, stupid, probably, said, people, identity, kind, look\n",
            "Topic: 5\n",
            "  removed, know, hate, like, time, lol, shit, maga, non, hand, native, big, building, trump, hands\n",
            "Topic: 6\n",
            "  removed, right, people, religion, stuff, apple, like, home, race, based, great, classified, president, thanks, ask\n",
            "Topic: 7\n",
            "  awesome, astronomy, interesting, let, wish, jewish, work, people, post, 100, just, super, hawaiians, support, class\n",
            "Topic: 8\n",
            "  telescope, like, make, dark, shit, president, brandon, just, lot, background, ones, people, ago, privilege, court\n",
            "Topic: 9\n",
            "  thread, jews, political, mean, totally, cool, inappropriate, christianity, treated, saying, teach, joe, ill, money, nessus\n"
          ]
        }
      ]
    },
    {
      "cell_type": "markdown",
      "source": [
        "The topics that LDA provides with my text corpus:"
      ],
      "metadata": {
        "id": "QUpTLKbqgqBC"
      },
      "id": "QUpTLKbqgqBC"
    },
    {
      "cell_type": "markdown",
      "source": [
        "```\n",
        "Topic: 0\n",
        "  year, sorry, bitcoin, family, loss, come, invest, thinking, looking, vs, crypto, market, metaverse, england, different\n",
        "Topic: 1\n",
        "  thank, sure, free, like, fuck, won, submission, soros, love, reminding, yes, awesome, need, normal, thoughts\n",
        "Topic: 2\n",
        "  fail, 5g, currency, british, hope, heard, bad, world, like, ll, away, dollar, ok, pounded, pound\n",
        "Topic: 3\n",
        "  just, strong, shit, medical, license, inflation, fucking, bitcoin, fair, people, miss, help, look, btc, read\n",
        "Topic: 4\n",
        "  british, time, pound, integrated, use, im, old, similar, fucking, friends, sorry, happy, don, moving, fun\n",
        "Topic: 5\n",
        "  sorry, loss, maybe, going, make, life, need, awful, weird, value, end, making, effecting, bullshi, reason\n",
        "Topic: 6\n",
        "  just, covid, doctor, people, lot, jesus, feel, sad, able, gonna, having, really, think, vaccine, hodl\n",
        "Topic: 7\n",
        "  falling, pound, oh, thing, stay, bitcoin, minority, wish, condolences, accept, happening, report, hedge, end, cat\n",
        "Topic: 8\n",
        "  don, loss, hear, time, true, prayers, super, say, buy, going, know, sorry, stupid, sound, plan\n",
        "Topic: 9\n",
        "  deleted, loss, sorry, sharing, thanks, man, bitcoin, mind, did, having, reddit, communities, didn, heart, aches\n",
        "```"
      ],
      "metadata": {
        "id": "aaKU_0mUgmiD"
      },
      "id": "aaKU_0mUgmiD"
    },
    {
      "cell_type": "markdown",
      "source": [
        "# Extra"
      ],
      "metadata": {
        "id": "FAnMU9LGBwwf"
      },
      "id": "FAnMU9LGBwwf"
    },
    {
      "cell_type": "code",
      "source": [
        "# Read Text Files with Pandas using read_csv()\n",
        "  \n",
        "# importing pandas\n",
        "import pandas as pd\n",
        "  \n",
        "# read text file into pandas DataFrame\n",
        "red_ast = pd.read_csv(\"/content/drive/MyDrive/KDN-ICP-6/Astronomy-reddit_author.txt\", sep=\":\", error_bad_lines=False, names=[\"text\"])\n",
        "  \n",
        "# display DataFrame\n",
        "print(red_ast)"
      ],
      "metadata": {
        "colab": {
          "base_uri": "https://localhost:8080/"
        },
        "id": "cIxGTLZqBzpO",
        "outputId": "6fccce6f-465f-49ef-ae15-b68e0bf9283e"
      },
      "id": "cIxGTLZqBzpO",
      "execution_count": 66,
      "outputs": [
        {
          "output_type": "stream",
          "name": "stdout",
          "text": [
            "                                                  text\n",
            "0                     # Nessus is not a moon of Saturn\n",
            "1    Its a \"centaur\" which is effectively an astero...\n",
            "2    Jupiter's major moons are Europa, Io, Ganymede...\n",
            "3    Saturn's major moons are Titan, Rhea, Iapetus,...\n",
            "4    Both of these also have tons of **minor moon**...\n",
            "..                                                 ...\n",
            "325  Its a \"centaur\" which is effectively an astero...\n",
            "326  Jupiter's major moons are Europa, Io, Ganymede...\n",
            "327  Saturn's major moons are Titan, Rhea, Iapetus,...\n",
            "328  Both of these also have tons of **minor moon**...\n",
            "329                                               Edit\n",
            "\n",
            "[330 rows x 1 columns]\n"
          ]
        },
        {
          "output_type": "stream",
          "name": "stderr",
          "text": [
            "/usr/local/lib/python3.7/dist-packages/IPython/core/interactiveshell.py:3326: FutureWarning: The error_bad_lines argument has been deprecated and will be removed in a future version.\n",
            "\n",
            "\n",
            "  exec(code_obj, self.user_global_ns, self.user_ns)\n"
          ]
        }
      ]
    },
    {
      "cell_type": "code",
      "source": [
        "# read text file into pandas DataFrame\n",
        "red_lit = pd.read_csv(\"/content/drive/MyDrive/KDN-ICP-6/Literature-reddit_comments.txt\", sep=\":\", error_bad_lines=False, names=[\"text\"])\n",
        "  \n",
        "# display DataFrame\n",
        "print(red_lit)"
      ],
      "metadata": {
        "colab": {
          "base_uri": "https://localhost:8080/"
        },
        "id": "rOY6c4HzEuTb",
        "outputId": "d38f7bec-50f1-466d-f089-865dccf443dc"
      },
      "id": "rOY6c4HzEuTb",
      "execution_count": 67,
      "outputs": [
        {
          "output_type": "stream",
          "name": "stdout",
          "text": [
            "                                                    text\n",
            "0      What rich school is this ? My school won't eve...\n",
            "1                          Would you share the syllabus?\n",
            "2                   Can I Billy Madison into that class?\n",
            "3      That is awesome! However, the one upside down ...\n",
            "4                                                  Nice!\n",
            "...                                                  ...\n",
            "53719  Martyrmade podcast has a long series about it,...\n",
            "53720  Here is a super interesting and different look...\n",
            "53721                                              https\n",
            "53722                                         That movie\n",
            "53723  In the book ‘The Evolution of God’ Robert Wrig...\n",
            "\n",
            "[53724 rows x 1 columns]\n"
          ]
        },
        {
          "output_type": "stream",
          "name": "stderr",
          "text": [
            "/usr/local/lib/python3.7/dist-packages/IPython/core/interactiveshell.py:3326: FutureWarning: The error_bad_lines argument has been deprecated and will be removed in a future version.\n",
            "\n",
            "\n",
            "  exec(code_obj, self.user_global_ns, self.user_ns)\n"
          ]
        }
      ]
    },
    {
      "cell_type": "code",
      "source": [
        "# read text file into pandas DataFrame\n",
        "red_pol = pd.read_csv(\"/content/drive/MyDrive/KDN-ICP-6/Politics-reddit_comments.txt\", sep=\":\", error_bad_lines=False, names=[\"text\"])\n",
        "  \n",
        "# display DataFrame\n",
        "print(red_pol)"
      ],
      "metadata": {
        "colab": {
          "base_uri": "https://localhost:8080/"
        },
        "id": "5fU6n-X6FLdl",
        "outputId": "15aea785-9a46-4981-8ae8-4072e09df9fe"
      },
      "id": "5fU6n-X6FLdl",
      "execution_count": 68,
      "outputs": [
        {
          "output_type": "stream",
          "name": "stderr",
          "text": [
            "/usr/local/lib/python3.7/dist-packages/IPython/core/interactiveshell.py:3326: FutureWarning: The error_bad_lines argument has been deprecated and will be removed in a future version.\n",
            "\n",
            "\n",
            "  exec(code_obj, self.user_global_ns, self.user_ns)\n"
          ]
        },
        {
          "output_type": "stream",
          "name": "stdout",
          "text": [
            "                                                    text\n",
            "0      What is super strange to me is this constant d...\n",
            "1      “A future indictment, based to any degree on p...\n",
            "2      The Supreme Court did not rule out the possibi...\n",
            "3      She literally said she thinks Trump has more \"...\n",
            "4      My guess is that the DOJ already had the appea...\n",
            "...                                                  ...\n",
            "35259  Maybe it’s like a Curb situation where they’re...\n",
            "35260  My personal issue with most very-pro trump peo...\n",
            "35261  See they put up stuff like those flags, and pr...\n",
            "35262  But god-forbid another party were to raise up ...\n",
            "35263  If you don't do this, great, but you and I and...\n",
            "\n",
            "[35264 rows x 1 columns]\n"
          ]
        }
      ]
    },
    {
      "cell_type": "code",
      "source": [
        "sub_red_ast = red_ast.sample(n = 200)\n",
        "sub_red_lit = red_lit.sample(n = 200)\n",
        "sub_red_pol = red_pol.sample(n = 200)\n",
        "#sub_tweet_df_1['text'] = sub_tweet_df_1['tweet']\n",
        "#sub_tweet_df_2 = tweet_df_politics_2.sample(n = 2000)\n",
        "sub_red_lit"
      ],
      "metadata": {
        "colab": {
          "base_uri": "https://localhost:8080/",
          "height": 424
        },
        "id": "9gI1ggPZKH6o",
        "outputId": "eed87923-7be3-4835-c1f7-1e8ecf468cc2"
      },
      "id": "9gI1ggPZKH6o",
      "execution_count": 69,
      "outputs": [
        {
          "output_type": "execute_result",
          "data": {
            "text/plain": [
              "                                                    text\n",
              "14464  Want some help prepping MRSA cultures for the ...\n",
              "40658  The Chirch forbade Christians from doing money...\n",
              "674    That seems like a lot of funds that could have...\n",
              "13194  P. S. They are lucky you had a frank and kind ...\n",
              "29984  Is your fb group created by your employer?  If...\n",
              "...                                                  ...\n",
              "17567  Yeah, you're not the asshole. As a dirty pagan...\n",
              "18879  Yeah, you're not the asshole. As a dirty pagan...\n",
              "5680   My old highschool didn't have enough money to ...\n",
              "47779  Also historically conservatives attacked gays,...\n",
              "19808  ultimately, if people want to be a witness for...\n",
              "\n",
              "[200 rows x 1 columns]"
            ],
            "text/html": [
              "\n",
              "  <div id=\"df-9cbf44b3-ff27-4b7a-8890-b7cece3cffcb\">\n",
              "    <div class=\"colab-df-container\">\n",
              "      <div>\n",
              "<style scoped>\n",
              "    .dataframe tbody tr th:only-of-type {\n",
              "        vertical-align: middle;\n",
              "    }\n",
              "\n",
              "    .dataframe tbody tr th {\n",
              "        vertical-align: top;\n",
              "    }\n",
              "\n",
              "    .dataframe thead th {\n",
              "        text-align: right;\n",
              "    }\n",
              "</style>\n",
              "<table border=\"1\" class=\"dataframe\">\n",
              "  <thead>\n",
              "    <tr style=\"text-align: right;\">\n",
              "      <th></th>\n",
              "      <th>text</th>\n",
              "    </tr>\n",
              "  </thead>\n",
              "  <tbody>\n",
              "    <tr>\n",
              "      <th>14464</th>\n",
              "      <td>Want some help prepping MRSA cultures for the ...</td>\n",
              "    </tr>\n",
              "    <tr>\n",
              "      <th>40658</th>\n",
              "      <td>The Chirch forbade Christians from doing money...</td>\n",
              "    </tr>\n",
              "    <tr>\n",
              "      <th>674</th>\n",
              "      <td>That seems like a lot of funds that could have...</td>\n",
              "    </tr>\n",
              "    <tr>\n",
              "      <th>13194</th>\n",
              "      <td>P. S. They are lucky you had a frank and kind ...</td>\n",
              "    </tr>\n",
              "    <tr>\n",
              "      <th>29984</th>\n",
              "      <td>Is your fb group created by your employer?  If...</td>\n",
              "    </tr>\n",
              "    <tr>\n",
              "      <th>...</th>\n",
              "      <td>...</td>\n",
              "    </tr>\n",
              "    <tr>\n",
              "      <th>17567</th>\n",
              "      <td>Yeah, you're not the asshole. As a dirty pagan...</td>\n",
              "    </tr>\n",
              "    <tr>\n",
              "      <th>18879</th>\n",
              "      <td>Yeah, you're not the asshole. As a dirty pagan...</td>\n",
              "    </tr>\n",
              "    <tr>\n",
              "      <th>5680</th>\n",
              "      <td>My old highschool didn't have enough money to ...</td>\n",
              "    </tr>\n",
              "    <tr>\n",
              "      <th>47779</th>\n",
              "      <td>Also historically conservatives attacked gays,...</td>\n",
              "    </tr>\n",
              "    <tr>\n",
              "      <th>19808</th>\n",
              "      <td>ultimately, if people want to be a witness for...</td>\n",
              "    </tr>\n",
              "  </tbody>\n",
              "</table>\n",
              "<p>200 rows × 1 columns</p>\n",
              "</div>\n",
              "      <button class=\"colab-df-convert\" onclick=\"convertToInteractive('df-9cbf44b3-ff27-4b7a-8890-b7cece3cffcb')\"\n",
              "              title=\"Convert this dataframe to an interactive table.\"\n",
              "              style=\"display:none;\">\n",
              "        \n",
              "  <svg xmlns=\"http://www.w3.org/2000/svg\" height=\"24px\"viewBox=\"0 0 24 24\"\n",
              "       width=\"24px\">\n",
              "    <path d=\"M0 0h24v24H0V0z\" fill=\"none\"/>\n",
              "    <path d=\"M18.56 5.44l.94 2.06.94-2.06 2.06-.94-2.06-.94-.94-2.06-.94 2.06-2.06.94zm-11 1L8.5 8.5l.94-2.06 2.06-.94-2.06-.94L8.5 2.5l-.94 2.06-2.06.94zm10 10l.94 2.06.94-2.06 2.06-.94-2.06-.94-.94-2.06-.94 2.06-2.06.94z\"/><path d=\"M17.41 7.96l-1.37-1.37c-.4-.4-.92-.59-1.43-.59-.52 0-1.04.2-1.43.59L10.3 9.45l-7.72 7.72c-.78.78-.78 2.05 0 2.83L4 21.41c.39.39.9.59 1.41.59.51 0 1.02-.2 1.41-.59l7.78-7.78 2.81-2.81c.8-.78.8-2.07 0-2.86zM5.41 20L4 18.59l7.72-7.72 1.47 1.35L5.41 20z\"/>\n",
              "  </svg>\n",
              "      </button>\n",
              "      \n",
              "  <style>\n",
              "    .colab-df-container {\n",
              "      display:flex;\n",
              "      flex-wrap:wrap;\n",
              "      gap: 12px;\n",
              "    }\n",
              "\n",
              "    .colab-df-convert {\n",
              "      background-color: #E8F0FE;\n",
              "      border: none;\n",
              "      border-radius: 50%;\n",
              "      cursor: pointer;\n",
              "      display: none;\n",
              "      fill: #1967D2;\n",
              "      height: 32px;\n",
              "      padding: 0 0 0 0;\n",
              "      width: 32px;\n",
              "    }\n",
              "\n",
              "    .colab-df-convert:hover {\n",
              "      background-color: #E2EBFA;\n",
              "      box-shadow: 0px 1px 2px rgba(60, 64, 67, 0.3), 0px 1px 3px 1px rgba(60, 64, 67, 0.15);\n",
              "      fill: #174EA6;\n",
              "    }\n",
              "\n",
              "    [theme=dark] .colab-df-convert {\n",
              "      background-color: #3B4455;\n",
              "      fill: #D2E3FC;\n",
              "    }\n",
              "\n",
              "    [theme=dark] .colab-df-convert:hover {\n",
              "      background-color: #434B5C;\n",
              "      box-shadow: 0px 1px 3px 1px rgba(0, 0, 0, 0.15);\n",
              "      filter: drop-shadow(0px 1px 2px rgba(0, 0, 0, 0.3));\n",
              "      fill: #FFFFFF;\n",
              "    }\n",
              "  </style>\n",
              "\n",
              "      <script>\n",
              "        const buttonEl =\n",
              "          document.querySelector('#df-9cbf44b3-ff27-4b7a-8890-b7cece3cffcb button.colab-df-convert');\n",
              "        buttonEl.style.display =\n",
              "          google.colab.kernel.accessAllowed ? 'block' : 'none';\n",
              "\n",
              "        async function convertToInteractive(key) {\n",
              "          const element = document.querySelector('#df-9cbf44b3-ff27-4b7a-8890-b7cece3cffcb');\n",
              "          const dataTable =\n",
              "            await google.colab.kernel.invokeFunction('convertToInteractive',\n",
              "                                                     [key], {});\n",
              "          if (!dataTable) return;\n",
              "\n",
              "          const docLinkHtml = 'Like what you see? Visit the ' +\n",
              "            '<a target=\"_blank\" href=https://colab.research.google.com/notebooks/data_table.ipynb>data table notebook</a>'\n",
              "            + ' to learn more about interactive tables.';\n",
              "          element.innerHTML = '';\n",
              "          dataTable['output_type'] = 'display_data';\n",
              "          await google.colab.output.renderOutput(dataTable, element);\n",
              "          const docLink = document.createElement('div');\n",
              "          docLink.innerHTML = docLinkHtml;\n",
              "          element.appendChild(docLink);\n",
              "        }\n",
              "      </script>\n",
              "    </div>\n",
              "  </div>\n",
              "  "
            ]
          },
          "metadata": {},
          "execution_count": 69
        }
      ]
    },
    {
      "cell_type": "code",
      "source": [
        "# combining all sub-df\n",
        "all_sub_red = pd.concat([sub_red_ast['text'], sub_red_lit['text'], sub_red_pol['text']]).to_frame(name = 'text')\n",
        "all_sub_red.head()"
      ],
      "metadata": {
        "colab": {
          "base_uri": "https://localhost:8080/",
          "height": 206
        },
        "id": "2QJZMXqpPrYc",
        "outputId": "195edf0d-bf69-4633-b35b-bff782ed1195"
      },
      "id": "2QJZMXqpPrYc",
      "execution_count": 70,
      "outputs": [
        {
          "output_type": "execute_result",
          "data": {
            "text/plain": [
              "                                                  text\n",
              "325  Its a \"centaur\" which is effectively an astero...\n",
              "74   Jupiter's major moons are Europa, Io, Ganymede...\n",
              "258                   # Nessus is not a moon of Saturn\n",
              "177  Saturn's major moons are Titan, Rhea, Iapetus,...\n",
              "176  Jupiter's major moons are Europa, Io, Ganymede..."
            ],
            "text/html": [
              "\n",
              "  <div id=\"df-3e9d9866-18f3-44b7-9734-da4ce595c594\">\n",
              "    <div class=\"colab-df-container\">\n",
              "      <div>\n",
              "<style scoped>\n",
              "    .dataframe tbody tr th:only-of-type {\n",
              "        vertical-align: middle;\n",
              "    }\n",
              "\n",
              "    .dataframe tbody tr th {\n",
              "        vertical-align: top;\n",
              "    }\n",
              "\n",
              "    .dataframe thead th {\n",
              "        text-align: right;\n",
              "    }\n",
              "</style>\n",
              "<table border=\"1\" class=\"dataframe\">\n",
              "  <thead>\n",
              "    <tr style=\"text-align: right;\">\n",
              "      <th></th>\n",
              "      <th>text</th>\n",
              "    </tr>\n",
              "  </thead>\n",
              "  <tbody>\n",
              "    <tr>\n",
              "      <th>325</th>\n",
              "      <td>Its a \"centaur\" which is effectively an astero...</td>\n",
              "    </tr>\n",
              "    <tr>\n",
              "      <th>74</th>\n",
              "      <td>Jupiter's major moons are Europa, Io, Ganymede...</td>\n",
              "    </tr>\n",
              "    <tr>\n",
              "      <th>258</th>\n",
              "      <td># Nessus is not a moon of Saturn</td>\n",
              "    </tr>\n",
              "    <tr>\n",
              "      <th>177</th>\n",
              "      <td>Saturn's major moons are Titan, Rhea, Iapetus,...</td>\n",
              "    </tr>\n",
              "    <tr>\n",
              "      <th>176</th>\n",
              "      <td>Jupiter's major moons are Europa, Io, Ganymede...</td>\n",
              "    </tr>\n",
              "  </tbody>\n",
              "</table>\n",
              "</div>\n",
              "      <button class=\"colab-df-convert\" onclick=\"convertToInteractive('df-3e9d9866-18f3-44b7-9734-da4ce595c594')\"\n",
              "              title=\"Convert this dataframe to an interactive table.\"\n",
              "              style=\"display:none;\">\n",
              "        \n",
              "  <svg xmlns=\"http://www.w3.org/2000/svg\" height=\"24px\"viewBox=\"0 0 24 24\"\n",
              "       width=\"24px\">\n",
              "    <path d=\"M0 0h24v24H0V0z\" fill=\"none\"/>\n",
              "    <path d=\"M18.56 5.44l.94 2.06.94-2.06 2.06-.94-2.06-.94-.94-2.06-.94 2.06-2.06.94zm-11 1L8.5 8.5l.94-2.06 2.06-.94-2.06-.94L8.5 2.5l-.94 2.06-2.06.94zm10 10l.94 2.06.94-2.06 2.06-.94-2.06-.94-.94-2.06-.94 2.06-2.06.94z\"/><path d=\"M17.41 7.96l-1.37-1.37c-.4-.4-.92-.59-1.43-.59-.52 0-1.04.2-1.43.59L10.3 9.45l-7.72 7.72c-.78.78-.78 2.05 0 2.83L4 21.41c.39.39.9.59 1.41.59.51 0 1.02-.2 1.41-.59l7.78-7.78 2.81-2.81c.8-.78.8-2.07 0-2.86zM5.41 20L4 18.59l7.72-7.72 1.47 1.35L5.41 20z\"/>\n",
              "  </svg>\n",
              "      </button>\n",
              "      \n",
              "  <style>\n",
              "    .colab-df-container {\n",
              "      display:flex;\n",
              "      flex-wrap:wrap;\n",
              "      gap: 12px;\n",
              "    }\n",
              "\n",
              "    .colab-df-convert {\n",
              "      background-color: #E8F0FE;\n",
              "      border: none;\n",
              "      border-radius: 50%;\n",
              "      cursor: pointer;\n",
              "      display: none;\n",
              "      fill: #1967D2;\n",
              "      height: 32px;\n",
              "      padding: 0 0 0 0;\n",
              "      width: 32px;\n",
              "    }\n",
              "\n",
              "    .colab-df-convert:hover {\n",
              "      background-color: #E2EBFA;\n",
              "      box-shadow: 0px 1px 2px rgba(60, 64, 67, 0.3), 0px 1px 3px 1px rgba(60, 64, 67, 0.15);\n",
              "      fill: #174EA6;\n",
              "    }\n",
              "\n",
              "    [theme=dark] .colab-df-convert {\n",
              "      background-color: #3B4455;\n",
              "      fill: #D2E3FC;\n",
              "    }\n",
              "\n",
              "    [theme=dark] .colab-df-convert:hover {\n",
              "      background-color: #434B5C;\n",
              "      box-shadow: 0px 1px 3px 1px rgba(0, 0, 0, 0.15);\n",
              "      filter: drop-shadow(0px 1px 2px rgba(0, 0, 0, 0.3));\n",
              "      fill: #FFFFFF;\n",
              "    }\n",
              "  </style>\n",
              "\n",
              "      <script>\n",
              "        const buttonEl =\n",
              "          document.querySelector('#df-3e9d9866-18f3-44b7-9734-da4ce595c594 button.colab-df-convert');\n",
              "        buttonEl.style.display =\n",
              "          google.colab.kernel.accessAllowed ? 'block' : 'none';\n",
              "\n",
              "        async function convertToInteractive(key) {\n",
              "          const element = document.querySelector('#df-3e9d9866-18f3-44b7-9734-da4ce595c594');\n",
              "          const dataTable =\n",
              "            await google.colab.kernel.invokeFunction('convertToInteractive',\n",
              "                                                     [key], {});\n",
              "          if (!dataTable) return;\n",
              "\n",
              "          const docLinkHtml = 'Like what you see? Visit the ' +\n",
              "            '<a target=\"_blank\" href=https://colab.research.google.com/notebooks/data_table.ipynb>data table notebook</a>'\n",
              "            + ' to learn more about interactive tables.';\n",
              "          element.innerHTML = '';\n",
              "          dataTable['output_type'] = 'display_data';\n",
              "          await google.colab.output.renderOutput(dataTable, element);\n",
              "          const docLink = document.createElement('div');\n",
              "          docLink.innerHTML = docLinkHtml;\n",
              "          element.appendChild(docLink);\n",
              "        }\n",
              "      </script>\n",
              "    </div>\n",
              "  </div>\n",
              "  "
            ]
          },
          "metadata": {},
          "execution_count": 70
        }
      ]
    },
    {
      "cell_type": "code",
      "source": [
        "all_sub_red.size"
      ],
      "metadata": {
        "colab": {
          "base_uri": "https://localhost:8080/"
        },
        "id": "C_G8cs40QIrJ",
        "outputId": "04baa592-0cbd-4a87-b4b4-b005cbdf8c65"
      },
      "id": "C_G8cs40QIrJ",
      "execution_count": 71,
      "outputs": [
        {
          "output_type": "execute_result",
          "data": {
            "text/plain": [
              "600"
            ]
          },
          "metadata": {},
          "execution_count": 71
        }
      ]
    },
    {
      "cell_type": "code",
      "source": [
        "all_sub_red['text'] = all_sub_red['text'].str.strip().replace(\"\\n\", \" \").replace(\"\\r\", \" \")\n",
        "all_sub_red['text'] = all_sub_red['text'].str.lower()\n",
        "all_sub_red['text'] = all_sub_red['text'].str.strip().replace(\"#\", \"\").replace(\"@\", \"\")\n",
        "all_sub_red"
      ],
      "metadata": {
        "colab": {
          "base_uri": "https://localhost:8080/",
          "height": 424
        },
        "id": "bkY_CuPrY4cr",
        "outputId": "8be8909f-fbb7-44f5-ff68-1f2d45f80c8e"
      },
      "id": "bkY_CuPrY4cr",
      "execution_count": 72,
      "outputs": [
        {
          "output_type": "execute_result",
          "data": {
            "text/plain": [
              "                                                    text\n",
              "325    its a \"centaur\" which is effectively an astero...\n",
              "74     jupiter's major moons are europa, io, ganymede...\n",
              "258                     # nessus is not a moon of saturn\n",
              "177    saturn's major moons are titan, rhea, iapetus,...\n",
              "176    jupiter's major moons are europa, io, ganymede...\n",
              "...                                                  ...\n",
              "29626  begging for attention because their mommy didn...\n",
              "24138  i mean  what else do they have in their pathet...\n",
              "28134  have you seen florida? there are more trump fl...\n",
              "3646   man has pulled so much shit and yet walks arou...\n",
              "18822  it was a good speech, direct. exactly what was...\n",
              "\n",
              "[600 rows x 1 columns]"
            ],
            "text/html": [
              "\n",
              "  <div id=\"df-eb4f67ba-c522-466e-a398-3937b9eb4412\">\n",
              "    <div class=\"colab-df-container\">\n",
              "      <div>\n",
              "<style scoped>\n",
              "    .dataframe tbody tr th:only-of-type {\n",
              "        vertical-align: middle;\n",
              "    }\n",
              "\n",
              "    .dataframe tbody tr th {\n",
              "        vertical-align: top;\n",
              "    }\n",
              "\n",
              "    .dataframe thead th {\n",
              "        text-align: right;\n",
              "    }\n",
              "</style>\n",
              "<table border=\"1\" class=\"dataframe\">\n",
              "  <thead>\n",
              "    <tr style=\"text-align: right;\">\n",
              "      <th></th>\n",
              "      <th>text</th>\n",
              "    </tr>\n",
              "  </thead>\n",
              "  <tbody>\n",
              "    <tr>\n",
              "      <th>325</th>\n",
              "      <td>its a \"centaur\" which is effectively an astero...</td>\n",
              "    </tr>\n",
              "    <tr>\n",
              "      <th>74</th>\n",
              "      <td>jupiter's major moons are europa, io, ganymede...</td>\n",
              "    </tr>\n",
              "    <tr>\n",
              "      <th>258</th>\n",
              "      <td># nessus is not a moon of saturn</td>\n",
              "    </tr>\n",
              "    <tr>\n",
              "      <th>177</th>\n",
              "      <td>saturn's major moons are titan, rhea, iapetus,...</td>\n",
              "    </tr>\n",
              "    <tr>\n",
              "      <th>176</th>\n",
              "      <td>jupiter's major moons are europa, io, ganymede...</td>\n",
              "    </tr>\n",
              "    <tr>\n",
              "      <th>...</th>\n",
              "      <td>...</td>\n",
              "    </tr>\n",
              "    <tr>\n",
              "      <th>29626</th>\n",
              "      <td>begging for attention because their mommy didn...</td>\n",
              "    </tr>\n",
              "    <tr>\n",
              "      <th>24138</th>\n",
              "      <td>i mean  what else do they have in their pathet...</td>\n",
              "    </tr>\n",
              "    <tr>\n",
              "      <th>28134</th>\n",
              "      <td>have you seen florida? there are more trump fl...</td>\n",
              "    </tr>\n",
              "    <tr>\n",
              "      <th>3646</th>\n",
              "      <td>man has pulled so much shit and yet walks arou...</td>\n",
              "    </tr>\n",
              "    <tr>\n",
              "      <th>18822</th>\n",
              "      <td>it was a good speech, direct. exactly what was...</td>\n",
              "    </tr>\n",
              "  </tbody>\n",
              "</table>\n",
              "<p>600 rows × 1 columns</p>\n",
              "</div>\n",
              "      <button class=\"colab-df-convert\" onclick=\"convertToInteractive('df-eb4f67ba-c522-466e-a398-3937b9eb4412')\"\n",
              "              title=\"Convert this dataframe to an interactive table.\"\n",
              "              style=\"display:none;\">\n",
              "        \n",
              "  <svg xmlns=\"http://www.w3.org/2000/svg\" height=\"24px\"viewBox=\"0 0 24 24\"\n",
              "       width=\"24px\">\n",
              "    <path d=\"M0 0h24v24H0V0z\" fill=\"none\"/>\n",
              "    <path d=\"M18.56 5.44l.94 2.06.94-2.06 2.06-.94-2.06-.94-.94-2.06-.94 2.06-2.06.94zm-11 1L8.5 8.5l.94-2.06 2.06-.94-2.06-.94L8.5 2.5l-.94 2.06-2.06.94zm10 10l.94 2.06.94-2.06 2.06-.94-2.06-.94-.94-2.06-.94 2.06-2.06.94z\"/><path d=\"M17.41 7.96l-1.37-1.37c-.4-.4-.92-.59-1.43-.59-.52 0-1.04.2-1.43.59L10.3 9.45l-7.72 7.72c-.78.78-.78 2.05 0 2.83L4 21.41c.39.39.9.59 1.41.59.51 0 1.02-.2 1.41-.59l7.78-7.78 2.81-2.81c.8-.78.8-2.07 0-2.86zM5.41 20L4 18.59l7.72-7.72 1.47 1.35L5.41 20z\"/>\n",
              "  </svg>\n",
              "      </button>\n",
              "      \n",
              "  <style>\n",
              "    .colab-df-container {\n",
              "      display:flex;\n",
              "      flex-wrap:wrap;\n",
              "      gap: 12px;\n",
              "    }\n",
              "\n",
              "    .colab-df-convert {\n",
              "      background-color: #E8F0FE;\n",
              "      border: none;\n",
              "      border-radius: 50%;\n",
              "      cursor: pointer;\n",
              "      display: none;\n",
              "      fill: #1967D2;\n",
              "      height: 32px;\n",
              "      padding: 0 0 0 0;\n",
              "      width: 32px;\n",
              "    }\n",
              "\n",
              "    .colab-df-convert:hover {\n",
              "      background-color: #E2EBFA;\n",
              "      box-shadow: 0px 1px 2px rgba(60, 64, 67, 0.3), 0px 1px 3px 1px rgba(60, 64, 67, 0.15);\n",
              "      fill: #174EA6;\n",
              "    }\n",
              "\n",
              "    [theme=dark] .colab-df-convert {\n",
              "      background-color: #3B4455;\n",
              "      fill: #D2E3FC;\n",
              "    }\n",
              "\n",
              "    [theme=dark] .colab-df-convert:hover {\n",
              "      background-color: #434B5C;\n",
              "      box-shadow: 0px 1px 3px 1px rgba(0, 0, 0, 0.15);\n",
              "      filter: drop-shadow(0px 1px 2px rgba(0, 0, 0, 0.3));\n",
              "      fill: #FFFFFF;\n",
              "    }\n",
              "  </style>\n",
              "\n",
              "      <script>\n",
              "        const buttonEl =\n",
              "          document.querySelector('#df-eb4f67ba-c522-466e-a398-3937b9eb4412 button.colab-df-convert');\n",
              "        buttonEl.style.display =\n",
              "          google.colab.kernel.accessAllowed ? 'block' : 'none';\n",
              "\n",
              "        async function convertToInteractive(key) {\n",
              "          const element = document.querySelector('#df-eb4f67ba-c522-466e-a398-3937b9eb4412');\n",
              "          const dataTable =\n",
              "            await google.colab.kernel.invokeFunction('convertToInteractive',\n",
              "                                                     [key], {});\n",
              "          if (!dataTable) return;\n",
              "\n",
              "          const docLinkHtml = 'Like what you see? Visit the ' +\n",
              "            '<a target=\"_blank\" href=https://colab.research.google.com/notebooks/data_table.ipynb>data table notebook</a>'\n",
              "            + ' to learn more about interactive tables.';\n",
              "          element.innerHTML = '';\n",
              "          dataTable['output_type'] = 'display_data';\n",
              "          await google.colab.output.renderOutput(dataTable, element);\n",
              "          const docLink = document.createElement('div');\n",
              "          docLink.innerHTML = docLinkHtml;\n",
              "          element.appendChild(docLink);\n",
              "        }\n",
              "      </script>\n",
              "    </div>\n",
              "  </div>\n",
              "  "
            ]
          },
          "metadata": {},
          "execution_count": 72
        }
      ]
    },
    {
      "cell_type": "markdown",
      "source": [
        "# Fitting"
      ],
      "metadata": {
        "id": "YVeC8GN6QX7W"
      },
      "id": "YVeC8GN6QX7W"
    },
    {
      "cell_type": "code",
      "source": [
        "tfidf_vect = TfidfVectorizer(analyzer='word', stop_words = 'english', max_df = 0.7)\n",
        "tfidf_tokens = tfidf_vect.fit_transform(all_sub_red['text'])\n",
        "# tfidf_tokens = tfidf_vect.fit_transform(all_sub_tweets_df['text_tokenized']) #if you have some custom cleaning function\n",
        "\n",
        "tfidf_vocab = tfidf_vect.get_feature_names_out()"
      ],
      "metadata": {
        "id": "z7zU2RoUQaWM"
      },
      "id": "z7zU2RoUQaWM",
      "execution_count": 73,
      "outputs": []
    },
    {
      "cell_type": "code",
      "source": [
        "print(tfidf_tokens[:2])\n",
        "tfidf_vocab[137]"
      ],
      "metadata": {
        "colab": {
          "base_uri": "https://localhost:8080/",
          "height": 313
        },
        "id": "xDHkFQJVRHHQ",
        "outputId": "3b6e7cac-22f0-436f-919c-1a82ac341947"
      },
      "id": "xDHkFQJVRHHQ",
      "execution_count": 74,
      "outputs": [
        {
          "output_type": "stream",
          "name": "stdout",
          "text": [
            "  (0, 1512)\t0.31915434398718695\n",
            "  (0, 512)\t0.31915434398718695\n",
            "  (0, 1070)\t0.2902298878536534\n",
            "  (0, 1648)\t0.45371282800366014\n",
            "  (0, 1377)\t0.31671265010409555\n",
            "  (0, 1333)\t0.31915434398718695\n",
            "  (0, 126)\t0.31915434398718695\n",
            "  (0, 582)\t0.31671265010409555\n",
            "  (0, 271)\t0.31915434398718695\n",
            "  (1, 246)\t0.40050098157135916\n",
            "  (1, 779)\t0.40050098157135916\n",
            "  (1, 1006)\t0.40050098157135916\n",
            "  (1, 624)\t0.40050098157135916\n",
            "  (1, 1249)\t0.294304628339576\n",
            "  (1, 1175)\t0.33373583047043837\n",
            "  (1, 1048)\t0.40050098157135916\n"
          ]
        },
        {
          "output_type": "execute_result",
          "data": {
            "text/plain": [
              "'author'"
            ],
            "application/vnd.google.colaboratory.intrinsic+json": {
              "type": "string"
            }
          },
          "metadata": {},
          "execution_count": 74
        }
      ]
    },
    {
      "cell_type": "markdown",
      "source": [
        "# Applying LDA"
      ],
      "metadata": {
        "id": "vo0Gp3bSRTg5"
      },
      "id": "vo0Gp3bSRTg5"
    },
    {
      "cell_type": "code",
      "source": [
        "lda = LatentDirichletAllocation(n_components = 25, doc_topic_prior = 1, topic_word_prior= 0.01)\n",
        "lda.fit(tfidf_tokens)"
      ],
      "metadata": {
        "colab": {
          "base_uri": "https://localhost:8080/"
        },
        "id": "PtesG47yRMWx",
        "outputId": "151a51ae-ceca-4ab2-ce9c-3d0d5dd8771b"
      },
      "id": "PtesG47yRMWx",
      "execution_count": 75,
      "outputs": [
        {
          "output_type": "execute_result",
          "data": {
            "text/plain": [
              "LatentDirichletAllocation(doc_topic_prior=1, n_components=25,\n",
              "                          topic_word_prior=0.01)"
            ]
          },
          "metadata": {},
          "execution_count": 75
        }
      ]
    },
    {
      "cell_type": "code",
      "source": [
        "topic_words = {}\n",
        "n_top_words = 25\n",
        "for topic, comp in enumerate(lda.components_):\n",
        "    word_idx = np.argsort(comp)[::-1][:n_top_words]\n",
        "    # store the words most relevant to the topic\n",
        "    topic_words[topic] = [tfidf_vocab[i] for i in word_idx]\n",
        "    \n",
        "for topic, words in topic_words.items():\n",
        "    print('Topic: %d' % topic)\n",
        "    print('  %s' % ', '.join(words))"
      ],
      "metadata": {
        "colab": {
          "base_uri": "https://localhost:8080/"
        },
        "id": "bQYcfBV9Rk2Z",
        "outputId": "981e0749-8764-431a-9b2b-589ec3cd50d5"
      },
      "id": "bQYcfBV9Rk2Z",
      "execution_count": 76,
      "outputs": [
        {
          "output_type": "stream",
          "name": "stdout",
          "text": [
            "Topic: 0\n",
            "  going, feel, like, cult, politics, judge, loser, suck, read, live, patient, socialist, nessus, treasoner, sad, feeling, simply, grab, happier, upmc, consider, usually, hatred, knowing, mrsa\n",
            "Topic: 1\n",
            "  past, shit, religious, money, kind, need, saturn, went, rule, choice, weren, forbid, blm, lords, straight, guilty, heard, trashy, oh, ok, approved, storytelling, event, insurrectionist, thousand\n",
            "Topic: 2\n",
            "  europa, io, ganymede, callisto, major, moons, jupiter, fuck, ones, place, makes, use, point, appointed, fly, ton, wanted, ideology, public, community, lined, university, report, cool, liberals\n",
            "Topic: 3\n",
            "  mimas, tethys, dione, major, rhea, games, probably, judiciary, senate, nomination, tell, lolol, moons, getting, apparently, saturn, plea, gaming, private, nazi, wrong, fan, respecting, change, bot\n",
            "Topic: 4\n",
            "  executive, dick, saturn, identity, right, like, support, words, way, talk, trans, ancient, interesting, action, content, virtue, education, brochures, squiggly, best, coworker, pick, chance, hope, hospitals\n",
            "Topic: 5\n",
            "  time, political, republicans, world, https, clear, come, letting, works, birth, blamed, vitriolic, groups, ve, fine, rights, outdated, recommended, multiple, snowflakes, post, campgrounds, budget, minds, previous\n",
            "Topic: 6\n",
            "  don, new, christianity, kids, god, trying, law, able, threat, policy, partly, judges, stuff, ll, lost, explanation, tread, feels, hundreds, classified, annual, area, won, tolerate, prove\n",
            "Topic: 7\n",
            "  trump, reasons, democracy, special, moon, thinks, torah, extremely, coworkers, awesome, current, ethnic, wildermyth, played, senator, iapetus, reading, ultimately, curriculum, initiation, anymore, mouth, higher, willing, burned\n",
            "Topic: 8\n",
            "  iapetus, enceladus, saying, rhea, jesus, seething, allowed, stupid, 100, crap, pretty, choices, wouldn, help, instead, children, family, success, consoles, english, nullified, ask, staff, hands, reality\n",
            "Topic: 9\n",
            "  minor, game, seen, ve, tons, moons, picture, sure, taking, presidential, scapegoat, sheetz, 420, stop, obnoxious, shouldn, set, worms, judgy, secret, stall, olds, controlling, thread, sleep\n",
            "Topic: 10\n",
            "  nta, country, hospital, love, american, let, thing, came, feelings, actual, weird, reason, open, later, large, office, review, mistreated, lobbyists, dirty, outer, medieval, existence, shitty, imagery\n",
            "Topic: 11\n",
            "  does, beach, says, share, message, colloton, rich, free, indictment, supremacists, practices, compelling, rubio, students, period, witness, usury, bankers, gone, wasn, social, peace, theories, christian, takes\n",
            "Topic: 12\n",
            "  titan, religion, saturn, good, aita, freedom, doing, times, non, respect, idea, saw, nice, america, gentiles, op, cannon, ears, acting, humans, intentional, minorities, opposed, religions, plague\n",
            "Topic: 13\n",
            "  edit, guy, dislike, maybe, gods, mean, pathetic, koran, moral, saturn, lines, north, joe, workplaces, reflecting, huge, sounds, lol, posts, info, moon, fraction, cognitive, alienate, second\n",
            "Topic: 14\n",
            "  group, workplace, better, beliefs, bush, patients, biden, literally, george, campaign, crowd, used, florida, guys, control, conversation, book, cultures, conquer, satanism, doesn, written, realize, rarely, district\n",
            "Topic: 15\n",
            "  saturn, orbits, asteroid, puts, director, centaur, effectively, long, look, iowa, easy, ass, master, facebook, government, places, egyptians, ain, asking, bullshit, population, entire, leave, truly, unfortunately\n",
            "Topic: 16\n",
            "  flags, deleted, today, didn, make, catholic, said, appropriate, history, documents, year, answer, donald, managed, pagan, took, numbers, fucked, super, handle, peoples, told, destructive, sick, concerns\n",
            "Topic: 17\n",
            "  jupiter, enceladus, did, worked, moon, saturn, callisto, real, writing, culture, normalized, truth, romans, luck, strong, king, dues, sadly, number, moons, convert, reformed, video, built, daddy\n",
            "Topic: 18\n",
            "  jews, president, speech, different, crock, form, far, literature, subscribe, great, nastiness, raise, divisive, bunch, blue, judea, outside, older, tend, material, fl, parking, based, shove, signaling\n",
            "Topic: 19\n",
            "  people, moon, work, violence, say, really, books, treat, 2000, waaaah, gift, moons, believe, away, coming, false, alternate, continues, guess, texas, bad, goblins, nessus, basic, state\n",
            "Topic: 20\n",
            "  just, want, lot, conservative, required, privilege, issue, pro, christians, assholes, asked, nope, swim, pussy, pamphlets, absolutely, hr, snake, workers, exactly, behavior, pride, bitches, cultural, rabbit\n",
            "Topic: 21\n",
            "  nessus, saturn, moon, asshole, think, fucking, life, pass, things, jew, terrorists, single, drawing, gonna, fee, basically, mind, 23, islam, epitome, extends, thought, 5th, space, speedos\n",
            "Topic: 22\n",
            "  know, removed, effectively, like, years, totally, man, jersey, crazy, yeah, maga, story, discuss, cause, talking, donny, sources, rest, available, case, channels, ffxiv, hurt, isn, series\n",
            "Topic: 23\n",
            "  moon, flag, jewish, big, party, hate, attack, evangelize, hand, narrative, person, course, christ, gross, isolated, wonder, background, banners, telling, claim, middle, domestic, killing, direct, syllabus\n",
            "Topic: 24\n",
            "  moons, moon, major, ago, face, access, little, chosen, couple, means, completely, strange, calling, communities, ear, brilliant, solicitation, class, semetic, breaks, bit, resented, night, majority, response\n"
          ]
        }
      ]
    },
    {
      "cell_type": "markdown",
      "source": [
        "# Optimize the model with Coherence Score"
      ],
      "metadata": {
        "id": "B-ZIdWLuiEDQ"
      },
      "id": "B-ZIdWLuiEDQ"
    },
    {
      "cell_type": "code",
      "source": [
        "!pip install gensim"
      ],
      "metadata": {
        "colab": {
          "base_uri": "https://localhost:8080/"
        },
        "id": "1RWYnoAzigFi",
        "outputId": "5f4f32c7-bfc7-428e-8b90-82733d89fdf3"
      },
      "id": "1RWYnoAzigFi",
      "execution_count": 77,
      "outputs": [
        {
          "output_type": "stream",
          "name": "stdout",
          "text": [
            "Looking in indexes: https://pypi.org/simple, https://us-python.pkg.dev/colab-wheels/public/simple/\n",
            "Requirement already satisfied: gensim in /usr/local/lib/python3.7/dist-packages (3.6.0)\n",
            "Requirement already satisfied: numpy>=1.11.3 in /usr/local/lib/python3.7/dist-packages (from gensim) (1.21.6)\n",
            "Requirement already satisfied: smart-open>=1.2.1 in /usr/local/lib/python3.7/dist-packages (from gensim) (5.2.1)\n",
            "Requirement already satisfied: scipy>=0.18.1 in /usr/local/lib/python3.7/dist-packages (from gensim) (1.7.3)\n",
            "Requirement already satisfied: six>=1.5.0 in /usr/local/lib/python3.7/dist-packages (from gensim) (1.15.0)\n"
          ]
        }
      ]
    },
    {
      "cell_type": "code",
      "source": [
        "from gensim.models import CoherenceModel\n",
        "\n",
        "# Calculate Coherence score\n",
        "coherence_model_lda = CoherenceModel(model=lda, texts = tfidf_tokens, dictionary= TfidfVectorizer, coherence = 'c_v')\n",
        "coherence_lda = coherence_model_lda.get_coherence()\n",
        "print(\"\\nCoherence Score: \", coherence_lda)\n"
      ],
      "metadata": {
        "colab": {
          "base_uri": "https://localhost:8080/",
          "height": 433
        },
        "id": "xwd-0_m3iKv8",
        "outputId": "5172f63f-ede8-4cb3-cc26-6287b35c161b"
      },
      "id": "xwd-0_m3iKv8",
      "execution_count": 78,
      "outputs": [
        {
          "output_type": "error",
          "ename": "ValueError",
          "evalue": "ignored",
          "traceback": [
            "\u001b[0;31m---------------------------------------------------------------------------\u001b[0m",
            "\u001b[0;31mAttributeError\u001b[0m                            Traceback (most recent call last)",
            "\u001b[0;32m/usr/local/lib/python3.7/dist-packages/gensim/models/coherencemodel.py\u001b[0m in \u001b[0;36m_get_topics_from_model\u001b[0;34m(model, topn)\u001b[0m\n\u001b[1;32m    484\u001b[0m                 \u001b[0mmatutils\u001b[0m\u001b[0;34m.\u001b[0m\u001b[0margsort\u001b[0m\u001b[0;34m(\u001b[0m\u001b[0mtopic\u001b[0m\u001b[0;34m,\u001b[0m \u001b[0mtopn\u001b[0m\u001b[0;34m=\u001b[0m\u001b[0mtopn\u001b[0m\u001b[0;34m,\u001b[0m \u001b[0mreverse\u001b[0m\u001b[0;34m=\u001b[0m\u001b[0;32mTrue\u001b[0m\u001b[0;34m)\u001b[0m \u001b[0;32mfor\u001b[0m \u001b[0mtopic\u001b[0m \u001b[0;32min\u001b[0m\u001b[0;34m\u001b[0m\u001b[0;34m\u001b[0m\u001b[0m\n\u001b[0;32m--> 485\u001b[0;31m                 \u001b[0mmodel\u001b[0m\u001b[0;34m.\u001b[0m\u001b[0mget_topics\u001b[0m\u001b[0;34m(\u001b[0m\u001b[0;34m)\u001b[0m\u001b[0;34m\u001b[0m\u001b[0;34m\u001b[0m\u001b[0m\n\u001b[0m\u001b[1;32m    486\u001b[0m             ]\n",
            "\u001b[0;31mAttributeError\u001b[0m: 'LatentDirichletAllocation' object has no attribute 'get_topics'",
            "\nDuring handling of the above exception, another exception occurred:\n",
            "\u001b[0;31mValueError\u001b[0m                                Traceback (most recent call last)",
            "\u001b[0;32m<ipython-input-78-ecbce01eb1be>\u001b[0m in \u001b[0;36m<module>\u001b[0;34m\u001b[0m\n\u001b[1;32m      2\u001b[0m \u001b[0;34m\u001b[0m\u001b[0m\n\u001b[1;32m      3\u001b[0m \u001b[0;31m# Calculate Coherence score\u001b[0m\u001b[0;34m\u001b[0m\u001b[0;34m\u001b[0m\u001b[0;34m\u001b[0m\u001b[0m\n\u001b[0;32m----> 4\u001b[0;31m \u001b[0mcoherence_model_lda\u001b[0m \u001b[0;34m=\u001b[0m \u001b[0mCoherenceModel\u001b[0m\u001b[0;34m(\u001b[0m\u001b[0mmodel\u001b[0m\u001b[0;34m=\u001b[0m\u001b[0mlda\u001b[0m\u001b[0;34m,\u001b[0m \u001b[0mtexts\u001b[0m \u001b[0;34m=\u001b[0m \u001b[0mtfidf_tokens\u001b[0m\u001b[0;34m,\u001b[0m \u001b[0mdictionary\u001b[0m\u001b[0;34m=\u001b[0m \u001b[0mTfidfVectorizer\u001b[0m\u001b[0;34m,\u001b[0m \u001b[0mcoherence\u001b[0m \u001b[0;34m=\u001b[0m \u001b[0;34m'c_v'\u001b[0m\u001b[0;34m)\u001b[0m\u001b[0;34m\u001b[0m\u001b[0;34m\u001b[0m\u001b[0m\n\u001b[0m\u001b[1;32m      5\u001b[0m \u001b[0mcoherence_lda\u001b[0m \u001b[0;34m=\u001b[0m \u001b[0mcoherence_model_lda\u001b[0m\u001b[0;34m.\u001b[0m\u001b[0mget_coherence\u001b[0m\u001b[0;34m(\u001b[0m\u001b[0;34m)\u001b[0m\u001b[0;34m\u001b[0m\u001b[0;34m\u001b[0m\u001b[0m\n\u001b[1;32m      6\u001b[0m \u001b[0mprint\u001b[0m\u001b[0;34m(\u001b[0m\u001b[0;34m\"\\nCoherence Score: \"\u001b[0m\u001b[0;34m,\u001b[0m \u001b[0mcoherence_lda\u001b[0m\u001b[0;34m)\u001b[0m\u001b[0;34m\u001b[0m\u001b[0;34m\u001b[0m\u001b[0m\n",
            "\u001b[0;32m/usr/local/lib/python3.7/dist-packages/gensim/models/coherencemodel.py\u001b[0m in \u001b[0;36m__init__\u001b[0;34m(self, model, topics, texts, corpus, dictionary, window_size, keyed_vectors, coherence, topn, processes)\u001b[0m\n\u001b[1;32m    206\u001b[0m         \u001b[0mself\u001b[0m\u001b[0;34m.\u001b[0m\u001b[0m_accumulator\u001b[0m \u001b[0;34m=\u001b[0m \u001b[0;32mNone\u001b[0m\u001b[0;34m\u001b[0m\u001b[0;34m\u001b[0m\u001b[0m\n\u001b[1;32m    207\u001b[0m         \u001b[0mself\u001b[0m\u001b[0;34m.\u001b[0m\u001b[0m_topics\u001b[0m \u001b[0;34m=\u001b[0m \u001b[0;32mNone\u001b[0m\u001b[0;34m\u001b[0m\u001b[0;34m\u001b[0m\u001b[0m\n\u001b[0;32m--> 208\u001b[0;31m         \u001b[0mself\u001b[0m\u001b[0;34m.\u001b[0m\u001b[0mtopics\u001b[0m \u001b[0;34m=\u001b[0m \u001b[0mtopics\u001b[0m\u001b[0;34m\u001b[0m\u001b[0;34m\u001b[0m\u001b[0m\n\u001b[0m\u001b[1;32m    209\u001b[0m \u001b[0;34m\u001b[0m\u001b[0m\n\u001b[1;32m    210\u001b[0m         \u001b[0mself\u001b[0m\u001b[0;34m.\u001b[0m\u001b[0mprocesses\u001b[0m \u001b[0;34m=\u001b[0m \u001b[0mprocesses\u001b[0m \u001b[0;32mif\u001b[0m \u001b[0mprocesses\u001b[0m \u001b[0;34m>=\u001b[0m \u001b[0;36m1\u001b[0m \u001b[0;32melse\u001b[0m \u001b[0mmax\u001b[0m\u001b[0;34m(\u001b[0m\u001b[0;36m1\u001b[0m\u001b[0;34m,\u001b[0m \u001b[0mmp\u001b[0m\u001b[0;34m.\u001b[0m\u001b[0mcpu_count\u001b[0m\u001b[0;34m(\u001b[0m\u001b[0;34m)\u001b[0m \u001b[0;34m-\u001b[0m \u001b[0;36m1\u001b[0m\u001b[0;34m)\u001b[0m\u001b[0;34m\u001b[0m\u001b[0;34m\u001b[0m\u001b[0m\n",
            "\u001b[0;32m/usr/local/lib/python3.7/dist-packages/gensim/models/coherencemodel.py\u001b[0m in \u001b[0;36mtopics\u001b[0;34m(self, topics)\u001b[0m\n\u001b[1;32m    427\u001b[0m                     self.model)\n\u001b[1;32m    428\u001b[0m         \u001b[0;32melif\u001b[0m \u001b[0mself\u001b[0m\u001b[0;34m.\u001b[0m\u001b[0mmodel\u001b[0m \u001b[0;32mis\u001b[0m \u001b[0;32mnot\u001b[0m \u001b[0;32mNone\u001b[0m\u001b[0;34m:\u001b[0m\u001b[0;34m\u001b[0m\u001b[0;34m\u001b[0m\u001b[0m\n\u001b[0;32m--> 429\u001b[0;31m             \u001b[0mnew_topics\u001b[0m \u001b[0;34m=\u001b[0m \u001b[0mself\u001b[0m\u001b[0;34m.\u001b[0m\u001b[0m_get_topics\u001b[0m\u001b[0;34m(\u001b[0m\u001b[0;34m)\u001b[0m\u001b[0;34m\u001b[0m\u001b[0;34m\u001b[0m\u001b[0m\n\u001b[0m\u001b[1;32m    430\u001b[0m             \u001b[0mlogger\u001b[0m\u001b[0;34m.\u001b[0m\u001b[0mdebug\u001b[0m\u001b[0;34m(\u001b[0m\u001b[0;34m\"Setting topics to those of the model: %s\"\u001b[0m\u001b[0;34m,\u001b[0m \u001b[0mself\u001b[0m\u001b[0;34m.\u001b[0m\u001b[0mmodel\u001b[0m\u001b[0;34m)\u001b[0m\u001b[0;34m\u001b[0m\u001b[0;34m\u001b[0m\u001b[0m\n\u001b[1;32m    431\u001b[0m         \u001b[0;32melse\u001b[0m\u001b[0;34m:\u001b[0m\u001b[0;34m\u001b[0m\u001b[0;34m\u001b[0m\u001b[0m\n",
            "\u001b[0;32m/usr/local/lib/python3.7/dist-packages/gensim/models/coherencemodel.py\u001b[0m in \u001b[0;36m_get_topics\u001b[0;34m(self)\u001b[0m\n\u001b[1;32m    461\u001b[0m     \u001b[0;32mdef\u001b[0m \u001b[0m_get_topics\u001b[0m\u001b[0;34m(\u001b[0m\u001b[0mself\u001b[0m\u001b[0;34m)\u001b[0m\u001b[0;34m:\u001b[0m\u001b[0;34m\u001b[0m\u001b[0;34m\u001b[0m\u001b[0m\n\u001b[1;32m    462\u001b[0m         \u001b[0;34m\"\"\"Internal helper function to return topics from a trained topic model.\"\"\"\u001b[0m\u001b[0;34m\u001b[0m\u001b[0;34m\u001b[0m\u001b[0m\n\u001b[0;32m--> 463\u001b[0;31m         \u001b[0;32mreturn\u001b[0m \u001b[0mself\u001b[0m\u001b[0;34m.\u001b[0m\u001b[0m_get_topics_from_model\u001b[0m\u001b[0;34m(\u001b[0m\u001b[0mself\u001b[0m\u001b[0;34m.\u001b[0m\u001b[0mmodel\u001b[0m\u001b[0;34m,\u001b[0m \u001b[0mself\u001b[0m\u001b[0;34m.\u001b[0m\u001b[0mtopn\u001b[0m\u001b[0;34m)\u001b[0m\u001b[0;34m\u001b[0m\u001b[0;34m\u001b[0m\u001b[0m\n\u001b[0m\u001b[1;32m    464\u001b[0m \u001b[0;34m\u001b[0m\u001b[0m\n\u001b[1;32m    465\u001b[0m     \u001b[0;34m@\u001b[0m\u001b[0mstaticmethod\u001b[0m\u001b[0;34m\u001b[0m\u001b[0;34m\u001b[0m\u001b[0m\n",
            "\u001b[0;32m/usr/local/lib/python3.7/dist-packages/gensim/models/coherencemodel.py\u001b[0m in \u001b[0;36m_get_topics_from_model\u001b[0;34m(model, topn)\u001b[0m\n\u001b[1;32m    487\u001b[0m         \u001b[0;32mexcept\u001b[0m \u001b[0mAttributeError\u001b[0m\u001b[0;34m:\u001b[0m\u001b[0;34m\u001b[0m\u001b[0;34m\u001b[0m\u001b[0m\n\u001b[1;32m    488\u001b[0m             raise ValueError(\n\u001b[0;32m--> 489\u001b[0;31m                 \u001b[0;34m\"This topic model is not currently supported. Supported topic models\"\u001b[0m\u001b[0;34m\u001b[0m\u001b[0;34m\u001b[0m\u001b[0m\n\u001b[0m\u001b[1;32m    490\u001b[0m                 \" should implement the `get_topics` method.\")\n\u001b[1;32m    491\u001b[0m \u001b[0;34m\u001b[0m\u001b[0m\n",
            "\u001b[0;31mValueError\u001b[0m: This topic model is not currently supported. Supported topic models should implement the `get_topics` method."
          ]
        }
      ]
    },
    {
      "cell_type": "code",
      "source": [
        "# lda_model - LatentDirichletAllocation()\n",
        "# vect - CountVectorizer()\n",
        "# texts - the list of tokenized words\n",
        "metric_coherence_gensim(measure='c_v', \n",
        "                        top_n=25, \n",
        "                        topic_word_distrib=lda_model.components_, \n",
        "                        dtm=dtm_tf, \n",
        "                        vocab=np.array([x for x in vect.vocabulary_.keys()]), \n",
        "                        texts=train['cleaned_NOUN'].values)"
      ],
      "metadata": {
        "colab": {
          "base_uri": "https://localhost:8080/",
          "height": 235
        },
        "id": "mwBd5l8nkogE",
        "outputId": "a409d420-836f-4acb-945c-04bc69e4d3a5"
      },
      "id": "mwBd5l8nkogE",
      "execution_count": 79,
      "outputs": [
        {
          "output_type": "error",
          "ename": "NameError",
          "evalue": "ignored",
          "traceback": [
            "\u001b[0;31m---------------------------------------------------------------------------\u001b[0m",
            "\u001b[0;31mNameError\u001b[0m                                 Traceback (most recent call last)",
            "\u001b[0;32m<ipython-input-79-7355e17e340d>\u001b[0m in \u001b[0;36m<module>\u001b[0;34m\u001b[0m\n\u001b[1;32m      2\u001b[0m \u001b[0;31m# vect - CountVectorizer()\u001b[0m\u001b[0;34m\u001b[0m\u001b[0;34m\u001b[0m\u001b[0;34m\u001b[0m\u001b[0m\n\u001b[1;32m      3\u001b[0m \u001b[0;31m# texts - the list of tokenized words\u001b[0m\u001b[0;34m\u001b[0m\u001b[0;34m\u001b[0m\u001b[0;34m\u001b[0m\u001b[0m\n\u001b[0;32m----> 4\u001b[0;31m metric_coherence_gensim(measure='c_v', \n\u001b[0m\u001b[1;32m      5\u001b[0m                         \u001b[0mtop_n\u001b[0m\u001b[0;34m=\u001b[0m\u001b[0;36m25\u001b[0m\u001b[0;34m,\u001b[0m\u001b[0;34m\u001b[0m\u001b[0;34m\u001b[0m\u001b[0m\n\u001b[1;32m      6\u001b[0m                         \u001b[0mtopic_word_distrib\u001b[0m\u001b[0;34m=\u001b[0m\u001b[0mlda_model\u001b[0m\u001b[0;34m.\u001b[0m\u001b[0mcomponents_\u001b[0m\u001b[0;34m,\u001b[0m\u001b[0;34m\u001b[0m\u001b[0;34m\u001b[0m\u001b[0m\n",
            "\u001b[0;31mNameError\u001b[0m: name 'metric_coherence_gensim' is not defined"
          ]
        }
      ]
    },
    {
      "cell_type": "code",
      "source": [
        "import spacy\n",
        "import en_core_web_sm\n",
        "nlp = en_core_web_sm.load(disable=['parser', 'ner'])\n",
        "\n",
        "def lemmatization(texts):\n",
        "  texts_out = []\n",
        "  for sent in texts:\n",
        "    doc= nlp(\" \".join(sent))\n",
        "    texts_out.append([token.lemma_ for token in doc])\n",
        "  return texts_out\n",
        "data_lemmatized = lemmatization(all_sub_red['text'])\n",
        "print(data_lemmatized[:20])"
      ],
      "metadata": {
        "colab": {
          "base_uri": "https://localhost:8080/"
        },
        "id": "fLtRTy-xpqSB",
        "outputId": "34d774ad-b3a0-4de7-bbdd-546a1d0df08f"
      },
      "id": "fLtRTy-xpqSB",
      "execution_count": 81,
      "outputs": [
        {
          "output_type": "stream",
          "name": "stdout",
          "text": [
            "[['I', 't', 's', '  ', 'a', '  ', '\"', 'c', 'e', 'n', 't', 'a', 'u', 'r', '\"', '  ', 'w', 'h', 'I', 'c', 'h', '  ', 'I', 's', '  ', 'e', 'f', 'f', 'e', 'c', 't', 'I', 'v', 'e', 'l', 'y', '  ', 'a', 'n', '  ', 'a', 's', 't', 'e', 'r', 'o', 'I', 'd', '  ', 't', 'h', 'a', 't', '  ', 'o', 'r', 'b', 'I', 't', 's', '  ', 'p', 'a', 's', 't', '  ', 's', 'a', 't', 'u', 'r', 'n', '.', '  ', 'I', '  ', 'd', 'o', '  ', 'n', 'o', 't', '  ', 'k', 'n', 'o', 'w', '  ', 'w', 'h', 'y', '  ', 't', 'h', 'e', '  ', 'd', 'I', 'r', 'e', 'c', 't', 'o', 'r', '  ', 'p', 'u', 't', 's', '  ', 'I', 't', '  ', 'w', 'i', 't', 'h', '  ', 's', 'a', 't', 'u', 'r', 'n'], ['j', 'u', 'p', 'i', 't', 'e', 'r', \"'\", 's', '  ', 'm', 'a', 'j', 'o', 'r', '  ', 'm', 'o', 'o', 'n', 's', '  ', 'a', 'r', 'e', '  ', 'e', 'u', 'r', 'o', 'p', 'a', ',', '  ', 'I', 'o', ',', '  ', 'g', 'a', 'n', 'y', 'm', 'e', 'd', 'e', ',', '  ', 'a', 'n', 'd', '  ', 'c', 'a', 'l', 'l', 'I', 's', 't', 'o'], ['#', '  ', 'n', 'e', 's', 's', 'u', 's', '  ', 'I', 's', '  ', 'n', 'o', 't', '  ', 'a', '  ', 'm', 'o', 'o', 'n', '  ', 'o', 'f', '  ', 's', 'a', 't', 'u', 'r', 'n'], ['s', 'a', 't', 'u', 'r', 'n', \"'\", 's', '  ', 'm', 'a', 'j', 'o', 'r', '  ', 'm', 'o', 'o', 'n', 's', '  ', 'a', 'r', 'e', '  ', 't', 'I', 't', 'a', 'n', ',', '  ', 'r', 'h', 'e', 'a', ',', '  ', 'I', 'a', 'p', 'e', 't', 'u', 's', ',', '  ', 'd', 'i', 'o', 'n', 'e', ',', '  ', 't', 'e', 't', 'h', 'y', 's', ',', '  ', 'e', 'n', 'c', 'e', 'l', 'a', 'd', 'u', 's', ',', '  ', 'a', 'n', 'd', '  ', 'm', 'I', 'm', 'a', 's', '.'], ['j', 'u', 'p', 'i', 't', 'e', 'r', \"'\", 's', '  ', 'm', 'a', 'j', 'o', 'r', '  ', 'm', 'o', 'o', 'n', 's', '  ', 'a', 'r', 'e', '  ', 'e', 'u', 'r', 'o', 'p', 'a', ',', '  ', 'I', 'o', ',', '  ', 'g', 'a', 'n', 'y', 'm', 'e', 'd', 'e', ',', '  ', 'a', 'n', 'd', '  ', 'c', 'a', 'l', 'l', 'I', 's', 't', 'o'], ['#', '  ', 'n', 'e', 's', 's', 'u', 's', '  ', 'I', 's', '  ', 'n', 'o', 't', '  ', 'a', '  ', 'm', 'o', 'o', 'n', '  ', 'o', 'f', '  ', 's', 'a', 't', 'u', 'r', 'n'], ['#', '  ', 'n', 'e', 's', 's', 'u', 's', '  ', 'I', 's', '  ', 'n', 'o', 't', '  ', 'a', '  ', 'm', 'o', 'o', 'n', '  ', 'o', 'f', '  ', 's', 'a', 't', 'u', 'r', 'n'], ['I', 't', 's', '  ', 'a', '  ', '\"', 'c', 'e', 'n', 't', 'a', 'u', 'r', '\"', '  ', 'w', 'h', 'I', 'c', 'h', '  ', 'I', 's', '  ', 'e', 'f', 'f', 'e', 'c', 't', 'I', 'v', 'e', 'l', 'y', '  ', 'a', 'n', '  ', 'a', 's', 't', 'e', 'r', 'o', 'I', 'd', '  ', 't', 'h', 'a', 't', '  ', 'o', 'r', 'b', 'I', 't', 's', '  ', 'p', 'a', 's', 't', '  ', 's', 'a', 't', 'u', 'r', 'n', '.', '  ', 'I', '  ', 'd', 'o', '  ', 'n', 'o', 't', '  ', 'k', 'n', 'o', 'w', '  ', 'w', 'h', 'y', '  ', 't', 'h', 'e', '  ', 'd', 'I', 'r', 'e', 'c', 't', 'o', 'r', '  ', 'p', 'u', 't', 's', '  ', 'I', 't', '  ', 'w', 'i', 't', 'h', '  ', 's', 'a', 't', 'u', 'r', 'n'], ['#', '  ', 'n', 'e', 's', 's', 'u', 's', '  ', 'I', 's', '  ', 'n', 'o', 't', '  ', 'a', '  ', 'm', 'o', 'o', 'n', '  ', 'o', 'f', '  ', 's', 'a', 't', 'u', 'r', 'n'], ['b', 'o', 't', 'h', '  ', 'o', 'f', '  ', 't', 'h', 'e', 's', 'e', '  ', 'a', 'l', 's', 'o', '  ', 'h', 'a', 'v', 'e', '  ', 't', 'o', 'n', 's', '  ', 'o', 'f', '  ', '*', '*', 'm', 'I', 'n', 'o', 'r', '  ', 'm', 'o', 'o', 'n', '*', '*', 's', ',', '  ', 'a', 'n', 'd', '  ', 'n', 'o', '  ', 'w', 'e', \"'\", 'v', 'e', '  ', 'n', 'e', 'v', 'e', 'r', '  ', 's', 'e', 'e', 'n', '  ', 'a', 'n', 'y', '  ', 'm', 'I', 'n', 'o', 'r', '  ', 'm', 'o', 'o', 'n', 's', '  ', 'I', 'n', '  ', 'g', 'a', 'm', 'e', '.'], ['I', 't', 's', '  ', 'a', '  ', '\"', 'c', 'e', 'n', 't', 'a', 'u', 'r', '\"', '  ', 'w', 'h', 'I', 'c', 'h', '  ', 'I', 's', '  ', 'e', 'f', 'f', 'e', 'c', 't', 'I', 'v', 'e', 'l', 'y', '  ', 'a', 'n', '  ', 'a', 's', 't', 'e', 'r', 'o', 'I', 'd', '  ', 't', 'h', 'a', 't', '  ', 'o', 'r', 'b', 'I', 't', 's', '  ', 'p', 'a', 's', 't', '  ', 's', 'a', 't', 'u', 'r', 'n', '.', '  ', 'I', '  ', 'd', 'o', '  ', 'n', 'o', 't', '  ', 'k', 'n', 'o', 'w', '  ', 'w', 'h', 'y', '  ', 't', 'h', 'e', '  ', 'd', 'I', 'r', 'e', 'c', 't', 'o', 'r', '  ', 'p', 'u', 't', 's', '  ', 'I', 't', '  ', 'w', 'i', 't', 'h', '  ', 's', 'a', 't', 'u', 'r', 'n'], ['e', 'd', 'I', 't'], ['j', 'u', 'p', 'i', 't', 'e', 'r', \"'\", 's', '  ', 'm', 'a', 'j', 'o', 'r', '  ', 'm', 'o', 'o', 'n', 's', '  ', 'a', 'r', 'e', '  ', 'e', 'u', 'r', 'o', 'p', 'a', ',', '  ', 'I', 'o', ',', '  ', 'g', 'a', 'n', 'y', 'm', 'e', 'd', 'e', ',', '  ', 'a', 'n', 'd', '  ', 'c', 'a', 'l', 'l', 'I', 's', 't', 'o'], ['#', '  ', 'n', 'e', 's', 's', 'u', 's', '  ', 'I', 's', '  ', 'n', 'o', 't', '  ', 'a', '  ', 'm', 'o', 'o', 'n', '  ', 'o', 'f', '  ', 's', 'a', 't', 'u', 'r', 'n'], ['b', 'o', 't', 'h', '  ', 'o', 'f', '  ', 't', 'h', 'e', 's', 'e', '  ', 'a', 'l', 's', 'o', '  ', 'h', 'a', 'v', 'e', '  ', 't', 'o', 'n', 's', '  ', 'o', 'f', '  ', '*', '*', 'm', 'I', 'n', 'o', 'r', '  ', 'm', 'o', 'o', 'n', '*', '*', 's', ',', '  ', 'a', 'n', 'd', '  ', 'n', 'o', '  ', 'w', 'e', \"'\", 'v', 'e', '  ', 'n', 'e', 'v', 'e', 'r', '  ', 's', 'e', 'e', 'n', '  ', 'a', 'n', 'y', '  ', 'm', 'I', 'n', 'o', 'r', '  ', 'm', 'o', 'o', 'n', 's', '  ', 'I', 'n', '  ', 'g', 'a', 'm', 'e', '.'], ['#', '  ', 'n', 'e', 's', 's', 'u', 's', '  ', 'I', 's', '  ', 'n', 'o', 't', '  ', 'a', '  ', 'm', 'o', 'o', 'n', '  ', 'o', 'f', '  ', 's', 'a', 't', 'u', 'r', 'n'], ['e', 'd', 'I', 't'], ['b', 'o', 't', 'h', '  ', 'o', 'f', '  ', 't', 'h', 'e', 's', 'e', '  ', 'a', 'l', 's', 'o', '  ', 'h', 'a', 'v', 'e', '  ', 't', 'o', 'n', 's', '  ', 'o', 'f', '  ', '*', '*', 'm', 'I', 'n', 'o', 'r', '  ', 'm', 'o', 'o', 'n', '*', '*', 's', ',', '  ', 'a', 'n', 'd', '  ', 'n', 'o', '  ', 'w', 'e', \"'\", 'v', 'e', '  ', 'n', 'e', 'v', 'e', 'r', '  ', 's', 'e', 'e', 'n', '  ', 'a', 'n', 'y', '  ', 'm', 'I', 'n', 'o', 'r', '  ', 'm', 'o', 'o', 'n', 's', '  ', 'I', 'n', '  ', 'g', 'a', 'm', 'e', '.'], ['j', 'u', 'p', 'i', 't', 'e', 'r', \"'\", 's', '  ', 'm', 'a', 'j', 'o', 'r', '  ', 'm', 'o', 'o', 'n', 's', '  ', 'a', 'r', 'e', '  ', 'e', 'u', 'r', 'o', 'p', 'a', ',', '  ', 'I', 'o', ',', '  ', 'g', 'a', 'n', 'y', 'm', 'e', 'd', 'e', ',', '  ', 'a', 'n', 'd', '  ', 'c', 'a', 'l', 'l', 'I', 's', 't', 'o'], ['j', 'u', 'p', 'i', 't', 'e', 'r', \"'\", 's', '  ', 'm', 'a', 'j', 'o', 'r', '  ', 'm', 'o', 'o', 'n', 's', '  ', 'a', 'r', 'e', '  ', 'e', 'u', 'r', 'o', 'p', 'a', ',', '  ', 'I', 'o', ',', '  ', 'g', 'a', 'n', 'y', 'm', 'e', 'd', 'e', ',', '  ', 'a', 'n', 'd', '  ', 'c', 'a', 'l', 'l', 'I', 's', 't', 'o']]\n"
          ]
        }
      ]
    },
    {
      "cell_type": "code",
      "source": [
        "from scipy.sparse import data\n",
        "import gensim.corpora as corpora\n",
        "\n",
        "id2word = corpora.Dictionary(data_lemmatized)\n",
        "\n",
        "# create corpus\n",
        "texts  = data_lemmatized\n",
        "\n",
        "# term document frequency\n",
        "corpus = [id2word.doc2bow(text) for text in texts]\n",
        "\n",
        "# view\n",
        "print(corpus[:20])"
      ],
      "metadata": {
        "colab": {
          "base_uri": "https://localhost:8080/"
        },
        "id": "CYo_G9xHoCT6",
        "outputId": "483d7655-9bca-4541-9fc8-c5cdc683e2fd"
      },
      "id": "CYo_G9xHoCT6",
      "execution_count": 82,
      "outputs": [
        {
          "output_type": "stream",
          "name": "stdout",
          "text": [
            "[[(0, 22), (1, 2), (2, 1), (3, 9), (4, 8), (5, 1), (6, 4), (7, 3), (8, 7), (9, 2), (10, 6), (11, 1), (12, 1), (13, 1), (14, 6), (15, 6), (16, 2), (17, 7), (18, 8), (19, 16), (20, 4), (21, 1), (22, 4), (23, 2)], [(0, 8), (3, 2), (4, 6), (6, 1), (7, 2), (8, 5), (11, 1), (13, 2), (14, 3), (15, 6), (16, 2), (17, 4), (18, 3), (19, 2), (20, 2), (23, 1), (24, 1), (25, 3), (26, 1), (27, 2), (28, 3)], [(0, 7), (3, 1), (4, 2), (8, 1), (9, 1), (14, 4), (15, 4), (17, 1), (18, 5), (19, 2), (20, 2), (28, 1), (29, 1)], [(0, 11), (2, 1), (3, 3), (4, 9), (6, 1), (7, 3), (8, 7), (10, 2), (11, 1), (13, 1), (14, 6), (15, 4), (16, 1), (17, 4), (18, 7), (19, 6), (20, 3), (23, 1), (24, 1), (25, 6), (27, 1), (28, 4)], [(0, 8), (3, 2), (4, 6), (6, 1), (7, 2), (8, 5), (11, 1), (13, 2), (14, 3), (15, 6), (16, 2), (17, 4), (18, 3), (19, 2), (20, 2), (23, 1), (24, 1), (25, 3), (26, 1), (27, 2), (28, 3)], [(0, 7), (3, 1), (4, 2), (8, 1), (9, 1), (14, 4), (15, 4), (17, 1), (18, 5), (19, 2), (20, 2), (28, 1), (29, 1)], [(0, 7), (3, 1), (4, 2), (8, 1), (9, 1), (14, 4), (15, 4), (17, 1), (18, 5), (19, 2), (20, 2), (28, 1), (29, 1)], [(0, 22), (1, 2), (2, 1), (3, 9), (4, 8), (5, 1), (6, 4), (7, 3), (8, 7), (9, 2), (10, 6), (11, 1), (12, 1), (13, 1), (14, 6), (15, 6), (16, 2), (17, 7), (18, 8), (19, 16), (20, 4), (21, 1), (22, 4), (23, 2)], [(0, 7), (3, 1), (4, 2), (8, 1), (9, 1), (14, 4), (15, 4), (17, 1), (18, 5), (19, 2), (20, 2), (28, 1), (29, 1)], [(0, 18), (2, 1), (3, 3), (4, 5), (5, 1), (7, 1), (8, 10), (9, 2), (10, 3), (13, 1), (14, 11), (15, 12), (17, 3), (18, 6), (19, 3), (21, 3), (22, 1), (23, 1), (24, 1), (25, 1), (26, 1), (28, 5), (30, 4)], [(0, 22), (1, 2), (2, 1), (3, 9), (4, 8), (5, 1), (6, 4), (7, 3), (8, 7), (9, 2), (10, 6), (11, 1), (12, 1), (13, 1), (14, 6), (15, 6), (16, 2), (17, 7), (18, 8), (19, 16), (20, 4), (21, 1), (22, 4), (23, 2)], [(3, 1), (7, 1), (8, 1), (19, 1)], [(0, 8), (3, 2), (4, 6), (6, 1), (7, 2), (8, 5), (11, 1), (13, 2), (14, 3), (15, 6), (16, 2), (17, 4), (18, 3), (19, 2), (20, 2), (23, 1), (24, 1), (25, 3), (26, 1), (27, 2), (28, 3)], [(0, 7), (3, 1), (4, 2), (8, 1), (9, 1), (14, 4), (15, 4), (17, 1), (18, 5), (19, 2), (20, 2), (28, 1), (29, 1)], [(0, 18), (2, 1), (3, 3), (4, 5), (5, 1), (7, 1), (8, 10), (9, 2), (10, 3), (13, 1), (14, 11), (15, 12), (17, 3), (18, 6), (19, 3), (21, 3), (22, 1), (23, 1), (24, 1), (25, 1), (26, 1), (28, 5), (30, 4)], [(0, 7), (3, 1), (4, 2), (8, 1), (9, 1), (14, 4), (15, 4), (17, 1), (18, 5), (19, 2), (20, 2), (28, 1), (29, 1)], [(3, 1), (7, 1), (8, 1), (19, 1)], [(0, 18), (2, 1), (3, 3), (4, 5), (5, 1), (7, 1), (8, 10), (9, 2), (10, 3), (13, 1), (14, 11), (15, 12), (17, 3), (18, 6), (19, 3), (21, 3), (22, 1), (23, 1), (24, 1), (25, 1), (26, 1), (28, 5), (30, 4)], [(0, 8), (3, 2), (4, 6), (6, 1), (7, 2), (8, 5), (11, 1), (13, 2), (14, 3), (15, 6), (16, 2), (17, 4), (18, 3), (19, 2), (20, 2), (23, 1), (24, 1), (25, 3), (26, 1), (27, 2), (28, 3)], [(0, 8), (3, 2), (4, 6), (6, 1), (7, 2), (8, 5), (11, 1), (13, 2), (14, 3), (15, 6), (16, 2), (17, 4), (18, 3), (19, 2), (20, 2), (23, 1), (24, 1), (25, 3), (26, 1), (27, 2), (28, 3)]]\n"
          ]
        }
      ]
    },
    {
      "cell_type": "code",
      "source": [
        "import gensim\n",
        "model = gensim.models.LdaMulticore(corpus=corpus, id2word=id2word,\n",
        "                                   num_topics=25, random_state=100,\n",
        "                                   chunksize=100, passes=50,\n",
        "                                   per_word_topics=True, minimum_phi_value=0.01, alpha= 'symmetric')"
      ],
      "metadata": {
        "id": "p1Yvf2Zgrgh7"
      },
      "id": "p1Yvf2Zgrgh7",
      "execution_count": 83,
      "outputs": []
    },
    {
      "cell_type": "code",
      "source": [
        "from gensim.models import CoherenceModel\n",
        "\n",
        "# Calculate Coherence score\n",
        "coherence_model_lda = CoherenceModel(model=model, texts = texts, dictionary= id2word, coherence = 'c_v')\n",
        "coherence_lda = coherence_model_lda.get_coherence()\n",
        "print(\"\\nCoherence Score: \", coherence_lda)"
      ],
      "metadata": {
        "colab": {
          "base_uri": "https://localhost:8080/"
        },
        "id": "X6LXCfBosidK",
        "outputId": "07928f5b-abb8-40e6-e7de-2e5de924b3eb"
      },
      "id": "X6LXCfBosidK",
      "execution_count": 84,
      "outputs": [
        {
          "output_type": "stream",
          "name": "stdout",
          "text": [
            "\n",
            "Coherence Score:  0.3785868309998828\n"
          ]
        }
      ]
    },
    {
      "cell_type": "code",
      "source": [
        "from matplotlib.mlab import cohere\n",
        "# graph\n",
        "import matplotlib.pyplot as plt\n",
        "limit = 80; start = 2; step=8;\n",
        "x = range(start, limit, step)\n",
        "plt.plot(x, coherence_lda)\n",
        "plt.xlabel('Num Topics')\n",
        "plt.ylabel('Coherence Score')\n",
        "plt.legend(('coherence_values'), loc= 'best')\n",
        "plt.show()"
      ],
      "metadata": {
        "colab": {
          "base_uri": "https://localhost:8080/",
          "height": 633
        },
        "id": "3RRVzpe4tA19",
        "outputId": "58f1ca4c-84cb-4231-c9a3-71f9b68750da"
      },
      "id": "3RRVzpe4tA19",
      "execution_count": 85,
      "outputs": [
        {
          "output_type": "error",
          "ename": "ValueError",
          "evalue": "ignored",
          "traceback": [
            "\u001b[0;31m---------------------------------------------------------------------------\u001b[0m",
            "\u001b[0;31mValueError\u001b[0m                                Traceback (most recent call last)",
            "\u001b[0;32m<ipython-input-85-552b0ffe6133>\u001b[0m in \u001b[0;36m<module>\u001b[0;34m\u001b[0m\n\u001b[1;32m      4\u001b[0m \u001b[0mlimit\u001b[0m \u001b[0;34m=\u001b[0m \u001b[0;36m80\u001b[0m\u001b[0;34m;\u001b[0m \u001b[0mstart\u001b[0m \u001b[0;34m=\u001b[0m \u001b[0;36m2\u001b[0m\u001b[0;34m;\u001b[0m \u001b[0mstep\u001b[0m\u001b[0;34m=\u001b[0m\u001b[0;36m8\u001b[0m\u001b[0;34m;\u001b[0m\u001b[0;34m\u001b[0m\u001b[0;34m\u001b[0m\u001b[0m\n\u001b[1;32m      5\u001b[0m \u001b[0mx\u001b[0m \u001b[0;34m=\u001b[0m \u001b[0mrange\u001b[0m\u001b[0;34m(\u001b[0m\u001b[0mstart\u001b[0m\u001b[0;34m,\u001b[0m \u001b[0mlimit\u001b[0m\u001b[0;34m,\u001b[0m \u001b[0mstep\u001b[0m\u001b[0;34m)\u001b[0m\u001b[0;34m\u001b[0m\u001b[0;34m\u001b[0m\u001b[0m\n\u001b[0;32m----> 6\u001b[0;31m \u001b[0mplt\u001b[0m\u001b[0;34m.\u001b[0m\u001b[0mplot\u001b[0m\u001b[0;34m(\u001b[0m\u001b[0mx\u001b[0m\u001b[0;34m,\u001b[0m \u001b[0mcoherence_lda\u001b[0m\u001b[0;34m)\u001b[0m\u001b[0;34m\u001b[0m\u001b[0;34m\u001b[0m\u001b[0m\n\u001b[0m\u001b[1;32m      7\u001b[0m \u001b[0mplt\u001b[0m\u001b[0;34m.\u001b[0m\u001b[0mxlabel\u001b[0m\u001b[0;34m(\u001b[0m\u001b[0;34m'Num Topics'\u001b[0m\u001b[0;34m)\u001b[0m\u001b[0;34m\u001b[0m\u001b[0;34m\u001b[0m\u001b[0m\n\u001b[1;32m      8\u001b[0m \u001b[0mplt\u001b[0m\u001b[0;34m.\u001b[0m\u001b[0mylabel\u001b[0m\u001b[0;34m(\u001b[0m\u001b[0;34m'Coherence Score'\u001b[0m\u001b[0;34m)\u001b[0m\u001b[0;34m\u001b[0m\u001b[0;34m\u001b[0m\u001b[0m\n",
            "\u001b[0;32m/usr/local/lib/python3.7/dist-packages/matplotlib/pyplot.py\u001b[0m in \u001b[0;36mplot\u001b[0;34m(scalex, scaley, data, *args, **kwargs)\u001b[0m\n\u001b[1;32m   2761\u001b[0m     return gca().plot(\n\u001b[1;32m   2762\u001b[0m         *args, scalex=scalex, scaley=scaley, **({\"data\": data} if data\n\u001b[0;32m-> 2763\u001b[0;31m         is not None else {}), **kwargs)\n\u001b[0m\u001b[1;32m   2764\u001b[0m \u001b[0;34m\u001b[0m\u001b[0m\n\u001b[1;32m   2765\u001b[0m \u001b[0;34m\u001b[0m\u001b[0m\n",
            "\u001b[0;32m/usr/local/lib/python3.7/dist-packages/matplotlib/axes/_axes.py\u001b[0m in \u001b[0;36mplot\u001b[0;34m(self, scalex, scaley, data, *args, **kwargs)\u001b[0m\n\u001b[1;32m   1645\u001b[0m         \"\"\"\n\u001b[1;32m   1646\u001b[0m         \u001b[0mkwargs\u001b[0m \u001b[0;34m=\u001b[0m \u001b[0mcbook\u001b[0m\u001b[0;34m.\u001b[0m\u001b[0mnormalize_kwargs\u001b[0m\u001b[0;34m(\u001b[0m\u001b[0mkwargs\u001b[0m\u001b[0;34m,\u001b[0m \u001b[0mmlines\u001b[0m\u001b[0;34m.\u001b[0m\u001b[0mLine2D\u001b[0m\u001b[0;34m)\u001b[0m\u001b[0;34m\u001b[0m\u001b[0;34m\u001b[0m\u001b[0m\n\u001b[0;32m-> 1647\u001b[0;31m         \u001b[0mlines\u001b[0m \u001b[0;34m=\u001b[0m \u001b[0;34m[\u001b[0m\u001b[0;34m*\u001b[0m\u001b[0mself\u001b[0m\u001b[0;34m.\u001b[0m\u001b[0m_get_lines\u001b[0m\u001b[0;34m(\u001b[0m\u001b[0;34m*\u001b[0m\u001b[0margs\u001b[0m\u001b[0;34m,\u001b[0m \u001b[0mdata\u001b[0m\u001b[0;34m=\u001b[0m\u001b[0mdata\u001b[0m\u001b[0;34m,\u001b[0m \u001b[0;34m**\u001b[0m\u001b[0mkwargs\u001b[0m\u001b[0;34m)\u001b[0m\u001b[0;34m]\u001b[0m\u001b[0;34m\u001b[0m\u001b[0;34m\u001b[0m\u001b[0m\n\u001b[0m\u001b[1;32m   1648\u001b[0m         \u001b[0;32mfor\u001b[0m \u001b[0mline\u001b[0m \u001b[0;32min\u001b[0m \u001b[0mlines\u001b[0m\u001b[0;34m:\u001b[0m\u001b[0;34m\u001b[0m\u001b[0;34m\u001b[0m\u001b[0m\n\u001b[1;32m   1649\u001b[0m             \u001b[0mself\u001b[0m\u001b[0;34m.\u001b[0m\u001b[0madd_line\u001b[0m\u001b[0;34m(\u001b[0m\u001b[0mline\u001b[0m\u001b[0;34m)\u001b[0m\u001b[0;34m\u001b[0m\u001b[0;34m\u001b[0m\u001b[0m\n",
            "\u001b[0;32m/usr/local/lib/python3.7/dist-packages/matplotlib/axes/_base.py\u001b[0m in \u001b[0;36m__call__\u001b[0;34m(self, *args, **kwargs)\u001b[0m\n\u001b[1;32m    214\u001b[0m                 \u001b[0mthis\u001b[0m \u001b[0;34m+=\u001b[0m \u001b[0margs\u001b[0m\u001b[0;34m[\u001b[0m\u001b[0;36m0\u001b[0m\u001b[0;34m]\u001b[0m\u001b[0;34m,\u001b[0m\u001b[0;34m\u001b[0m\u001b[0;34m\u001b[0m\u001b[0m\n\u001b[1;32m    215\u001b[0m                 \u001b[0margs\u001b[0m \u001b[0;34m=\u001b[0m \u001b[0margs\u001b[0m\u001b[0;34m[\u001b[0m\u001b[0;36m1\u001b[0m\u001b[0;34m:\u001b[0m\u001b[0;34m]\u001b[0m\u001b[0;34m\u001b[0m\u001b[0;34m\u001b[0m\u001b[0m\n\u001b[0;32m--> 216\u001b[0;31m             \u001b[0;32myield\u001b[0m \u001b[0;32mfrom\u001b[0m \u001b[0mself\u001b[0m\u001b[0;34m.\u001b[0m\u001b[0m_plot_args\u001b[0m\u001b[0;34m(\u001b[0m\u001b[0mthis\u001b[0m\u001b[0;34m,\u001b[0m \u001b[0mkwargs\u001b[0m\u001b[0;34m)\u001b[0m\u001b[0;34m\u001b[0m\u001b[0;34m\u001b[0m\u001b[0m\n\u001b[0m\u001b[1;32m    217\u001b[0m \u001b[0;34m\u001b[0m\u001b[0m\n\u001b[1;32m    218\u001b[0m     \u001b[0;32mdef\u001b[0m \u001b[0mget_next_color\u001b[0m\u001b[0;34m(\u001b[0m\u001b[0mself\u001b[0m\u001b[0;34m)\u001b[0m\u001b[0;34m:\u001b[0m\u001b[0;34m\u001b[0m\u001b[0;34m\u001b[0m\u001b[0m\n",
            "\u001b[0;32m/usr/local/lib/python3.7/dist-packages/matplotlib/axes/_base.py\u001b[0m in \u001b[0;36m_plot_args\u001b[0;34m(self, tup, kwargs)\u001b[0m\n\u001b[1;32m    340\u001b[0m \u001b[0;34m\u001b[0m\u001b[0m\n\u001b[1;32m    341\u001b[0m         \u001b[0;32mif\u001b[0m \u001b[0mx\u001b[0m\u001b[0;34m.\u001b[0m\u001b[0mshape\u001b[0m\u001b[0;34m[\u001b[0m\u001b[0;36m0\u001b[0m\u001b[0;34m]\u001b[0m \u001b[0;34m!=\u001b[0m \u001b[0my\u001b[0m\u001b[0;34m.\u001b[0m\u001b[0mshape\u001b[0m\u001b[0;34m[\u001b[0m\u001b[0;36m0\u001b[0m\u001b[0;34m]\u001b[0m\u001b[0;34m:\u001b[0m\u001b[0;34m\u001b[0m\u001b[0;34m\u001b[0m\u001b[0m\n\u001b[0;32m--> 342\u001b[0;31m             raise ValueError(f\"x and y must have same first dimension, but \"\n\u001b[0m\u001b[1;32m    343\u001b[0m                              f\"have shapes {x.shape} and {y.shape}\")\n\u001b[1;32m    344\u001b[0m         \u001b[0;32mif\u001b[0m \u001b[0mx\u001b[0m\u001b[0;34m.\u001b[0m\u001b[0mndim\u001b[0m \u001b[0;34m>\u001b[0m \u001b[0;36m2\u001b[0m \u001b[0;32mor\u001b[0m \u001b[0my\u001b[0m\u001b[0;34m.\u001b[0m\u001b[0mndim\u001b[0m \u001b[0;34m>\u001b[0m \u001b[0;36m2\u001b[0m\u001b[0;34m:\u001b[0m\u001b[0;34m\u001b[0m\u001b[0;34m\u001b[0m\u001b[0m\n",
            "\u001b[0;31mValueError\u001b[0m: x and y must have same first dimension, but have shapes (10,) and (1,)"
          ]
        },
        {
          "output_type": "display_data",
          "data": {
            "text/plain": [
              "<Figure size 432x288 with 1 Axes>"
            ],
            "image/png": "[encoded data removed]"
          },
          "metadata": {
            "needs_background": "light"
          }
        }
      ]
    },
    {
      "cell_type": "markdown",
      "source": [
        "# Obtain top words for topics"
      ],
      "metadata": {
        "id": "X823P0kWwwGe"
      },
      "id": "X823P0kWwwGe"
    },
    {
      "cell_type": "code",
      "source": [
        "for i in range(25):\n",
        "  print(int(topics[i][0])+1)\n",
        "  topic = model.show_topic(i, topn=30)\n",
        "  print(topic)"
      ],
      "metadata": {
        "colab": {
          "base_uri": "https://localhost:8080/",
          "height": 218
        },
        "id": "RuieGnVpw0mR",
        "outputId": "3d4a6780-1ff6-4da0-925c-be5c89915d28"
      },
      "id": "RuieGnVpw0mR",
      "execution_count": 86,
      "outputs": [
        {
          "output_type": "error",
          "ename": "NameError",
          "evalue": "ignored",
          "traceback": [
            "\u001b[0;31m---------------------------------------------------------------------------\u001b[0m",
            "\u001b[0;31mNameError\u001b[0m                                 Traceback (most recent call last)",
            "\u001b[0;32m<ipython-input-86-d77442f0fb0f>\u001b[0m in \u001b[0;36m<module>\u001b[0;34m\u001b[0m\n\u001b[1;32m      1\u001b[0m \u001b[0;32mfor\u001b[0m \u001b[0mi\u001b[0m \u001b[0;32min\u001b[0m \u001b[0mrange\u001b[0m\u001b[0;34m(\u001b[0m\u001b[0;36m25\u001b[0m\u001b[0;34m)\u001b[0m\u001b[0;34m:\u001b[0m\u001b[0;34m\u001b[0m\u001b[0;34m\u001b[0m\u001b[0m\n\u001b[0;32m----> 2\u001b[0;31m   \u001b[0mprint\u001b[0m\u001b[0;34m(\u001b[0m\u001b[0mint\u001b[0m\u001b[0;34m(\u001b[0m\u001b[0mtopics\u001b[0m\u001b[0;34m[\u001b[0m\u001b[0mi\u001b[0m\u001b[0;34m]\u001b[0m\u001b[0;34m[\u001b[0m\u001b[0;36m0\u001b[0m\u001b[0;34m]\u001b[0m\u001b[0;34m)\u001b[0m\u001b[0;34m+\u001b[0m\u001b[0;36m1\u001b[0m\u001b[0;34m)\u001b[0m\u001b[0;34m\u001b[0m\u001b[0;34m\u001b[0m\u001b[0m\n\u001b[0m\u001b[1;32m      3\u001b[0m   \u001b[0mtopic\u001b[0m \u001b[0;34m=\u001b[0m \u001b[0mmodel\u001b[0m\u001b[0;34m.\u001b[0m\u001b[0mshow_topic\u001b[0m\u001b[0;34m(\u001b[0m\u001b[0mi\u001b[0m\u001b[0;34m,\u001b[0m \u001b[0mtopn\u001b[0m\u001b[0;34m=\u001b[0m\u001b[0;36m30\u001b[0m\u001b[0;34m)\u001b[0m\u001b[0;34m\u001b[0m\u001b[0;34m\u001b[0m\u001b[0m\n\u001b[1;32m      4\u001b[0m   \u001b[0mprint\u001b[0m\u001b[0;34m(\u001b[0m\u001b[0mtopic\u001b[0m\u001b[0;34m)\u001b[0m\u001b[0;34m\u001b[0m\u001b[0;34m\u001b[0m\u001b[0m\n",
            "\u001b[0;31mNameError\u001b[0m: name 'topics' is not defined"
          ]
        }
      ]
    },
    {
      "cell_type": "markdown",
      "source": [
        "# Visualize  Topics"
      ],
      "metadata": {
        "id": "_ABp-CfMwpON"
      },
      "id": "_ABp-CfMwpON"
    },
    {
      "cell_type": "code",
      "source": [
        "!pip install pyLDAvis"
      ],
      "metadata": {
        "colab": {
          "base_uri": "https://localhost:8080/"
        },
        "id": "3EhBOtiVyKmk",
        "outputId": "4a25901c-578b-4898-c22b-7db7311dce7b"
      },
      "id": "3EhBOtiVyKmk",
      "execution_count": 87,
      "outputs": [
        {
          "output_type": "stream",
          "name": "stdout",
          "text": [
            "Looking in indexes: https://pypi.org/simple, https://us-python.pkg.dev/colab-wheels/public/simple/\n",
            "Collecting pyLDAvis\n",
            "  Downloading pyLDAvis-3.3.1.tar.gz (1.7 MB)\n",
            "\u001b[K     |████████████████████████████████| 1.7 MB 5.3 MB/s \n",
            "\u001b[?25h  Installing build dependencies ... \u001b[?25l\u001b[?25hdone\n",
            "  Getting requirements to build wheel ... \u001b[?25l\u001b[?25hdone\n",
            "  Installing backend dependencies ... \u001b[?25l\u001b[?25hdone\n",
            "    Preparing wheel metadata ... \u001b[?25l\u001b[?25hdone\n",
            "Requirement already satisfied: gensim in /usr/local/lib/python3.7/dist-packages (from pyLDAvis) (3.6.0)\n",
            "Requirement already satisfied: pandas>=1.2.0 in /usr/local/lib/python3.7/dist-packages (from pyLDAvis) (1.3.5)\n",
            "Requirement already satisfied: jinja2 in /usr/local/lib/python3.7/dist-packages (from pyLDAvis) (2.11.3)\n",
            "Requirement already satisfied: future in /usr/local/lib/python3.7/dist-packages (from pyLDAvis) (0.16.0)\n",
            "Requirement already satisfied: scikit-learn in /usr/local/lib/python3.7/dist-packages (from pyLDAvis) (1.0.2)\n",
            "Collecting funcy\n",
            "  Downloading funcy-1.17-py2.py3-none-any.whl (33 kB)\n",
            "Requirement already satisfied: scipy in /usr/local/lib/python3.7/dist-packages (from pyLDAvis) (1.7.3)\n",
            "Requirement already satisfied: numexpr in /usr/local/lib/python3.7/dist-packages (from pyLDAvis) (2.8.3)\n",
            "Collecting sklearn\n",
            "  Downloading sklearn-0.0.tar.gz (1.1 kB)\n",
            "Requirement already satisfied: setuptools in /usr/local/lib/python3.7/dist-packages (from pyLDAvis) (57.4.0)\n",
            "Requirement already satisfied: numpy>=1.20.0 in /usr/local/lib/python3.7/dist-packages (from pyLDAvis) (1.21.6)\n",
            "Requirement already satisfied: joblib in /usr/local/lib/python3.7/dist-packages (from pyLDAvis) (1.1.0)\n",
            "Requirement already satisfied: python-dateutil>=2.7.3 in /usr/local/lib/python3.7/dist-packages (from pandas>=1.2.0->pyLDAvis) (2.8.2)\n",
            "Requirement already satisfied: pytz>=2017.3 in /usr/local/lib/python3.7/dist-packages (from pandas>=1.2.0->pyLDAvis) (2022.2.1)\n",
            "Requirement already satisfied: six>=1.5 in /usr/local/lib/python3.7/dist-packages (from python-dateutil>=2.7.3->pandas>=1.2.0->pyLDAvis) (1.15.0)\n",
            "Requirement already satisfied: smart-open>=1.2.1 in /usr/local/lib/python3.7/dist-packages (from gensim->pyLDAvis) (5.2.1)\n",
            "Requirement already satisfied: MarkupSafe>=0.23 in /usr/local/lib/python3.7/dist-packages (from jinja2->pyLDAvis) (2.0.1)\n",
            "Requirement already satisfied: packaging in /usr/local/lib/python3.7/dist-packages (from numexpr->pyLDAvis) (21.3)\n",
            "Requirement already satisfied: pyparsing!=3.0.5,>=2.0.2 in /usr/local/lib/python3.7/dist-packages (from packaging->numexpr->pyLDAvis) (3.0.9)\n",
            "Requirement already satisfied: threadpoolctl>=2.0.0 in /usr/local/lib/python3.7/dist-packages (from scikit-learn->pyLDAvis) (3.1.0)\n",
            "Building wheels for collected packages: pyLDAvis, sklearn\n",
            "  Building wheel for pyLDAvis (PEP 517) ... \u001b[?25l\u001b[?25hdone\n",
            "  Created wheel for pyLDAvis: filename=pyLDAvis-3.3.1-py2.py3-none-any.whl size=136898 sha256=1ba04f3a97d3e8cf6788bec16804fca9848f2982b929ddff081b671252c8ccb6\n",
            "  Stored in directory: /root/.cache/pip/wheels/c9/21/f6/17bcf2667e8a68532ba2fbf6d5c72fdf4c7f7d9abfa4852d2f\n",
            "  Building wheel for sklearn (setup.py) ... \u001b[?25l\u001b[?25hdone\n",
            "  Created wheel for sklearn: filename=sklearn-0.0-py2.py3-none-any.whl size=1310 sha256=89005ff2566c031e2392b6c5f2408dd1996e1f1352a285afe39f91935e557949\n",
            "  Stored in directory: /root/.cache/pip/wheels/46/ef/c3/157e41f5ee1372d1be90b09f74f82b10e391eaacca8f22d33e\n",
            "Successfully built pyLDAvis sklearn\n",
            "Installing collected packages: sklearn, funcy, pyLDAvis\n",
            "Successfully installed funcy-1.17 pyLDAvis-3.3.1 sklearn-0.0\n"
          ]
        }
      ]
    },
    {
      "cell_type": "code",
      "source": [
        "import pyLDAvis\n",
        "import pyLDAvis\n",
        "import pyLDAvis.gensim_models\n",
        "\n",
        "pyLDAvis.enable_notebook()\n",
        "#import pyLDAvis.gensim\n",
        "import pickle \n",
        "\n",
        "pyLDAvis.enable_notebook()\n",
        "LDAvis_prepared = pyLDAvis.gensim_models.prepare(model, corpus, id2word)\n",
        "LDAvis_prepared"
      ],
      "metadata": {
        "colab": {
          "base_uri": "https://localhost:8080/",
          "height": 916
        },
        "id": "TGg8jfSGx57k",
        "outputId": "d91a1ce9-5c92-433d-a2ce-ffee52f36c3d"
      },
      "id": "TGg8jfSGx57k",
      "execution_count": 91,
      "outputs": [
        {
          "output_type": "stream",
          "name": "stderr",
          "text": [
            "/usr/local/lib/python3.7/dist-packages/pyLDAvis/_prepare.py:247: FutureWarning: In a future version of pandas all arguments of DataFrame.drop except for the argument 'labels' will be keyword-only\n",
            "  by='saliency', ascending=False).head(R).drop('saliency', 1)\n"
          ]
        },
        {
          "output_type": "execute_result",
          "data": {
            "text/plain": [
              "PreparedData(topic_coordinates=              x         y  topics  cluster       Freq\n",
              "topic                                                \n",
              "15    -0.216755  0.037098       1        1  17.561335\n",
              "2     -0.214683  0.062773       2        1  15.902995\n",
              "22    -0.219143  0.053240       3        1  11.833286\n",
              "10    -0.216076  0.025801       4        1  11.684722\n",
              "17    -0.227842  0.017537       5        1  11.631242\n",
              "1     -0.221786  0.040586       6        1  10.530248\n",
              "24    -0.220351  0.015927       7        1   7.795144\n",
              "11    -0.218125  0.055047       8        1   5.238479\n",
              "19    -0.231891  0.081946       9        1   3.384519\n",
              "7     -0.191311  0.079088      10        1   2.195963\n",
              "0     -0.140182 -0.339086      11        1   1.019504\n",
              "20    -0.093608 -0.222019      12        1   0.183339\n",
              "5      0.248630 -0.115832      13        1   0.159636\n",
              "16     0.304265 -0.040510      14        1   0.149334\n",
              "13     0.249479 -0.108801      15        1   0.137252\n",
              "21     0.237509 -0.129067      16        1   0.116024\n",
              "9     -0.055238 -0.293063      17        1   0.113244\n",
              "8      0.259718 -0.003338      18        1   0.089343\n",
              "12     0.269812  0.068127      19        1   0.056842\n",
              "4      0.303529  0.069431      20        1   0.053964\n",
              "23     0.162428  0.139837      21        1   0.034900\n",
              "14     0.107905  0.126319      22        1   0.032172\n",
              "6      0.107905  0.126319      23        1   0.032172\n",
              "18     0.107905  0.126319      24        1   0.032172\n",
              "3      0.107905  0.126319      25        1   0.032172, topic_info=   Term         Freq        Total Category  logprob  loglift\n",
              "8     e  6729.000000  6729.000000  Default  30.0000  30.0000\n",
              "7     d  1946.000000  1946.000000  Default  29.0000  29.0000\n",
              "19    t  5526.000000  5526.000000  Default  28.0000  28.0000\n",
              "15    o  4783.000000  4783.000000  Default  27.0000  27.0000\n",
              "3     I  3439.000000  3439.000000  Default  26.0000  26.0000\n",
              "..  ...          ...          ...      ...      ...      ...\n",
              "24    '     0.328151   399.826728  Topic25  -4.2627   0.9365\n",
              "25    ,     0.328151   646.394177  Topic25  -4.2627   0.4561\n",
              "26    g     0.328151  1173.897569  Topic25  -4.2627  -0.1405\n",
              "27    j     0.328151   277.291036  Topic25  -4.2627   1.3025\n",
              "28    m     0.328151  1549.775459  Topic25  -4.2627  -0.4183\n",
              "\n",
              "[1244 rows x 6 columns], token_table=      Topic      Freq Term\n",
              "term                      \n",
              "0         1  0.176097     \n",
              "0         2  0.192324     \n",
              "0         3  0.124601     \n",
              "0         4  0.119716     \n",
              "0         5  0.128823     \n",
              "...     ...       ...  ...\n",
              "55        7  0.304078    ✡\n",
              "56        7  0.304078    ️\n",
              "67       21  0.694515    🏻\n",
              "60        7  0.304078    👽\n",
              "57        7  0.304078    💅\n",
              "\n",
              "[288 rows x 3 columns], R=30, lambda_step=0.01, plot_opts={'xlab': 'PC1', 'ylab': 'PC2'}, topic_order=[16, 3, 23, 11, 18, 2, 25, 12, 20, 8, 1, 21, 6, 17, 14, 22, 10, 9, 13, 5, 24, 15, 7, 19, 4])"
            ],
            "text/html": [
              "\n",
              "<link rel=\"stylesheet\" type=\"text/css\" href=\"https://cdn.jsdelivr.net/gh/bmabey/pyLDAvis@3.3.1/pyLDAvis/js/ldavis.v1.0.0.css\">\n",
              "\n",
              "\n",
              "<div id=\"ldavis_el571399191742347047983962458\"></div>\n",
              "<script type=\"text/javascript\">\n",
              "\n",
              "var ldavis_el571399191742347047983962458_data = {\"mdsDat\": {\"x\": [-0.21675495116780596, -0.21468323444627882, -0.21914335822884326, -0.2160756265733938, -0.22784164869200538, -0.22178565530989497, -0.22035076556541125, -0.21812487521024534, -0.23189059403304707, -0.19131109462919096, -0.14018242649076487, -0.09360796647473602, 0.24863029166910464, 0.30426515717386754, 0.24947900735264092, 0.237509304944062, -0.055238440830378696, 0.25971796485699195, 0.2698117034286849, 0.3035292016042566, 0.1624283941607866, 0.10790490311540048, 0.10790490311540049, 0.10790490311540048, 0.10790490311540048], \"y\": [0.03709750627704931, 0.06277291488922582, 0.05323998801694927, 0.02580133258770492, 0.017536665088526686, 0.04058560422476196, 0.01592700276622674, 0.055047146339671366, 0.08194594094383971, 0.07908810470030762, -0.33908554857108614, -0.22201890165282312, -0.11583205115033923, -0.04050990459268615, -0.10880082553099318, -0.12906733870320186, -0.2930629830013537, -0.003337644715508906, 0.06812699953881264, 0.06943140502920928, 0.1398367779467448, 0.12631945239224085, 0.12631945239224082, 0.12631945239224085, 0.12631945239224085], \"topics\": [1, 2, 3, 4, 5, 6, 7, 8, 9, 10, 11, 12, 13, 14, 15, 16, 17, 18, 19, 20, 21, 22, 23, 24, 25], \"cluster\": [1, 1, 1, 1, 1, 1, 1, 1, 1, 1, 1, 1, 1, 1, 1, 1, 1, 1, 1, 1, 1, 1, 1, 1, 1], \"Freq\": [17.56133537363646, 15.90299453447393, 11.833286146024562, 11.684722085757231, 11.631241633841938, 10.530247920633942, 7.7951438742384624, 5.238478903053558, 3.384519179981773, 2.195962674457875, 1.0195041730973429, 0.1833387043547615, 0.15963576819351705, 0.1493339563728887, 0.1372521173232583, 0.11602388156215492, 0.11324389139789476, 0.0893430294683651, 0.056842037867139775, 0.05396389188692032, 0.03489963588966565, 0.03217164662159599, 0.03217164662159599, 0.03217164662159599, 0.03217164662159599]}, \"tinfo\": {\"Term\": [\"e\", \"d\", \"t\", \"o\", \"I\", \"l\", \"r\", \"m\", \"s\", \"  \", \"n\", \"u\", \"p\", \"c\", \"a\", \"h\", \"w\", \"g\", \"y\", \"v\", \",\", \"b\", \"i\", \"f\", \".\", \"k\", \"'\", \"j\", \"\\\"\", \"*\", \"?\", \"b\", \"u\", \"y\", \"v\", \"p\", \"l\", \"j\", \"c\", \"r\", \"e\", \"g\", \"t\", \"h\", \"  \", \"o\", \"s\", \"d\", \"a\", \"w\", \"n\", \"i\", \"f\", \"I\", \"m\", \".\", \"\\u2721\", \"\\ufe0f\", \"\\ud83d\\udc85\", \"\\ud83d\\udc7d\", \"k\", \"'\", \"\\\"\", \",\", \"4\", \"k\", \"i\", \"g\", \"!\", \"w\", \"f\", \"l\", \"3\", \"d\", \"o\", \"  \", \"n\", \"b\", \"a\", \"r\", \"m\", \",\", \"I\", \"t\", \"u\", \"h\", \"y\", \"e\", \".\", \"s\", \"p\", \"c\", \"\\u2721\", \"\\ufe0f\", \"j\", \"\\\"\", \"\\\"\", \"w\", \"t\", \"c\", \"I\", \"k\", \"h\", \"u\", \"r\", \"f\", \"s\", \"  \", \"a\", \".\", \"y\", \"p\", \"v\", \"i\", \"n\", \"d\", \"o\", \"b\", \"e\", \"l\", \"\\u2721\", \"\\ufe0f\", \"\\ud83d\\udc85\", \"\\ud83d\\udc7d\", \"\\u2014\", \"+\", \"'\", \",\", \"g\", \"j\", \"m\", \"#\", \"    \", \"'\", \"y\", \"v\", \"x\", \"h\", \"g\", \"i\", \"k\", \"t\", \"e\", \"I\", \"s\", \"  \", \"n\", \"l\", \"a\", \"p\", \"r\", \".\", \"b\", \"o\", \"m\", \"f\", \"d\", \"w\", \"u\", \"\\u2721\", \"\\ufe0f\", \"\\ud83d\\udc85\", \"c\", \"\\\"\", \",\", \"5\", \"      \", \"8\", \"h\", \"m\", \"w\", \".\", \"j\", \"f\", \"e\", \"c\", \"s\", \"  \", \"a\", \"t\", \"r\", \"l\", \"I\", \"o\", \"p\", \"d\", \"n\", \"k\", \"y\", \"g\", \"u\", \"v\", \"\\u2721\", \"\\ufe0f\", \"\\ud83d\\udc85\", \"i\", \"\\\"\", \"b\", \",\", \"j\", \"m\", \"'\", \"a\", \"u\", \"p\", \"d\", \"r\", \"i\", \"s\", \"n\", \"o\", \"y\", \"e\", \"  \", \"t\", \"I\", \"l\", \"c\", \".\", \"g\", \"h\", \"\\u2721\", \"\\ufe0f\", \"\\ud83d\\udc85\", \"\\ud83d\\udc7d\", \"\\u2014\", \"+\", \"\\\\\", \"\\\"\", \"b\", \"f\", \"k\", \"v\", \"w\", \"#\", \"z\", \"/\", \"q\", \"\\u2721\", \"\\ufe0f\", \"\\ud83d\\udc85\", \"\\ud83d\\udc7d\", \"c\", \"I\", \"v\", \"f\", \".\", \"n\", \"r\", \"g\", \"m\", \"e\", \"t\", \"p\", \"l\", \"o\", \"  \", \"b\", \"a\", \"d\", \"s\", \"h\", \"u\", \"i\", \"\\u2014\", \"y\", \"*\", \"v\", \"m\", \"n\", \"o\", \"'\", \"f\", \"s\", \"  \", \"e\", \",\", \".\", \"b\", \"h\", \"a\", \"w\", \"g\", \"r\", \"I\", \"y\", \"t\", \"d\", \"l\", \"\\u2721\", \"\\ufe0f\", \"\\ud83d\\udc85\", \"\\ud83d\\udc7d\", \"\\u2014\", \"+\", \"\\\\\", \"\\\"\", \"c\", \"i\", \"k\", \"p\", \"u\", \"j\", \"#\", \"s\", \"u\", \"n\", \"f\", \"o\", \"m\", \"  \", \"a\", \"t\", \"I\", \"r\", \"\\u2721\", \"\\ufe0f\", \"\\ud83d\\udc85\", \"\\ud83d\\udc7d\", \"\\u2014\", \"+\", \"\\\\\", \"e\", \"8\", \"&\", \"_\", \"|\", \"      \", \"=\", \"4\", \"7\", \"\\u270c\", \"\\ud83c\\udffb\", \"\\\"\", \".\", \"b\", \"c\", \"d\", \"h\", \"i\", \"k\", \"l\", \"p\", \"v\", \"w\", \"y\", \"'\", \",\", \"g\", \"j\", \".\", \"'\", \"p\", \"k\", \"l\", \"c\", \"o\", \"a\", \"s\", \"u\", \"d\", \"I\", \"r\", \"  \", \"\\u2721\", \"\\ufe0f\", \"\\ud83d\\udc85\", \"\\ud83d\\udc7d\", \"\\u2014\", \"+\", \"m\", \"\\\\\", \"8\", \"&\", \"_\", \"|\", \"e\", \"      \", \"=\", \"4\", \"t\", \"f\", \"\\\"\", \"b\", \"h\", \"i\", \"n\", \"v\", \"w\", \"y\", \",\", \"g\", \"j\", \"#\", \"d\", \"I\", \"t\", \"e\", \"\\u2721\", \"\\ufe0f\", \"\\ud83d\\udc85\", \"\\ud83d\\udc7d\", \"\\u2014\", \"+\", \"\\\\\", \"8\", \"&\", \"_\", \"|\", \"      \", \"=\", \"4\", \"7\", \"\\u270c\", \"\\ud83c\\udffb\", \"5\", \"6\", \"%\", \";\", \"\\u2026\", \"3\", \"9\", \">\", \"!\", \"  \", \"\\\"\", \".\", \"a\", \"b\", \"c\", \"f\", \"h\", \"i\", \"k\", \"l\", \"n\", \"o\", \"p\", \"r\", \"s\", \"u\", \"v\", \"w\", \"y\", \"'\", \",\", \"g\", \"j\", \"m\", \"#\", \"[\", \"]\", \"v\", \"\\u2721\", \"\\ufe0f\", \"\\ud83d\\udc85\", \"\\ud83d\\udc7d\", \"\\u2014\", \"m\", \"+\", \"\\\\\", \"8\", \"&\", \"_\", \"|\", \"d\", \"      \", \"=\", \"4\", \"7\", \"\\u270c\", \"\\ud83c\\udffb\", \"r\", \"e\", \"5\", \"6\", \"%\", \";\", \"\\u2026\", \"o\", \"  \", \"\\\"\", \".\", \"I\", \"a\", \"b\", \"c\", \"f\", \"h\", \"i\", \"k\", \"l\", \"n\", \"p\", \"s\", \"t\", \"u\", \"w\", \"y\", \"'\", \",\", \"g\", \"(\", \")\", \"q\", \"\\u2721\", \"\\ufe0f\", \"\\ud83d\\udc85\", \"\\ud83d\\udc7d\", \"\\u2014\", \"+\", \"\\\\\", \"8\", \"&\", \"_\", \"|\", \"      \", \"=\", \"4\", \"7\", \"\\u270c\", \"\\ud83c\\udffb\", \"5\", \"6\", \"%\", \";\", \"\\u2026\", \"3\", \"9\", \">\", \"!\", \"[\", \"  \", \"\\\"\", \".\", \"I\", \"a\", \"b\", \"c\", \"d\", \"e\", \"f\", \"h\", \"i\", \"k\", \"l\", \"n\", \"o\", \"p\", \"r\", \"s\", \"t\", \"u\", \"v\", \"w\", \"y\", \"'\", \",\", \"g\", \"2\", \">\", \"0\", \"!\", \"\\u2721\", \"\\ufe0f\", \"\\ud83d\\udc85\", \"\\ud83d\\udc7d\", \"\\u2014\", \"+\", \"\\\\\", \"8\", \"&\", \"_\", \"|\", \"      \", \"=\", \"4\", \"7\", \"\\u270c\", \"\\ud83c\\udffb\", \"5\", \"6\", \"%\", \";\", \"\\u2026\", \"3\", \"9\", \"[\", \"]\", \"  \", \"\\\"\", \".\", \"I\", \"a\", \"b\", \"c\", \"d\", \"e\", \"f\", \"h\", \"i\", \"k\", \"l\", \"n\", \"o\", \"p\", \"r\", \"s\", \"t\", \"u\", \"v\", \"w\", \"y\", \"'\", \",\", \"-\", \"3\", \"_\", \"|\", \"\\u2721\", \"\\ufe0f\", \"\\ud83d\\udc85\", \"\\ud83d\\udc7d\", \"\\u2014\", \"+\", \"\\\\\", \"8\", \"&\", \"      \", \"=\", \"4\", \"7\", \"\\u270c\", \"\\ud83c\\udffb\", \"5\", \"6\", \"%\", \";\", \"\\u2026\", \"9\", \">\", \"!\", \"[\", \"]\", \"1\", \"  \", \"\\\"\", \".\", \"I\", \"a\", \"b\", \"c\", \"d\", \"e\", \"f\", \"h\", \"i\", \"k\", \"l\", \"n\", \"o\", \"p\", \"r\", \"s\", \"t\", \"u\", \"v\", \"w\", \"y\", \"'\", \",\", \"x\", \"\\\\\", \"+\", \"\\u2721\", \"\\ufe0f\", \"\\ud83d\\udc85\", \"\\ud83d\\udc7d\", \"\\u2014\", \"8\", \"&\", \"_\", \"|\", \"      \", \"=\", \"4\", \"7\", \"\\u270c\", \"\\ud83c\\udffb\", \"5\", \"6\", \"%\", \";\", \"\\u2026\", \"3\", \"9\", \">\", \"!\", \"[\", \"]\", \"1\", \"n\", \"  \", \"\\\"\", \".\", \"I\", \"a\", \"b\", \"c\", \"d\", \"e\", \"f\", \"h\", \"i\", \"k\", \"l\", \"o\", \"p\", \"r\", \"s\", \"t\", \"u\", \"v\", \"w\", \"y\", \"'\", \",\", \"g\", \"=\", \"\\u2014\", \"[\", \"]\", \"\\u2721\", \"\\ufe0f\", \"\\ud83d\\udc85\", \"\\ud83d\\udc7d\", \"+\", \"\\\\\", \"d\", \"8\", \"&\", \"_\", \"|\", \"      \", \"4\", \"7\", \"\\u270c\", \"\\ud83c\\udffb\", \"5\", \"6\", \"l\", \"%\", \"e\", \";\", \"\\u2026\", \"3\", \"9\", \">\", \"t\", \"  \", \"\\\"\", \".\", \"I\", \"a\", \"b\", \"c\", \"f\", \"h\", \"i\", \"k\", \"n\", \"o\", \"p\", \"r\", \"s\", \"u\", \"v\", \"w\", \"y\", \"'\", \",\", \"\\u2026\", \";\", \"6\", \"&\", \"?\", \"\\u2721\", \"\\ufe0f\", \"\\ud83d\\udc85\", \"\\ud83d\\udc7d\", \"\\u2014\", \"+\", \"\\\\\", \"8\", \"_\", \"|\", \"      \", \"=\", \"4\", \"7\", \"\\u270c\", \"\\ud83c\\udffb\", \"5\", \"%\", \"3\", \"9\", \">\", \"!\", \"[\", \"]\", \"1\", \"  \", \"\\\"\", \".\", \"I\", \"a\", \"b\", \"c\", \"d\", \"e\", \"f\", \"h\", \"i\", \"k\", \"l\", \"n\", \"o\", \"p\", \"r\", \"s\", \"t\", \"u\", \"v\", \"w\", \"y\", \"'\", \"9\", \"7\", \"1\", \"\\u2721\", \"\\ufe0f\", \"\\ud83d\\udc85\", \"\\ud83d\\udc7d\", \"\\u2014\", \"+\", \"\\\\\", \"8\", \"&\", \"_\", \"|\", \"      \", \"=\", \"4\", \"\\u270c\", \"\\ud83c\\udffb\", \"5\", \"6\", \"%\", \";\", \"\\u2026\", \"3\", \">\", \"!\", \"[\", \"]\", \"#\", \"  \", \"\\\"\", \".\", \"I\", \"a\", \"b\", \"c\", \"d\", \"e\", \"f\", \"h\", \"i\", \"k\", \"l\", \"n\", \"o\", \"p\", \"r\", \"s\", \"t\", \"u\", \"v\", \"w\", \"y\", \"'\", \",\", \"g\", \"%\", \"1\", \"0\", \"\\u2721\", \"\\ufe0f\", \"\\ud83d\\udc85\", \"\\ud83d\\udc7d\", \"\\u2014\", \"+\", \"\\\\\", \"8\", \"&\", \"_\", \"|\", \"      \", \"=\", \"4\", \"7\", \"\\u270c\", \"\\ud83c\\udffb\", \"5\", \"6\", \";\", \"\\u2026\", \"3\", \"9\", \">\", \"!\", \"[\", \"]\", \"  \", \"\\\"\", \".\", \"I\", \"a\", \"b\", \"c\", \"d\", \"e\", \"f\", \"h\", \"i\", \"k\", \"l\", \"n\", \"o\", \"p\", \"r\", \"s\", \"t\", \"u\", \"v\", \"w\", \"y\", \"'\", \",\", \"g\", \"\\u270c\", \"\\ud83c\\udffb\", \"\\u2721\", \"\\ufe0f\", \"\\ud83d\\udc85\", \"\\ud83d\\udc7d\", \"\\u2014\", \"+\", \"\\\\\", \"8\", \"&\", \"_\", \"|\", \"      \", \"=\", \"4\", \"7\", \"5\", \"6\", \"%\", \";\", \"\\u2026\", \"3\", \"9\", \">\", \"!\", \"[\", \"]\", \"1\", \"#\", \"  \", \"\\\"\", \".\", \"I\", \"a\", \"b\", \"c\", \"d\", \"e\", \"f\", \"h\", \"i\", \"k\", \"l\", \"n\", \"o\", \"p\", \"r\", \"s\", \"t\", \"u\", \"v\", \"w\", \"y\", \"'\", \",\", \"g\", \"j\", \"\\u2721\", \"\\ufe0f\", \"\\ud83d\\udc85\", \"\\ud83d\\udc7d\", \"\\u2014\", \"+\", \"\\\\\", \"8\", \"&\", \"_\", \"|\", \"      \", \"=\", \"4\", \"7\", \"\\u270c\", \"\\ud83c\\udffb\", \"5\", \"6\", \"%\", \";\", \"\\u2026\", \"3\", \"9\", \">\", \"!\", \"[\", \"]\", \"1\", \"#\", \"  \", \"\\\"\", \".\", \"I\", \"a\", \"b\", \"c\", \"d\", \"e\", \"f\", \"h\", \"i\", \"k\", \"l\", \"n\", \"o\", \"p\", \"r\", \"s\", \"t\", \"u\", \"v\", \"w\", \"y\", \"'\", \",\", \"g\", \"j\", \"m\", \"\\u2721\", \"\\ufe0f\", \"\\ud83d\\udc85\", \"\\ud83d\\udc7d\", \"\\u2014\", \"+\", \"\\\\\", \"8\", \"&\", \"_\", \"|\", \"      \", \"=\", \"4\", \"7\", \"\\u270c\", \"\\ud83c\\udffb\", \"5\", \"6\", \"%\", \";\", \"\\u2026\", \"3\", \"9\", \">\", \"!\", \"[\", \"]\", \"1\", \"#\", \"  \", \"\\\"\", \".\", \"I\", \"a\", \"b\", \"c\", \"d\", \"e\", \"f\", \"h\", \"i\", \"k\", \"l\", \"n\", \"o\", \"p\", \"r\", \"s\", \"t\", \"u\", \"v\", \"w\", \"y\", \"'\", \",\", \"g\", \"j\", \"m\", \"\\u2721\", \"\\ufe0f\", \"\\ud83d\\udc85\", \"\\ud83d\\udc7d\", \"\\u2014\", \"+\", \"\\\\\", \"8\", \"&\", \"_\", \"|\", \"      \", \"=\", \"4\", \"7\", \"\\u270c\", \"\\ud83c\\udffb\", \"5\", \"6\", \"%\", \";\", \"\\u2026\", \"3\", \"9\", \">\", \"!\", \"[\", \"]\", \"1\", \"#\", \"  \", \"\\\"\", \".\", \"I\", \"a\", \"b\", \"c\", \"d\", \"e\", \"f\", \"h\", \"i\", \"k\", \"l\", \"n\", \"o\", \"p\", \"r\", \"s\", \"t\", \"u\", \"v\", \"w\", \"y\", \"'\", \",\", \"g\", \"j\", \"m\", \"\\u2721\", \"\\ufe0f\", \"\\ud83d\\udc85\", \"\\ud83d\\udc7d\", \"\\u2014\", \"+\", \"\\\\\", \"8\", \"&\", \"_\", \"|\", \"      \", \"=\", \"4\", \"7\", \"\\u270c\", \"\\ud83c\\udffb\", \"5\", \"6\", \"%\", \";\", \"\\u2026\", \"3\", \"9\", \">\", \"!\", \"[\", \"]\", \"1\", \"#\", \"  \", \"\\\"\", \".\", \"I\", \"a\", \"b\", \"c\", \"d\", \"e\", \"f\", \"h\", \"i\", \"k\", \"l\", \"n\", \"o\", \"p\", \"r\", \"s\", \"t\", \"u\", \"v\", \"w\", \"y\", \"'\", \",\", \"g\", \"j\", \"m\"], \"Freq\": [6729.0, 1946.0, 5526.0, 4783.0, 3439.0, 2206.0, 3369.0, 1549.0, 4005.0, 12078.0, 4059.0, 1784.0, 1189.0, 1557.0, 4690.0, 2701.0, 1090.0, 1173.0, 1213.0, 624.0, 646.0, 790.0, 812.0, 1145.0, 745.0, 505.0, 399.0, 277.0, 208.0, 170.0, 48.04031606737835, 430.9358595513346, 715.3631625806314, 435.02817648773174, 181.35757787930646, 329.82013093196156, 578.0999846277039, 70.14259584681736, 358.40734026260196, 715.2821936813502, 1420.6529223366022, 220.42352015489686, 1007.3552538950721, 477.9529690564002, 2127.4239533833997, 771.937587011078, 638.8182731931538, 309.31204480196857, 695.6089305412826, 152.6607004622934, 453.83773978350797, 79.68659164884535, 106.19557949046305, 275.51908956945135, 80.21564333692879, 32.32694259945792, 0.036429147830107436, 0.036429147830107436, 0.036429147830107436, 0.036429147830107436, 3.909744194309799, 0.03643255716794536, 0.036429147830107436, 0.036429147830107436, 5.590488351764842, 229.666015604446, 368.9480689036202, 462.49478364047326, 7.85733905290283, 341.34289963944843, 312.65590660922106, 561.9228612763324, 3.585373694115668, 417.3876021972805, 1015.9987692349484, 2322.9213367945104, 779.4155171242132, 144.4582786193158, 841.7407507783271, 437.39321156577313, 195.73624246061704, 80.1469019096369, 408.4032092019044, 634.8180043753399, 203.25494981268594, 288.7747166925051, 123.88748444312169, 684.9399312973302, 73.87623369136786, 366.81342445958563, 100.8077408063945, 100.5500058938965, 0.03628808586319765, 0.03628808586319765, 0.03628842105051362, 0.03628808586319765, 206.45740109214915, 291.19456562777435, 1061.956495490062, 292.62727300312133, 587.0097546050345, 84.55332734544439, 431.4609849448201, 267.3152686936884, 477.98857038139124, 143.60003867504923, 499.460856352889, 1505.1626927802274, 563.9723384632136, 87.34757442118641, 133.65365176640225, 130.12067193372965, 68.13203082598172, 87.99994344472516, 423.0248420227299, 196.0499526813941, 409.6426693988898, 61.299459153771195, 489.1816486285898, 68.48318428146389, 0.041933304158091794, 0.041933304158091794, 0.041933304158091794, 0.041933304158091794, 0.041933304158091794, 0.041933304158091794, 0.041933304158091794, 0.041933304158091794, 0.041933304158091794, 0.041933304158091794, 0.041933304158091794, 0.041933304158091794, 76.01508686971702, 180.3360184179301, 310.95328561672096, 135.31387117061558, 21.491999474333856, 570.3623147544007, 225.49589265898499, 140.92541866872114, 85.92122462497052, 912.8417789412504, 1071.1227217662404, 475.6517893615265, 519.4388227433694, 1446.0456723261143, 417.07793955629074, 219.21207098635267, 452.65380873087327, 100.69893070247387, 284.0194779433878, 61.64195974701759, 64.69582098173358, 350.9408319073437, 91.96366941706492, 65.87295096322454, 104.72277188260472, 25.304423099098685, 32.960705376454044, 0.03583970132639781, 0.03583970132639781, 0.03583970132639781, 16.85283954332935, 0.03583970132639781, 0.03583970132639781, 7.8393879722010285, 3.4185491876297833, 2.141543925750277, 626.9753366388081, 344.2906343206453, 237.6153562477984, 142.3058715003007, 50.28130453496452, 196.89398769806905, 1123.2259519638717, 235.0223347488328, 554.7721400252774, 1555.7388439819283, 584.1019684472941, 668.502591085305, 402.04336358160975, 260.3633700173723, 313.21764853349623, 400.6135295822286, 93.76473151965153, 150.83877914963858, 304.2522385356206, 31.684588054839114, 48.72048505140835, 46.07396951060358, 23.391946631182382, 7.999890690453615, 0.03668789176608163, 0.03668789176608163, 0.03668789176608163, 5.676256486250042, 0.03668789176608163, 0.03668789176608163, 526.9631118358433, 154.60092870823613, 385.09644142706213, 91.21716555086581, 788.5334466227436, 268.2616115859024, 174.40582451086408, 278.39507505662823, 442.4471094452371, 104.71099042891365, 504.8374353416533, 464.82477451515604, 539.6289610608501, 114.32311169554204, 624.3282588618963, 1015.6546419716966, 422.6932505621466, 260.6726077301886, 153.29511936335564, 106.05531538952631, 49.36690218358714, 57.306630386726084, 96.24563735225321, 0.044609496046289186, 0.044609496046289186, 0.044609496046289186, 0.044609496046289186, 0.044609496046289186, 0.044609496046289186, 0.044609496046289186, 0.044609496046289186, 0.044609496046289186, 0.044609496046289186, 0.044609496046289186, 0.044609496046289186, 0.044609496046289186, 0.044609496046289186, 40.02319099571362, 35.39810732958498, 14.16244162060104, 0.9405661118900553, 0.9405661118900553, 0.9405661118900553, 0.9405661118900553, 355.2316112895632, 695.6440613433181, 98.6673299350425, 164.45916342140134, 93.6365874448777, 501.99821936851936, 358.0043129450717, 119.05011712366036, 141.0998712055362, 592.5442446623622, 395.96696531335874, 80.84077035312563, 147.5119277978819, 311.55970956039675, 741.4483170996704, 47.02365858425626, 271.1438879305956, 107.2511510920457, 145.17094397507802, 93.64313834264848, 60.13826675653107, 22.704875404208092, 0.0347430746666681, 5.732343772854039, 168.36907630437415, 120.27629283074519, 199.38172345840488, 416.23138335904156, 468.4356678267231, 39.036604793477984, 73.99923079864658, 234.64722644710702, 706.0307122468313, 387.91748022169674, 37.03202511620483, 39.068389140263804, 40.12828192441201, 114.1558063034344, 197.10746794330146, 40.12417992056382, 40.944216774270835, 116.85310878905217, 117.76091297918721, 38.99092451117542, 117.56444077419991, 39.06944908957858, 38.192425827544696, 0.049770665352278365, 0.049770665352278365, 0.049770665352278365, 0.049770665352278365, 0.049770665352278365, 0.049770665352278365, 0.049770665352278365, 0.049770665352278365, 0.049770665352278365, 0.049770665352278365, 0.049770665352278365, 0.049770665352278365, 0.049770665352278365, 0.049770665352278365, 33.662069284098706, 422.8913913281655, 164.49838787271847, 297.04861179095644, 80.01517185109134, 331.57659576008245, 78.25935549467576, 515.0805294413487, 155.07744647654002, 148.5597704767595, 74.524128823522, 71.8390016472089, 0.04653825682610843, 0.04653825682610843, 0.04653825682610843, 0.04653825682610843, 0.04653825682610843, 0.04653825682610843, 0.04653825682610843, 75.33678272002882, 0.04653825682610843, 0.04653825682610843, 0.04653825682610843, 0.04653825682610843, 0.04653825682610843, 0.04653825682610843, 0.04653825682610843, 0.04653825682610843, 0.04653825682610843, 0.04653825682610843, 0.04653825682610843, 0.04653825682610843, 0.04653825682610843, 0.04653825682610843, 0.04653825682610843, 0.04653825682610843, 0.04653825682610843, 0.04653825682610843, 0.04653825682610843, 0.04653825682610843, 0.04653825682610843, 0.04653825682610843, 0.04653825682610843, 0.04653825682610843, 0.04653825682610843, 0.04653825682610843, 0.04653825682610843, 164.07951664643792, 87.02020283787571, 177.38833732020285, 67.35710731419468, 169.77867252616514, 90.98433613912144, 168.2832026295392, 138.1926013255045, 117.15837698809068, 47.28120034321068, 42.50297893335069, 67.8201101877541, 47.00219715292242, 141.1110621399059, 0.0358531660151434, 0.0358531660151434, 0.0358531660151434, 0.0358531660151434, 0.0358531660151434, 0.0358531660151434, 14.676771052631514, 0.0358531660151434, 0.0358531660151434, 0.0358531660151434, 0.0358531660151434, 0.0358531660151434, 44.15121217059706, 0.0358531660151434, 0.0358531660151434, 0.0358531660151434, 3.539166858444946, 0.08857854730630632, 0.0358531660151434, 0.0358531660151434, 0.0358531660151434, 0.0358531660151434, 0.0358531660151434, 0.0358531660151434, 0.0358531660151434, 0.0358531660151434, 0.0358531660151434, 0.0358531660151434, 0.0358531660151434, 0.0358531660151434, 266.9277099525846, 161.70921609177725, 142.7209074047126, 164.3654154545644, 0.038831348574527594, 0.038831348574527594, 0.038831348574527594, 0.038831348574527594, 0.038831348574527594, 0.038831348574527594, 0.038831348574527594, 0.038831348574527594, 0.038831348574527594, 0.038831348574527594, 0.038831348574527594, 0.038831348574527594, 0.038831348574527594, 0.038831348574527594, 0.038831348574527594, 0.038831348574527594, 0.038831348574527594, 0.038831348574527594, 0.038831348574527594, 0.038831348574527594, 0.038831348574527594, 0.038831348574527594, 0.038831348574527594, 0.038831348574527594, 0.038831348574527594, 0.038831348574527594, 0.038831348574527594, 0.038831348574527594, 0.038831348574527594, 0.038831348574527594, 0.038831348574527594, 0.038831348574527594, 0.038831348574527594, 0.038831348574527594, 0.038831348574527594, 0.038831348574527594, 0.038831348574527594, 0.038831348574527594, 0.038831348574527594, 0.038831348574527594, 0.038831348574527594, 0.038831348574527594, 0.038831348574527594, 0.038831348574527594, 0.038831348574527594, 0.038831348574527594, 0.038831348574527594, 0.038831348574527594, 0.038831348574527594, 0.038831348574527594, 0.038831348574527594, 0.038831348574527594, 15.81848996088845, 15.81848996088845, 11.038681644981933, 0.04113326178302819, 0.04113326178302819, 0.04113326178302819, 0.04113326178302819, 0.04113326178302819, 17.07019340123975, 0.04113326178302819, 0.04113326178302819, 0.04113326178302819, 0.04113326178302819, 0.04113326178302819, 0.04113326178302819, 14.312373120878132, 0.04113326178302819, 0.04113326178302819, 0.04113326178302819, 0.04113326178302819, 0.04113326178302819, 0.04113326178302819, 14.644140341932033, 28.08719381719794, 0.04113326178302819, 0.04113326178302819, 0.04113326178302819, 0.04113326178302819, 0.04113326178302819, 13.39296515710378, 0.04113326178302819, 0.04113326178302819, 0.04113326178302819, 0.04113326178302819, 0.04113326178302819, 0.04113326178302819, 0.04113326178302819, 0.04113326178302819, 0.04113326178302819, 0.04113326178302819, 0.04113326178302819, 0.04113326178302819, 0.04113326178302819, 0.04113326178302819, 0.04113326178302819, 0.04113326178302819, 0.04113326178302819, 0.04113326178302819, 0.04113326178302819, 0.04113326178302819, 0.04113326178302819, 0.04113326178302819, 48.78684423042511, 42.26224055347066, 21.545058464606228, 0.044324529710914246, 0.044324529710914246, 0.044324529710914246, 0.044324529710914246, 0.044324529710914246, 0.044324529710914246, 0.044324529710914246, 0.044324529710914246, 0.044324529710914246, 0.044324529710914246, 0.044324529710914246, 0.044324529710914246, 0.044324529710914246, 0.044324529710914246, 0.044324529710914246, 0.044324529710914246, 0.044324529710914246, 0.044324529710914246, 0.044324529710914246, 0.044324529710914246, 0.044324529710914246, 0.044324529710914246, 0.044324529710914246, 0.044324529710914246, 0.044324529710914246, 0.044324529710914246, 0.044324529710914246, 0.044324529710914246, 0.044324529710914246, 0.044324529710914246, 0.044324529710914246, 0.044324529710914246, 0.044324529710914246, 0.044324529710914246, 0.044324529710914246, 0.044324529710914246, 0.044324529710914246, 0.044324529710914246, 0.044324529710914246, 0.044324529710914246, 0.044324529710914246, 0.044324529710914246, 0.044324529710914246, 0.044324529710914246, 0.044324529710914246, 0.044324529710914246, 0.044324529710914246, 0.044324529710914246, 0.044324529710914246, 0.044324529710914246, 0.044324529710914246, 0.044324529710914246, 0.044324529710914246, 0.044324529710914246, 36.55317069012131, 16.267849352434098, 38.00229959716249, 14.674651671777578, 0.03954738493039866, 0.03954738493039866, 0.03954738493039866, 0.03954738493039866, 0.03954738493039866, 0.03954738493039866, 0.03954738493039866, 0.03954738493039866, 0.03954738493039866, 0.03954738493039866, 0.03954738493039866, 0.03954738493039866, 0.03954738493039866, 0.03954738493039866, 0.03954738493039866, 0.03954738493039866, 0.03954738493039866, 0.03954738493039866, 0.03954738493039866, 0.03954738493039866, 0.03954738493039866, 0.03954738493039866, 0.03954738493039866, 0.03954738493039866, 0.03954738493039866, 0.03954738493039866, 0.03954738493039866, 0.03954738493039866, 0.03954738493039866, 0.03954738493039866, 0.03954738493039866, 0.03954738493039866, 0.03954738493039866, 0.03954738493039866, 0.03954738493039866, 0.03954738493039866, 0.03954738493039866, 0.03954738493039866, 0.03954738493039866, 0.03954738493039866, 0.03954738493039866, 0.03954738493039866, 0.03954738493039866, 0.03954738493039866, 0.03954738493039866, 0.03954738493039866, 0.03954738493039866, 0.03954738493039866, 0.03954738493039866, 0.03954738493039866, 0.03954738493039866, 0.03954738493039866, 81.14149101472485, 9.098552220511785, 3.1056359507612874, 3.1056359507612874, 0.04398013203915339, 0.04398013203915339, 0.04398013203915339, 0.04398013203915339, 0.04398013203915339, 0.04398013203915339, 0.04398013203915339, 0.04398013203915339, 0.04398013203915339, 0.04398013203915339, 0.04398013203915339, 0.04398013203915339, 0.04398013203915339, 0.04398013203915339, 0.04398013203915339, 0.04398013203915339, 0.04398013203915339, 0.04398013203915339, 0.04398013203915339, 0.04398013203915339, 0.04398013203915339, 0.04398013203915339, 0.04398013203915339, 0.04398013203915339, 0.04398013203915339, 0.04398013203915339, 0.04398013203915339, 0.04398013203915339, 0.04398013203915339, 0.04398013203915339, 0.04398013203915339, 0.04398013203915339, 0.04398013203915339, 0.04398013203915339, 0.04398013203915339, 0.04398013203915339, 0.04398013203915339, 0.04398013203915339, 0.04398013203915339, 0.04398013203915339, 0.04398013203915339, 0.04398013203915339, 0.04398013203915339, 0.04398013203915339, 0.04398013203915339, 0.04398013203915339, 0.04398013203915339, 0.04398013203915339, 0.04398013203915339, 0.04398013203915339, 0.04398013203915339, 0.04398013203915339, 77.87057648442901, 1.6330792398833422, 1.4195168127187818, 0.04560749267013434, 0.04560749267013434, 0.04560749267013434, 0.04560749267013434, 0.04560749267013434, 0.04560749267013434, 0.04560749267013434, 0.04560749267013434, 0.04560749267013434, 0.04560749267013434, 0.04560749267013434, 0.04560749267013434, 0.04560749267013434, 0.04560749267013434, 0.04560749267013434, 0.04560749267013434, 0.04560749267013434, 0.04560749267013434, 0.04560749267013434, 0.04560749267013434, 0.04560749267013434, 0.04560749267013434, 0.04560749267013434, 0.04560749267013434, 0.04560749267013434, 0.04560749267013434, 0.04560749267013434, 0.045607497561003595, 0.04560749267013434, 0.04560749267013434, 0.04560749267013434, 0.04560749267013434, 0.04560749267013434, 0.04560749267013434, 0.04560749267013434, 0.04560749267013434, 0.04560749267013434, 0.04560749267013434, 0.04560749267013434, 0.04560749267013434, 0.04560749267013434, 0.04560749267013434, 0.04560749267013434, 0.04560749267013434, 0.04560749267013434, 0.04560749267013434, 0.04560749267013434, 0.04560749267013434, 0.04560749267013434, 0.04560749267013434, 0.04560749267013434, 0.04560749267013434, 0.04560749267013434, 0.04560749267013434, 3.75749232143937, 1.2095848436691459, 9.347083609297776, 9.347083609297776, 0.03886260854380653, 0.03886260854380653, 0.03886260854380653, 0.03886260854380653, 0.03886260854380653, 0.03886260854380653, 17.46486034867283, 0.03886260854380653, 0.03886260854380653, 0.03886260854380653, 0.03886260854380653, 0.03886260854380653, 0.03886260854380653, 0.03886260854380653, 0.03886260854380653, 0.03886260854380653, 0.03886260854380653, 0.03886260854380653, 8.023581385207782, 0.03886260854380653, 22.225498852037838, 0.03886260854380653, 0.03886260854380653, 0.03886260854380653, 0.03886260854380653, 0.03886260854380653, 8.18767138105752, 0.03886260854380653, 0.03886260854380653, 0.03886260854380653, 0.03886260854380653, 0.03886260854380653, 0.03886260854380653, 0.03886260854380653, 0.03886260854380653, 0.03886260854380653, 0.03886260854380653, 0.03886260854380653, 0.03886260854380653, 0.03886260854380653, 0.03886260854380653, 0.03886260854380653, 0.03886260854380653, 0.03886260854380653, 0.03886260854380653, 0.03886260854380653, 0.03886260854380653, 0.03886260854380653, 0.03886260854380653, 10.808649940189992, 9.879730720131201, 8.053471181375668, 2.949163851811871, 29.608117985392493, 0.05156179593067678, 0.05156179593067678, 0.05156179593067678, 0.05156179593067678, 0.05156179593067678, 0.05156179593067678, 0.05156179593067678, 0.05156179593067678, 0.05156179593067678, 0.05156179593067678, 0.05156179593067678, 0.05156179593067678, 0.05156179593067678, 0.05156179593067678, 0.05156179593067678, 0.05156179593067678, 0.05156179593067678, 0.05156179593067678, 0.05156179593067678, 0.05156179593067678, 0.05156179593067678, 0.05156179593067678, 0.05156179593067678, 0.05156179593067678, 0.05156179593067678, 0.05156179593067678, 0.05156179593067678, 0.05156179593067678, 0.05156179593067678, 0.05156179593067678, 0.05156179593067678, 0.05156179593067678, 0.05156179593067678, 0.05156179593067678, 0.05156179593067678, 0.05156179593067678, 0.05156179593067678, 0.05156179593067678, 0.05156179593067678, 0.05156179593067678, 0.05156179593067678, 0.05156179593067678, 0.05156179593067678, 0.05156179593067678, 0.05156179593067678, 0.05156179593067678, 0.05156179593067678, 0.05156179593067678, 0.05156179593067678, 0.05156179593067678, 12.717847070729464, 6.233313863663026, 17.575037770261957, 0.06821763411104494, 0.06821763411104494, 0.06821763411104494, 0.06821763411104494, 0.06821763411104494, 0.06821763411104494, 0.06821763411104494, 0.06821763411104494, 0.06821763411104494, 0.06821763411104494, 0.06821763411104494, 0.06821763411104494, 0.06821763411104494, 0.06821763411104494, 0.06821763411104494, 0.06821763411104494, 0.06821763411104494, 0.06821763411104494, 0.06821763411104494, 0.06821763411104494, 0.06821763411104494, 0.06821763411104494, 0.06821763411104494, 0.06821763411104494, 0.06821763411104494, 0.06821763411104494, 0.06821763411104494, 0.06821763411104494, 0.06821763411104494, 0.06821763411104494, 0.06821763411104494, 0.06821763411104494, 0.06821763411104494, 0.06821763411104494, 0.06821763411104494, 0.06821763411104494, 0.06821763411104494, 0.06821763411104494, 0.06821763411104494, 0.06821763411104494, 0.06821763411104494, 0.06821763411104494, 0.06821763411104494, 0.06821763411104494, 0.06821763411104494, 0.06821763411104494, 0.06821763411104494, 0.06821763411104494, 0.06821763411104494, 0.06821763411104494, 0.06821763411104494, 0.06821763411104494, 0.06821763411104494, 0.06821763411104494, 8.435149896963543, 8.435149896963543, 16.790593951194907, 0.07970212117046917, 0.07970212117046917, 0.07970212117046917, 0.07970212117046917, 0.07970212117046917, 0.07970212117046917, 0.07970212117046917, 0.07970212117046917, 0.07970212117046917, 0.07970212117046917, 0.07970212117046917, 0.07970212117046917, 0.07970212117046917, 0.07970212117046917, 0.07970212117046917, 0.07970212117046917, 0.07970212117046917, 0.07970212117046917, 0.07970212117046917, 0.07970212117046917, 0.07970212117046917, 0.07970212117046917, 0.07970212117046917, 0.07970212117046917, 0.07970212117046917, 0.07970212117046917, 0.07970212117046917, 0.07970212117046917, 0.07970212117046917, 0.07970212117046917, 0.07970212117046917, 0.07970212117046917, 0.07970212117046917, 0.07970212117046917, 0.07970212117046917, 0.07970212117046917, 0.07970212117046917, 0.07970212117046917, 0.07970212117046917, 0.07970212117046917, 0.07970212117046917, 0.07970212117046917, 0.07970212117046917, 0.07970212117046917, 0.07970212117046917, 0.07970212117046917, 0.07970212117046917, 0.07970212117046917, 0.07970212117046917, 0.07970212117046917, 0.07970212117046917, 0.07970212117046917, 0.07970212117046917, 0.07970212117046917, 6.436063802319527, 6.436063802319527, 0.17974187623655355, 0.17974187623655355, 0.17974187623655355, 0.17974187623655355, 0.17974187623655355, 0.17974187623655355, 0.17974187623655355, 0.17974187623655355, 0.17974187623655355, 0.17974187623655355, 0.17974187623655355, 0.17974187623655355, 0.17974187623655355, 0.17974187623655355, 0.17974187623655355, 0.17974187623655355, 0.17974187623655355, 0.17974187623655355, 0.17974187623655355, 0.17974187623655355, 0.17974187623655355, 0.17974187623655355, 0.17974187623655355, 0.17974187623655355, 0.17974187623655355, 0.17974187623655355, 0.17974187623655355, 0.17974187623655355, 0.17974187623655355, 0.17974187623655355, 0.17974187623655355, 0.17974187623655355, 0.17974187623655355, 0.17974187623655355, 0.17974187623655355, 0.17974187623655355, 0.17974187623655355, 0.17974187623655355, 0.17974187623655355, 0.17974187623655355, 0.17974187623655355, 0.17974187623655355, 0.17974187623655355, 0.17974187623655355, 0.17974187623655355, 0.17974187623655355, 0.17974187623655355, 0.17974187623655355, 0.17974187623655355, 0.17974187623655355, 0.17974187623655355, 0.17974187623655355, 0.17974187623655355, 0.17974187623655355, 0.17974187623655355, 0.17974187623655355, 0.32815084994522353, 0.32815084994522353, 0.32815084994522353, 0.32815084994522353, 0.32815084994522353, 0.32815084994522353, 0.32815084994522353, 0.32815084994522353, 0.32815084994522353, 0.32815084994522353, 0.32815084994522353, 0.32815084994522353, 0.32815084994522353, 0.32815084994522353, 0.32815084994522353, 0.32815084994522353, 0.32815084994522353, 0.32815084994522353, 0.32815084994522353, 0.32815084994522353, 0.32815084994522353, 0.32815084994522353, 0.32815084994522353, 0.32815084994522353, 0.32815084994522353, 0.32815084994522353, 0.32815084994522353, 0.32815084994522353, 0.32815084994522353, 0.32815084994522353, 0.32815084994522353, 0.32815084994522353, 0.32815084994522353, 0.32815084994522353, 0.32815084994522353, 0.32815084994522353, 0.32815084994522353, 0.32815084994522353, 0.32815084994522353, 0.32815084994522353, 0.32815084994522353, 0.32815084994522353, 0.32815084994522353, 0.32815084994522353, 0.32815084994522353, 0.32815084994522353, 0.32815084994522353, 0.32815084994522353, 0.32815084994522353, 0.32815084994522353, 0.32815084994522353, 0.32815084994522353, 0.32815084994522353, 0.32815084994522353, 0.32815084994522353, 0.32815084994522353, 0.32815084994522353, 0.32815084994522353, 0.32815084994522353, 0.32815084994522353, 0.32815084994522353, 0.32815084994522353, 0.32815084994522353, 0.32815084994522353, 0.32815084994522353, 0.32815084994522353, 0.32815084994522353, 0.32815084994522353, 0.32815084994522353, 0.32815084994522353, 0.32815084994522353, 0.32815084994522353, 0.32815084994522353, 0.32815084994522353, 0.32815084994522353, 0.32815084994522353, 0.32815084994522353, 0.32815084994522353, 0.32815084994522353, 0.32815084994522353, 0.32815084994522353, 0.32815084994522353, 0.32815084994522353, 0.32815084994522353, 0.32815084994522353, 0.32815084994522353, 0.32815084994522353, 0.32815084994522353, 0.32815084994522353, 0.32815084994522353, 0.32815084994522353, 0.32815084994522353, 0.32815084994522353, 0.32815084994522353, 0.32815084994522353, 0.32815084994522353, 0.32815084994522353, 0.32815084994522353, 0.32815084994522353, 0.32815084994522353, 0.32815084994522353, 0.32815084994522353, 0.32815084994522353, 0.32815084994522353, 0.32815084994522353, 0.32815084994522353, 0.32815084994522353, 0.32815084994522353, 0.32815084994522353, 0.32815084994522353, 0.32815084994522353, 0.32815084994522353, 0.32815084994522353, 0.32815084994522353, 0.32815084994522353, 0.32815084994522353, 0.32815084994522353, 0.32815084994522353, 0.32815084994522353, 0.32815084994522353, 0.32815084994522353, 0.32815084994522353, 0.32815084994522353, 0.32815084994522353, 0.32815084994522353, 0.32815084994522353, 0.32815084994522353, 0.32815084994522353, 0.32815084994522353, 0.32815084994522353, 0.32815084994522353, 0.32815084994522353, 0.32815084994522353, 0.32815084994522353, 0.32815084994522353, 0.32815084994522353, 0.32815084994522353, 0.32815084994522353, 0.32815084994522353, 0.32815084994522353, 0.32815084994522353, 0.32815084994522353, 0.32815084994522353, 0.32815084994522353, 0.32815084994522353, 0.32815084994522353, 0.32815084994522353, 0.32815084994522353, 0.32815084994522353, 0.32815084994522353, 0.32815084994522353, 0.32815084994522353, 0.32815084994522353, 0.32815084994522353, 0.32815084994522353, 0.32815084994522353, 0.32815084994522353, 0.32815084994522353, 0.32815084994522353, 0.32815084994522353, 0.32815084994522353, 0.32815084994522353, 0.32815084994522353, 0.32815084994522353, 0.32815084994522353, 0.32815084994522353, 0.32815084994522353, 0.32815084994522353, 0.32815084994522353, 0.32815084994522353, 0.32815084994522353, 0.32815084994522353, 0.32815084994522353, 0.32815084994522353, 0.32815084994522353, 0.32815084994522353, 0.32815084994522353, 0.32815084994522353, 0.32815084994522353, 0.32815084994522353, 0.32815084994522353, 0.32815084994522353, 0.32815084994522353, 0.32815084994522353, 0.32815084994522353, 0.32815084994522353, 0.32815084994522353, 0.32815084994522353, 0.32815084994522353, 0.32815084994522353, 0.32815084994522353, 0.32815084994522353, 0.32815084994522353, 0.32815084994522353, 0.32815084994522353, 0.32815084994522353, 0.32815084994522353, 0.32815084994522353, 0.32815084994522353, 0.32815084994522353, 0.32815084994522353, 0.32815084994522353, 0.32815084994522353, 0.32815084994522353, 0.32815084994522353, 0.32815084994522353, 0.32815084994522353, 0.32815084994522353, 0.32815084994522353, 0.32815084994522353, 0.32815084994522353, 0.32815084994522353, 0.32815084994522353, 0.32815084994522353, 0.32815084994522353, 0.32815084994522353, 0.32815084994522353, 0.32815084994522353, 0.32815084994522353, 0.32815084994522353, 0.32815084994522353, 0.32815084994522353, 0.32815084994522353, 0.32815084994522353, 0.32815084994522353, 0.32815084994522353, 0.32815084994522353, 0.32815084994522353, 0.32815084994522353, 0.32815084994522353, 0.32815084994522353, 0.32815084994522353, 0.32815084994522353, 0.32815084994522353, 0.32815084994522353, 0.32815084994522353], \"Total\": [6729.0, 1946.0, 5526.0, 4783.0, 3439.0, 2206.0, 3369.0, 1549.0, 4005.0, 12078.0, 4059.0, 1784.0, 1189.0, 1557.0, 4690.0, 2701.0, 1090.0, 1173.0, 1213.0, 624.0, 646.0, 790.0, 812.0, 1145.0, 745.0, 505.0, 399.0, 277.0, 208.0, 170.0, 79.943249484342, 790.6891612109588, 1784.499383903838, 1213.3559683532785, 624.8919443055764, 1189.927560586063, 2206.874987323146, 277.2910364814619, 1557.8114787776524, 3369.459667798636, 6729.944549119595, 1173.8975685620962, 5526.612716186071, 2701.6374090935938, 12078.601875751114, 4783.95346945288, 4005.9930044398525, 1946.146572930031, 4690.116760845156, 1090.3879825837134, 4059.731232812424, 812.7684206589589, 1145.8093311359994, 3439.877810664068, 1549.7754592026622, 745.6806292168047, 3.288629412555352, 3.288629412555352, 3.288629412555352, 3.288629412555352, 505.2517822165777, 399.82672835607946, 208.798274163323, 646.3941769897554, 7.9370066412336095, 505.2517822165777, 812.7684206589589, 1173.8975685620962, 24.838961629218783, 1090.3879825837134, 1145.8093311359994, 2206.874987323146, 14.98646407205707, 1946.146572930031, 4783.95346945288, 12078.601875751114, 4059.731232812424, 790.6891612109588, 4690.116760845156, 3369.459667798636, 1549.7754592026622, 646.3941769897554, 3439.877810664068, 5526.612716186071, 1784.499383903838, 2701.6374090935938, 1213.3559683532785, 6729.944549119595, 745.6806292168047, 4005.9930044398525, 1189.927560586063, 1557.8114787776524, 3.288629412555352, 3.288629412555352, 277.2910364814619, 208.798274163323, 208.798274163323, 1090.3879825837134, 5526.612716186071, 1557.8114787776524, 3439.877810664068, 505.2517822165777, 2701.6374090935938, 1784.499383903838, 3369.459667798636, 1145.8093311359994, 4005.9930044398525, 12078.601875751114, 4690.116760845156, 745.6806292168047, 1213.3559683532785, 1189.927560586063, 624.8919443055764, 812.7684206589589, 4059.731232812424, 1946.146572930031, 4783.95346945288, 790.6891612109588, 6729.944549119595, 2206.874987323146, 3.288629412555352, 3.288629412555352, 3.288629412555352, 3.288629412555352, 3.5535286104573043, 3.7567156953806125, 399.82672835607946, 646.3941769897554, 1173.8975685620962, 277.2910364814619, 1549.7754592026622, 35.99833740260457, 78.3620535437226, 399.82672835607946, 1213.3559683532785, 624.8919443055764, 101.66393514009827, 2701.6374090935938, 1173.8975685620962, 812.7684206589589, 505.2517822165777, 5526.612716186071, 6729.944549119595, 3439.877810664068, 4005.9930044398525, 12078.601875751114, 4059.731232812424, 2206.874987323146, 4690.116760845156, 1189.927560586063, 3369.459667798636, 745.6806292168047, 790.6891612109588, 4783.95346945288, 1549.7754592026622, 1145.8093311359994, 1946.146572930031, 1090.3879825837134, 1784.499383903838, 3.288629412555352, 3.288629412555352, 3.288629412555352, 1557.8114787776524, 208.798274163323, 646.3941769897554, 10.18550645576692, 5.7646676711956655, 4.48766240931616, 2701.6374090935938, 1549.7754592026622, 1090.3879825837134, 745.6806292168047, 277.2910364814619, 1145.8093311359994, 6729.944549119595, 1557.8114787776524, 4005.9930044398525, 12078.601875751114, 4690.116760845156, 5526.612716186071, 3369.459667798636, 2206.874987323146, 3439.877810664068, 4783.95346945288, 1189.927560586063, 1946.146572930031, 4059.731232812424, 505.2517822165777, 1213.3559683532785, 1173.8975685620962, 1784.499383903838, 624.8919443055764, 3.288629412555352, 3.288629412555352, 3.288629412555352, 812.7684206589589, 208.798274163323, 790.6891612109588, 646.3941769897554, 277.2910364814619, 1549.7754592026622, 399.82672835607946, 4690.116760845156, 1784.499383903838, 1189.927560586063, 1946.146572930031, 3369.459667798636, 812.7684206589589, 4005.9930044398525, 4059.731232812424, 4783.95346945288, 1213.3559683532785, 6729.944549119595, 12078.601875751114, 5526.612716186071, 3439.877810664068, 2206.874987323146, 1557.8114787776524, 745.6806292168047, 1173.8975685620962, 2701.6374090935938, 3.288629412555352, 3.288629412555352, 3.288629412555352, 3.288629412555352, 3.5535286104573043, 3.7567156953806125, 3.9702781225451726, 208.798274163323, 790.6891612109588, 1145.8093311359994, 505.2517822165777, 624.8919443055764, 1090.3879825837134, 35.99833740260457, 42.37125429637893, 37.74617063025029, 38.01123885616166, 3.288629412555352, 3.288629412555352, 3.288629412555352, 3.288629412555352, 1557.8114787776524, 3439.877810664068, 624.8919443055764, 1145.8093311359994, 745.6806292168047, 4059.731232812424, 3369.459667798636, 1173.8975685620962, 1549.7754592026622, 6729.944549119595, 5526.612716186071, 1189.927560586063, 2206.874987323146, 4783.95346945288, 12078.601875751114, 790.6891612109588, 4690.116760845156, 1946.146572930031, 4005.9930044398525, 2701.6374090935938, 1784.499383903838, 812.7684206589589, 3.5535286104573043, 1213.3559683532785, 170.7021120143538, 624.8919443055764, 1549.7754592026622, 4059.731232812424, 4783.95346945288, 399.82672835607946, 1145.8093311359994, 4005.9930044398525, 12078.601875751114, 6729.944549119595, 646.3941769897554, 745.6806292168047, 790.6891612109588, 2701.6374090935938, 4690.116760845156, 1090.3879825837134, 1173.8975685620962, 3369.459667798636, 3439.877810664068, 1213.3559683532785, 5526.612716186071, 1946.146572930031, 2206.874987323146, 3.288629412555352, 3.288629412555352, 3.288629412555352, 3.288629412555352, 3.5535286104573043, 3.7567156953806125, 3.9702781225451726, 208.798274163323, 1557.8114787776524, 812.7684206589589, 505.2517822165777, 1189.927560586063, 1784.499383903838, 277.2910364814619, 35.99833740260457, 4005.9930044398525, 1784.499383903838, 4059.731232812424, 1145.8093311359994, 4783.95346945288, 1549.7754592026622, 12078.601875751114, 4690.116760845156, 5526.612716186071, 3439.877810664068, 3369.459667798636, 3.288629412555352, 3.288629412555352, 3.288629412555352, 3.288629412555352, 3.5535286104573043, 3.7567156953806125, 3.9702781225451726, 6729.944549119595, 4.48766240931616, 5.280408431213159, 5.4444621940541, 5.4444621940541, 5.7646676711956655, 6.101436088227528, 7.9370066412336095, 8.547902604883948, 8.63912830141494, 8.63912830141494, 208.798274163323, 745.6806292168047, 790.6891612109588, 1557.8114787776524, 1946.146572930031, 2701.6374090935938, 812.7684206589589, 505.2517822165777, 2206.874987323146, 1189.927560586063, 624.8919443055764, 1090.3879825837134, 1213.3559683532785, 399.82672835607946, 646.3941769897554, 1173.8975685620962, 277.2910364814619, 745.6806292168047, 399.82672835607946, 1189.927560586063, 505.2517822165777, 2206.874987323146, 1557.8114787776524, 4783.95346945288, 4690.116760845156, 4005.9930044398525, 1784.499383903838, 1946.146572930031, 3439.877810664068, 3369.459667798636, 12078.601875751114, 3.288629412555352, 3.288629412555352, 3.288629412555352, 3.288629412555352, 3.5535286104573043, 3.7567156953806125, 1549.7754592026622, 3.9702781225451726, 4.48766240931616, 5.280408431213159, 5.4444621940541, 5.4444621940541, 6729.944549119595, 5.7646676711956655, 6.101436088227528, 7.9370066412336095, 5526.612716186071, 1145.8093311359994, 208.798274163323, 790.6891612109588, 2701.6374090935938, 812.7684206589589, 4059.731232812424, 624.8919443055764, 1090.3879825837134, 1213.3559683532785, 646.3941769897554, 1173.8975685620962, 277.2910364814619, 35.99833740260457, 1946.146572930031, 3439.877810664068, 5526.612716186071, 6729.944549119595, 3.288629412555352, 3.288629412555352, 3.288629412555352, 3.288629412555352, 3.5535286104573043, 3.7567156953806125, 3.9702781225451726, 4.48766240931616, 5.280408431213159, 5.4444621940541, 5.4444621940541, 5.7646676711956655, 6.101436088227528, 7.9370066412336095, 8.547902604883948, 8.63912830141494, 8.63912830141494, 10.18550645576692, 10.38471576077696, 10.738254151125043, 12.210975299532492, 13.139894519591284, 14.98646407205707, 15.032435811950387, 18.611108342835667, 24.838961629218783, 12078.601875751114, 208.798274163323, 745.6806292168047, 4690.116760845156, 790.6891612109588, 1557.8114787776524, 1145.8093311359994, 2701.6374090935938, 812.7684206589589, 505.2517822165777, 2206.874987323146, 4059.731232812424, 4783.95346945288, 1189.927560586063, 3369.459667798636, 4005.9930044398525, 1784.499383903838, 624.8919443055764, 1090.3879825837134, 1213.3559683532785, 399.82672835607946, 646.3941769897554, 1173.8975685620962, 277.2910364814619, 1549.7754592026622, 35.99833740260457, 27.468384075191356, 27.468384075191356, 624.8919443055764, 3.288629412555352, 3.288629412555352, 3.288629412555352, 3.288629412555352, 3.5535286104573043, 1549.7754592026622, 3.7567156953806125, 3.9702781225451726, 4.48766240931616, 5.280408431213159, 5.4444621940541, 5.4444621940541, 1946.146572930031, 5.7646676711956655, 6.101436088227528, 7.9370066412336095, 8.547902604883948, 8.63912830141494, 8.63912830141494, 3369.459667798636, 6729.944549119595, 10.18550645576692, 10.38471576077696, 10.738254151125043, 12.210975299532492, 13.139894519591284, 4783.95346945288, 12078.601875751114, 208.798274163323, 745.6806292168047, 3439.877810664068, 4690.116760845156, 790.6891612109588, 1557.8114787776524, 1145.8093311359994, 2701.6374090935938, 812.7684206589589, 505.2517822165777, 2206.874987323146, 4059.731232812424, 1189.927560586063, 4005.9930044398525, 5526.612716186071, 1784.499383903838, 1090.3879825837134, 1213.3559683532785, 399.82672835607946, 646.3941769897554, 1173.8975685620962, 51.12532607604617, 44.60072239909172, 38.01123885616166, 3.288629412555352, 3.288629412555352, 3.288629412555352, 3.288629412555352, 3.5535286104573043, 3.7567156953806125, 3.9702781225451726, 4.48766240931616, 5.280408431213159, 5.4444621940541, 5.4444621940541, 5.7646676711956655, 6.101436088227528, 7.9370066412336095, 8.547902604883948, 8.63912830141494, 8.63912830141494, 10.18550645576692, 10.38471576077696, 10.738254151125043, 12.210975299532492, 13.139894519591284, 14.98646407205707, 15.032435811950387, 18.611108342835667, 24.838961629218783, 27.468384075191356, 12078.601875751114, 208.798274163323, 745.6806292168047, 3439.877810664068, 4690.116760845156, 790.6891612109588, 1557.8114787776524, 1946.146572930031, 6729.944549119595, 1145.8093311359994, 2701.6374090935938, 812.7684206589589, 505.2517822165777, 2206.874987323146, 4059.731232812424, 4783.95346945288, 1189.927560586063, 3369.459667798636, 4005.9930044398525, 5526.612716186071, 1784.499383903838, 624.8919443055764, 1090.3879825837134, 1213.3559683532785, 399.82672835607946, 646.3941769897554, 1173.8975685620962, 38.896429680522886, 18.611108342835667, 57.0564504175885, 24.838961629218783, 3.288629412555352, 3.288629412555352, 3.288629412555352, 3.288629412555352, 3.5535286104573043, 3.7567156953806125, 3.9702781225451726, 4.48766240931616, 5.280408431213159, 5.4444621940541, 5.4444621940541, 5.7646676711956655, 6.101436088227528, 7.9370066412336095, 8.547902604883948, 8.63912830141494, 8.63912830141494, 10.18550645576692, 10.38471576077696, 10.738254151125043, 12.210975299532492, 13.139894519591284, 14.98646407205707, 15.032435811950387, 27.468384075191356, 27.468384075191356, 12078.601875751114, 208.798274163323, 745.6806292168047, 3439.877810664068, 4690.116760845156, 790.6891612109588, 1557.8114787776524, 1946.146572930031, 6729.944549119595, 1145.8093311359994, 2701.6374090935938, 812.7684206589589, 505.2517822165777, 2206.874987323146, 4059.731232812424, 4783.95346945288, 1189.927560586063, 3369.459667798636, 4005.9930044398525, 5526.612716186071, 1784.499383903838, 624.8919443055764, 1090.3879825837134, 1213.3559683532785, 399.82672835607946, 646.3941769897554, 83.48031725801764, 14.98646407205707, 5.4444621940541, 5.4444621940541, 3.288629412555352, 3.288629412555352, 3.288629412555352, 3.288629412555352, 3.5535286104573043, 3.7567156953806125, 3.9702781225451726, 4.48766240931616, 5.280408431213159, 5.7646676711956655, 6.101436088227528, 7.9370066412336095, 8.547902604883948, 8.63912830141494, 8.63912830141494, 10.18550645576692, 10.38471576077696, 10.738254151125043, 12.210975299532492, 13.139894519591284, 15.032435811950387, 18.611108342835667, 24.838961629218783, 27.468384075191356, 27.468384075191356, 28.245074287275955, 12078.601875751114, 208.798274163323, 745.6806292168047, 3439.877810664068, 4690.116760845156, 790.6891612109588, 1557.8114787776524, 1946.146572930031, 6729.944549119595, 1145.8093311359994, 2701.6374090935938, 812.7684206589589, 505.2517822165777, 2206.874987323146, 4059.731232812424, 4783.95346945288, 1189.927560586063, 3369.459667798636, 4005.9930044398525, 5526.612716186071, 1784.499383903838, 624.8919443055764, 1090.3879825837134, 1213.3559683532785, 399.82672835607946, 646.3941769897554, 101.66393514009827, 3.9702781225451726, 3.7567156953806125, 3.288629412555352, 3.288629412555352, 3.288629412555352, 3.288629412555352, 3.5535286104573043, 4.48766240931616, 5.280408431213159, 5.4444621940541, 5.4444621940541, 5.7646676711956655, 6.101436088227528, 7.9370066412336095, 8.547902604883948, 8.63912830141494, 8.63912830141494, 10.18550645576692, 10.38471576077696, 10.738254151125043, 12.210975299532492, 13.139894519591284, 14.98646407205707, 15.032435811950387, 18.611108342835667, 24.838961629218783, 27.468384075191356, 27.468384075191356, 28.245074287275955, 4059.731232812424, 12078.601875751114, 208.798274163323, 745.6806292168047, 3439.877810664068, 4690.116760845156, 790.6891612109588, 1557.8114787776524, 1946.146572930031, 6729.944549119595, 1145.8093311359994, 2701.6374090935938, 812.7684206589589, 505.2517822165777, 2206.874987323146, 4783.95346945288, 1189.927560586063, 3369.459667798636, 4005.9930044398525, 5526.612716186071, 1784.499383903838, 624.8919443055764, 1090.3879825837134, 1213.3559683532785, 399.82672835607946, 646.3941769897554, 1173.8975685620962, 6.101436088227528, 3.5535286104573043, 27.468384075191356, 27.468384075191356, 3.288629412555352, 3.288629412555352, 3.288629412555352, 3.288629412555352, 3.7567156953806125, 3.9702781225451726, 1946.146572930031, 4.48766240931616, 5.280408431213159, 5.4444621940541, 5.4444621940541, 5.7646676711956655, 7.9370066412336095, 8.547902604883948, 8.63912830141494, 8.63912830141494, 10.18550645576692, 10.38471576077696, 2206.874987323146, 10.738254151125043, 6729.944549119595, 12.210975299532492, 13.139894519591284, 14.98646407205707, 15.032435811950387, 18.611108342835667, 5526.612716186071, 12078.601875751114, 208.798274163323, 745.6806292168047, 3439.877810664068, 4690.116760845156, 790.6891612109588, 1557.8114787776524, 1145.8093311359994, 2701.6374090935938, 812.7684206589589, 505.2517822165777, 4059.731232812424, 4783.95346945288, 1189.927560586063, 3369.459667798636, 4005.9930044398525, 1784.499383903838, 624.8919443055764, 1090.3879825837134, 1213.3559683532785, 399.82672835607946, 646.3941769897554, 13.139894519591284, 12.210975299532492, 10.38471576077696, 5.280408431213159, 79.943249484342, 3.288629412555352, 3.288629412555352, 3.288629412555352, 3.288629412555352, 3.5535286104573043, 3.7567156953806125, 3.9702781225451726, 4.48766240931616, 5.4444621940541, 5.4444621940541, 5.7646676711956655, 6.101436088227528, 7.9370066412336095, 8.547902604883948, 8.63912830141494, 8.63912830141494, 10.18550645576692, 10.738254151125043, 14.98646407205707, 15.032435811950387, 18.611108342835667, 24.838961629218783, 27.468384075191356, 27.468384075191356, 28.245074287275955, 12078.601875751114, 208.798274163323, 745.6806292168047, 3439.877810664068, 4690.116760845156, 790.6891612109588, 1557.8114787776524, 1946.146572930031, 6729.944549119595, 1145.8093311359994, 2701.6374090935938, 812.7684206589589, 505.2517822165777, 2206.874987323146, 4059.731232812424, 4783.95346945288, 1189.927560586063, 3369.459667798636, 4005.9930044398525, 5526.612716186071, 1784.499383903838, 624.8919443055764, 1090.3879825837134, 1213.3559683532785, 399.82672835607946, 15.032435811950387, 8.547902604883948, 28.245074287275955, 3.288629412555352, 3.288629412555352, 3.288629412555352, 3.288629412555352, 3.5535286104573043, 3.7567156953806125, 3.9702781225451726, 4.48766240931616, 5.280408431213159, 5.4444621940541, 5.4444621940541, 5.7646676711956655, 6.101436088227528, 7.9370066412336095, 8.63912830141494, 8.63912830141494, 10.18550645576692, 10.38471576077696, 10.738254151125043, 12.210975299532492, 13.139894519591284, 14.98646407205707, 18.611108342835667, 24.838961629218783, 27.468384075191356, 27.468384075191356, 35.99833740260457, 12078.601875751114, 208.798274163323, 745.6806292168047, 3439.877810664068, 4690.116760845156, 790.6891612109588, 1557.8114787776524, 1946.146572930031, 6729.944549119595, 1145.8093311359994, 2701.6374090935938, 812.7684206589589, 505.2517822165777, 2206.874987323146, 4059.731232812424, 4783.95346945288, 1189.927560586063, 3369.459667798636, 4005.9930044398525, 5526.612716186071, 1784.499383903838, 624.8919443055764, 1090.3879825837134, 1213.3559683532785, 399.82672835607946, 646.3941769897554, 1173.8975685620962, 10.738254151125043, 28.245074287275955, 57.0564504175885, 3.288629412555352, 3.288629412555352, 3.288629412555352, 3.288629412555352, 3.5535286104573043, 3.7567156953806125, 3.9702781225451726, 4.48766240931616, 5.280408431213159, 5.4444621940541, 5.4444621940541, 5.7646676711956655, 6.101436088227528, 7.9370066412336095, 8.547902604883948, 8.63912830141494, 8.63912830141494, 10.18550645576692, 10.38471576077696, 12.210975299532492, 13.139894519591284, 14.98646407205707, 15.032435811950387, 18.611108342835667, 24.838961629218783, 27.468384075191356, 27.468384075191356, 12078.601875751114, 208.798274163323, 745.6806292168047, 3439.877810664068, 4690.116760845156, 790.6891612109588, 1557.8114787776524, 1946.146572930031, 6729.944549119595, 1145.8093311359994, 2701.6374090935938, 812.7684206589589, 505.2517822165777, 2206.874987323146, 4059.731232812424, 4783.95346945288, 1189.927560586063, 3369.459667798636, 4005.9930044398525, 5526.612716186071, 1784.499383903838, 624.8919443055764, 1090.3879825837134, 1213.3559683532785, 399.82672835607946, 646.3941769897554, 1173.8975685620962, 8.63912830141494, 8.63912830141494, 3.288629412555352, 3.288629412555352, 3.288629412555352, 3.288629412555352, 3.5535286104573043, 3.7567156953806125, 3.9702781225451726, 4.48766240931616, 5.280408431213159, 5.4444621940541, 5.4444621940541, 5.7646676711956655, 6.101436088227528, 7.9370066412336095, 8.547902604883948, 10.18550645576692, 10.38471576077696, 10.738254151125043, 12.210975299532492, 13.139894519591284, 14.98646407205707, 15.032435811950387, 18.611108342835667, 24.838961629218783, 27.468384075191356, 27.468384075191356, 28.245074287275955, 35.99833740260457, 12078.601875751114, 208.798274163323, 745.6806292168047, 3439.877810664068, 4690.116760845156, 790.6891612109588, 1557.8114787776524, 1946.146572930031, 6729.944549119595, 1145.8093311359994, 2701.6374090935938, 812.7684206589589, 505.2517822165777, 2206.874987323146, 4059.731232812424, 4783.95346945288, 1189.927560586063, 3369.459667798636, 4005.9930044398525, 5526.612716186071, 1784.499383903838, 624.8919443055764, 1090.3879825837134, 1213.3559683532785, 399.82672835607946, 646.3941769897554, 1173.8975685620962, 277.2910364814619, 3.288629412555352, 3.288629412555352, 3.288629412555352, 3.288629412555352, 3.5535286104573043, 3.7567156953806125, 3.9702781225451726, 4.48766240931616, 5.280408431213159, 5.4444621940541, 5.4444621940541, 5.7646676711956655, 6.101436088227528, 7.9370066412336095, 8.547902604883948, 8.63912830141494, 8.63912830141494, 10.18550645576692, 10.38471576077696, 10.738254151125043, 12.210975299532492, 13.139894519591284, 14.98646407205707, 15.032435811950387, 18.611108342835667, 24.838961629218783, 27.468384075191356, 27.468384075191356, 28.245074287275955, 35.99833740260457, 12078.601875751114, 208.798274163323, 745.6806292168047, 3439.877810664068, 4690.116760845156, 790.6891612109588, 1557.8114787776524, 1946.146572930031, 6729.944549119595, 1145.8093311359994, 2701.6374090935938, 812.7684206589589, 505.2517822165777, 2206.874987323146, 4059.731232812424, 4783.95346945288, 1189.927560586063, 3369.459667798636, 4005.9930044398525, 5526.612716186071, 1784.499383903838, 624.8919443055764, 1090.3879825837134, 1213.3559683532785, 399.82672835607946, 646.3941769897554, 1173.8975685620962, 277.2910364814619, 1549.7754592026622, 3.288629412555352, 3.288629412555352, 3.288629412555352, 3.288629412555352, 3.5535286104573043, 3.7567156953806125, 3.9702781225451726, 4.48766240931616, 5.280408431213159, 5.4444621940541, 5.4444621940541, 5.7646676711956655, 6.101436088227528, 7.9370066412336095, 8.547902604883948, 8.63912830141494, 8.63912830141494, 10.18550645576692, 10.38471576077696, 10.738254151125043, 12.210975299532492, 13.139894519591284, 14.98646407205707, 15.032435811950387, 18.611108342835667, 24.838961629218783, 27.468384075191356, 27.468384075191356, 28.245074287275955, 35.99833740260457, 12078.601875751114, 208.798274163323, 745.6806292168047, 3439.877810664068, 4690.116760845156, 790.6891612109588, 1557.8114787776524, 1946.146572930031, 6729.944549119595, 1145.8093311359994, 2701.6374090935938, 812.7684206589589, 505.2517822165777, 2206.874987323146, 4059.731232812424, 4783.95346945288, 1189.927560586063, 3369.459667798636, 4005.9930044398525, 5526.612716186071, 1784.499383903838, 624.8919443055764, 1090.3879825837134, 1213.3559683532785, 399.82672835607946, 646.3941769897554, 1173.8975685620962, 277.2910364814619, 1549.7754592026622, 3.288629412555352, 3.288629412555352, 3.288629412555352, 3.288629412555352, 3.5535286104573043, 3.7567156953806125, 3.9702781225451726, 4.48766240931616, 5.280408431213159, 5.4444621940541, 5.4444621940541, 5.7646676711956655, 6.101436088227528, 7.9370066412336095, 8.547902604883948, 8.63912830141494, 8.63912830141494, 10.18550645576692, 10.38471576077696, 10.738254151125043, 12.210975299532492, 13.139894519591284, 14.98646407205707, 15.032435811950387, 18.611108342835667, 24.838961629218783, 27.468384075191356, 27.468384075191356, 28.245074287275955, 35.99833740260457, 12078.601875751114, 208.798274163323, 745.6806292168047, 3439.877810664068, 4690.116760845156, 790.6891612109588, 1557.8114787776524, 1946.146572930031, 6729.944549119595, 1145.8093311359994, 2701.6374090935938, 812.7684206589589, 505.2517822165777, 2206.874987323146, 4059.731232812424, 4783.95346945288, 1189.927560586063, 3369.459667798636, 4005.9930044398525, 5526.612716186071, 1784.499383903838, 624.8919443055764, 1090.3879825837134, 1213.3559683532785, 399.82672835607946, 646.3941769897554, 1173.8975685620962, 277.2910364814619, 1549.7754592026622, 3.288629412555352, 3.288629412555352, 3.288629412555352, 3.288629412555352, 3.5535286104573043, 3.7567156953806125, 3.9702781225451726, 4.48766240931616, 5.280408431213159, 5.4444621940541, 5.4444621940541, 5.7646676711956655, 6.101436088227528, 7.9370066412336095, 8.547902604883948, 8.63912830141494, 8.63912830141494, 10.18550645576692, 10.38471576077696, 10.738254151125043, 12.210975299532492, 13.139894519591284, 14.98646407205707, 15.032435811950387, 18.611108342835667, 24.838961629218783, 27.468384075191356, 27.468384075191356, 28.245074287275955, 35.99833740260457, 12078.601875751114, 208.798274163323, 745.6806292168047, 3439.877810664068, 4690.116760845156, 790.6891612109588, 1557.8114787776524, 1946.146572930031, 6729.944549119595, 1145.8093311359994, 2701.6374090935938, 812.7684206589589, 505.2517822165777, 2206.874987323146, 4059.731232812424, 4783.95346945288, 1189.927560586063, 3369.459667798636, 4005.9930044398525, 5526.612716186071, 1784.499383903838, 624.8919443055764, 1090.3879825837134, 1213.3559683532785, 399.82672835607946, 646.3941769897554, 1173.8975685620962, 277.2910364814619, 1549.7754592026622], \"Category\": [\"Default\", \"Default\", \"Default\", \"Default\", \"Default\", \"Default\", \"Default\", \"Default\", \"Default\", \"Default\", \"Default\", \"Default\", \"Default\", \"Default\", \"Default\", \"Default\", \"Default\", \"Default\", \"Default\", \"Default\", \"Default\", \"Default\", \"Default\", \"Default\", \"Default\", \"Default\", \"Default\", \"Default\", \"Default\", \"Default\", \"Topic1\", \"Topic1\", \"Topic1\", \"Topic1\", \"Topic1\", \"Topic1\", \"Topic1\", \"Topic1\", \"Topic1\", \"Topic1\", \"Topic1\", \"Topic1\", \"Topic1\", \"Topic1\", \"Topic1\", \"Topic1\", \"Topic1\", \"Topic1\", \"Topic1\", \"Topic1\", \"Topic1\", \"Topic1\", \"Topic1\", \"Topic1\", \"Topic1\", \"Topic1\", \"Topic1\", \"Topic1\", \"Topic1\", \"Topic1\", \"Topic1\", \"Topic1\", \"Topic1\", \"Topic1\", \"Topic2\", \"Topic2\", \"Topic2\", \"Topic2\", \"Topic2\", \"Topic2\", \"Topic2\", \"Topic2\", \"Topic2\", \"Topic2\", \"Topic2\", \"Topic2\", \"Topic2\", \"Topic2\", \"Topic2\", \"Topic2\", \"Topic2\", \"Topic2\", \"Topic2\", \"Topic2\", \"Topic2\", \"Topic2\", \"Topic2\", \"Topic2\", \"Topic2\", \"Topic2\", \"Topic2\", \"Topic2\", \"Topic2\", \"Topic2\", \"Topic2\", \"Topic2\", \"Topic3\", \"Topic3\", \"Topic3\", \"Topic3\", \"Topic3\", \"Topic3\", \"Topic3\", \"Topic3\", \"Topic3\", \"Topic3\", \"Topic3\", \"Topic3\", \"Topic3\", \"Topic3\", \"Topic3\", \"Topic3\", \"Topic3\", \"Topic3\", \"Topic3\", \"Topic3\", \"Topic3\", \"Topic3\", \"Topic3\", \"Topic3\", \"Topic3\", \"Topic3\", \"Topic3\", \"Topic3\", \"Topic3\", \"Topic3\", \"Topic3\", \"Topic3\", \"Topic3\", \"Topic3\", \"Topic3\", \"Topic3\", \"Topic4\", \"Topic4\", \"Topic4\", \"Topic4\", \"Topic4\", \"Topic4\", \"Topic4\", \"Topic4\", \"Topic4\", \"Topic4\", \"Topic4\", \"Topic4\", \"Topic4\", \"Topic4\", \"Topic4\", \"Topic4\", \"Topic4\", \"Topic4\", \"Topic4\", \"Topic4\", \"Topic4\", \"Topic4\", \"Topic4\", \"Topic4\", \"Topic4\", \"Topic4\", \"Topic4\", \"Topic4\", \"Topic4\", \"Topic4\", \"Topic4\", \"Topic4\", \"Topic4\", \"Topic5\", \"Topic5\", \"Topic5\", \"Topic5\", \"Topic5\", \"Topic5\", \"Topic5\", \"Topic5\", \"Topic5\", \"Topic5\", \"Topic5\", \"Topic5\", \"Topic5\", \"Topic5\", \"Topic5\", \"Topic5\", \"Topic5\", \"Topic5\", \"Topic5\", \"Topic5\", \"Topic5\", \"Topic5\", \"Topic5\", \"Topic5\", \"Topic5\", \"Topic5\", \"Topic5\", \"Topic5\", \"Topic5\", \"Topic5\", \"Topic5\", \"Topic5\", \"Topic5\", \"Topic6\", \"Topic6\", \"Topic6\", \"Topic6\", \"Topic6\", \"Topic6\", \"Topic6\", \"Topic6\", \"Topic6\", \"Topic6\", \"Topic6\", \"Topic6\", \"Topic6\", \"Topic6\", \"Topic6\", \"Topic6\", \"Topic6\", \"Topic6\", \"Topic6\", \"Topic6\", \"Topic6\", \"Topic6\", \"Topic6\", \"Topic6\", \"Topic6\", \"Topic6\", \"Topic6\", \"Topic6\", \"Topic6\", \"Topic6\", \"Topic6\", \"Topic6\", \"Topic6\", \"Topic6\", \"Topic6\", \"Topic6\", \"Topic6\", \"Topic7\", \"Topic7\", \"Topic7\", \"Topic7\", \"Topic7\", \"Topic7\", \"Topic7\", \"Topic7\", \"Topic7\", \"Topic7\", \"Topic7\", \"Topic7\", \"Topic7\", \"Topic7\", \"Topic7\", \"Topic7\", \"Topic7\", \"Topic7\", \"Topic7\", \"Topic7\", \"Topic7\", \"Topic7\", \"Topic7\", \"Topic7\", \"Topic7\", \"Topic7\", \"Topic7\", \"Topic7\", \"Topic7\", \"Topic7\", \"Topic7\", \"Topic8\", \"Topic8\", \"Topic8\", \"Topic8\", \"Topic8\", \"Topic8\", \"Topic8\", \"Topic8\", \"Topic8\", \"Topic8\", \"Topic8\", \"Topic8\", \"Topic8\", \"Topic8\", \"Topic8\", \"Topic8\", \"Topic8\", \"Topic8\", \"Topic8\", \"Topic8\", \"Topic8\", \"Topic8\", \"Topic8\", \"Topic8\", \"Topic8\", \"Topic8\", \"Topic8\", \"Topic8\", \"Topic8\", \"Topic8\", \"Topic8\", \"Topic8\", \"Topic8\", \"Topic8\", \"Topic8\", \"Topic8\", \"Topic8\", \"Topic9\", \"Topic9\", \"Topic9\", \"Topic9\", \"Topic9\", \"Topic9\", \"Topic9\", \"Topic9\", \"Topic9\", \"Topic9\", \"Topic9\", \"Topic9\", \"Topic9\", \"Topic9\", \"Topic9\", \"Topic9\", \"Topic9\", \"Topic9\", \"Topic9\", \"Topic9\", \"Topic9\", \"Topic9\", \"Topic9\", \"Topic9\", \"Topic9\", \"Topic9\", \"Topic9\", \"Topic9\", \"Topic9\", \"Topic9\", \"Topic9\", \"Topic9\", \"Topic9\", \"Topic9\", \"Topic9\", \"Topic9\", \"Topic9\", \"Topic9\", \"Topic9\", \"Topic9\", \"Topic9\", \"Topic9\", \"Topic9\", \"Topic9\", \"Topic9\", \"Topic9\", \"Topic9\", \"Topic10\", \"Topic10\", \"Topic10\", \"Topic10\", \"Topic10\", \"Topic10\", \"Topic10\", \"Topic10\", \"Topic10\", \"Topic10\", \"Topic10\", \"Topic10\", \"Topic10\", \"Topic10\", \"Topic10\", \"Topic10\", \"Topic10\", \"Topic10\", \"Topic10\", \"Topic10\", \"Topic10\", \"Topic10\", \"Topic10\", \"Topic10\", \"Topic10\", \"Topic10\", \"Topic10\", \"Topic10\", \"Topic10\", \"Topic10\", \"Topic10\", \"Topic10\", \"Topic10\", \"Topic10\", \"Topic10\", \"Topic10\", \"Topic10\", \"Topic10\", \"Topic10\", \"Topic10\", \"Topic10\", \"Topic10\", \"Topic10\", \"Topic10\", \"Topic11\", \"Topic11\", \"Topic11\", \"Topic11\", \"Topic11\", \"Topic11\", \"Topic11\", \"Topic11\", \"Topic11\", \"Topic11\", \"Topic11\", \"Topic11\", \"Topic11\", \"Topic11\", \"Topic11\", \"Topic11\", \"Topic11\", \"Topic11\", \"Topic11\", \"Topic11\", \"Topic11\", \"Topic11\", \"Topic11\", \"Topic11\", \"Topic11\", \"Topic11\", \"Topic11\", \"Topic11\", \"Topic11\", \"Topic11\", \"Topic11\", \"Topic11\", \"Topic11\", \"Topic11\", \"Topic11\", \"Topic11\", \"Topic11\", \"Topic11\", \"Topic11\", \"Topic11\", \"Topic11\", \"Topic11\", \"Topic11\", \"Topic11\", \"Topic11\", \"Topic11\", \"Topic11\", \"Topic11\", \"Topic11\", \"Topic11\", \"Topic11\", \"Topic11\", \"Topic11\", \"Topic11\", \"Topic11\", \"Topic11\", \"Topic12\", \"Topic12\", \"Topic12\", \"Topic12\", \"Topic12\", \"Topic12\", \"Topic12\", \"Topic12\", \"Topic12\", \"Topic12\", \"Topic12\", \"Topic12\", \"Topic12\", \"Topic12\", \"Topic12\", \"Topic12\", \"Topic12\", \"Topic12\", \"Topic12\", \"Topic12\", \"Topic12\", \"Topic12\", \"Topic12\", \"Topic12\", \"Topic12\", \"Topic12\", \"Topic12\", \"Topic12\", \"Topic12\", \"Topic12\", \"Topic12\", \"Topic12\", \"Topic12\", \"Topic12\", \"Topic12\", \"Topic12\", \"Topic12\", \"Topic12\", \"Topic12\", \"Topic12\", \"Topic12\", \"Topic12\", \"Topic12\", \"Topic12\", \"Topic12\", \"Topic12\", \"Topic12\", \"Topic12\", \"Topic12\", \"Topic12\", \"Topic12\", \"Topic12\", \"Topic13\", \"Topic13\", \"Topic13\", \"Topic13\", \"Topic13\", \"Topic13\", \"Topic13\", \"Topic13\", \"Topic13\", \"Topic13\", \"Topic13\", \"Topic13\", \"Topic13\", \"Topic13\", \"Topic13\", \"Topic13\", \"Topic13\", \"Topic13\", \"Topic13\", \"Topic13\", \"Topic13\", \"Topic13\", \"Topic13\", \"Topic13\", \"Topic13\", \"Topic13\", \"Topic13\", \"Topic13\", \"Topic13\", \"Topic13\", \"Topic13\", \"Topic13\", \"Topic13\", \"Topic13\", \"Topic13\", \"Topic13\", \"Topic13\", \"Topic13\", \"Topic13\", \"Topic13\", \"Topic13\", \"Topic13\", \"Topic13\", \"Topic13\", \"Topic13\", \"Topic13\", \"Topic13\", \"Topic13\", \"Topic13\", \"Topic13\", \"Topic13\", \"Topic13\", \"Topic13\", \"Topic13\", \"Topic13\", \"Topic13\", \"Topic13\", \"Topic14\", \"Topic14\", \"Topic14\", \"Topic14\", \"Topic14\", \"Topic14\", \"Topic14\", \"Topic14\", \"Topic14\", \"Topic14\", \"Topic14\", \"Topic14\", \"Topic14\", \"Topic14\", \"Topic14\", \"Topic14\", \"Topic14\", \"Topic14\", \"Topic14\", \"Topic14\", \"Topic14\", \"Topic14\", \"Topic14\", \"Topic14\", \"Topic14\", \"Topic14\", \"Topic14\", \"Topic14\", \"Topic14\", \"Topic14\", \"Topic14\", \"Topic14\", \"Topic14\", \"Topic14\", \"Topic14\", \"Topic14\", \"Topic14\", \"Topic14\", \"Topic14\", \"Topic14\", \"Topic14\", \"Topic14\", \"Topic14\", \"Topic14\", \"Topic14\", \"Topic14\", \"Topic14\", \"Topic14\", \"Topic14\", \"Topic14\", \"Topic14\", \"Topic14\", \"Topic14\", \"Topic14\", \"Topic14\", \"Topic14\", \"Topic15\", \"Topic15\", \"Topic15\", \"Topic15\", \"Topic15\", \"Topic15\", \"Topic15\", \"Topic15\", \"Topic15\", \"Topic15\", \"Topic15\", \"Topic15\", \"Topic15\", \"Topic15\", \"Topic15\", \"Topic15\", \"Topic15\", \"Topic15\", \"Topic15\", \"Topic15\", \"Topic15\", \"Topic15\", \"Topic15\", \"Topic15\", \"Topic15\", \"Topic15\", \"Topic15\", \"Topic15\", \"Topic15\", \"Topic15\", \"Topic15\", \"Topic15\", \"Topic15\", \"Topic15\", \"Topic15\", \"Topic15\", \"Topic15\", \"Topic15\", \"Topic15\", \"Topic15\", \"Topic15\", \"Topic15\", \"Topic15\", \"Topic15\", \"Topic15\", \"Topic15\", \"Topic15\", \"Topic15\", \"Topic15\", \"Topic15\", \"Topic15\", \"Topic15\", \"Topic15\", \"Topic15\", \"Topic15\", \"Topic15\", \"Topic16\", \"Topic16\", \"Topic16\", \"Topic16\", \"Topic16\", \"Topic16\", \"Topic16\", \"Topic16\", \"Topic16\", \"Topic16\", \"Topic16\", \"Topic16\", \"Topic16\", \"Topic16\", \"Topic16\", \"Topic16\", \"Topic16\", \"Topic16\", \"Topic16\", \"Topic16\", \"Topic16\", \"Topic16\", \"Topic16\", \"Topic16\", \"Topic16\", \"Topic16\", \"Topic16\", \"Topic16\", \"Topic16\", \"Topic16\", \"Topic16\", \"Topic16\", \"Topic16\", \"Topic16\", \"Topic16\", \"Topic16\", \"Topic16\", \"Topic16\", \"Topic16\", \"Topic16\", \"Topic16\", \"Topic16\", \"Topic16\", \"Topic16\", \"Topic16\", \"Topic16\", \"Topic16\", \"Topic16\", \"Topic16\", \"Topic16\", \"Topic16\", \"Topic16\", \"Topic16\", \"Topic16\", \"Topic16\", \"Topic16\", \"Topic16\", \"Topic17\", \"Topic17\", \"Topic17\", \"Topic17\", \"Topic17\", \"Topic17\", \"Topic17\", \"Topic17\", \"Topic17\", \"Topic17\", \"Topic17\", \"Topic17\", \"Topic17\", \"Topic17\", \"Topic17\", \"Topic17\", \"Topic17\", \"Topic17\", \"Topic17\", \"Topic17\", \"Topic17\", \"Topic17\", \"Topic17\", \"Topic17\", \"Topic17\", \"Topic17\", \"Topic17\", \"Topic17\", \"Topic17\", \"Topic17\", \"Topic17\", \"Topic17\", \"Topic17\", \"Topic17\", \"Topic17\", \"Topic17\", \"Topic17\", \"Topic17\", \"Topic17\", \"Topic17\", \"Topic17\", \"Topic17\", \"Topic17\", \"Topic17\", \"Topic17\", \"Topic17\", \"Topic17\", \"Topic17\", \"Topic17\", \"Topic17\", \"Topic17\", \"Topic17\", \"Topic17\", \"Topic18\", \"Topic18\", \"Topic18\", \"Topic18\", \"Topic18\", \"Topic18\", \"Topic18\", \"Topic18\", \"Topic18\", \"Topic18\", \"Topic18\", \"Topic18\", \"Topic18\", \"Topic18\", \"Topic18\", \"Topic18\", \"Topic18\", \"Topic18\", \"Topic18\", \"Topic18\", \"Topic18\", \"Topic18\", \"Topic18\", \"Topic18\", \"Topic18\", \"Topic18\", \"Topic18\", \"Topic18\", \"Topic18\", \"Topic18\", \"Topic18\", \"Topic18\", \"Topic18\", \"Topic18\", \"Topic18\", \"Topic18\", \"Topic18\", \"Topic18\", \"Topic18\", \"Topic18\", \"Topic18\", \"Topic18\", \"Topic18\", \"Topic18\", \"Topic18\", \"Topic18\", \"Topic18\", \"Topic18\", \"Topic18\", \"Topic18\", \"Topic18\", \"Topic18\", \"Topic18\", \"Topic18\", \"Topic18\", \"Topic19\", \"Topic19\", \"Topic19\", \"Topic19\", \"Topic19\", \"Topic19\", \"Topic19\", \"Topic19\", \"Topic19\", \"Topic19\", \"Topic19\", \"Topic19\", \"Topic19\", \"Topic19\", \"Topic19\", \"Topic19\", \"Topic19\", \"Topic19\", \"Topic19\", \"Topic19\", \"Topic19\", \"Topic19\", \"Topic19\", \"Topic19\", \"Topic19\", \"Topic19\", \"Topic19\", \"Topic19\", \"Topic19\", \"Topic19\", \"Topic19\", \"Topic19\", \"Topic19\", \"Topic19\", \"Topic19\", \"Topic19\", \"Topic19\", \"Topic19\", \"Topic19\", \"Topic19\", \"Topic19\", \"Topic19\", \"Topic19\", \"Topic19\", \"Topic19\", \"Topic19\", \"Topic19\", \"Topic19\", \"Topic19\", \"Topic19\", \"Topic19\", \"Topic19\", \"Topic19\", \"Topic19\", \"Topic19\", \"Topic19\", \"Topic19\", \"Topic20\", \"Topic20\", \"Topic20\", \"Topic20\", \"Topic20\", \"Topic20\", \"Topic20\", \"Topic20\", \"Topic20\", \"Topic20\", \"Topic20\", \"Topic20\", \"Topic20\", \"Topic20\", \"Topic20\", \"Topic20\", \"Topic20\", \"Topic20\", \"Topic20\", \"Topic20\", \"Topic20\", \"Topic20\", \"Topic20\", \"Topic20\", \"Topic20\", \"Topic20\", \"Topic20\", \"Topic20\", \"Topic20\", \"Topic20\", \"Topic20\", \"Topic20\", \"Topic20\", \"Topic20\", \"Topic20\", \"Topic20\", \"Topic20\", \"Topic20\", \"Topic20\", \"Topic20\", \"Topic20\", \"Topic20\", \"Topic20\", \"Topic20\", \"Topic20\", \"Topic20\", \"Topic20\", \"Topic20\", \"Topic20\", \"Topic20\", \"Topic20\", \"Topic20\", \"Topic20\", \"Topic20\", \"Topic20\", \"Topic20\", \"Topic20\", \"Topic21\", \"Topic21\", \"Topic21\", \"Topic21\", \"Topic21\", \"Topic21\", \"Topic21\", \"Topic21\", \"Topic21\", \"Topic21\", \"Topic21\", \"Topic21\", \"Topic21\", \"Topic21\", \"Topic21\", \"Topic21\", \"Topic21\", \"Topic21\", \"Topic21\", \"Topic21\", \"Topic21\", \"Topic21\", \"Topic21\", \"Topic21\", \"Topic21\", \"Topic21\", \"Topic21\", \"Topic21\", \"Topic21\", \"Topic21\", \"Topic21\", \"Topic21\", \"Topic21\", \"Topic21\", \"Topic21\", \"Topic21\", \"Topic21\", \"Topic21\", \"Topic21\", \"Topic21\", \"Topic21\", \"Topic21\", \"Topic21\", \"Topic21\", \"Topic21\", \"Topic21\", \"Topic21\", \"Topic21\", \"Topic21\", \"Topic21\", \"Topic21\", \"Topic21\", \"Topic21\", \"Topic21\", \"Topic21\", \"Topic21\", \"Topic21\", \"Topic21\", \"Topic22\", \"Topic22\", \"Topic22\", \"Topic22\", \"Topic22\", \"Topic22\", \"Topic22\", \"Topic22\", \"Topic22\", \"Topic22\", \"Topic22\", \"Topic22\", \"Topic22\", \"Topic22\", \"Topic22\", \"Topic22\", \"Topic22\", \"Topic22\", \"Topic22\", \"Topic22\", \"Topic22\", \"Topic22\", \"Topic22\", \"Topic22\", \"Topic22\", \"Topic22\", \"Topic22\", \"Topic22\", \"Topic22\", \"Topic22\", \"Topic22\", \"Topic22\", \"Topic22\", \"Topic22\", \"Topic22\", \"Topic22\", \"Topic22\", \"Topic22\", \"Topic22\", \"Topic22\", \"Topic22\", \"Topic22\", \"Topic22\", \"Topic22\", \"Topic22\", \"Topic22\", \"Topic22\", \"Topic22\", \"Topic22\", \"Topic22\", \"Topic22\", \"Topic22\", \"Topic22\", \"Topic22\", \"Topic22\", \"Topic22\", \"Topic22\", \"Topic22\", \"Topic22\", \"Topic23\", \"Topic23\", \"Topic23\", \"Topic23\", \"Topic23\", \"Topic23\", \"Topic23\", \"Topic23\", \"Topic23\", \"Topic23\", \"Topic23\", \"Topic23\", \"Topic23\", \"Topic23\", \"Topic23\", \"Topic23\", \"Topic23\", \"Topic23\", \"Topic23\", \"Topic23\", \"Topic23\", \"Topic23\", \"Topic23\", \"Topic23\", \"Topic23\", \"Topic23\", \"Topic23\", \"Topic23\", \"Topic23\", \"Topic23\", \"Topic23\", \"Topic23\", \"Topic23\", \"Topic23\", \"Topic23\", \"Topic23\", \"Topic23\", \"Topic23\", \"Topic23\", \"Topic23\", \"Topic23\", \"Topic23\", \"Topic23\", \"Topic23\", \"Topic23\", \"Topic23\", \"Topic23\", \"Topic23\", \"Topic23\", \"Topic23\", \"Topic23\", \"Topic23\", \"Topic23\", \"Topic23\", \"Topic23\", \"Topic23\", \"Topic23\", \"Topic23\", \"Topic23\", \"Topic24\", \"Topic24\", \"Topic24\", \"Topic24\", \"Topic24\", \"Topic24\", \"Topic24\", \"Topic24\", \"Topic24\", \"Topic24\", \"Topic24\", \"Topic24\", \"Topic24\", \"Topic24\", \"Topic24\", \"Topic24\", \"Topic24\", \"Topic24\", \"Topic24\", \"Topic24\", \"Topic24\", \"Topic24\", \"Topic24\", \"Topic24\", \"Topic24\", \"Topic24\", \"Topic24\", \"Topic24\", \"Topic24\", \"Topic24\", \"Topic24\", \"Topic24\", \"Topic24\", \"Topic24\", \"Topic24\", \"Topic24\", \"Topic24\", \"Topic24\", \"Topic24\", \"Topic24\", \"Topic24\", \"Topic24\", \"Topic24\", \"Topic24\", \"Topic24\", \"Topic24\", \"Topic24\", \"Topic24\", \"Topic24\", \"Topic24\", \"Topic24\", \"Topic24\", \"Topic24\", \"Topic24\", \"Topic24\", \"Topic24\", \"Topic24\", \"Topic24\", \"Topic24\", \"Topic25\", \"Topic25\", \"Topic25\", \"Topic25\", \"Topic25\", \"Topic25\", \"Topic25\", \"Topic25\", \"Topic25\", \"Topic25\", \"Topic25\", \"Topic25\", \"Topic25\", \"Topic25\", \"Topic25\", \"Topic25\", \"Topic25\", \"Topic25\", \"Topic25\", \"Topic25\", \"Topic25\", \"Topic25\", \"Topic25\", \"Topic25\", \"Topic25\", \"Topic25\", \"Topic25\", \"Topic25\", \"Topic25\", \"Topic25\", \"Topic25\", \"Topic25\", \"Topic25\", \"Topic25\", \"Topic25\", \"Topic25\", \"Topic25\", \"Topic25\", \"Topic25\", \"Topic25\", \"Topic25\", \"Topic25\", \"Topic25\", \"Topic25\", \"Topic25\", \"Topic25\", \"Topic25\", \"Topic25\", \"Topic25\", \"Topic25\", \"Topic25\", \"Topic25\", \"Topic25\", \"Topic25\", \"Topic25\", \"Topic25\", \"Topic25\", \"Topic25\", \"Topic25\"], \"logprob\": [30.0, 29.0, 28.0, 27.0, 26.0, 25.0, 24.0, 23.0, 22.0, 21.0, 20.0, 19.0, 18.0, 17.0, 16.0, 15.0, 14.0, 13.0, 12.0, 11.0, 10.0, 9.0, 8.0, 7.0, 6.0, 5.0, 4.0, 3.0, 2.0, 1.0, -5.5787, -3.3848, -2.878, -3.3754, -4.2503, -3.6522, -3.091, -5.2002, -3.5691, -2.8781, -2.1919, -4.0552, -2.5357, -3.2813, -1.7881, -2.8019, -2.9911, -3.7164, -2.906, -4.4225, -3.333, -5.0727, -4.7855, -3.8321, -5.066, -5.9749, -12.7632, -12.7632, -12.7632, -12.7632, -8.0873, -12.7631, -12.7632, -12.7632, -7.6305, -3.9149, -3.4409, -3.2149, -7.2901, -3.5187, -3.6065, -3.0202, -8.0747, -3.3176, -2.4279, -1.601, -2.693, -4.3786, -2.6161, -3.2707, -4.0748, -4.9677, -3.3393, -2.8982, -4.0371, -3.6859, -4.5322, -2.8222, -5.0492, -3.4467, -4.7384, -4.7409, -12.6678, -12.6678, -12.6678, -12.6678, -3.7259, -3.382, -2.0881, -3.3771, -2.6809, -4.6186, -2.9888, -3.4676, -2.8864, -4.089, -2.8425, -1.7393, -2.721, -4.5861, -4.1607, -4.1875, -4.8345, -4.5786, -3.0086, -3.7776, -3.0407, -4.9402, -2.8633, -4.8294, -12.2277, -12.2277, -12.2277, -12.2277, -12.2277, -12.2277, -12.2277, -12.2277, -12.2277, -12.2277, -12.2277, -12.2277, -4.7124, -3.8485, -3.3037, -4.1358, -5.9757, -2.6971, -3.625, -4.0951, -4.5899, -2.2268, -2.0669, -2.8787, -2.7906, -1.7668, -3.0101, -3.6533, -2.9282, -4.4312, -3.3943, -4.922, -4.8737, -3.1827, -4.522, -4.8556, -4.392, -5.8124, -5.548, -12.372, -12.372, -12.372, -6.2188, -12.372, -12.372, -6.9796, -7.8095, -8.2772, -2.5979, -3.1973, -3.5681, -4.0808, -5.1211, -3.7561, -2.0148, -3.5791, -2.7202, -1.6891, -2.6687, -2.5337, -3.0422, -3.4767, -3.2919, -3.0458, -4.498, -4.0226, -3.3209, -5.5829, -5.1527, -5.2085, -5.8864, -6.9593, -12.3441, -12.3441, -12.3441, -7.3025, -12.3441, -12.3441, -2.6722, -3.8985, -2.9858, -4.4261, -2.2691, -3.3474, -3.7779, -3.3103, -2.847, -4.2881, -2.7151, -2.7977, -2.6484, -4.2003, -2.5026, -2.016, -2.8927, -3.3761, -3.907, -4.2754, -5.04, -4.8909, -4.3724, -12.0491, -12.0491, -12.0491, -12.0491, -12.0491, -12.0491, -12.0491, -12.0491, -12.0491, -12.0491, -12.0491, -12.0491, -12.0491, -12.0491, -4.9491, -5.0719, -5.988, -8.6998, -8.6998, -8.6998, -8.6998, -2.7658, -2.0937, -4.0468, -3.5359, -4.0991, -2.42, -2.758, -3.859, -3.6891, -2.2541, -2.6572, -4.2461, -3.6447, -2.897, -2.03, -4.7879, -3.0359, -3.9634, -3.6607, -4.0991, -4.5419, -5.516, -11.9983, -6.8924, -3.1149, -3.4513, -2.9459, -2.2099, -2.0917, -4.5766, -3.937, -2.783, -1.6814, -2.2803, -4.6293, -4.5758, -4.549, -3.5035, -2.9573, -4.5491, -4.5289, -3.4802, -3.4724, -4.5778, -3.4741, -4.5758, -4.5985, -11.2414, -11.2414, -11.2414, -11.2414, -11.2414, -11.2414, -11.2414, -11.2414, -11.2414, -11.2414, -11.2414, -11.2414, -11.2414, -11.2414, -4.2879, -1.7572, -2.7014, -2.1104, -3.4221, -2.0004, -3.4443, -1.56, -2.7604, -2.8033, -3.4932, -3.5299, -10.8718, -10.8718, -10.8718, -10.8718, -10.8718, -10.8718, -10.8718, -3.4823, -10.8718, -10.8718, -10.8718, -10.8718, -10.8718, -10.8718, -10.8718, -10.8718, -10.8718, -10.8718, -10.8718, -10.8718, -10.8718, -10.8718, -10.8718, -10.8718, -10.8718, -10.8718, -10.8718, -10.8718, -10.8718, -10.8718, -10.8718, -10.8718, -10.8718, -10.8718, -10.8718, -2.2713, -2.9055, -2.1933, -3.1617, -2.2372, -2.861, -2.246, -2.443, -2.6082, -3.5156, -3.6221, -3.1548, -3.5215, -2.4221, -10.7, -10.7, -10.7, -10.7, -10.7, -10.7, -4.6854, -10.7, -10.7, -10.7, -10.7, -10.7, -3.5841, -10.7, -10.7, -10.7, -6.1078, -9.7956, -10.7, -10.7, -10.7, -10.7, -10.7, -10.7, -10.7, -10.7, -10.7, -10.7, -10.7, -10.7, -1.0174, -1.5186, -1.6435, -1.5023, -9.8529, -9.8529, -9.8529, -9.8529, -9.8529, -9.8529, -9.8529, -9.8529, -9.8529, -9.8529, -9.8529, -9.8529, -9.8529, -9.8529, -9.8529, -9.8529, -9.8529, -9.8529, -9.8529, -9.8529, -9.8529, -9.8529, -9.8529, -9.8529, -9.8529, -9.8529, -9.8529, -9.8529, -9.8529, -9.8529, -9.8529, -9.8529, -9.8529, -9.8529, -9.8529, -9.8529, -9.8529, -9.8529, -9.8529, -9.8529, -9.8529, -9.8529, -9.8529, -9.8529, -9.8529, -9.8529, -9.8529, -9.8529, -9.8529, -9.8529, -9.8529, -9.8529, -2.1275, -2.1275, -2.4872, -8.0796, -8.0796, -8.0796, -8.0796, -8.0796, -2.0513, -8.0796, -8.0796, -8.0796, -8.0796, -8.0796, -8.0796, -2.2275, -8.0796, -8.0796, -8.0796, -8.0796, -8.0796, -8.0796, -2.2046, -1.5533, -8.0796, -8.0796, -8.0796, -8.0796, -8.0796, -2.2939, -8.0796, -8.0796, -8.0796, -8.0796, -8.0796, -8.0796, -8.0796, -8.0796, -8.0796, -8.0796, -8.0796, -8.0796, -8.0796, -8.0796, -8.0796, -8.0796, -8.0796, -8.0796, -8.0796, -8.0796, -8.0796, -8.0796, -0.8627, -1.0063, -1.6801, -7.8664, -7.8664, -7.8664, -7.8664, -7.8664, -7.8664, -7.8664, -7.8664, -7.8664, -7.8664, -7.8664, -7.8664, -7.8664, -7.8664, -7.8664, -7.8664, -7.8664, -7.8664, -7.8664, -7.8664, -7.8664, -7.8664, -7.8664, -7.8664, -7.8664, -7.8664, -7.8664, -7.8664, -7.8664, -7.8664, -7.8664, -7.8664, -7.8664, -7.8664, -7.8664, -7.8664, -7.8664, -7.8664, -7.8664, -7.8664, -7.8664, -7.8664, -7.8664, -7.8664, -7.8664, -7.8664, -7.8664, -7.8664, -7.8664, -7.8664, -7.8664, -7.8664, -7.8664, -7.8664, -1.0847, -1.8943, -1.0459, -1.9974, -7.9138, -7.9138, -7.9138, -7.9138, -7.9138, -7.9138, -7.9138, -7.9138, -7.9138, -7.9138, -7.9138, -7.9138, -7.9138, -7.9138, -7.9138, -7.9138, -7.9138, -7.9138, -7.9138, -7.9138, -7.9138, -7.9138, -7.9138, -7.9138, -7.9138, -7.9138, -7.9138, -7.9138, -7.9138, -7.9138, -7.9138, -7.9138, -7.9138, -7.9138, -7.9138, -7.9138, -7.9138, -7.9138, -7.9138, -7.9138, -7.9138, -7.9138, -7.9138, -7.9138, -7.9138, -7.9138, -7.9138, -7.9138, -7.9138, -7.9138, -7.9138, -7.9138, -0.2029, -2.391, -3.4659, -3.4659, -7.7231, -7.7231, -7.7231, -7.7231, -7.7231, -7.7231, -7.7231, -7.7231, -7.7231, -7.7231, -7.7231, -7.7231, -7.7231, -7.7231, -7.7231, -7.7231, -7.7231, -7.7231, -7.7231, -7.7231, -7.7231, -7.7231, -7.7231, -7.7231, -7.7231, -7.7231, -7.7231, -7.7231, -7.7231, -7.7231, -7.7231, -7.7231, -7.7231, -7.7231, -7.7231, -7.7231, -7.7231, -7.7231, -7.7231, -7.7231, -7.7231, -7.7231, -7.7231, -7.7231, -7.7231, -7.7231, -7.7231, -7.7231, -7.7231, -7.7231, -7.7231, -7.7231, -0.0761, -3.9406, -4.0808, -7.5188, -7.5188, -7.5188, -7.5188, -7.5188, -7.5188, -7.5188, -7.5188, -7.5188, -7.5188, -7.5188, -7.5188, -7.5188, -7.5188, -7.5188, -7.5188, -7.5188, -7.5188, -7.5188, -7.5188, -7.5188, -7.5188, -7.5188, -7.5188, -7.5188, -7.5188, -7.5188, -7.5188, -7.5188, -7.5188, -7.5188, -7.5188, -7.5188, -7.5188, -7.5188, -7.5188, -7.5188, -7.5188, -7.5188, -7.5188, -7.5188, -7.5188, -7.5188, -7.5188, -7.5188, -7.5188, -7.5188, -7.5188, -7.5188, -7.5188, -7.5188, -7.5188, -7.5188, -7.5188, -3.0831, -4.2166, -2.1718, -2.1718, -7.6546, -7.6546, -7.6546, -7.6546, -7.6546, -7.6546, -1.5467, -7.6546, -7.6546, -7.6546, -7.6546, -7.6546, -7.6546, -7.6546, -7.6546, -7.6546, -7.6546, -7.6546, -2.3245, -7.6546, -1.3056, -7.6546, -7.6546, -7.6546, -7.6546, -7.6546, -2.3042, -7.6546, -7.6546, -7.6546, -7.6546, -7.6546, -7.6546, -7.6546, -7.6546, -7.6546, -7.6546, -7.6546, -7.6546, -7.6546, -7.6546, -7.6546, -7.6546, -7.6546, -7.6546, -7.6546, -7.6546, -7.6546, -7.6546, -1.7894, -1.8793, -2.0837, -3.0883, -0.7817, -7.1348, -7.1348, -7.1348, -7.1348, -7.1348, -7.1348, -7.1348, -7.1348, -7.1348, -7.1348, -7.1348, -7.1348, -7.1348, -7.1348, -7.1348, -7.1348, -7.1348, -7.1348, -7.1348, -7.1348, -7.1348, -7.1348, -7.1348, -7.1348, -7.1348, -7.1348, -7.1348, -7.1348, -7.1348, -7.1348, -7.1348, -7.1348, -7.1348, -7.1348, -7.1348, -7.1348, -7.1348, -7.1348, -7.1348, -7.1348, -7.1348, -7.1348, -7.1348, -7.1348, -7.1348, -7.1348, -7.1348, -7.1348, -7.1348, -7.1348, -1.1746, -1.8877, -0.8511, -6.4026, -6.4026, -6.4026, -6.4026, -6.4026, -6.4026, -6.4026, -6.4026, -6.4026, -6.4026, -6.4026, -6.4026, -6.4026, -6.4026, -6.4026, -6.4026, -6.4026, -6.4026, -6.4026, -6.4026, -6.4026, -6.4026, -6.4026, -6.4026, -6.4026, -6.4026, -6.4026, -6.4026, -6.4026, -6.4026, -6.4026, -6.4026, -6.4026, -6.4026, -6.4026, -6.4026, -6.4026, -6.4026, -6.4026, -6.4026, -6.4026, -6.4026, -6.4026, -6.4026, -6.4026, -6.4026, -6.4026, -6.4026, -6.4026, -6.4026, -6.4026, -6.4026, -6.4026, -6.4026, -1.5332, -1.5332, -0.8448, -6.1951, -6.1951, -6.1951, -6.1951, -6.1951, -6.1951, -6.1951, -6.1951, -6.1951, -6.1951, -6.1951, -6.1951, -6.1951, -6.1951, -6.1951, -6.1951, -6.1951, -6.1951, -6.1951, -6.1951, -6.1951, -6.1951, -6.1951, -6.1951, -6.1951, -6.1951, -6.1951, -6.1951, -6.1951, -6.1951, -6.1951, -6.1951, -6.1951, -6.1951, -6.1951, -6.1951, -6.1951, -6.1951, -6.1951, -6.1951, -6.1951, -6.1951, -6.1951, -6.1951, -6.1951, -6.1951, -6.1951, -6.1951, -6.1951, -6.1951, -6.1951, -6.1951, -6.1951, -6.1951, -1.3679, -1.3679, -4.946, -4.946, -4.946, -4.946, -4.946, -4.946, -4.946, -4.946, -4.946, -4.946, -4.946, -4.946, -4.946, -4.946, -4.946, -4.946, -4.946, -4.946, -4.946, -4.946, -4.946, -4.946, -4.946, -4.946, -4.946, -4.946, -4.946, -4.946, -4.946, -4.946, -4.946, -4.946, -4.946, -4.946, -4.946, -4.946, -4.946, -4.946, -4.946, -4.946, -4.946, -4.946, -4.946, -4.946, -4.946, -4.946, -4.946, -4.946, -4.946, -4.946, -4.946, -4.946, -4.946, -4.946, -4.946, -4.946, -4.2627, -4.2627, -4.2627, -4.2627, -4.2627, -4.2627, -4.2627, -4.2627, -4.2627, -4.2627, -4.2627, -4.2627, -4.2627, -4.2627, -4.2627, -4.2627, -4.2627, -4.2627, -4.2627, -4.2627, -4.2627, -4.2627, -4.2627, -4.2627, -4.2627, -4.2627, -4.2627, -4.2627, -4.2627, -4.2627, -4.2627, -4.2627, -4.2627, -4.2627, -4.2627, -4.2627, -4.2627, -4.2627, -4.2627, -4.2627, -4.2627, -4.2627, -4.2627, -4.2627, -4.2627, -4.2627, -4.2627, -4.2627, -4.2627, -4.2627, -4.2627, -4.2627, -4.2627, -4.2627, -4.2627, -4.2627, -4.2627, -4.2627, -4.2627, -4.2627, -4.2627, -4.2627, -4.2627, -4.2627, -4.2627, -4.2627, -4.2627, -4.2627, -4.2627, -4.2627, -4.2627, -4.2627, -4.2627, -4.2627, -4.2627, -4.2627, -4.2627, -4.2627, -4.2627, -4.2627, -4.2627, -4.2627, -4.2627, -4.2627, -4.2627, -4.2627, -4.2627, -4.2627, -4.2627, -4.2627, -4.2627, -4.2627, -4.2627, -4.2627, -4.2627, -4.2627, -4.2627, -4.2627, -4.2627, -4.2627, -4.2627, -4.2627, -4.2627, -4.2627, -4.2627, -4.2627, -4.2627, -4.2627, -4.2627, -4.2627, -4.2627, -4.2627, -4.2627, -4.2627, -4.2627, -4.2627, -4.2627, -4.2627, -4.2627, -4.2627, -4.2627, -4.2627, -4.2627, -4.2627, -4.2627, -4.2627, -4.2627, -4.2627, -4.2627, -4.2627, -4.2627, -4.2627, -4.2627, -4.2627, -4.2627, -4.2627, -4.2627, -4.2627, -4.2627, -4.2627, -4.2627, -4.2627, -4.2627, -4.2627, -4.2627, -4.2627, -4.2627, -4.2627, -4.2627, -4.2627, -4.2627, -4.2627, -4.2627, -4.2627, -4.2627, -4.2627, -4.2627, -4.2627, -4.2627, -4.2627, -4.2627, -4.2627, -4.2627, -4.2627, -4.2627, -4.2627, -4.2627, -4.2627, -4.2627, -4.2627, -4.2627, -4.2627, -4.2627, -4.2627, -4.2627, -4.2627, -4.2627, -4.2627, -4.2627, -4.2627, -4.2627, -4.2627, -4.2627, -4.2627, -4.2627, -4.2627, -4.2627, -4.2627, -4.2627, -4.2627, -4.2627, -4.2627, -4.2627, -4.2627, -4.2627, -4.2627, -4.2627, -4.2627, -4.2627, -4.2627, -4.2627, -4.2627, -4.2627, -4.2627, -4.2627, -4.2627, -4.2627, -4.2627, -4.2627, -4.2627, -4.2627, -4.2627, -4.2627, -4.2627, -4.2627, -4.2627, -4.2627, -4.2627, -4.2627, -4.2627, -4.2627, -4.2627, -4.2627, -4.2627, -4.2627, -4.2627, -4.2627, -4.2627, -4.2627, -4.2627, -4.2627, -4.2627, -4.2627, -4.2627, -4.2627, -4.2627], \"loglift\": [30.0, 29.0, 28.0, 27.0, 26.0, 25.0, 24.0, 23.0, 22.0, 21.0, 20.0, 19.0, 18.0, 17.0, 16.0, 15.0, 14.0, 13.0, 12.0, 11.0, 10.0, 9.0, 8.0, 7.0, 6.0, 5.0, 4.0, 3.0, 2.0, 1.0, 1.2302, 1.1325, 0.8254, 0.7137, 0.5024, 0.4564, 0.3999, 0.3649, 0.2701, 0.1896, 0.184, 0.0669, 0.0372, 0.0074, 0.0029, -0.0846, -0.0965, -0.0998, -0.169, -0.2266, -0.4517, -0.5829, -0.6391, -0.7851, -1.2217, -1.3989, -2.7634, -2.7634, -2.7634, -2.7634, -3.1221, -7.5639, -6.9143, -8.0443, 1.4882, 1.0502, 1.0489, 0.9072, 0.6877, 0.6773, 0.5399, 0.4707, 0.4084, 0.2991, 0.2893, 0.1901, 0.1883, 0.1387, 0.1209, -0.203, -0.2304, -0.2489, -0.2923, -0.3253, -0.3338, -0.3973, -0.4431, -0.4463, -0.4732, -0.552, -0.6298, -0.9017, -2.6681, -2.6681, -7.1027, -6.819, 2.123, 0.814, 0.4848, 0.4621, 0.3661, 0.3466, 0.2998, 0.2358, 0.1813, 0.0574, 0.0522, 0.0517, 0.016, -0.0101, -0.0716, -0.0789, -0.0819, -0.0889, -0.1272, -0.161, -0.3235, -0.4229, -0.4873, -1.3385, -2.2279, -2.2279, -2.2279, -2.2279, -2.3054, -2.361, -7.0285, -7.5088, -8.1055, -6.6625, -8.3833, -4.6209, 2.1165, 1.3507, 0.7854, 0.6169, 0.5929, 0.5915, 0.4971, 0.3947, 0.3753, 0.3461, 0.309, 0.1684, 0.1041, 0.0243, -0.1287, -0.1624, -0.1912, -0.3226, -0.3266, -0.3461, -0.3563, -0.4655, -0.6776, -0.7093, -0.7754, -1.6164, -1.8447, -2.3723, -2.3723, -2.3723, -2.3796, -6.5232, -7.6532, 1.8897, 1.6289, 1.4117, 0.6908, 0.6471, 0.6278, 0.4952, 0.444, 0.3903, 0.3611, 0.2601, 0.1745, 0.102, 0.0683, 0.0392, 0.0255, 0.0142, -0.2448, -0.3285, -0.3894, -0.4059, -0.4395, -0.6178, -1.0636, -1.0864, -2.183, -2.2067, -2.3443, -2.3443, -2.3443, -2.8127, -6.4952, -7.8267, 2.0466, 1.6667, 0.8585, 0.7731, 0.4679, 0.356, 0.3307, 0.3064, 0.2207, 0.2017, 0.1796, 0.0837, 0.0688, -0.1112, -0.1267, -0.225, -0.3198, -0.329, -0.416, -0.4362, -0.4641, -0.7688, -1.0838, -2.0494, -2.0494, -2.0494, -2.0494, -2.1268, -2.1824, -2.2377, -6.2003, -7.5318, -7.9028, -7.0839, -7.2965, -7.8532, -4.4424, 2.4947, 2.4874, 1.5644, 1.2999, 1.2999, 1.2999, 1.2999, 1.0734, 0.9533, 0.7058, 0.6105, 0.4768, 0.4614, 0.3097, 0.2631, 0.1553, 0.1218, -0.0843, -0.1375, -0.1538, -0.1798, -0.2389, -0.2706, -0.2989, -0.3468, -0.766, -0.8105, -0.8386, -1.0262, -2.076, -2.8034, 2.9354, 1.3014, 0.8985, 0.6715, 0.6255, 0.6226, 0.2093, 0.1117, 0.1096, 0.0956, 0.0895, 0.0002, -0.0317, -0.2149, -0.2203, -0.3532, -0.4067, -0.4125, -0.4254, -0.4887, -0.9012, -0.9591, -1.1076, -1.2417, -1.2417, -1.2417, -1.2417, -1.3191, -1.3747, -1.43, -5.3926, -7.4022, -6.7516, -6.2762, -7.1328, -7.5381, -5.6763, 3.3189, 1.1375, 1.002, 0.771, 0.7243, 0.7168, 0.4001, 0.2311, -0.0233, -0.2304, -0.4461, -0.4621, -0.872, -0.872, -0.872, -0.872, -0.9495, -1.0051, -1.0604, -1.1064, -1.1829, -1.3455, -1.3761, -1.3761, -1.4333, -1.49, -1.7531, -1.8272, -1.8378, -1.8378, -5.0229, -6.2958, -6.3544, -7.0326, -7.2551, -7.5831, -6.382, -5.9066, -7.3809, -6.7632, -6.1191, -6.6758, -6.7827, -5.6726, -6.1529, -6.7496, -5.3066, 2.3046, 2.2937, 1.9152, 1.8035, 1.2537, 0.9782, 0.4712, 0.294, 0.2865, 0.1878, -0.0055, -0.1078, -0.4538, -0.6311, -0.7002, -0.7002, -0.7002, -0.7002, -0.7777, -0.8333, -0.841, -0.8886, -1.0111, -1.1738, -1.2044, -1.2044, -1.2082, -1.2615, -1.3183, -1.5813, -3.5349, -5.6492, -4.8511, -6.1827, -7.4114, -6.2102, -7.8186, -5.9474, -6.5041, -6.6109, -5.9812, -6.5779, -5.1348, -3.0932, 2.5992, 1.5285, 0.9294, 0.8736, 0.1469, 0.1469, 0.1469, 0.1469, 0.0694, 0.0138, -0.0415, -0.164, -0.3267, -0.3573, -0.3573, -0.4144, -0.4712, -0.7342, -0.8084, -0.819, -0.819, -0.9836, -1.003, -1.0365, -1.165, -1.2383, -1.3698, -1.3729, -1.5864, -1.8751, -8.0619, -4.004, -5.277, -7.1159, -5.3356, -6.0137, -5.7065, -6.5643, -5.3631, -4.8877, -6.362, -6.9715, -7.1357, -5.7443, -6.7852, -6.9582, -6.1496, -5.1003, -5.657, -5.7638, -4.6537, -5.1341, -5.7308, -4.2877, -6.0085, -2.2461, 5.7497, 5.7497, 2.2654, 1.9202, 1.9202, 1.9202, 1.9202, 1.8427, 1.7931, 1.7871, 1.7318, 1.6093, 1.4466, 1.4161, 1.4161, 1.3891, 1.3589, 1.3021, 1.0391, 0.965, 0.9544, 0.9544, 0.8631, 0.8226, 0.7897, 0.7703, 0.7368, 0.6083, 0.535, 0.4233, -6.2885, -2.2307, -3.5036, -5.0325, -5.3426, -3.5623, -4.2404, -3.9332, -4.791, -3.5898, -3.1144, -4.5887, -5.1982, -3.971, -5.1849, -5.5067, -4.3762, -3.8836, -3.9905, -2.8804, -3.3608, -3.9574, 6.3932, 6.3862, 5.8723, 2.1333, 2.1333, 2.1333, 2.1333, 2.0559, 2.0003, 1.945, 1.8225, 1.6598, 1.6292, 1.6292, 1.5721, 1.5153, 1.2523, 1.1781, 1.1675, 1.1675, 1.0028, 0.9835, 0.95, 0.8215, 0.7482, 0.6167, 0.6136, 0.4001, 0.1114, 0.0108, -6.0754, -2.0176, -3.2905, -4.8194, -5.1294, -3.3491, -4.0272, -4.2498, -5.4905, -3.7201, -4.5778, -3.3766, -2.9012, -4.3755, -4.9851, -5.1492, -3.7578, -4.7987, -4.9717, -5.2935, -4.1631, -3.1138, -3.6705, -3.7773, -2.6672, -3.1476, -3.7443, 6.4446, 6.3722, 6.1003, 5.9804, 2.086, 2.086, 2.086, 2.086, 2.0085, 1.9529, 1.8976, 1.7752, 1.6125, 1.5819, 1.5819, 1.5247, 1.468, 1.2049, 1.1308, 1.1202, 1.1202, 0.9555, 0.9361, 0.9027, 0.7741, 0.7008, 0.5693, 0.5663, -0.0366, -0.0366, -6.1227, -2.0649, -3.3378, -4.8667, -5.1767, -3.3964, -4.0746, -4.2971, -5.5378, -3.7674, -4.6251, -3.424, -2.9486, -4.4228, -5.0324, -5.1965, -3.8052, -4.846, -5.0191, -5.3408, -4.2104, -3.1611, -3.7178, -3.8247, -2.7145, -3.1949, 6.5627, 6.0921, 6.0297, 6.0297, 2.2766, 2.2766, 2.2766, 2.2766, 2.1991, 2.1435, 2.0883, 1.9658, 1.8031, 1.7153, 1.6586, 1.3956, 1.3214, 1.3108, 1.3108, 1.1461, 1.1268, 1.0933, 0.9648, 0.8914, 0.7569, 0.5433, 0.2547, 0.1541, 0.1541, 0.1262, -5.9321, -1.8743, -3.1472, -4.6761, -4.9861, -3.2058, -3.8839, -4.1065, -5.3472, -3.5768, -4.4345, -3.2334, -2.758, -4.2322, -4.8418, -5.0059, -3.6146, -4.6554, -4.8285, -5.1502, -4.0198, -2.9705, -3.5272, -3.6341, -2.5239, -3.0043, 6.4925, 5.8708, 5.7859, 2.481, 2.481, 2.481, 2.481, 2.4035, 2.1701, 2.0074, 1.9768, 1.9768, 1.9197, 1.8629, 1.5999, 1.5258, 1.5151, 1.5151, 1.3505, 1.3311, 1.2976, 1.1691, 1.0958, 0.9643, 0.9612, 0.7477, 0.459, 0.3584, 0.3584, 0.3305, -4.6374, -5.7277, -1.6699, -2.9429, -4.4717, -4.7818, -3.0015, -3.6796, -3.9022, -5.1429, -3.3724, -4.2302, -3.029, -2.5536, -4.0279, -4.8016, -3.4102, -4.4511, -4.6241, -4.9459, -3.8154, -2.7661, -3.3228, -3.4297, -2.3196, -2.8, -3.3966, 6.2986, 5.7057, 5.7054, 5.7054, 2.3452, 2.3452, 2.3452, 2.3452, 2.2121, 2.1568, 2.07, 2.0343, 1.8717, 1.8411, 1.8411, 1.7839, 1.4641, 1.39, 1.3794, 1.3794, 1.2147, 1.1953, 1.1664, 1.1618, 1.0703, 1.0333, 0.96, 0.8285, 0.8254, 0.6119, 0.2687, -5.8635, -1.8057, -3.0786, -4.6075, -4.9176, -3.1372, -3.8154, -3.5082, -4.366, -3.1648, -2.6894, -4.7732, -4.9374, -3.546, -4.5868, -4.7599, -3.9512, -2.9019, -3.4586, -3.5655, -2.4554, -2.9358, 6.8251, 6.8086, 6.7662, 6.438, 6.0272, 2.865, 2.865, 2.865, 2.865, 2.7875, 2.7319, 2.6766, 2.5541, 2.3609, 2.3609, 2.3037, 2.2469, 1.9839, 1.9098, 1.8992, 1.8992, 1.7345, 1.6817, 1.3483, 1.3453, 1.1317, 0.8431, 0.7424, 0.7424, 0.7145, -5.3437, -1.2859, -2.5588, -4.0877, -4.3977, -2.6174, -3.2956, -3.5181, -4.7589, -2.9884, -3.8461, -2.645, -2.1696, -3.6439, -4.2534, -4.4176, -3.0262, -4.067, -4.2401, -4.5619, -3.4314, -2.3821, -2.9388, -3.0457, -1.9356, 7.3054, 7.1569, 6.9982, 3.5971, 3.5971, 3.5971, 3.5971, 3.5197, 3.4641, 3.4088, 3.2863, 3.1236, 3.093, 3.093, 3.0358, 2.9791, 2.7161, 2.6313, 2.6313, 2.4666, 2.4473, 2.4138, 2.2853, 2.2119, 2.0804, 1.8638, 1.5752, 1.4746, 1.4746, 1.2041, -4.6116, -0.5538, -1.8267, -3.3556, -3.6656, -1.8853, -2.5634, -2.786, -4.0267, -2.2563, -3.114, -1.9128, -1.4375, -2.9117, -3.5213, -3.6854, -2.2941, -3.3349, -3.5079, -3.8297, -2.6993, -1.65, -2.2067, -2.3135, -1.2034, -1.6838, -2.2805, 7.2832, 6.3161, 6.3014, 3.8047, 3.8047, 3.8047, 3.8047, 3.7272, 3.6716, 3.6163, 3.4938, 3.3311, 3.3006, 3.3006, 3.2434, 3.1866, 2.9236, 2.8495, 2.8388, 2.8388, 2.6742, 2.6548, 2.4928, 2.4195, 2.288, 2.2849, 2.0714, 1.7827, 1.6821, 1.6821, -4.404, -0.3462, -1.6191, -3.148, -3.4581, -1.6778, -2.3559, -2.5785, -3.8192, -2.0487, -2.9065, -1.7053, -1.2299, -2.7042, -3.3137, -3.4779, -2.0865, -3.1274, -3.3004, -3.6222, -2.4917, -1.4424, -1.9991, -2.106, -0.9959, -1.4763, -2.0729, 7.6661, 7.6661, 5.0537, 5.0537, 5.0537, 5.0537, 4.9763, 4.9207, 4.8654, 4.7429, 4.5802, 4.5496, 4.5496, 4.4925, 4.4357, 4.1727, 4.0985, 3.9232, 3.9039, 3.8704, 3.7419, 3.6686, 3.5371, 3.534, 3.3205, 3.0318, 2.9312, 2.9312, 2.9033, 2.6607, -3.155, 0.9028, -0.3701, -1.899, -2.209, -0.4287, -1.1068, -1.3294, -2.5701, -0.7997, -1.6574, -0.4562, 0.0192, -1.4551, -2.0647, -2.2288, -0.8374, -1.8783, -2.0513, -2.3731, -1.2427, -0.1934, -0.7501, -0.8569, 0.2532, -0.2272, -0.8239, 0.6191, 5.7371, 5.7371, 5.7371, 5.7371, 5.6596, 5.604, 5.5487, 5.4262, 5.2636, 5.233, 5.233, 5.1758, 5.119, 4.856, 4.7819, 4.7713, 4.7713, 4.6066, 4.5872, 4.5537, 4.4252, 4.3519, 4.2204, 4.2173, 4.0038, 3.7151, 3.6145, 3.6145, 3.5866, 3.3441, -2.4716, 1.5862, 0.3133, -1.2156, -1.5257, 0.2547, -0.4235, -0.646, -1.8868, -0.1163, -0.9741, 0.2271, 0.7025, -0.7718, -1.3813, -1.5455, -0.1541, -1.1949, -1.368, -1.6898, -0.5593, 0.49, -0.0667, -0.1736, 0.9365, 0.4561, -0.1405, 1.3025, -0.4183, 5.7371, 5.7371, 5.7371, 5.7371, 5.6596, 5.604, 5.5487, 5.4262, 5.2636, 5.233, 5.233, 5.1758, 5.119, 4.856, 4.7819, 4.7713, 4.7713, 4.6066, 4.5872, 4.5537, 4.4252, 4.3519, 4.2204, 4.2173, 4.0038, 3.7151, 3.6145, 3.6145, 3.5866, 3.3441, -2.4716, 1.5862, 0.3133, -1.2156, -1.5257, 0.2547, -0.4235, -0.646, -1.8868, -0.1163, -0.9741, 0.2271, 0.7025, -0.7718, -1.3813, -1.5455, -0.1541, -1.1949, -1.368, -1.6898, -0.5593, 0.49, -0.0667, -0.1736, 0.9365, 0.4561, -0.1405, 1.3025, -0.4183, 5.7371, 5.7371, 5.7371, 5.7371, 5.6596, 5.604, 5.5487, 5.4262, 5.2636, 5.233, 5.233, 5.1758, 5.119, 4.856, 4.7819, 4.7713, 4.7713, 4.6066, 4.5872, 4.5537, 4.4252, 4.3519, 4.2204, 4.2173, 4.0038, 3.7151, 3.6145, 3.6145, 3.5866, 3.3441, -2.4716, 1.5862, 0.3133, -1.2156, -1.5257, 0.2547, -0.4235, -0.646, -1.8868, -0.1163, -0.9741, 0.2271, 0.7025, -0.7718, -1.3813, -1.5455, -0.1541, -1.1949, -1.368, -1.6898, -0.5593, 0.49, -0.0667, -0.1736, 0.9365, 0.4561, -0.1405, 1.3025, -0.4183, 5.7371, 5.7371, 5.7371, 5.7371, 5.6596, 5.604, 5.5487, 5.4262, 5.2636, 5.233, 5.233, 5.1758, 5.119, 4.856, 4.7819, 4.7713, 4.7713, 4.6066, 4.5872, 4.5537, 4.4252, 4.3519, 4.2204, 4.2173, 4.0038, 3.7151, 3.6145, 3.6145, 3.5866, 3.3441, -2.4716, 1.5862, 0.3133, -1.2156, -1.5257, 0.2547, -0.4235, -0.646, -1.8868, -0.1163, -0.9741, 0.2271, 0.7025, -0.7718, -1.3813, -1.5455, -0.1541, -1.1949, -1.368, -1.6898, -0.5593, 0.49, -0.0667, -0.1736, 0.9365, 0.4561, -0.1405, 1.3025, -0.4183]}, \"token.table\": {\"Topic\": [1, 2, 3, 4, 5, 6, 7, 8, 9, 10, 4, 5, 2, 14, 3, 9, 20, 18, 4, 6, 8, 10, 13, 13, 8, 16, 2, 6, 8, 15, 1, 2, 3, 4, 5, 6, 7, 8, 10, 7, 14, 20, 19, 20, 14, 2, 15, 2, 5, 18, 19, 5, 19, 18, 17, 14, 1, 18, 1, 2, 3, 4, 5, 6, 7, 8, 9, 10, 11, 12, 17, 16, 12, 17, 15, 1, 2, 3, 4, 5, 6, 7, 8, 9, 10, 1, 2, 3, 4, 7, 8, 1, 2, 3, 4, 5, 6, 7, 10, 1, 2, 3, 4, 5, 6, 7, 8, 10, 11, 12, 17, 1, 2, 3, 4, 5, 6, 7, 8, 9, 10, 11, 12, 17, 1, 2, 3, 4, 5, 7, 8, 9, 1, 2, 4, 5, 6, 7, 8, 1, 2, 3, 4, 5, 6, 7, 8, 1, 2, 3, 4, 5, 6, 7, 1, 5, 6, 1, 2, 3, 4, 5, 10, 1, 2, 3, 4, 5, 6, 7, 8, 10, 17, 1, 2, 4, 5, 6, 7, 8, 9, 10, 12, 1, 2, 3, 4, 5, 6, 7, 8, 9, 1, 2, 3, 4, 5, 6, 7, 8, 9, 10, 12, 1, 2, 3, 4, 5, 6, 7, 10, 7, 13, 1, 2, 3, 4, 5, 6, 7, 8, 9, 10, 12, 1, 2, 3, 4, 5, 6, 7, 8, 9, 10, 1, 2, 3, 4, 5, 6, 7, 8, 9, 10, 11, 17, 1, 2, 3, 4, 5, 6, 7, 9, 10, 1, 3, 4, 5, 7, 8, 12, 1, 2, 3, 4, 5, 8, 4, 16, 1, 2, 3, 4, 5, 6, 7, 8, 7, 15, 17, 18, 21, 7, 7, 21, 7, 7], \"Freq\": [0.1760965401360024, 0.19232358379686582, 0.12460051382448689, 0.11971584251841066, 0.12882285681787484, 0.0841156957114144, 0.061348159962754015, 0.05845047359474269, 0.04263738512930947, 0.01167353651113133, 0.9698571765681884, 0.5204116127960178, 0.32207465510914796, 0.6038899783296524, 0.9865981930428498, 0.9444880639831998, 0.7450000612214829, 0.5681378702197774, 0.45019501507586757, 0.22759859095502194, 0.09754225326643798, 0.21759425728666934, 0.9584290949482677, 0.941688783069023, 0.9841705999857425, 0.26618995981772975, 0.12376349114492087, 0.8152919979171662, 0.0572406146545259, 0.9702885980853239, 0.04291381423386296, 0.09923819541580808, 0.1166719324483149, 0.08314551507810948, 0.19043005066276686, 0.06571177804560265, 0.12605932931197245, 0.05230121109752048, 0.21993329794854766, 0.9272463779928587, 0.6660070810904481, 0.2979505362773058, 0.6372792585682372, 0.28323522603032764, 0.9512441194192044, 0.26690752273300933, 0.600541926149271, 0.7559524983675017, 0.7854297706983917, 0.7703629241559, 0.7019265751310535, 0.4456663219247734, 0.8647966412512698, 0.8189354048061057, 0.6555833646635809, 0.8597016204120476, 0.6004259310149942, 0.37526620688437134, 0.0802354081137313, 0.11860886416812452, 0.17064559624188502, 0.13837700819614526, 0.09099160412897789, 0.07587478810755025, 0.20233276828680066, 0.03430354404862425, 0.021803100030905243, 0.019768144028020754, 0.04709469606675532, 0.5824878506213524, 0.32764941597451075, 0.5037430472799943, 0.5824878506213524, 0.32764941597451075, 0.551018611769644, 0.14839715842694315, 0.17952644740730764, 0.12025286975976426, 0.09658608156236385, 0.12451715592145804, 0.16822608907881917, 0.05778107749095056, 0.04200321869268362, 0.033048217753126705, 0.029423574515687, 0.5450941041608734, 0.18211960788669554, 0.07714788945200296, 0.08220676744885562, 0.05944181646301868, 0.05058877996852654, 0.2298095789362826, 0.06483454601275011, 0.18808437605678993, 0.010912745368482692, 0.15085265656431956, 0.06804417700348031, 0.22788380034184447, 0.058415284031289705, 0.15877529693705622, 0.21426957547816325, 0.1007118388338609, 0.05395277080385406, 0.0775892227750663, 0.14284638365210883, 0.05498044262868937, 0.02003960058428865, 0.02209494423395928, 0.1371941886155146, 0.007193702773847207, 0.00873521051110018, 0.2111458704642513, 0.10178389955525133, 0.07266033121535459, 0.1591394984287214, 0.16686615941685728, 0.0927199318576304, 0.08811365319162633, 0.057652778142244544, 0.011144222579042115, 0.006537943913038041, 0.024368700039505427, 0.00416050976284239, 0.0032689719565190205, 0.09251102877204494, 0.27316935854386853, 0.1256753598412686, 0.05760120659391477, 0.17193087422729106, 0.14313027093033368, 0.0645831710295408, 0.06981964435626033, 0.18740987790738622, 0.3935607436055111, 0.19166919331437227, 0.03918570174427166, 0.048556195639640976, 0.101371706686268, 0.03492638633728561, 0.17692973838423795, 0.1069721640021857, 0.15953288126277523, 0.21098316083476074, 0.23208147691823683, 0.03553400603532812, 0.034793714242925454, 0.04219663216695215, 0.09842902106745156, 0.45400385967362034, 0.10827192317419672, 0.17348114963138336, 0.007382176580058867, 0.12918809015103017, 0.028298343556892324, 0.25244234681448063, 0.18031596201034328, 0.5589794822320642, 0.007916844909386956, 0.45521858228975, 0.16823295432447283, 0.17021216555181956, 0.06333475927509565, 0.13260715223223152, 0.2619088092076714, 0.25465873836455244, 0.030812801083255455, 0.09923534466519036, 0.11781365120068263, 0.06932880243732478, 0.06706315529885011, 0.01721891825240746, 0.07703200270813863, 0.0036250354215594653, 0.05162038121390752, 0.1264699339740734, 0.059363438395993645, 0.22196763921980234, 0.24842308459192994, 0.090980921889512, 0.12840569826959494, 0.05032987168355983, 0.009678821477607659, 0.010969331007955347, 0.11183006311614536, 0.19188462371691023, 0.10419408964345703, 0.10271615929390444, 0.07488180437733082, 0.1145396020903251, 0.12365350591256602, 0.10246983756897901, 0.0731575523028528, 0.16137280701609547, 0.21237664757558677, 0.08570317471062065, 0.0733702788376289, 0.0838218855096558, 0.11287735205789061, 0.0652180256334479, 0.09782703845017186, 0.06939866830225867, 0.03511739841801041, 0.002717417734726996, 0.2773278062720628, 0.0848791164650859, 0.1092503479253581, 0.0848791164650859, 0.07899640542295124, 0.14622738876163313, 0.06807137063041542, 0.1487485506368337, 0.3683121208697618, 0.5787761899381971, 0.21220019542988916, 0.12969438517882736, 0.14186250827340843, 0.08428651119173221, 0.11930696302491671, 0.13117830262938604, 0.10624848946000046, 0.03472366834307277, 0.021368411288044783, 0.013948824035251457, 0.004451752351675996, 0.15951101244854762, 0.09161274110894675, 0.12456337278845894, 0.12955589273990017, 0.13854242865249441, 0.1260611287738913, 0.03619576964794899, 0.05866210942943457, 0.10559179697298222, 0.029206241715931256, 0.18220925758932735, 0.11489858845007236, 0.19216110383303442, 0.16520064764553713, 0.12105063885527309, 0.07653874474705608, 0.07165329295469079, 0.021351233759226047, 0.026960456187497296, 0.0007237706359059676, 0.025874800233638345, 0.0014475412718119353, 0.4006725956026049, 0.11375739427598432, 0.1496217944418119, 0.01849258133550484, 0.012888768809594282, 0.15018217569440295, 0.03362287515546335, 0.09190252542493314, 0.02633791887177962, 0.2896500773443957, 0.10881881358794976, 0.21603735050548847, 0.012802213363288207, 0.15842739037069156, 0.1920332004493231, 0.017603043374521284, 0.1403170270067183, 0.312732720322163, 0.2668774827382681, 0.022927618791947435, 0.21827093089933958, 0.036684190067115895, 0.20656292687333902, 0.7672337283866878, 0.3585097954315631, 0.10219589570922717, 0.11043750020190679, 0.2563138997223359, 0.04038386201413009, 0.09395429121654757, 0.0049449626956077665, 0.03214225752145048, 0.9440362496754886, 0.551018611769644, 0.28141042597974464, 0.8371452284947379, 0.6945145147360878, 0.30407804424000867, 0.30407804424000867, 0.6945145147360878, 0.30407804424000867, 0.30407804424000867], \"Term\": [\"  \", \"  \", \"  \", \"  \", \"  \", \"  \", \"  \", \"  \", \"  \", \"  \", \"    \", \"      \", \"!\", \"!\", \"\\\"\", \"#\", \"%\", \"&\", \"'\", \"'\", \"'\", \"'\", \"(\", \")\", \"*\", \"+\", \",\", \",\", \",\", \"-\", \".\", \".\", \".\", \".\", \".\", \".\", \".\", \".\", \".\", \"/\", \"0\", \"0\", \"1\", \"1\", \"2\", \"3\", \"3\", \"4\", \"5\", \"6\", \"7\", \"8\", \"9\", \";\", \"=\", \">\", \"?\", \"?\", \"I\", \"I\", \"I\", \"I\", \"I\", \"I\", \"I\", \"I\", \"I\", \"I\", \"I\", \"[\", \"[\", \"\\\\\", \"]\", \"]\", \"_\", \"a\", \"a\", \"a\", \"a\", \"a\", \"a\", \"a\", \"a\", \"a\", \"a\", \"b\", \"b\", \"b\", \"b\", \"b\", \"b\", \"c\", \"c\", \"c\", \"c\", \"c\", \"c\", \"c\", \"c\", \"d\", \"d\", \"d\", \"d\", \"d\", \"d\", \"d\", \"d\", \"d\", \"d\", \"d\", \"d\", \"e\", \"e\", \"e\", \"e\", \"e\", \"e\", \"e\", \"e\", \"e\", \"e\", \"e\", \"e\", \"e\", \"f\", \"f\", \"f\", \"f\", \"f\", \"f\", \"f\", \"f\", \"g\", \"g\", \"g\", \"g\", \"g\", \"g\", \"g\", \"h\", \"h\", \"h\", \"h\", \"h\", \"h\", \"h\", \"h\", \"i\", \"i\", \"i\", \"i\", \"i\", \"i\", \"i\", \"j\", \"j\", \"j\", \"k\", \"k\", \"k\", \"k\", \"k\", \"k\", \"l\", \"l\", \"l\", \"l\", \"l\", \"l\", \"l\", \"l\", \"l\", \"l\", \"m\", \"m\", \"m\", \"m\", \"m\", \"m\", \"m\", \"m\", \"m\", \"m\", \"n\", \"n\", \"n\", \"n\", \"n\", \"n\", \"n\", \"n\", \"n\", \"o\", \"o\", \"o\", \"o\", \"o\", \"o\", \"o\", \"o\", \"o\", \"o\", \"o\", \"p\", \"p\", \"p\", \"p\", \"p\", \"p\", \"p\", \"p\", \"q\", \"q\", \"r\", \"r\", \"r\", \"r\", \"r\", \"r\", \"r\", \"r\", \"r\", \"r\", \"r\", \"s\", \"s\", \"s\", \"s\", \"s\", \"s\", \"s\", \"s\", \"s\", \"s\", \"t\", \"t\", \"t\", \"t\", \"t\", \"t\", \"t\", \"t\", \"t\", \"t\", \"t\", \"t\", \"u\", \"u\", \"u\", \"u\", \"u\", \"u\", \"u\", \"u\", \"u\", \"v\", \"v\", \"v\", \"v\", \"v\", \"v\", \"v\", \"w\", \"w\", \"w\", \"w\", \"w\", \"w\", \"x\", \"x\", \"y\", \"y\", \"y\", \"y\", \"y\", \"y\", \"y\", \"y\", \"z\", \"|\", \"\\u2014\", \"\\u2026\", \"\\u270c\", \"\\u2721\", \"\\ufe0f\", \"\\ud83c\\udffb\", \"\\ud83d\\udc7d\", \"\\ud83d\\udc85\"]}, \"R\": 30, \"lambda.step\": 0.01, \"plot.opts\": {\"xlab\": \"PC1\", \"ylab\": \"PC2\"}, \"topic.order\": [16, 3, 23, 11, 18, 2, 25, 12, 20, 8, 1, 21, 6, 17, 14, 22, 10, 9, 13, 5, 24, 15, 7, 19, 4]};\n",
              "\n",
              "function LDAvis_load_lib(url, callback){\n",
              "  var s = document.createElement('script');\n",
              "  s.src = url;\n",
              "  s.async = true;\n",
              "  s.onreadystatechange = s.onload = callback;\n",
              "  s.onerror = function(){console.warn(\"failed to load library \" + url);};\n",
              "  document.getElementsByTagName(\"head\")[0].appendChild(s);\n",
              "}\n",
              "\n",
              "if(typeof(LDAvis) !== \"undefined\"){\n",
              "   // already loaded: just create the visualization\n",
              "   !function(LDAvis){\n",
              "       new LDAvis(\"#\" + \"ldavis_el571399191742347047983962458\", ldavis_el571399191742347047983962458_data);\n",
              "   }(LDAvis);\n",
              "}else if(typeof define === \"function\" && define.amd){\n",
              "   // require.js is available: use it to load d3/LDAvis\n",
              "   require.config({paths: {d3: \"https://d3js.org/d3.v5\"}});\n",
              "   require([\"d3\"], function(d3){\n",
              "      window.d3 = d3;\n",
              "      LDAvis_load_lib(\"https://cdn.jsdelivr.net/gh/bmabey/pyLDAvis@3.3.1/pyLDAvis/js/ldavis.v3.0.0.js\", function(){\n",
              "        new LDAvis(\"#\" + \"ldavis_el571399191742347047983962458\", ldavis_el571399191742347047983962458_data);\n",
              "      });\n",
              "    });\n",
              "}else{\n",
              "    // require.js not available: dynamically load d3 & LDAvis\n",
              "    LDAvis_load_lib(\"https://d3js.org/d3.v5.js\", function(){\n",
              "         LDAvis_load_lib(\"https://cdn.jsdelivr.net/gh/bmabey/pyLDAvis@3.3.1/pyLDAvis/js/ldavis.v3.0.0.js\", function(){\n",
              "                 new LDAvis(\"#\" + \"ldavis_el571399191742347047983962458\", ldavis_el571399191742347047983962458_data);\n",
              "            })\n",
              "         });\n",
              "}\n",
              "</script>"
            ]
          },
          "metadata": {},
          "execution_count": 91
        }
      ]
    },
    {
      "cell_type": "markdown",
      "source": [
        "# Summary\n",
        "## Increasing n_components cover more topics and also increase the top words that helps to get the deeper meaning of the topics"
      ],
      "metadata": {
        "id": "Q_hWnkhrR-MF"
      },
      "id": "Q_hWnkhrR-MF"
    }
  ],
  "metadata": {
    "kernelspec": {
      "display_name": "Python 3",
      "language": "python",
      "name": "python3"
    },
    "language_info": {
      "codemirror_mode": {
        "name": "ipython",
        "version": 3
      },
      "file_extension": ".py",
      "mimetype": "text/x-python",
      "name": "python",
      "nbconvert_exporter": "python",
      "pygments_lexer": "ipython3",
      "version": "3.8.5"
    },
    "colab": {
      "provenance": [],
      "collapsed_sections": [],
      "toc_visible": true
    },
    "widgets": {
      "application/vnd.jupyter.widget-state+json": {
        "d05ebaea2a6249e280d148d040d04f9a": {
          "model_module": "@jupyter-widgets/controls",
          "model_name": "HBoxModel",
          "model_module_version": "1.5.0",
          "state": {
            "_dom_classes": [],
            "_model_module": "@jupyter-widgets/controls",
            "_model_module_version": "1.5.0",
            "_model_name": "HBoxModel",
            "_view_count": null,
            "_view_module": "@jupyter-widgets/controls",
            "_view_module_version": "1.5.0",
            "_view_name": "HBoxView",
            "box_style": "",
            "children": [
              "IPY_MODEL_5066c9acfc8e46cbb7a85050caec43a2",
              "IPY_MODEL_71b3cb5d779443878623c52b1c8b27be",
              "IPY_MODEL_b6e1a73f7e134724a43bf0ff27ec2616"
            ],
            "layout": "IPY_MODEL_e7408d810da94336a66d3f659d5b4951"
          }
        },
        "5066c9acfc8e46cbb7a85050caec43a2": {
          "model_module": "@jupyter-widgets/controls",
          "model_name": "HTMLModel",
          "model_module_version": "1.5.0",
          "state": {
            "_dom_classes": [],
            "_model_module": "@jupyter-widgets/controls",
            "_model_module_version": "1.5.0",
            "_model_name": "HTMLModel",
            "_view_count": null,
            "_view_module": "@jupyter-widgets/controls",
            "_view_module_version": "1.5.0",
            "_view_name": "HTMLView",
            "description": "",
            "description_tooltip": null,
            "layout": "IPY_MODEL_51adc7dfd9844789b45a221d2170fa4a",
            "placeholder": "​",
            "style": "IPY_MODEL_3befd110c4a8447dae75f0ef8389edcf",
            "value": "100%"
          }
        },
        "71b3cb5d779443878623c52b1c8b27be": {
          "model_module": "@jupyter-widgets/controls",
          "model_name": "FloatProgressModel",
          "model_module_version": "1.5.0",
          "state": {
            "_dom_classes": [],
            "_model_module": "@jupyter-widgets/controls",
            "_model_module_version": "1.5.0",
            "_model_name": "FloatProgressModel",
            "_view_count": null,
            "_view_module": "@jupyter-widgets/controls",
            "_view_module_version": "1.5.0",
            "_view_name": "ProgressView",
            "bar_style": "success",
            "description": "",
            "description_tooltip": null,
            "layout": "IPY_MODEL_48fb4a6b4af24428bce50efdec57a0c2",
            "max": 3,
            "min": 0,
            "orientation": "horizontal",
            "style": "IPY_MODEL_10935848d9c040a49aaecca49613ada1",
            "value": 3
          }
        },
        "b6e1a73f7e134724a43bf0ff27ec2616": {
          "model_module": "@jupyter-widgets/controls",
          "model_name": "HTMLModel",
          "model_module_version": "1.5.0",
          "state": {
            "_dom_classes": [],
            "_model_module": "@jupyter-widgets/controls",
            "_model_module_version": "1.5.0",
            "_model_name": "HTMLModel",
            "_view_count": null,
            "_view_module": "@jupyter-widgets/controls",
            "_view_module_version": "1.5.0",
            "_view_name": "HTMLView",
            "description": "",
            "description_tooltip": null,
            "layout": "IPY_MODEL_fa137ce0e051451cb8669ff926051031",
            "placeholder": "​",
            "style": "IPY_MODEL_903535b70ba4460eb329b7a79fd5d451",
            "value": " 3/3 [01:48&lt;00:00, 39.53s/it]"
          }
        },
        "e7408d810da94336a66d3f659d5b4951": {
          "model_module": "@jupyter-widgets/base",
          "model_name": "LayoutModel",
          "model_module_version": "1.2.0",
          "state": {
            "_model_module": "@jupyter-widgets/base",
            "_model_module_version": "1.2.0",
            "_model_name": "LayoutModel",
            "_view_count": null,
            "_view_module": "@jupyter-widgets/base",
            "_view_module_version": "1.2.0",
            "_view_name": "LayoutView",
            "align_content": null,
            "align_items": null,
            "align_self": null,
            "border": null,
            "bottom": null,
            "display": null,
            "flex": null,
            "flex_flow": null,
            "grid_area": null,
            "grid_auto_columns": null,
            "grid_auto_flow": null,
            "grid_auto_rows": null,
            "grid_column": null,
            "grid_gap": null,
            "grid_row": null,
            "grid_template_areas": null,
            "grid_template_columns": null,
            "grid_template_rows": null,
            "height": null,
            "justify_content": null,
            "justify_items": null,
            "left": null,
            "margin": null,
            "max_height": null,
            "max_width": null,
            "min_height": null,
            "min_width": null,
            "object_fit": null,
            "object_position": null,
            "order": null,
            "overflow": null,
            "overflow_x": null,
            "overflow_y": null,
            "padding": null,
            "right": null,
            "top": null,
            "visibility": null,
            "width": null
          }
        },
        "51adc7dfd9844789b45a221d2170fa4a": {
          "model_module": "@jupyter-widgets/base",
          "model_name": "LayoutModel",
          "model_module_version": "1.2.0",
          "state": {
            "_model_module": "@jupyter-widgets/base",
            "_model_module_version": "1.2.0",
            "_model_name": "LayoutModel",
            "_view_count": null,
            "_view_module": "@jupyter-widgets/base",
            "_view_module_version": "1.2.0",
            "_view_name": "LayoutView",
            "align_content": null,
            "align_items": null,
            "align_self": null,
            "border": null,
            "bottom": null,
            "display": null,
            "flex": null,
            "flex_flow": null,
            "grid_area": null,
            "grid_auto_columns": null,
            "grid_auto_flow": null,
            "grid_auto_rows": null,
            "grid_column": null,
            "grid_gap": null,
            "grid_row": null,
            "grid_template_areas": null,
            "grid_template_columns": null,
            "grid_template_rows": null,
            "height": null,
            "justify_content": null,
            "justify_items": null,
            "left": null,
            "margin": null,
            "max_height": null,
            "max_width": null,
            "min_height": null,
            "min_width": null,
            "object_fit": null,
            "object_position": null,
            "order": null,
            "overflow": null,
            "overflow_x": null,
            "overflow_y": null,
            "padding": null,
            "right": null,
            "top": null,
            "visibility": null,
            "width": null
          }
        },
        "3befd110c4a8447dae75f0ef8389edcf": {
          "model_module": "@jupyter-widgets/controls",
          "model_name": "DescriptionStyleModel",
          "model_module_version": "1.5.0",
          "state": {
            "_model_module": "@jupyter-widgets/controls",
            "_model_module_version": "1.5.0",
            "_model_name": "DescriptionStyleModel",
            "_view_count": null,
            "_view_module": "@jupyter-widgets/base",
            "_view_module_version": "1.2.0",
            "_view_name": "StyleView",
            "description_width": ""
          }
        },
        "48fb4a6b4af24428bce50efdec57a0c2": {
          "model_module": "@jupyter-widgets/base",
          "model_name": "LayoutModel",
          "model_module_version": "1.2.0",
          "state": {
            "_model_module": "@jupyter-widgets/base",
            "_model_module_version": "1.2.0",
            "_model_name": "LayoutModel",
            "_view_count": null,
            "_view_module": "@jupyter-widgets/base",
            "_view_module_version": "1.2.0",
            "_view_name": "LayoutView",
            "align_content": null,
            "align_items": null,
            "align_self": null,
            "border": null,
            "bottom": null,
            "display": null,
            "flex": null,
            "flex_flow": null,
            "grid_area": null,
            "grid_auto_columns": null,
            "grid_auto_flow": null,
            "grid_auto_rows": null,
            "grid_column": null,
            "grid_gap": null,
            "grid_row": null,
            "grid_template_areas": null,
            "grid_template_columns": null,
            "grid_template_rows": null,
            "height": null,
            "justify_content": null,
            "justify_items": null,
            "left": null,
            "margin": null,
            "max_height": null,
            "max_width": null,
            "min_height": null,
            "min_width": null,
            "object_fit": null,
            "object_position": null,
            "order": null,
            "overflow": null,
            "overflow_x": null,
            "overflow_y": null,
            "padding": null,
            "right": null,
            "top": null,
            "visibility": null,
            "width": null
          }
        },
        "10935848d9c040a49aaecca49613ada1": {
          "model_module": "@jupyter-widgets/controls",
          "model_name": "ProgressStyleModel",
          "model_module_version": "1.5.0",
          "state": {
            "_model_module": "@jupyter-widgets/controls",
            "_model_module_version": "1.5.0",
            "_model_name": "ProgressStyleModel",
            "_view_count": null,
            "_view_module": "@jupyter-widgets/base",
            "_view_module_version": "1.2.0",
            "_view_name": "StyleView",
            "bar_color": null,
            "description_width": ""
          }
        },
        "fa137ce0e051451cb8669ff926051031": {
          "model_module": "@jupyter-widgets/base",
          "model_name": "LayoutModel",
          "model_module_version": "1.2.0",
          "state": {
            "_model_module": "@jupyter-widgets/base",
            "_model_module_version": "1.2.0",
            "_model_name": "LayoutModel",
            "_view_count": null,
            "_view_module": "@jupyter-widgets/base",
            "_view_module_version": "1.2.0",
            "_view_name": "LayoutView",
            "align_content": null,
            "align_items": null,
            "align_self": null,
            "border": null,
            "bottom": null,
            "display": null,
            "flex": null,
            "flex_flow": null,
            "grid_area": null,
            "grid_auto_columns": null,
            "grid_auto_flow": null,
            "grid_auto_rows": null,
            "grid_column": null,
            "grid_gap": null,
            "grid_row": null,
            "grid_template_areas": null,
            "grid_template_columns": null,
            "grid_template_rows": null,
            "height": null,
            "justify_content": null,
            "justify_items": null,
            "left": null,
            "margin": null,
            "max_height": null,
            "max_width": null,
            "min_height": null,
            "min_width": null,
            "object_fit": null,
            "object_position": null,
            "order": null,
            "overflow": null,
            "overflow_x": null,
            "overflow_y": null,
            "padding": null,
            "right": null,
            "top": null,
            "visibility": null,
            "width": null
          }
        },
        "903535b70ba4460eb329b7a79fd5d451": {
          "model_module": "@jupyter-widgets/controls",
          "model_name": "DescriptionStyleModel",
          "model_module_version": "1.5.0",
          "state": {
            "_model_module": "@jupyter-widgets/controls",
            "_model_module_version": "1.5.0",
            "_model_name": "DescriptionStyleModel",
            "_view_count": null,
            "_view_module": "@jupyter-widgets/base",
            "_view_module_version": "1.2.0",
            "_view_name": "StyleView",
            "description_width": ""
          }
        },
        "787978c1d2644ae7a5f0e8e0d625a882": {
          "model_module": "@jupyter-widgets/controls",
          "model_name": "HBoxModel",
          "model_module_version": "1.5.0",
          "state": {
            "_dom_classes": [],
            "_model_module": "@jupyter-widgets/controls",
            "_model_module_version": "1.5.0",
            "_model_name": "HBoxModel",
            "_view_count": null,
            "_view_module": "@jupyter-widgets/controls",
            "_view_module_version": "1.5.0",
            "_view_name": "HBoxView",
            "box_style": "",
            "children": [
              "IPY_MODEL_b9a43082155a4c3ebc80a1ddf428c4a9",
              "IPY_MODEL_57b101793dfd4659af10a0b320d1042b",
              "IPY_MODEL_2a03f4f58f92473d9fc97a564316739d"
            ],
            "layout": "IPY_MODEL_f57b2305d73142bdb747ff2a49f57076"
          }
        },
        "b9a43082155a4c3ebc80a1ddf428c4a9": {
          "model_module": "@jupyter-widgets/controls",
          "model_name": "HTMLModel",
          "model_module_version": "1.5.0",
          "state": {
            "_dom_classes": [],
            "_model_module": "@jupyter-widgets/controls",
            "_model_module_version": "1.5.0",
            "_model_name": "HTMLModel",
            "_view_count": null,
            "_view_module": "@jupyter-widgets/controls",
            "_view_module_version": "1.5.0",
            "_view_name": "HTMLView",
            "description": "",
            "description_tooltip": null,
            "layout": "IPY_MODEL_66654a073f33400b93982389e5681e31",
            "placeholder": "​",
            "style": "IPY_MODEL_796e62dfeec14fbeaf7d733164d99ed2",
            "value": "100%"
          }
        },
        "57b101793dfd4659af10a0b320d1042b": {
          "model_module": "@jupyter-widgets/controls",
          "model_name": "FloatProgressModel",
          "model_module_version": "1.5.0",
          "state": {
            "_dom_classes": [],
            "_model_module": "@jupyter-widgets/controls",
            "_model_module_version": "1.5.0",
            "_model_name": "FloatProgressModel",
            "_view_count": null,
            "_view_module": "@jupyter-widgets/controls",
            "_view_module_version": "1.5.0",
            "_view_name": "ProgressView",
            "bar_style": "success",
            "description": "",
            "description_tooltip": null,
            "layout": "IPY_MODEL_c71370d2f2034789947dc8f81b28ac83",
            "max": 3,
            "min": 0,
            "orientation": "horizontal",
            "style": "IPY_MODEL_4419040036864f0eaa81ce0184468d5b",
            "value": 3
          }
        },
        "2a03f4f58f92473d9fc97a564316739d": {
          "model_module": "@jupyter-widgets/controls",
          "model_name": "HTMLModel",
          "model_module_version": "1.5.0",
          "state": {
            "_dom_classes": [],
            "_model_module": "@jupyter-widgets/controls",
            "_model_module_version": "1.5.0",
            "_model_name": "HTMLModel",
            "_view_count": null,
            "_view_module": "@jupyter-widgets/controls",
            "_view_module_version": "1.5.0",
            "_view_name": "HTMLView",
            "description": "",
            "description_tooltip": null,
            "layout": "IPY_MODEL_5e0a425476e44d15a51fb3659d89fd69",
            "placeholder": "​",
            "style": "IPY_MODEL_9d5aa4ec9cdf4143a2d9fc38eb3bbd61",
            "value": " 3/3 [00:23&lt;00:00,  8.65s/it]"
          }
        },
        "f57b2305d73142bdb747ff2a49f57076": {
          "model_module": "@jupyter-widgets/base",
          "model_name": "LayoutModel",
          "model_module_version": "1.2.0",
          "state": {
            "_model_module": "@jupyter-widgets/base",
            "_model_module_version": "1.2.0",
            "_model_name": "LayoutModel",
            "_view_count": null,
            "_view_module": "@jupyter-widgets/base",
            "_view_module_version": "1.2.0",
            "_view_name": "LayoutView",
            "align_content": null,
            "align_items": null,
            "align_self": null,
            "border": null,
            "bottom": null,
            "display": null,
            "flex": null,
            "flex_flow": null,
            "grid_area": null,
            "grid_auto_columns": null,
            "grid_auto_flow": null,
            "grid_auto_rows": null,
            "grid_column": null,
            "grid_gap": null,
            "grid_row": null,
            "grid_template_areas": null,
            "grid_template_columns": null,
            "grid_template_rows": null,
            "height": null,
            "justify_content": null,
            "justify_items": null,
            "left": null,
            "margin": null,
            "max_height": null,
            "max_width": null,
            "min_height": null,
            "min_width": null,
            "object_fit": null,
            "object_position": null,
            "order": null,
            "overflow": null,
            "overflow_x": null,
            "overflow_y": null,
            "padding": null,
            "right": null,
            "top": null,
            "visibility": null,
            "width": null
          }
        },
        "66654a073f33400b93982389e5681e31": {
          "model_module": "@jupyter-widgets/base",
          "model_name": "LayoutModel",
          "model_module_version": "1.2.0",
          "state": {
            "_model_module": "@jupyter-widgets/base",
            "_model_module_version": "1.2.0",
            "_model_name": "LayoutModel",
            "_view_count": null,
            "_view_module": "@jupyter-widgets/base",
            "_view_module_version": "1.2.0",
            "_view_name": "LayoutView",
            "align_content": null,
            "align_items": null,
            "align_self": null,
            "border": null,
            "bottom": null,
            "display": null,
            "flex": null,
            "flex_flow": null,
            "grid_area": null,
            "grid_auto_columns": null,
            "grid_auto_flow": null,
            "grid_auto_rows": null,
            "grid_column": null,
            "grid_gap": null,
            "grid_row": null,
            "grid_template_areas": null,
            "grid_template_columns": null,
            "grid_template_rows": null,
            "height": null,
            "justify_content": null,
            "justify_items": null,
            "left": null,
            "margin": null,
            "max_height": null,
            "max_width": null,
            "min_height": null,
            "min_width": null,
            "object_fit": null,
            "object_position": null,
            "order": null,
            "overflow": null,
            "overflow_x": null,
            "overflow_y": null,
            "padding": null,
            "right": null,
            "top": null,
            "visibility": null,
            "width": null
          }
        },
        "796e62dfeec14fbeaf7d733164d99ed2": {
          "model_module": "@jupyter-widgets/controls",
          "model_name": "DescriptionStyleModel",
          "model_module_version": "1.5.0",
          "state": {
            "_model_module": "@jupyter-widgets/controls",
            "_model_module_version": "1.5.0",
            "_model_name": "DescriptionStyleModel",
            "_view_count": null,
            "_view_module": "@jupyter-widgets/base",
            "_view_module_version": "1.2.0",
            "_view_name": "StyleView",
            "description_width": ""
          }
        },
        "c71370d2f2034789947dc8f81b28ac83": {
          "model_module": "@jupyter-widgets/base",
          "model_name": "LayoutModel",
          "model_module_version": "1.2.0",
          "state": {
            "_model_module": "@jupyter-widgets/base",
            "_model_module_version": "1.2.0",
            "_model_name": "LayoutModel",
            "_view_count": null,
            "_view_module": "@jupyter-widgets/base",
            "_view_module_version": "1.2.0",
            "_view_name": "LayoutView",
            "align_content": null,
            "align_items": null,
            "align_self": null,
            "border": null,
            "bottom": null,
            "display": null,
            "flex": null,
            "flex_flow": null,
            "grid_area": null,
            "grid_auto_columns": null,
            "grid_auto_flow": null,
            "grid_auto_rows": null,
            "grid_column": null,
            "grid_gap": null,
            "grid_row": null,
            "grid_template_areas": null,
            "grid_template_columns": null,
            "grid_template_rows": null,
            "height": null,
            "justify_content": null,
            "justify_items": null,
            "left": null,
            "margin": null,
            "max_height": null,
            "max_width": null,
            "min_height": null,
            "min_width": null,
            "object_fit": null,
            "object_position": null,
            "order": null,
            "overflow": null,
            "overflow_x": null,
            "overflow_y": null,
            "padding": null,
            "right": null,
            "top": null,
            "visibility": null,
            "width": null
          }
        },
        "4419040036864f0eaa81ce0184468d5b": {
          "model_module": "@jupyter-widgets/controls",
          "model_name": "ProgressStyleModel",
          "model_module_version": "1.5.0",
          "state": {
            "_model_module": "@jupyter-widgets/controls",
            "_model_module_version": "1.5.0",
            "_model_name": "ProgressStyleModel",
            "_view_count": null,
            "_view_module": "@jupyter-widgets/base",
            "_view_module_version": "1.2.0",
            "_view_name": "StyleView",
            "bar_color": null,
            "description_width": ""
          }
        },
        "5e0a425476e44d15a51fb3659d89fd69": {
          "model_module": "@jupyter-widgets/base",
          "model_name": "LayoutModel",
          "model_module_version": "1.2.0",
          "state": {
            "_model_module": "@jupyter-widgets/base",
            "_model_module_version": "1.2.0",
            "_model_name": "LayoutModel",
            "_view_count": null,
            "_view_module": "@jupyter-widgets/base",
            "_view_module_version": "1.2.0",
            "_view_name": "LayoutView",
            "align_content": null,
            "align_items": null,
            "align_self": null,
            "border": null,
            "bottom": null,
            "display": null,
            "flex": null,
            "flex_flow": null,
            "grid_area": null,
            "grid_auto_columns": null,
            "grid_auto_flow": null,
            "grid_auto_rows": null,
            "grid_column": null,
            "grid_gap": null,
            "grid_row": null,
            "grid_template_areas": null,
            "grid_template_columns": null,
            "grid_template_rows": null,
            "height": null,
            "justify_content": null,
            "justify_items": null,
            "left": null,
            "margin": null,
            "max_height": null,
            "max_width": null,
            "min_height": null,
            "min_width": null,
            "object_fit": null,
            "object_position": null,
            "order": null,
            "overflow": null,
            "overflow_x": null,
            "overflow_y": null,
            "padding": null,
            "right": null,
            "top": null,
            "visibility": null,
            "width": null
          }
        },
        "9d5aa4ec9cdf4143a2d9fc38eb3bbd61": {
          "model_module": "@jupyter-widgets/controls",
          "model_name": "DescriptionStyleModel",
          "model_module_version": "1.5.0",
          "state": {
            "_model_module": "@jupyter-widgets/controls",
            "_model_module_version": "1.5.0",
            "_model_name": "DescriptionStyleModel",
            "_view_count": null,
            "_view_module": "@jupyter-widgets/base",
            "_view_module_version": "1.2.0",
            "_view_name": "StyleView",
            "description_width": ""
          }
        },
        "dd8813d604e64dddb1ec1d063ca1607a": {
          "model_module": "@jupyter-widgets/controls",
          "model_name": "HBoxModel",
          "model_module_version": "1.5.0",
          "state": {
            "_dom_classes": [],
            "_model_module": "@jupyter-widgets/controls",
            "_model_module_version": "1.5.0",
            "_model_name": "HBoxModel",
            "_view_count": null,
            "_view_module": "@jupyter-widgets/controls",
            "_view_module_version": "1.5.0",
            "_view_name": "HBoxView",
            "box_style": "",
            "children": [
              "IPY_MODEL_7bf3941571764a2380002eb0533cc8c9",
              "IPY_MODEL_7b999f414f354573893ff05bc623e73f",
              "IPY_MODEL_31381fb92a08426e90e02ff54dc7f605"
            ],
            "layout": "IPY_MODEL_143f1df8f693423b88e046f3bc26104a"
          }
        },
        "7bf3941571764a2380002eb0533cc8c9": {
          "model_module": "@jupyter-widgets/controls",
          "model_name": "HTMLModel",
          "model_module_version": "1.5.0",
          "state": {
            "_dom_classes": [],
            "_model_module": "@jupyter-widgets/controls",
            "_model_module_version": "1.5.0",
            "_model_name": "HTMLModel",
            "_view_count": null,
            "_view_module": "@jupyter-widgets/controls",
            "_view_module_version": "1.5.0",
            "_view_name": "HTMLView",
            "description": "",
            "description_tooltip": null,
            "layout": "IPY_MODEL_ac7ebf6db9964a8faa7445b991c26e54",
            "placeholder": "​",
            "style": "IPY_MODEL_57950bca4ea341168b39c12d9a813f44",
            "value": "100%"
          }
        },
        "7b999f414f354573893ff05bc623e73f": {
          "model_module": "@jupyter-widgets/controls",
          "model_name": "FloatProgressModel",
          "model_module_version": "1.5.0",
          "state": {
            "_dom_classes": [],
            "_model_module": "@jupyter-widgets/controls",
            "_model_module_version": "1.5.0",
            "_model_name": "FloatProgressModel",
            "_view_count": null,
            "_view_module": "@jupyter-widgets/controls",
            "_view_module_version": "1.5.0",
            "_view_name": "ProgressView",
            "bar_style": "success",
            "description": "",
            "description_tooltip": null,
            "layout": "IPY_MODEL_07138ba017fc4abe976facfa233f4e1d",
            "max": 3,
            "min": 0,
            "orientation": "horizontal",
            "style": "IPY_MODEL_de457471e93241ed85d3aca7ca4c119d",
            "value": 3
          }
        },
        "31381fb92a08426e90e02ff54dc7f605": {
          "model_module": "@jupyter-widgets/controls",
          "model_name": "HTMLModel",
          "model_module_version": "1.5.0",
          "state": {
            "_dom_classes": [],
            "_model_module": "@jupyter-widgets/controls",
            "_model_module_version": "1.5.0",
            "_model_name": "HTMLModel",
            "_view_count": null,
            "_view_module": "@jupyter-widgets/controls",
            "_view_module_version": "1.5.0",
            "_view_name": "HTMLView",
            "description": "",
            "description_tooltip": null,
            "layout": "IPY_MODEL_1868ba1f7b764a9995a233fd164e7dfe",
            "placeholder": "​",
            "style": "IPY_MODEL_f8d5a6c3487e4458ab9bfafe9ee3791b",
            "value": " 3/3 [00:33&lt;00:00, 11.14s/it]"
          }
        },
        "143f1df8f693423b88e046f3bc26104a": {
          "model_module": "@jupyter-widgets/base",
          "model_name": "LayoutModel",
          "model_module_version": "1.2.0",
          "state": {
            "_model_module": "@jupyter-widgets/base",
            "_model_module_version": "1.2.0",
            "_model_name": "LayoutModel",
            "_view_count": null,
            "_view_module": "@jupyter-widgets/base",
            "_view_module_version": "1.2.0",
            "_view_name": "LayoutView",
            "align_content": null,
            "align_items": null,
            "align_self": null,
            "border": null,
            "bottom": null,
            "display": null,
            "flex": null,
            "flex_flow": null,
            "grid_area": null,
            "grid_auto_columns": null,
            "grid_auto_flow": null,
            "grid_auto_rows": null,
            "grid_column": null,
            "grid_gap": null,
            "grid_row": null,
            "grid_template_areas": null,
            "grid_template_columns": null,
            "grid_template_rows": null,
            "height": null,
            "justify_content": null,
            "justify_items": null,
            "left": null,
            "margin": null,
            "max_height": null,
            "max_width": null,
            "min_height": null,
            "min_width": null,
            "object_fit": null,
            "object_position": null,
            "order": null,
            "overflow": null,
            "overflow_x": null,
            "overflow_y": null,
            "padding": null,
            "right": null,
            "top": null,
            "visibility": null,
            "width": null
          }
        },
        "ac7ebf6db9964a8faa7445b991c26e54": {
          "model_module": "@jupyter-widgets/base",
          "model_name": "LayoutModel",
          "model_module_version": "1.2.0",
          "state": {
            "_model_module": "@jupyter-widgets/base",
            "_model_module_version": "1.2.0",
            "_model_name": "LayoutModel",
            "_view_count": null,
            "_view_module": "@jupyter-widgets/base",
            "_view_module_version": "1.2.0",
            "_view_name": "LayoutView",
            "align_content": null,
            "align_items": null,
            "align_self": null,
            "border": null,
            "bottom": null,
            "display": null,
            "flex": null,
            "flex_flow": null,
            "grid_area": null,
            "grid_auto_columns": null,
            "grid_auto_flow": null,
            "grid_auto_rows": null,
            "grid_column": null,
            "grid_gap": null,
            "grid_row": null,
            "grid_template_areas": null,
            "grid_template_columns": null,
            "grid_template_rows": null,
            "height": null,
            "justify_content": null,
            "justify_items": null,
            "left": null,
            "margin": null,
            "max_height": null,
            "max_width": null,
            "min_height": null,
            "min_width": null,
            "object_fit": null,
            "object_position": null,
            "order": null,
            "overflow": null,
            "overflow_x": null,
            "overflow_y": null,
            "padding": null,
            "right": null,
            "top": null,
            "visibility": null,
            "width": null
          }
        },
        "57950bca4ea341168b39c12d9a813f44": {
          "model_module": "@jupyter-widgets/controls",
          "model_name": "DescriptionStyleModel",
          "model_module_version": "1.5.0",
          "state": {
            "_model_module": "@jupyter-widgets/controls",
            "_model_module_version": "1.5.0",
            "_model_name": "DescriptionStyleModel",
            "_view_count": null,
            "_view_module": "@jupyter-widgets/base",
            "_view_module_version": "1.2.0",
            "_view_name": "StyleView",
            "description_width": ""
          }
        },
        "07138ba017fc4abe976facfa233f4e1d": {
          "model_module": "@jupyter-widgets/base",
          "model_name": "LayoutModel",
          "model_module_version": "1.2.0",
          "state": {
            "_model_module": "@jupyter-widgets/base",
            "_model_module_version": "1.2.0",
            "_model_name": "LayoutModel",
            "_view_count": null,
            "_view_module": "@jupyter-widgets/base",
            "_view_module_version": "1.2.0",
            "_view_name": "LayoutView",
            "align_content": null,
            "align_items": null,
            "align_self": null,
            "border": null,
            "bottom": null,
            "display": null,
            "flex": null,
            "flex_flow": null,
            "grid_area": null,
            "grid_auto_columns": null,
            "grid_auto_flow": null,
            "grid_auto_rows": null,
            "grid_column": null,
            "grid_gap": null,
            "grid_row": null,
            "grid_template_areas": null,
            "grid_template_columns": null,
            "grid_template_rows": null,
            "height": null,
            "justify_content": null,
            "justify_items": null,
            "left": null,
            "margin": null,
            "max_height": null,
            "max_width": null,
            "min_height": null,
            "min_width": null,
            "object_fit": null,
            "object_position": null,
            "order": null,
            "overflow": null,
            "overflow_x": null,
            "overflow_y": null,
            "padding": null,
            "right": null,
            "top": null,
            "visibility": null,
            "width": null
          }
        },
        "de457471e93241ed85d3aca7ca4c119d": {
          "model_module": "@jupyter-widgets/controls",
          "model_name": "ProgressStyleModel",
          "model_module_version": "1.5.0",
          "state": {
            "_model_module": "@jupyter-widgets/controls",
            "_model_module_version": "1.5.0",
            "_model_name": "ProgressStyleModel",
            "_view_count": null,
            "_view_module": "@jupyter-widgets/base",
            "_view_module_version": "1.2.0",
            "_view_name": "StyleView",
            "bar_color": null,
            "description_width": ""
          }
        },
        "1868ba1f7b764a9995a233fd164e7dfe": {
          "model_module": "@jupyter-widgets/base",
          "model_name": "LayoutModel",
          "model_module_version": "1.2.0",
          "state": {
            "_model_module": "@jupyter-widgets/base",
            "_model_module_version": "1.2.0",
            "_model_name": "LayoutModel",
            "_view_count": null,
            "_view_module": "@jupyter-widgets/base",
            "_view_module_version": "1.2.0",
            "_view_name": "LayoutView",
            "align_content": null,
            "align_items": null,
            "align_self": null,
            "border": null,
            "bottom": null,
            "display": null,
            "flex": null,
            "flex_flow": null,
            "grid_area": null,
            "grid_auto_columns": null,
            "grid_auto_flow": null,
            "grid_auto_rows": null,
            "grid_column": null,
            "grid_gap": null,
            "grid_row": null,
            "grid_template_areas": null,
            "grid_template_columns": null,
            "grid_template_rows": null,
            "height": null,
            "justify_content": null,
            "justify_items": null,
            "left": null,
            "margin": null,
            "max_height": null,
            "max_width": null,
            "min_height": null,
            "min_width": null,
            "object_fit": null,
            "object_position": null,
            "order": null,
            "overflow": null,
            "overflow_x": null,
            "overflow_y": null,
            "padding": null,
            "right": null,
            "top": null,
            "visibility": null,
            "width": null
          }
        },
        "f8d5a6c3487e4458ab9bfafe9ee3791b": {
          "model_module": "@jupyter-widgets/controls",
          "model_name": "DescriptionStyleModel",
          "model_module_version": "1.5.0",
          "state": {
            "_model_module": "@jupyter-widgets/controls",
            "_model_module_version": "1.5.0",
            "_model_name": "DescriptionStyleModel",
            "_view_count": null,
            "_view_module": "@jupyter-widgets/base",
            "_view_module_version": "1.2.0",
            "_view_name": "StyleView",
            "description_width": ""
          }
        },
        "fd410684e7dd4bea9cb9cec59b7bd3c9": {
          "model_module": "@jupyter-widgets/controls",
          "model_name": "HBoxModel",
          "model_module_version": "1.5.0",
          "state": {
            "_dom_classes": [],
            "_model_module": "@jupyter-widgets/controls",
            "_model_module_version": "1.5.0",
            "_model_name": "HBoxModel",
            "_view_count": null,
            "_view_module": "@jupyter-widgets/controls",
            "_view_module_version": "1.5.0",
            "_view_name": "HBoxView",
            "box_style": "",
            "children": [
              "IPY_MODEL_5d4b18574c654ca48c3452357aecaded",
              "IPY_MODEL_04c4ef9876a74a4ab9fa57045c731ae9",
              "IPY_MODEL_b7281ffd2ab54fe79dc922b35e287146"
            ],
            "layout": "IPY_MODEL_b16fbec9417c489aa6dc9da04da773b7"
          }
        },
        "5d4b18574c654ca48c3452357aecaded": {
          "model_module": "@jupyter-widgets/controls",
          "model_name": "HTMLModel",
          "model_module_version": "1.5.0",
          "state": {
            "_dom_classes": [],
            "_model_module": "@jupyter-widgets/controls",
            "_model_module_version": "1.5.0",
            "_model_name": "HTMLModel",
            "_view_count": null,
            "_view_module": "@jupyter-widgets/controls",
            "_view_module_version": "1.5.0",
            "_view_name": "HTMLView",
            "description": "",
            "description_tooltip": null,
            "layout": "IPY_MODEL_17ecb709d57b4c7680fb4eb7d6c8b5d6",
            "placeholder": "​",
            "style": "IPY_MODEL_24a47e8058764bb594efa7120de542a9",
            "value": "100%"
          }
        },
        "04c4ef9876a74a4ab9fa57045c731ae9": {
          "model_module": "@jupyter-widgets/controls",
          "model_name": "FloatProgressModel",
          "model_module_version": "1.5.0",
          "state": {
            "_dom_classes": [],
            "_model_module": "@jupyter-widgets/controls",
            "_model_module_version": "1.5.0",
            "_model_name": "FloatProgressModel",
            "_view_count": null,
            "_view_module": "@jupyter-widgets/controls",
            "_view_module_version": "1.5.0",
            "_view_name": "ProgressView",
            "bar_style": "success",
            "description": "",
            "description_tooltip": null,
            "layout": "IPY_MODEL_5db1ede2b68c46aa9c4d79caf46b0167",
            "max": 5,
            "min": 0,
            "orientation": "horizontal",
            "style": "IPY_MODEL_daffcaf1a62b4ca89543b31a86a30ae1",
            "value": 5
          }
        },
        "b7281ffd2ab54fe79dc922b35e287146": {
          "model_module": "@jupyter-widgets/controls",
          "model_name": "HTMLModel",
          "model_module_version": "1.5.0",
          "state": {
            "_dom_classes": [],
            "_model_module": "@jupyter-widgets/controls",
            "_model_module_version": "1.5.0",
            "_model_name": "HTMLModel",
            "_view_count": null,
            "_view_module": "@jupyter-widgets/controls",
            "_view_module_version": "1.5.0",
            "_view_name": "HTMLView",
            "description": "",
            "description_tooltip": null,
            "layout": "IPY_MODEL_6974db57698a4d4597b4c6c47da5b826",
            "placeholder": "​",
            "style": "IPY_MODEL_c9fb2957b2b046d4b22cacbad9a04bdf",
            "value": " 5/5 [00:51&lt;00:00, 10.35s/it]"
          }
        },
        "b16fbec9417c489aa6dc9da04da773b7": {
          "model_module": "@jupyter-widgets/base",
          "model_name": "LayoutModel",
          "model_module_version": "1.2.0",
          "state": {
            "_model_module": "@jupyter-widgets/base",
            "_model_module_version": "1.2.0",
            "_model_name": "LayoutModel",
            "_view_count": null,
            "_view_module": "@jupyter-widgets/base",
            "_view_module_version": "1.2.0",
            "_view_name": "LayoutView",
            "align_content": null,
            "align_items": null,
            "align_self": null,
            "border": null,
            "bottom": null,
            "display": null,
            "flex": null,
            "flex_flow": null,
            "grid_area": null,
            "grid_auto_columns": null,
            "grid_auto_flow": null,
            "grid_auto_rows": null,
            "grid_column": null,
            "grid_gap": null,
            "grid_row": null,
            "grid_template_areas": null,
            "grid_template_columns": null,
            "grid_template_rows": null,
            "height": null,
            "justify_content": null,
            "justify_items": null,
            "left": null,
            "margin": null,
            "max_height": null,
            "max_width": null,
            "min_height": null,
            "min_width": null,
            "object_fit": null,
            "object_position": null,
            "order": null,
            "overflow": null,
            "overflow_x": null,
            "overflow_y": null,
            "padding": null,
            "right": null,
            "top": null,
            "visibility": null,
            "width": null
          }
        },
        "17ecb709d57b4c7680fb4eb7d6c8b5d6": {
          "model_module": "@jupyter-widgets/base",
          "model_name": "LayoutModel",
          "model_module_version": "1.2.0",
          "state": {
            "_model_module": "@jupyter-widgets/base",
            "_model_module_version": "1.2.0",
            "_model_name": "LayoutModel",
            "_view_count": null,
            "_view_module": "@jupyter-widgets/base",
            "_view_module_version": "1.2.0",
            "_view_name": "LayoutView",
            "align_content": null,
            "align_items": null,
            "align_self": null,
            "border": null,
            "bottom": null,
            "display": null,
            "flex": null,
            "flex_flow": null,
            "grid_area": null,
            "grid_auto_columns": null,
            "grid_auto_flow": null,
            "grid_auto_rows": null,
            "grid_column": null,
            "grid_gap": null,
            "grid_row": null,
            "grid_template_areas": null,
            "grid_template_columns": null,
            "grid_template_rows": null,
            "height": null,
            "justify_content": null,
            "justify_items": null,
            "left": null,
            "margin": null,
            "max_height": null,
            "max_width": null,
            "min_height": null,
            "min_width": null,
            "object_fit": null,
            "object_position": null,
            "order": null,
            "overflow": null,
            "overflow_x": null,
            "overflow_y": null,
            "padding": null,
            "right": null,
            "top": null,
            "visibility": null,
            "width": null
          }
        },
        "24a47e8058764bb594efa7120de542a9": {
          "model_module": "@jupyter-widgets/controls",
          "model_name": "DescriptionStyleModel",
          "model_module_version": "1.5.0",
          "state": {
            "_model_module": "@jupyter-widgets/controls",
            "_model_module_version": "1.5.0",
            "_model_name": "DescriptionStyleModel",
            "_view_count": null,
            "_view_module": "@jupyter-widgets/base",
            "_view_module_version": "1.2.0",
            "_view_name": "StyleView",
            "description_width": ""
          }
        },
        "5db1ede2b68c46aa9c4d79caf46b0167": {
          "model_module": "@jupyter-widgets/base",
          "model_name": "LayoutModel",
          "model_module_version": "1.2.0",
          "state": {
            "_model_module": "@jupyter-widgets/base",
            "_model_module_version": "1.2.0",
            "_model_name": "LayoutModel",
            "_view_count": null,
            "_view_module": "@jupyter-widgets/base",
            "_view_module_version": "1.2.0",
            "_view_name": "LayoutView",
            "align_content": null,
            "align_items": null,
            "align_self": null,
            "border": null,
            "bottom": null,
            "display": null,
            "flex": null,
            "flex_flow": null,
            "grid_area": null,
            "grid_auto_columns": null,
            "grid_auto_flow": null,
            "grid_auto_rows": null,
            "grid_column": null,
            "grid_gap": null,
            "grid_row": null,
            "grid_template_areas": null,
            "grid_template_columns": null,
            "grid_template_rows": null,
            "height": null,
            "justify_content": null,
            "justify_items": null,
            "left": null,
            "margin": null,
            "max_height": null,
            "max_width": null,
            "min_height": null,
            "min_width": null,
            "object_fit": null,
            "object_position": null,
            "order": null,
            "overflow": null,
            "overflow_x": null,
            "overflow_y": null,
            "padding": null,
            "right": null,
            "top": null,
            "visibility": null,
            "width": null
          }
        },
        "daffcaf1a62b4ca89543b31a86a30ae1": {
          "model_module": "@jupyter-widgets/controls",
          "model_name": "ProgressStyleModel",
          "model_module_version": "1.5.0",
          "state": {
            "_model_module": "@jupyter-widgets/controls",
            "_model_module_version": "1.5.0",
            "_model_name": "ProgressStyleModel",
            "_view_count": null,
            "_view_module": "@jupyter-widgets/base",
            "_view_module_version": "1.2.0",
            "_view_name": "StyleView",
            "bar_color": null,
            "description_width": ""
          }
        },
        "6974db57698a4d4597b4c6c47da5b826": {
          "model_module": "@jupyter-widgets/base",
          "model_name": "LayoutModel",
          "model_module_version": "1.2.0",
          "state": {
            "_model_module": "@jupyter-widgets/base",
            "_model_module_version": "1.2.0",
            "_model_name": "LayoutModel",
            "_view_count": null,
            "_view_module": "@jupyter-widgets/base",
            "_view_module_version": "1.2.0",
            "_view_name": "LayoutView",
            "align_content": null,
            "align_items": null,
            "align_self": null,
            "border": null,
            "bottom": null,
            "display": null,
            "flex": null,
            "flex_flow": null,
            "grid_area": null,
            "grid_auto_columns": null,
            "grid_auto_flow": null,
            "grid_auto_rows": null,
            "grid_column": null,
            "grid_gap": null,
            "grid_row": null,
            "grid_template_areas": null,
            "grid_template_columns": null,
            "grid_template_rows": null,
            "height": null,
            "justify_content": null,
            "justify_items": null,
            "left": null,
            "margin": null,
            "max_height": null,
            "max_width": null,
            "min_height": null,
            "min_width": null,
            "object_fit": null,
            "object_position": null,
            "order": null,
            "overflow": null,
            "overflow_x": null,
            "overflow_y": null,
            "padding": null,
            "right": null,
            "top": null,
            "visibility": null,
            "width": null
          }
        },
        "c9fb2957b2b046d4b22cacbad9a04bdf": {
          "model_module": "@jupyter-widgets/controls",
          "model_name": "DescriptionStyleModel",
          "model_module_version": "1.5.0",
          "state": {
            "_model_module": "@jupyter-widgets/controls",
            "_model_module_version": "1.5.0",
            "_model_name": "DescriptionStyleModel",
            "_view_count": null,
            "_view_module": "@jupyter-widgets/base",
            "_view_module_version": "1.2.0",
            "_view_name": "StyleView",
            "description_width": ""
          }
        },
        "211aa8a644be49b0a729a6b00ddc7a3e": {
          "model_module": "@jupyter-widgets/controls",
          "model_name": "HBoxModel",
          "model_module_version": "1.5.0",
          "state": {
            "_dom_classes": [],
            "_model_module": "@jupyter-widgets/controls",
            "_model_module_version": "1.5.0",
            "_model_name": "HBoxModel",
            "_view_count": null,
            "_view_module": "@jupyter-widgets/controls",
            "_view_module_version": "1.5.0",
            "_view_name": "HBoxView",
            "box_style": "",
            "children": [
              "IPY_MODEL_b284889924a241d2a108aabe75861aa5",
              "IPY_MODEL_dded95915ef74a3fabf275bbc0009af0",
              "IPY_MODEL_5767a1c992e54700804a0aabb5452ed7"
            ],
            "layout": "IPY_MODEL_2a801c5d436d465fb3e22c07477fd014"
          }
        },
        "b284889924a241d2a108aabe75861aa5": {
          "model_module": "@jupyter-widgets/controls",
          "model_name": "HTMLModel",
          "model_module_version": "1.5.0",
          "state": {
            "_dom_classes": [],
            "_model_module": "@jupyter-widgets/controls",
            "_model_module_version": "1.5.0",
            "_model_name": "HTMLModel",
            "_view_count": null,
            "_view_module": "@jupyter-widgets/controls",
            "_view_module_version": "1.5.0",
            "_view_name": "HTMLView",
            "description": "",
            "description_tooltip": null,
            "layout": "IPY_MODEL_9f6b805a89574ce28f7bbf4f3417b84d",
            "placeholder": "​",
            "style": "IPY_MODEL_13f11ca524d1403fa5f456c97f4177e4",
            "value": "100%"
          }
        },
        "dded95915ef74a3fabf275bbc0009af0": {
          "model_module": "@jupyter-widgets/controls",
          "model_name": "FloatProgressModel",
          "model_module_version": "1.5.0",
          "state": {
            "_dom_classes": [],
            "_model_module": "@jupyter-widgets/controls",
            "_model_module_version": "1.5.0",
            "_model_name": "FloatProgressModel",
            "_view_count": null,
            "_view_module": "@jupyter-widgets/controls",
            "_view_module_version": "1.5.0",
            "_view_name": "ProgressView",
            "bar_style": "success",
            "description": "",
            "description_tooltip": null,
            "layout": "IPY_MODEL_4421b6ee62424d2d8c277ef3b57f32c5",
            "max": 3,
            "min": 0,
            "orientation": "horizontal",
            "style": "IPY_MODEL_21a4dc818ae346fba8664cbc291e094a",
            "value": 3
          }
        },
        "5767a1c992e54700804a0aabb5452ed7": {
          "model_module": "@jupyter-widgets/controls",
          "model_name": "HTMLModel",
          "model_module_version": "1.5.0",
          "state": {
            "_dom_classes": [],
            "_model_module": "@jupyter-widgets/controls",
            "_model_module_version": "1.5.0",
            "_model_name": "HTMLModel",
            "_view_count": null,
            "_view_module": "@jupyter-widgets/controls",
            "_view_module_version": "1.5.0",
            "_view_name": "HTMLView",
            "description": "",
            "description_tooltip": null,
            "layout": "IPY_MODEL_a271730cac874890a8a2cc57c7c3efd8",
            "placeholder": "​",
            "style": "IPY_MODEL_2020df95dd3c48ca9e89aca45c596827",
            "value": " 3/3 [00:02&lt;00:00,  1.54it/s]"
          }
        },
        "2a801c5d436d465fb3e22c07477fd014": {
          "model_module": "@jupyter-widgets/base",
          "model_name": "LayoutModel",
          "model_module_version": "1.2.0",
          "state": {
            "_model_module": "@jupyter-widgets/base",
            "_model_module_version": "1.2.0",
            "_model_name": "LayoutModel",
            "_view_count": null,
            "_view_module": "@jupyter-widgets/base",
            "_view_module_version": "1.2.0",
            "_view_name": "LayoutView",
            "align_content": null,
            "align_items": null,
            "align_self": null,
            "border": null,
            "bottom": null,
            "display": null,
            "flex": null,
            "flex_flow": null,
            "grid_area": null,
            "grid_auto_columns": null,
            "grid_auto_flow": null,
            "grid_auto_rows": null,
            "grid_column": null,
            "grid_gap": null,
            "grid_row": null,
            "grid_template_areas": null,
            "grid_template_columns": null,
            "grid_template_rows": null,
            "height": null,
            "justify_content": null,
            "justify_items": null,
            "left": null,
            "margin": null,
            "max_height": null,
            "max_width": null,
            "min_height": null,
            "min_width": null,
            "object_fit": null,
            "object_position": null,
            "order": null,
            "overflow": null,
            "overflow_x": null,
            "overflow_y": null,
            "padding": null,
            "right": null,
            "top": null,
            "visibility": null,
            "width": null
          }
        },
        "9f6b805a89574ce28f7bbf4f3417b84d": {
          "model_module": "@jupyter-widgets/base",
          "model_name": "LayoutModel",
          "model_module_version": "1.2.0",
          "state": {
            "_model_module": "@jupyter-widgets/base",
            "_model_module_version": "1.2.0",
            "_model_name": "LayoutModel",
            "_view_count": null,
            "_view_module": "@jupyter-widgets/base",
            "_view_module_version": "1.2.0",
            "_view_name": "LayoutView",
            "align_content": null,
            "align_items": null,
            "align_self": null,
            "border": null,
            "bottom": null,
            "display": null,
            "flex": null,
            "flex_flow": null,
            "grid_area": null,
            "grid_auto_columns": null,
            "grid_auto_flow": null,
            "grid_auto_rows": null,
            "grid_column": null,
            "grid_gap": null,
            "grid_row": null,
            "grid_template_areas": null,
            "grid_template_columns": null,
            "grid_template_rows": null,
            "height": null,
            "justify_content": null,
            "justify_items": null,
            "left": null,
            "margin": null,
            "max_height": null,
            "max_width": null,
            "min_height": null,
            "min_width": null,
            "object_fit": null,
            "object_position": null,
            "order": null,
            "overflow": null,
            "overflow_x": null,
            "overflow_y": null,
            "padding": null,
            "right": null,
            "top": null,
            "visibility": null,
            "width": null
          }
        },
        "13f11ca524d1403fa5f456c97f4177e4": {
          "model_module": "@jupyter-widgets/controls",
          "model_name": "DescriptionStyleModel",
          "model_module_version": "1.5.0",
          "state": {
            "_model_module": "@jupyter-widgets/controls",
            "_model_module_version": "1.5.0",
            "_model_name": "DescriptionStyleModel",
            "_view_count": null,
            "_view_module": "@jupyter-widgets/base",
            "_view_module_version": "1.2.0",
            "_view_name": "StyleView",
            "description_width": ""
          }
        },
        "4421b6ee62424d2d8c277ef3b57f32c5": {
          "model_module": "@jupyter-widgets/base",
          "model_name": "LayoutModel",
          "model_module_version": "1.2.0",
          "state": {
            "_model_module": "@jupyter-widgets/base",
            "_model_module_version": "1.2.0",
            "_model_name": "LayoutModel",
            "_view_count": null,
            "_view_module": "@jupyter-widgets/base",
            "_view_module_version": "1.2.0",
            "_view_name": "LayoutView",
            "align_content": null,
            "align_items": null,
            "align_self": null,
            "border": null,
            "bottom": null,
            "display": null,
            "flex": null,
            "flex_flow": null,
            "grid_area": null,
            "grid_auto_columns": null,
            "grid_auto_flow": null,
            "grid_auto_rows": null,
            "grid_column": null,
            "grid_gap": null,
            "grid_row": null,
            "grid_template_areas": null,
            "grid_template_columns": null,
            "grid_template_rows": null,
            "height": null,
            "justify_content": null,
            "justify_items": null,
            "left": null,
            "margin": null,
            "max_height": null,
            "max_width": null,
            "min_height": null,
            "min_width": null,
            "object_fit": null,
            "object_position": null,
            "order": null,
            "overflow": null,
            "overflow_x": null,
            "overflow_y": null,
            "padding": null,
            "right": null,
            "top": null,
            "visibility": null,
            "width": null
          }
        },
        "21a4dc818ae346fba8664cbc291e094a": {
          "model_module": "@jupyter-widgets/controls",
          "model_name": "ProgressStyleModel",
          "model_module_version": "1.5.0",
          "state": {
            "_model_module": "@jupyter-widgets/controls",
            "_model_module_version": "1.5.0",
            "_model_name": "ProgressStyleModel",
            "_view_count": null,
            "_view_module": "@jupyter-widgets/base",
            "_view_module_version": "1.2.0",
            "_view_name": "StyleView",
            "bar_color": null,
            "description_width": ""
          }
        },
        "a271730cac874890a8a2cc57c7c3efd8": {
          "model_module": "@jupyter-widgets/base",
          "model_name": "LayoutModel",
          "model_module_version": "1.2.0",
          "state": {
            "_model_module": "@jupyter-widgets/base",
            "_model_module_version": "1.2.0",
            "_model_name": "LayoutModel",
            "_view_count": null,
            "_view_module": "@jupyter-widgets/base",
            "_view_module_version": "1.2.0",
            "_view_name": "LayoutView",
            "align_content": null,
            "align_items": null,
            "align_self": null,
            "border": null,
            "bottom": null,
            "display": null,
            "flex": null,
            "flex_flow": null,
            "grid_area": null,
            "grid_auto_columns": null,
            "grid_auto_flow": null,
            "grid_auto_rows": null,
            "grid_column": null,
            "grid_gap": null,
            "grid_row": null,
            "grid_template_areas": null,
            "grid_template_columns": null,
            "grid_template_rows": null,
            "height": null,
            "justify_content": null,
            "justify_items": null,
            "left": null,
            "margin": null,
            "max_height": null,
            "max_width": null,
            "min_height": null,
            "min_width": null,
            "object_fit": null,
            "object_position": null,
            "order": null,
            "overflow": null,
            "overflow_x": null,
            "overflow_y": null,
            "padding": null,
            "right": null,
            "top": null,
            "visibility": null,
            "width": null
          }
        },
        "2020df95dd3c48ca9e89aca45c596827": {
          "model_module": "@jupyter-widgets/controls",
          "model_name": "DescriptionStyleModel",
          "model_module_version": "1.5.0",
          "state": {
            "_model_module": "@jupyter-widgets/controls",
            "_model_module_version": "1.5.0",
            "_model_name": "DescriptionStyleModel",
            "_view_count": null,
            "_view_module": "@jupyter-widgets/base",
            "_view_module_version": "1.2.0",
            "_view_name": "StyleView",
            "description_width": ""
          }
        },
        "653f19bde9fa4415be700c0bd3f3e532": {
          "model_module": "@jupyter-widgets/controls",
          "model_name": "HBoxModel",
          "model_module_version": "1.5.0",
          "state": {
            "_dom_classes": [],
            "_model_module": "@jupyter-widgets/controls",
            "_model_module_version": "1.5.0",
            "_model_name": "HBoxModel",
            "_view_count": null,
            "_view_module": "@jupyter-widgets/controls",
            "_view_module_version": "1.5.0",
            "_view_name": "HBoxView",
            "box_style": "",
            "children": [
              "IPY_MODEL_08fd82389d254693a4ed580f9da1f777",
              "IPY_MODEL_06f029d98b7442c9925f67fb0855920d",
              "IPY_MODEL_fe5d0cfef28e4e71ae066d178dc215be"
            ],
            "layout": "IPY_MODEL_01366dc0e3544ffc873f5ec9faef3ede"
          }
        },
        "08fd82389d254693a4ed580f9da1f777": {
          "model_module": "@jupyter-widgets/controls",
          "model_name": "HTMLModel",
          "model_module_version": "1.5.0",
          "state": {
            "_dom_classes": [],
            "_model_module": "@jupyter-widgets/controls",
            "_model_module_version": "1.5.0",
            "_model_name": "HTMLModel",
            "_view_count": null,
            "_view_module": "@jupyter-widgets/controls",
            "_view_module_version": "1.5.0",
            "_view_name": "HTMLView",
            "description": "",
            "description_tooltip": null,
            "layout": "IPY_MODEL_e546c851db6042e998ab12117dea5db6",
            "placeholder": "​",
            "style": "IPY_MODEL_335bd9c6dec34e1a981aefae13b2f98c",
            "value": "100%"
          }
        },
        "06f029d98b7442c9925f67fb0855920d": {
          "model_module": "@jupyter-widgets/controls",
          "model_name": "FloatProgressModel",
          "model_module_version": "1.5.0",
          "state": {
            "_dom_classes": [],
            "_model_module": "@jupyter-widgets/controls",
            "_model_module_version": "1.5.0",
            "_model_name": "FloatProgressModel",
            "_view_count": null,
            "_view_module": "@jupyter-widgets/controls",
            "_view_module_version": "1.5.0",
            "_view_name": "ProgressView",
            "bar_style": "success",
            "description": "",
            "description_tooltip": null,
            "layout": "IPY_MODEL_7b8fbae8737a4c39b05df3d406fbfdf9",
            "max": 3,
            "min": 0,
            "orientation": "horizontal",
            "style": "IPY_MODEL_18e6fae0a2d94b0a85654e6a7ebd9e6d",
            "value": 3
          }
        },
        "fe5d0cfef28e4e71ae066d178dc215be": {
          "model_module": "@jupyter-widgets/controls",
          "model_name": "HTMLModel",
          "model_module_version": "1.5.0",
          "state": {
            "_dom_classes": [],
            "_model_module": "@jupyter-widgets/controls",
            "_model_module_version": "1.5.0",
            "_model_name": "HTMLModel",
            "_view_count": null,
            "_view_module": "@jupyter-widgets/controls",
            "_view_module_version": "1.5.0",
            "_view_name": "HTMLView",
            "description": "",
            "description_tooltip": null,
            "layout": "IPY_MODEL_f8ceacdd45914ab29fcd7a56dc0da583",
            "placeholder": "​",
            "style": "IPY_MODEL_8d44b6b8411b415084f281e2cc444b0a",
            "value": " 3/3 [01:24&lt;00:00, 26.47s/it]"
          }
        },
        "01366dc0e3544ffc873f5ec9faef3ede": {
          "model_module": "@jupyter-widgets/base",
          "model_name": "LayoutModel",
          "model_module_version": "1.2.0",
          "state": {
            "_model_module": "@jupyter-widgets/base",
            "_model_module_version": "1.2.0",
            "_model_name": "LayoutModel",
            "_view_count": null,
            "_view_module": "@jupyter-widgets/base",
            "_view_module_version": "1.2.0",
            "_view_name": "LayoutView",
            "align_content": null,
            "align_items": null,
            "align_self": null,
            "border": null,
            "bottom": null,
            "display": null,
            "flex": null,
            "flex_flow": null,
            "grid_area": null,
            "grid_auto_columns": null,
            "grid_auto_flow": null,
            "grid_auto_rows": null,
            "grid_column": null,
            "grid_gap": null,
            "grid_row": null,
            "grid_template_areas": null,
            "grid_template_columns": null,
            "grid_template_rows": null,
            "height": null,
            "justify_content": null,
            "justify_items": null,
            "left": null,
            "margin": null,
            "max_height": null,
            "max_width": null,
            "min_height": null,
            "min_width": null,
            "object_fit": null,
            "object_position": null,
            "order": null,
            "overflow": null,
            "overflow_x": null,
            "overflow_y": null,
            "padding": null,
            "right": null,
            "top": null,
            "visibility": null,
            "width": null
          }
        },
        "e546c851db6042e998ab12117dea5db6": {
          "model_module": "@jupyter-widgets/base",
          "model_name": "LayoutModel",
          "model_module_version": "1.2.0",
          "state": {
            "_model_module": "@jupyter-widgets/base",
            "_model_module_version": "1.2.0",
            "_model_name": "LayoutModel",
            "_view_count": null,
            "_view_module": "@jupyter-widgets/base",
            "_view_module_version": "1.2.0",
            "_view_name": "LayoutView",
            "align_content": null,
            "align_items": null,
            "align_self": null,
            "border": null,
            "bottom": null,
            "display": null,
            "flex": null,
            "flex_flow": null,
            "grid_area": null,
            "grid_auto_columns": null,
            "grid_auto_flow": null,
            "grid_auto_rows": null,
            "grid_column": null,
            "grid_gap": null,
            "grid_row": null,
            "grid_template_areas": null,
            "grid_template_columns": null,
            "grid_template_rows": null,
            "height": null,
            "justify_content": null,
            "justify_items": null,
            "left": null,
            "margin": null,
            "max_height": null,
            "max_width": null,
            "min_height": null,
            "min_width": null,
            "object_fit": null,
            "object_position": null,
            "order": null,
            "overflow": null,
            "overflow_x": null,
            "overflow_y": null,
            "padding": null,
            "right": null,
            "top": null,
            "visibility": null,
            "width": null
          }
        },
        "335bd9c6dec34e1a981aefae13b2f98c": {
          "model_module": "@jupyter-widgets/controls",
          "model_name": "DescriptionStyleModel",
          "model_module_version": "1.5.0",
          "state": {
            "_model_module": "@jupyter-widgets/controls",
            "_model_module_version": "1.5.0",
            "_model_name": "DescriptionStyleModel",
            "_view_count": null,
            "_view_module": "@jupyter-widgets/base",
            "_view_module_version": "1.2.0",
            "_view_name": "StyleView",
            "description_width": ""
          }
        },
        "7b8fbae8737a4c39b05df3d406fbfdf9": {
          "model_module": "@jupyter-widgets/base",
          "model_name": "LayoutModel",
          "model_module_version": "1.2.0",
          "state": {
            "_model_module": "@jupyter-widgets/base",
            "_model_module_version": "1.2.0",
            "_model_name": "LayoutModel",
            "_view_count": null,
            "_view_module": "@jupyter-widgets/base",
            "_view_module_version": "1.2.0",
            "_view_name": "LayoutView",
            "align_content": null,
            "align_items": null,
            "align_self": null,
            "border": null,
            "bottom": null,
            "display": null,
            "flex": null,
            "flex_flow": null,
            "grid_area": null,
            "grid_auto_columns": null,
            "grid_auto_flow": null,
            "grid_auto_rows": null,
            "grid_column": null,
            "grid_gap": null,
            "grid_row": null,
            "grid_template_areas": null,
            "grid_template_columns": null,
            "grid_template_rows": null,
            "height": null,
            "justify_content": null,
            "justify_items": null,
            "left": null,
            "margin": null,
            "max_height": null,
            "max_width": null,
            "min_height": null,
            "min_width": null,
            "object_fit": null,
            "object_position": null,
            "order": null,
            "overflow": null,
            "overflow_x": null,
            "overflow_y": null,
            "padding": null,
            "right": null,
            "top": null,
            "visibility": null,
            "width": null
          }
        },
        "18e6fae0a2d94b0a85654e6a7ebd9e6d": {
          "model_module": "@jupyter-widgets/controls",
          "model_name": "ProgressStyleModel",
          "model_module_version": "1.5.0",
          "state": {
            "_model_module": "@jupyter-widgets/controls",
            "_model_module_version": "1.5.0",
            "_model_name": "ProgressStyleModel",
            "_view_count": null,
            "_view_module": "@jupyter-widgets/base",
            "_view_module_version": "1.2.0",
            "_view_name": "StyleView",
            "bar_color": null,
            "description_width": ""
          }
        },
        "f8ceacdd45914ab29fcd7a56dc0da583": {
          "model_module": "@jupyter-widgets/base",
          "model_name": "LayoutModel",
          "model_module_version": "1.2.0",
          "state": {
            "_model_module": "@jupyter-widgets/base",
            "_model_module_version": "1.2.0",
            "_model_name": "LayoutModel",
            "_view_count": null,
            "_view_module": "@jupyter-widgets/base",
            "_view_module_version": "1.2.0",
            "_view_name": "LayoutView",
            "align_content": null,
            "align_items": null,
            "align_self": null,
            "border": null,
            "bottom": null,
            "display": null,
            "flex": null,
            "flex_flow": null,
            "grid_area": null,
            "grid_auto_columns": null,
            "grid_auto_flow": null,
            "grid_auto_rows": null,
            "grid_column": null,
            "grid_gap": null,
            "grid_row": null,
            "grid_template_areas": null,
            "grid_template_columns": null,
            "grid_template_rows": null,
            "height": null,
            "justify_content": null,
            "justify_items": null,
            "left": null,
            "margin": null,
            "max_height": null,
            "max_width": null,
            "min_height": null,
            "min_width": null,
            "object_fit": null,
            "object_position": null,
            "order": null,
            "overflow": null,
            "overflow_x": null,
            "overflow_y": null,
            "padding": null,
            "right": null,
            "top": null,
            "visibility": null,
            "width": null
          }
        },
        "8d44b6b8411b415084f281e2cc444b0a": {
          "model_module": "@jupyter-widgets/controls",
          "model_name": "DescriptionStyleModel",
          "model_module_version": "1.5.0",
          "state": {
            "_model_module": "@jupyter-widgets/controls",
            "_model_module_version": "1.5.0",
            "_model_name": "DescriptionStyleModel",
            "_view_count": null,
            "_view_module": "@jupyter-widgets/base",
            "_view_module_version": "1.2.0",
            "_view_name": "StyleView",
            "description_width": ""
          }
        },
        "44467ee56b444356a699c1aabe6c450f": {
          "model_module": "@jupyter-widgets/controls",
          "model_name": "HBoxModel",
          "model_module_version": "1.5.0",
          "state": {
            "_dom_classes": [],
            "_model_module": "@jupyter-widgets/controls",
            "_model_module_version": "1.5.0",
            "_model_name": "HBoxModel",
            "_view_count": null,
            "_view_module": "@jupyter-widgets/controls",
            "_view_module_version": "1.5.0",
            "_view_name": "HBoxView",
            "box_style": "",
            "children": [
              "IPY_MODEL_00198f24682c4b989dab7f32a5d66e0b",
              "IPY_MODEL_0c2f0745da164298b4862beeb47c369d",
              "IPY_MODEL_738ab7b88cbd41718bd3702e01f6a694"
            ],
            "layout": "IPY_MODEL_7ae481cd60a64ab6bee6eeee28a00ca8"
          }
        },
        "00198f24682c4b989dab7f32a5d66e0b": {
          "model_module": "@jupyter-widgets/controls",
          "model_name": "HTMLModel",
          "model_module_version": "1.5.0",
          "state": {
            "_dom_classes": [],
            "_model_module": "@jupyter-widgets/controls",
            "_model_module_version": "1.5.0",
            "_model_name": "HTMLModel",
            "_view_count": null,
            "_view_module": "@jupyter-widgets/controls",
            "_view_module_version": "1.5.0",
            "_view_name": "HTMLView",
            "description": "",
            "description_tooltip": null,
            "layout": "IPY_MODEL_1294631b1a4a4ca28d26d16abe494cd1",
            "placeholder": "​",
            "style": "IPY_MODEL_71f948510f974b20a9b6caee123a7180",
            "value": "100%"
          }
        },
        "0c2f0745da164298b4862beeb47c369d": {
          "model_module": "@jupyter-widgets/controls",
          "model_name": "FloatProgressModel",
          "model_module_version": "1.5.0",
          "state": {
            "_dom_classes": [],
            "_model_module": "@jupyter-widgets/controls",
            "_model_module_version": "1.5.0",
            "_model_name": "FloatProgressModel",
            "_view_count": null,
            "_view_module": "@jupyter-widgets/controls",
            "_view_module_version": "1.5.0",
            "_view_name": "ProgressView",
            "bar_style": "success",
            "description": "",
            "description_tooltip": null,
            "layout": "IPY_MODEL_9920a95be96c4b2085a2bc8425ed5f64",
            "max": 3,
            "min": 0,
            "orientation": "horizontal",
            "style": "IPY_MODEL_023970bdec764a0db626cf909dec9204",
            "value": 3
          }
        },
        "738ab7b88cbd41718bd3702e01f6a694": {
          "model_module": "@jupyter-widgets/controls",
          "model_name": "HTMLModel",
          "model_module_version": "1.5.0",
          "state": {
            "_dom_classes": [],
            "_model_module": "@jupyter-widgets/controls",
            "_model_module_version": "1.5.0",
            "_model_name": "HTMLModel",
            "_view_count": null,
            "_view_module": "@jupyter-widgets/controls",
            "_view_module_version": "1.5.0",
            "_view_name": "HTMLView",
            "description": "",
            "description_tooltip": null,
            "layout": "IPY_MODEL_2a070b2632b1439496214900c1861bb5",
            "placeholder": "​",
            "style": "IPY_MODEL_d3464c4ed0be48b2ba256736ac505632",
            "value": " 3/3 [00:30&lt;00:00, 11.12s/it]"
          }
        },
        "7ae481cd60a64ab6bee6eeee28a00ca8": {
          "model_module": "@jupyter-widgets/base",
          "model_name": "LayoutModel",
          "model_module_version": "1.2.0",
          "state": {
            "_model_module": "@jupyter-widgets/base",
            "_model_module_version": "1.2.0",
            "_model_name": "LayoutModel",
            "_view_count": null,
            "_view_module": "@jupyter-widgets/base",
            "_view_module_version": "1.2.0",
            "_view_name": "LayoutView",
            "align_content": null,
            "align_items": null,
            "align_self": null,
            "border": null,
            "bottom": null,
            "display": null,
            "flex": null,
            "flex_flow": null,
            "grid_area": null,
            "grid_auto_columns": null,
            "grid_auto_flow": null,
            "grid_auto_rows": null,
            "grid_column": null,
            "grid_gap": null,
            "grid_row": null,
            "grid_template_areas": null,
            "grid_template_columns": null,
            "grid_template_rows": null,
            "height": null,
            "justify_content": null,
            "justify_items": null,
            "left": null,
            "margin": null,
            "max_height": null,
            "max_width": null,
            "min_height": null,
            "min_width": null,
            "object_fit": null,
            "object_position": null,
            "order": null,
            "overflow": null,
            "overflow_x": null,
            "overflow_y": null,
            "padding": null,
            "right": null,
            "top": null,
            "visibility": null,
            "width": null
          }
        },
        "1294631b1a4a4ca28d26d16abe494cd1": {
          "model_module": "@jupyter-widgets/base",
          "model_name": "LayoutModel",
          "model_module_version": "1.2.0",
          "state": {
            "_model_module": "@jupyter-widgets/base",
            "_model_module_version": "1.2.0",
            "_model_name": "LayoutModel",
            "_view_count": null,
            "_view_module": "@jupyter-widgets/base",
            "_view_module_version": "1.2.0",
            "_view_name": "LayoutView",
            "align_content": null,
            "align_items": null,
            "align_self": null,
            "border": null,
            "bottom": null,
            "display": null,
            "flex": null,
            "flex_flow": null,
            "grid_area": null,
            "grid_auto_columns": null,
            "grid_auto_flow": null,
            "grid_auto_rows": null,
            "grid_column": null,
            "grid_gap": null,
            "grid_row": null,
            "grid_template_areas": null,
            "grid_template_columns": null,
            "grid_template_rows": null,
            "height": null,
            "justify_content": null,
            "justify_items": null,
            "left": null,
            "margin": null,
            "max_height": null,
            "max_width": null,
            "min_height": null,
            "min_width": null,
            "object_fit": null,
            "object_position": null,
            "order": null,
            "overflow": null,
            "overflow_x": null,
            "overflow_y": null,
            "padding": null,
            "right": null,
            "top": null,
            "visibility": null,
            "width": null
          }
        },
        "71f948510f974b20a9b6caee123a7180": {
          "model_module": "@jupyter-widgets/controls",
          "model_name": "DescriptionStyleModel",
          "model_module_version": "1.5.0",
          "state": {
            "_model_module": "@jupyter-widgets/controls",
            "_model_module_version": "1.5.0",
            "_model_name": "DescriptionStyleModel",
            "_view_count": null,
            "_view_module": "@jupyter-widgets/base",
            "_view_module_version": "1.2.0",
            "_view_name": "StyleView",
            "description_width": ""
          }
        },
        "9920a95be96c4b2085a2bc8425ed5f64": {
          "model_module": "@jupyter-widgets/base",
          "model_name": "LayoutModel",
          "model_module_version": "1.2.0",
          "state": {
            "_model_module": "@jupyter-widgets/base",
            "_model_module_version": "1.2.0",
            "_model_name": "LayoutModel",
            "_view_count": null,
            "_view_module": "@jupyter-widgets/base",
            "_view_module_version": "1.2.0",
            "_view_name": "LayoutView",
            "align_content": null,
            "align_items": null,
            "align_self": null,
            "border": null,
            "bottom": null,
            "display": null,
            "flex": null,
            "flex_flow": null,
            "grid_area": null,
            "grid_auto_columns": null,
            "grid_auto_flow": null,
            "grid_auto_rows": null,
            "grid_column": null,
            "grid_gap": null,
            "grid_row": null,
            "grid_template_areas": null,
            "grid_template_columns": null,
            "grid_template_rows": null,
            "height": null,
            "justify_content": null,
            "justify_items": null,
            "left": null,
            "margin": null,
            "max_height": null,
            "max_width": null,
            "min_height": null,
            "min_width": null,
            "object_fit": null,
            "object_position": null,
            "order": null,
            "overflow": null,
            "overflow_x": null,
            "overflow_y": null,
            "padding": null,
            "right": null,
            "top": null,
            "visibility": null,
            "width": null
          }
        },
        "023970bdec764a0db626cf909dec9204": {
          "model_module": "@jupyter-widgets/controls",
          "model_name": "ProgressStyleModel",
          "model_module_version": "1.5.0",
          "state": {
            "_model_module": "@jupyter-widgets/controls",
            "_model_module_version": "1.5.0",
            "_model_name": "ProgressStyleModel",
            "_view_count": null,
            "_view_module": "@jupyter-widgets/base",
            "_view_module_version": "1.2.0",
            "_view_name": "StyleView",
            "bar_color": null,
            "description_width": ""
          }
        },
        "2a070b2632b1439496214900c1861bb5": {
          "model_module": "@jupyter-widgets/base",
          "model_name": "LayoutModel",
          "model_module_version": "1.2.0",
          "state": {
            "_model_module": "@jupyter-widgets/base",
            "_model_module_version": "1.2.0",
            "_model_name": "LayoutModel",
            "_view_count": null,
            "_view_module": "@jupyter-widgets/base",
            "_view_module_version": "1.2.0",
            "_view_name": "LayoutView",
            "align_content": null,
            "align_items": null,
            "align_self": null,
            "border": null,
            "bottom": null,
            "display": null,
            "flex": null,
            "flex_flow": null,
            "grid_area": null,
            "grid_auto_columns": null,
            "grid_auto_flow": null,
            "grid_auto_rows": null,
            "grid_column": null,
            "grid_gap": null,
            "grid_row": null,
            "grid_template_areas": null,
            "grid_template_columns": null,
            "grid_template_rows": null,
            "height": null,
            "justify_content": null,
            "justify_items": null,
            "left": null,
            "margin": null,
            "max_height": null,
            "max_width": null,
            "min_height": null,
            "min_width": null,
            "object_fit": null,
            "object_position": null,
            "order": null,
            "overflow": null,
            "overflow_x": null,
            "overflow_y": null,
            "padding": null,
            "right": null,
            "top": null,
            "visibility": null,
            "width": null
          }
        },
        "d3464c4ed0be48b2ba256736ac505632": {
          "model_module": "@jupyter-widgets/controls",
          "model_name": "DescriptionStyleModel",
          "model_module_version": "1.5.0",
          "state": {
            "_model_module": "@jupyter-widgets/controls",
            "_model_module_version": "1.5.0",
            "_model_name": "DescriptionStyleModel",
            "_view_count": null,
            "_view_module": "@jupyter-widgets/base",
            "_view_module_version": "1.2.0",
            "_view_name": "StyleView",
            "description_width": ""
          }
        },
        "c6957f64c0c04dcda39f15d478110d56": {
          "model_module": "@jupyter-widgets/controls",
          "model_name": "HBoxModel",
          "model_module_version": "1.5.0",
          "state": {
            "_dom_classes": [],
            "_model_module": "@jupyter-widgets/controls",
            "_model_module_version": "1.5.0",
            "_model_name": "HBoxModel",
            "_view_count": null,
            "_view_module": "@jupyter-widgets/controls",
            "_view_module_version": "1.5.0",
            "_view_name": "HBoxView",
            "box_style": "",
            "children": [
              "IPY_MODEL_b55d9edcfdb84989b75c2fc6e5b36a1a",
              "IPY_MODEL_54cde237dcd94bb38a008e9cad352576",
              "IPY_MODEL_43d245dd9a6046c19308e8290a937078"
            ],
            "layout": "IPY_MODEL_8c4b466fab4948fb86ead4d619edb6be"
          }
        },
        "b55d9edcfdb84989b75c2fc6e5b36a1a": {
          "model_module": "@jupyter-widgets/controls",
          "model_name": "HTMLModel",
          "model_module_version": "1.5.0",
          "state": {
            "_dom_classes": [],
            "_model_module": "@jupyter-widgets/controls",
            "_model_module_version": "1.5.0",
            "_model_name": "HTMLModel",
            "_view_count": null,
            "_view_module": "@jupyter-widgets/controls",
            "_view_module_version": "1.5.0",
            "_view_name": "HTMLView",
            "description": "",
            "description_tooltip": null,
            "layout": "IPY_MODEL_c6579dec33cb48b381b8cf3e5317ece2",
            "placeholder": "​",
            "style": "IPY_MODEL_aeca16a71a4d4047aacd9a6313475c63",
            "value": "100%"
          }
        },
        "54cde237dcd94bb38a008e9cad352576": {
          "model_module": "@jupyter-widgets/controls",
          "model_name": "FloatProgressModel",
          "model_module_version": "1.5.0",
          "state": {
            "_dom_classes": [],
            "_model_module": "@jupyter-widgets/controls",
            "_model_module_version": "1.5.0",
            "_model_name": "FloatProgressModel",
            "_view_count": null,
            "_view_module": "@jupyter-widgets/controls",
            "_view_module_version": "1.5.0",
            "_view_name": "ProgressView",
            "bar_style": "success",
            "description": "",
            "description_tooltip": null,
            "layout": "IPY_MODEL_12a1639d7bd8457abf8b0f347cadd1bc",
            "max": 3,
            "min": 0,
            "orientation": "horizontal",
            "style": "IPY_MODEL_b6b86d9f576d4a19b9a008d5dc9b94d4",
            "value": 3
          }
        },
        "43d245dd9a6046c19308e8290a937078": {
          "model_module": "@jupyter-widgets/controls",
          "model_name": "HTMLModel",
          "model_module_version": "1.5.0",
          "state": {
            "_dom_classes": [],
            "_model_module": "@jupyter-widgets/controls",
            "_model_module_version": "1.5.0",
            "_model_name": "HTMLModel",
            "_view_count": null,
            "_view_module": "@jupyter-widgets/controls",
            "_view_module_version": "1.5.0",
            "_view_name": "HTMLView",
            "description": "",
            "description_tooltip": null,
            "layout": "IPY_MODEL_d10aaa6ebaa449748ea3910a55414166",
            "placeholder": "​",
            "style": "IPY_MODEL_327c21b098514244acabb71805799526",
            "value": " 3/3 [00:37&lt;00:00, 12.57s/it]"
          }
        },
        "8c4b466fab4948fb86ead4d619edb6be": {
          "model_module": "@jupyter-widgets/base",
          "model_name": "LayoutModel",
          "model_module_version": "1.2.0",
          "state": {
            "_model_module": "@jupyter-widgets/base",
            "_model_module_version": "1.2.0",
            "_model_name": "LayoutModel",
            "_view_count": null,
            "_view_module": "@jupyter-widgets/base",
            "_view_module_version": "1.2.0",
            "_view_name": "LayoutView",
            "align_content": null,
            "align_items": null,
            "align_self": null,
            "border": null,
            "bottom": null,
            "display": null,
            "flex": null,
            "flex_flow": null,
            "grid_area": null,
            "grid_auto_columns": null,
            "grid_auto_flow": null,
            "grid_auto_rows": null,
            "grid_column": null,
            "grid_gap": null,
            "grid_row": null,
            "grid_template_areas": null,
            "grid_template_columns": null,
            "grid_template_rows": null,
            "height": null,
            "justify_content": null,
            "justify_items": null,
            "left": null,
            "margin": null,
            "max_height": null,
            "max_width": null,
            "min_height": null,
            "min_width": null,
            "object_fit": null,
            "object_position": null,
            "order": null,
            "overflow": null,
            "overflow_x": null,
            "overflow_y": null,
            "padding": null,
            "right": null,
            "top": null,
            "visibility": null,
            "width": null
          }
        },
        "c6579dec33cb48b381b8cf3e5317ece2": {
          "model_module": "@jupyter-widgets/base",
          "model_name": "LayoutModel",
          "model_module_version": "1.2.0",
          "state": {
            "_model_module": "@jupyter-widgets/base",
            "_model_module_version": "1.2.0",
            "_model_name": "LayoutModel",
            "_view_count": null,
            "_view_module": "@jupyter-widgets/base",
            "_view_module_version": "1.2.0",
            "_view_name": "LayoutView",
            "align_content": null,
            "align_items": null,
            "align_self": null,
            "border": null,
            "bottom": null,
            "display": null,
            "flex": null,
            "flex_flow": null,
            "grid_area": null,
            "grid_auto_columns": null,
            "grid_auto_flow": null,
            "grid_auto_rows": null,
            "grid_column": null,
            "grid_gap": null,
            "grid_row": null,
            "grid_template_areas": null,
            "grid_template_columns": null,
            "grid_template_rows": null,
            "height": null,
            "justify_content": null,
            "justify_items": null,
            "left": null,
            "margin": null,
            "max_height": null,
            "max_width": null,
            "min_height": null,
            "min_width": null,
            "object_fit": null,
            "object_position": null,
            "order": null,
            "overflow": null,
            "overflow_x": null,
            "overflow_y": null,
            "padding": null,
            "right": null,
            "top": null,
            "visibility": null,
            "width": null
          }
        },
        "aeca16a71a4d4047aacd9a6313475c63": {
          "model_module": "@jupyter-widgets/controls",
          "model_name": "DescriptionStyleModel",
          "model_module_version": "1.5.0",
          "state": {
            "_model_module": "@jupyter-widgets/controls",
            "_model_module_version": "1.5.0",
            "_model_name": "DescriptionStyleModel",
            "_view_count": null,
            "_view_module": "@jupyter-widgets/base",
            "_view_module_version": "1.2.0",
            "_view_name": "StyleView",
            "description_width": ""
          }
        },
        "12a1639d7bd8457abf8b0f347cadd1bc": {
          "model_module": "@jupyter-widgets/base",
          "model_name": "LayoutModel",
          "model_module_version": "1.2.0",
          "state": {
            "_model_module": "@jupyter-widgets/base",
            "_model_module_version": "1.2.0",
            "_model_name": "LayoutModel",
            "_view_count": null,
            "_view_module": "@jupyter-widgets/base",
            "_view_module_version": "1.2.0",
            "_view_name": "LayoutView",
            "align_content": null,
            "align_items": null,
            "align_self": null,
            "border": null,
            "bottom": null,
            "display": null,
            "flex": null,
            "flex_flow": null,
            "grid_area": null,
            "grid_auto_columns": null,
            "grid_auto_flow": null,
            "grid_auto_rows": null,
            "grid_column": null,
            "grid_gap": null,
            "grid_row": null,
            "grid_template_areas": null,
            "grid_template_columns": null,
            "grid_template_rows": null,
            "height": null,
            "justify_content": null,
            "justify_items": null,
            "left": null,
            "margin": null,
            "max_height": null,
            "max_width": null,
            "min_height": null,
            "min_width": null,
            "object_fit": null,
            "object_position": null,
            "order": null,
            "overflow": null,
            "overflow_x": null,
            "overflow_y": null,
            "padding": null,
            "right": null,
            "top": null,
            "visibility": null,
            "width": null
          }
        },
        "b6b86d9f576d4a19b9a008d5dc9b94d4": {
          "model_module": "@jupyter-widgets/controls",
          "model_name": "ProgressStyleModel",
          "model_module_version": "1.5.0",
          "state": {
            "_model_module": "@jupyter-widgets/controls",
            "_model_module_version": "1.5.0",
            "_model_name": "ProgressStyleModel",
            "_view_count": null,
            "_view_module": "@jupyter-widgets/base",
            "_view_module_version": "1.2.0",
            "_view_name": "StyleView",
            "bar_color": null,
            "description_width": ""
          }
        },
        "d10aaa6ebaa449748ea3910a55414166": {
          "model_module": "@jupyter-widgets/base",
          "model_name": "LayoutModel",
          "model_module_version": "1.2.0",
          "state": {
            "_model_module": "@jupyter-widgets/base",
            "_model_module_version": "1.2.0",
            "_model_name": "LayoutModel",
            "_view_count": null,
            "_view_module": "@jupyter-widgets/base",
            "_view_module_version": "1.2.0",
            "_view_name": "LayoutView",
            "align_content": null,
            "align_items": null,
            "align_self": null,
            "border": null,
            "bottom": null,
            "display": null,
            "flex": null,
            "flex_flow": null,
            "grid_area": null,
            "grid_auto_columns": null,
            "grid_auto_flow": null,
            "grid_auto_rows": null,
            "grid_column": null,
            "grid_gap": null,
            "grid_row": null,
            "grid_template_areas": null,
            "grid_template_columns": null,
            "grid_template_rows": null,
            "height": null,
            "justify_content": null,
            "justify_items": null,
            "left": null,
            "margin": null,
            "max_height": null,
            "max_width": null,
            "min_height": null,
            "min_width": null,
            "object_fit": null,
            "object_position": null,
            "order": null,
            "overflow": null,
            "overflow_x": null,
            "overflow_y": null,
            "padding": null,
            "right": null,
            "top": null,
            "visibility": null,
            "width": null
          }
        },
        "327c21b098514244acabb71805799526": {
          "model_module": "@jupyter-widgets/controls",
          "model_name": "DescriptionStyleModel",
          "model_module_version": "1.5.0",
          "state": {
            "_model_module": "@jupyter-widgets/controls",
            "_model_module_version": "1.5.0",
            "_model_name": "DescriptionStyleModel",
            "_view_count": null,
            "_view_module": "@jupyter-widgets/base",
            "_view_module_version": "1.2.0",
            "_view_name": "StyleView",
            "description_width": ""
          }
        },
        "b554893296b041868be4650258f2d822": {
          "model_module": "@jupyter-widgets/controls",
          "model_name": "HBoxModel",
          "model_module_version": "1.5.0",
          "state": {
            "_dom_classes": [],
            "_model_module": "@jupyter-widgets/controls",
            "_model_module_version": "1.5.0",
            "_model_name": "HBoxModel",
            "_view_count": null,
            "_view_module": "@jupyter-widgets/controls",
            "_view_module_version": "1.5.0",
            "_view_name": "HBoxView",
            "box_style": "",
            "children": [
              "IPY_MODEL_12d5d68f5b444d51aedcaec45b68f09f",
              "IPY_MODEL_5c2e6b92dc31443da6fcb16d1f039179",
              "IPY_MODEL_8f2cf64e66c14ad29819cadb2e66bd6a"
            ],
            "layout": "IPY_MODEL_d1718559b5be427791e1dee83f5d89d2"
          }
        },
        "12d5d68f5b444d51aedcaec45b68f09f": {
          "model_module": "@jupyter-widgets/controls",
          "model_name": "HTMLModel",
          "model_module_version": "1.5.0",
          "state": {
            "_dom_classes": [],
            "_model_module": "@jupyter-widgets/controls",
            "_model_module_version": "1.5.0",
            "_model_name": "HTMLModel",
            "_view_count": null,
            "_view_module": "@jupyter-widgets/controls",
            "_view_module_version": "1.5.0",
            "_view_name": "HTMLView",
            "description": "",
            "description_tooltip": null,
            "layout": "IPY_MODEL_1f6b7c0ad58e438aafbb1901bbe6a5b2",
            "placeholder": "​",
            "style": "IPY_MODEL_9719c56be827420399ed621bcea39e6a",
            "value": "100%"
          }
        },
        "5c2e6b92dc31443da6fcb16d1f039179": {
          "model_module": "@jupyter-widgets/controls",
          "model_name": "FloatProgressModel",
          "model_module_version": "1.5.0",
          "state": {
            "_dom_classes": [],
            "_model_module": "@jupyter-widgets/controls",
            "_model_module_version": "1.5.0",
            "_model_name": "FloatProgressModel",
            "_view_count": null,
            "_view_module": "@jupyter-widgets/controls",
            "_view_module_version": "1.5.0",
            "_view_name": "ProgressView",
            "bar_style": "success",
            "description": "",
            "description_tooltip": null,
            "layout": "IPY_MODEL_7d172f1bf7034d18973a2c3e2f0651f0",
            "max": 6,
            "min": 0,
            "orientation": "horizontal",
            "style": "IPY_MODEL_f0006284acae4ac19e47da5a11a44635",
            "value": 6
          }
        },
        "8f2cf64e66c14ad29819cadb2e66bd6a": {
          "model_module": "@jupyter-widgets/controls",
          "model_name": "HTMLModel",
          "model_module_version": "1.5.0",
          "state": {
            "_dom_classes": [],
            "_model_module": "@jupyter-widgets/controls",
            "_model_module_version": "1.5.0",
            "_model_name": "HTMLModel",
            "_view_count": null,
            "_view_module": "@jupyter-widgets/controls",
            "_view_module_version": "1.5.0",
            "_view_name": "HTMLView",
            "description": "",
            "description_tooltip": null,
            "layout": "IPY_MODEL_d213111dfbcf44ba82f56a220bad9d7b",
            "placeholder": "​",
            "style": "IPY_MODEL_a3904f0fe555445b911ad25d7c66725f",
            "value": " 6/6 [00:16&lt;00:00,  2.00s/it]"
          }
        },
        "d1718559b5be427791e1dee83f5d89d2": {
          "model_module": "@jupyter-widgets/base",
          "model_name": "LayoutModel",
          "model_module_version": "1.2.0",
          "state": {
            "_model_module": "@jupyter-widgets/base",
            "_model_module_version": "1.2.0",
            "_model_name": "LayoutModel",
            "_view_count": null,
            "_view_module": "@jupyter-widgets/base",
            "_view_module_version": "1.2.0",
            "_view_name": "LayoutView",
            "align_content": null,
            "align_items": null,
            "align_self": null,
            "border": null,
            "bottom": null,
            "display": null,
            "flex": null,
            "flex_flow": null,
            "grid_area": null,
            "grid_auto_columns": null,
            "grid_auto_flow": null,
            "grid_auto_rows": null,
            "grid_column": null,
            "grid_gap": null,
            "grid_row": null,
            "grid_template_areas": null,
            "grid_template_columns": null,
            "grid_template_rows": null,
            "height": null,
            "justify_content": null,
            "justify_items": null,
            "left": null,
            "margin": null,
            "max_height": null,
            "max_width": null,
            "min_height": null,
            "min_width": null,
            "object_fit": null,
            "object_position": null,
            "order": null,
            "overflow": null,
            "overflow_x": null,
            "overflow_y": null,
            "padding": null,
            "right": null,
            "top": null,
            "visibility": null,
            "width": null
          }
        },
        "1f6b7c0ad58e438aafbb1901bbe6a5b2": {
          "model_module": "@jupyter-widgets/base",
          "model_name": "LayoutModel",
          "model_module_version": "1.2.0",
          "state": {
            "_model_module": "@jupyter-widgets/base",
            "_model_module_version": "1.2.0",
            "_model_name": "LayoutModel",
            "_view_count": null,
            "_view_module": "@jupyter-widgets/base",
            "_view_module_version": "1.2.0",
            "_view_name": "LayoutView",
            "align_content": null,
            "align_items": null,
            "align_self": null,
            "border": null,
            "bottom": null,
            "display": null,
            "flex": null,
            "flex_flow": null,
            "grid_area": null,
            "grid_auto_columns": null,
            "grid_auto_flow": null,
            "grid_auto_rows": null,
            "grid_column": null,
            "grid_gap": null,
            "grid_row": null,
            "grid_template_areas": null,
            "grid_template_columns": null,
            "grid_template_rows": null,
            "height": null,
            "justify_content": null,
            "justify_items": null,
            "left": null,
            "margin": null,
            "max_height": null,
            "max_width": null,
            "min_height": null,
            "min_width": null,
            "object_fit": null,
            "object_position": null,
            "order": null,
            "overflow": null,
            "overflow_x": null,
            "overflow_y": null,
            "padding": null,
            "right": null,
            "top": null,
            "visibility": null,
            "width": null
          }
        },
        "9719c56be827420399ed621bcea39e6a": {
          "model_module": "@jupyter-widgets/controls",
          "model_name": "DescriptionStyleModel",
          "model_module_version": "1.5.0",
          "state": {
            "_model_module": "@jupyter-widgets/controls",
            "_model_module_version": "1.5.0",
            "_model_name": "DescriptionStyleModel",
            "_view_count": null,
            "_view_module": "@jupyter-widgets/base",
            "_view_module_version": "1.2.0",
            "_view_name": "StyleView",
            "description_width": ""
          }
        },
        "7d172f1bf7034d18973a2c3e2f0651f0": {
          "model_module": "@jupyter-widgets/base",
          "model_name": "LayoutModel",
          "model_module_version": "1.2.0",
          "state": {
            "_model_module": "@jupyter-widgets/base",
            "_model_module_version": "1.2.0",
            "_model_name": "LayoutModel",
            "_view_count": null,
            "_view_module": "@jupyter-widgets/base",
            "_view_module_version": "1.2.0",
            "_view_name": "LayoutView",
            "align_content": null,
            "align_items": null,
            "align_self": null,
            "border": null,
            "bottom": null,
            "display": null,
            "flex": null,
            "flex_flow": null,
            "grid_area": null,
            "grid_auto_columns": null,
            "grid_auto_flow": null,
            "grid_auto_rows": null,
            "grid_column": null,
            "grid_gap": null,
            "grid_row": null,
            "grid_template_areas": null,
            "grid_template_columns": null,
            "grid_template_rows": null,
            "height": null,
            "justify_content": null,
            "justify_items": null,
            "left": null,
            "margin": null,
            "max_height": null,
            "max_width": null,
            "min_height": null,
            "min_width": null,
            "object_fit": null,
            "object_position": null,
            "order": null,
            "overflow": null,
            "overflow_x": null,
            "overflow_y": null,
            "padding": null,
            "right": null,
            "top": null,
            "visibility": null,
            "width": null
          }
        },
        "f0006284acae4ac19e47da5a11a44635": {
          "model_module": "@jupyter-widgets/controls",
          "model_name": "ProgressStyleModel",
          "model_module_version": "1.5.0",
          "state": {
            "_model_module": "@jupyter-widgets/controls",
            "_model_module_version": "1.5.0",
            "_model_name": "ProgressStyleModel",
            "_view_count": null,
            "_view_module": "@jupyter-widgets/base",
            "_view_module_version": "1.2.0",
            "_view_name": "StyleView",
            "bar_color": null,
            "description_width": ""
          }
        },
        "d213111dfbcf44ba82f56a220bad9d7b": {
          "model_module": "@jupyter-widgets/base",
          "model_name": "LayoutModel",
          "model_module_version": "1.2.0",
          "state": {
            "_model_module": "@jupyter-widgets/base",
            "_model_module_version": "1.2.0",
            "_model_name": "LayoutModel",
            "_view_count": null,
            "_view_module": "@jupyter-widgets/base",
            "_view_module_version": "1.2.0",
            "_view_name": "LayoutView",
            "align_content": null,
            "align_items": null,
            "align_self": null,
            "border": null,
            "bottom": null,
            "display": null,
            "flex": null,
            "flex_flow": null,
            "grid_area": null,
            "grid_auto_columns": null,
            "grid_auto_flow": null,
            "grid_auto_rows": null,
            "grid_column": null,
            "grid_gap": null,
            "grid_row": null,
            "grid_template_areas": null,
            "grid_template_columns": null,
            "grid_template_rows": null,
            "height": null,
            "justify_content": null,
            "justify_items": null,
            "left": null,
            "margin": null,
            "max_height": null,
            "max_width": null,
            "min_height": null,
            "min_width": null,
            "object_fit": null,
            "object_position": null,
            "order": null,
            "overflow": null,
            "overflow_x": null,
            "overflow_y": null,
            "padding": null,
            "right": null,
            "top": null,
            "visibility": null,
            "width": null
          }
        },
        "a3904f0fe555445b911ad25d7c66725f": {
          "model_module": "@jupyter-widgets/controls",
          "model_name": "DescriptionStyleModel",
          "model_module_version": "1.5.0",
          "state": {
            "_model_module": "@jupyter-widgets/controls",
            "_model_module_version": "1.5.0",
            "_model_name": "DescriptionStyleModel",
            "_view_count": null,
            "_view_module": "@jupyter-widgets/base",
            "_view_module_version": "1.2.0",
            "_view_name": "StyleView",
            "description_width": ""
          }
        },
        "37a5fdc0714b4801b7c00c2f02ad8eaf": {
          "model_module": "@jupyter-widgets/controls",
          "model_name": "HBoxModel",
          "model_module_version": "1.5.0",
          "state": {
            "_dom_classes": [],
            "_model_module": "@jupyter-widgets/controls",
            "_model_module_version": "1.5.0",
            "_model_name": "HBoxModel",
            "_view_count": null,
            "_view_module": "@jupyter-widgets/controls",
            "_view_module_version": "1.5.0",
            "_view_name": "HBoxView",
            "box_style": "",
            "children": [
              "IPY_MODEL_c23dd236834c494eac618fbbaff4d7d6",
              "IPY_MODEL_4ad052b06cff450ba999efa92b7dcd2f",
              "IPY_MODEL_46feeb9f84f7483aae3e6303a45471a1"
            ],
            "layout": "IPY_MODEL_38dbce4452ab4105b3e6eda5d134c813"
          }
        },
        "c23dd236834c494eac618fbbaff4d7d6": {
          "model_module": "@jupyter-widgets/controls",
          "model_name": "HTMLModel",
          "model_module_version": "1.5.0",
          "state": {
            "_dom_classes": [],
            "_model_module": "@jupyter-widgets/controls",
            "_model_module_version": "1.5.0",
            "_model_name": "HTMLModel",
            "_view_count": null,
            "_view_module": "@jupyter-widgets/controls",
            "_view_module_version": "1.5.0",
            "_view_name": "HTMLView",
            "description": "",
            "description_tooltip": null,
            "layout": "IPY_MODEL_d64f64faedf8477ba1e6420eab2fcf3e",
            "placeholder": "​",
            "style": "IPY_MODEL_9e45748338824e77bc3d1c985a69b03f",
            "value": "100%"
          }
        },
        "4ad052b06cff450ba999efa92b7dcd2f": {
          "model_module": "@jupyter-widgets/controls",
          "model_name": "FloatProgressModel",
          "model_module_version": "1.5.0",
          "state": {
            "_dom_classes": [],
            "_model_module": "@jupyter-widgets/controls",
            "_model_module_version": "1.5.0",
            "_model_name": "FloatProgressModel",
            "_view_count": null,
            "_view_module": "@jupyter-widgets/controls",
            "_view_module_version": "1.5.0",
            "_view_name": "ProgressView",
            "bar_style": "success",
            "description": "",
            "description_tooltip": null,
            "layout": "IPY_MODEL_af2a9e184efd4fb4a9a86da4e33b6417",
            "max": 3,
            "min": 0,
            "orientation": "horizontal",
            "style": "IPY_MODEL_05b9a7a972714f9489b2002587644acc",
            "value": 3
          }
        },
        "46feeb9f84f7483aae3e6303a45471a1": {
          "model_module": "@jupyter-widgets/controls",
          "model_name": "HTMLModel",
          "model_module_version": "1.5.0",
          "state": {
            "_dom_classes": [],
            "_model_module": "@jupyter-widgets/controls",
            "_model_module_version": "1.5.0",
            "_model_name": "HTMLModel",
            "_view_count": null,
            "_view_module": "@jupyter-widgets/controls",
            "_view_module_version": "1.5.0",
            "_view_name": "HTMLView",
            "description": "",
            "description_tooltip": null,
            "layout": "IPY_MODEL_d97eac8c366e42d48fc6bd7fac950d59",
            "placeholder": "​",
            "style": "IPY_MODEL_5243fedcbfec4a509b33f1ac190bc6fa",
            "value": " 3/3 [00:02&lt;00:00,  1.11it/s]"
          }
        },
        "38dbce4452ab4105b3e6eda5d134c813": {
          "model_module": "@jupyter-widgets/base",
          "model_name": "LayoutModel",
          "model_module_version": "1.2.0",
          "state": {
            "_model_module": "@jupyter-widgets/base",
            "_model_module_version": "1.2.0",
            "_model_name": "LayoutModel",
            "_view_count": null,
            "_view_module": "@jupyter-widgets/base",
            "_view_module_version": "1.2.0",
            "_view_name": "LayoutView",
            "align_content": null,
            "align_items": null,
            "align_self": null,
            "border": null,
            "bottom": null,
            "display": null,
            "flex": null,
            "flex_flow": null,
            "grid_area": null,
            "grid_auto_columns": null,
            "grid_auto_flow": null,
            "grid_auto_rows": null,
            "grid_column": null,
            "grid_gap": null,
            "grid_row": null,
            "grid_template_areas": null,
            "grid_template_columns": null,
            "grid_template_rows": null,
            "height": null,
            "justify_content": null,
            "justify_items": null,
            "left": null,
            "margin": null,
            "max_height": null,
            "max_width": null,
            "min_height": null,
            "min_width": null,
            "object_fit": null,
            "object_position": null,
            "order": null,
            "overflow": null,
            "overflow_x": null,
            "overflow_y": null,
            "padding": null,
            "right": null,
            "top": null,
            "visibility": null,
            "width": null
          }
        },
        "d64f64faedf8477ba1e6420eab2fcf3e": {
          "model_module": "@jupyter-widgets/base",
          "model_name": "LayoutModel",
          "model_module_version": "1.2.0",
          "state": {
            "_model_module": "@jupyter-widgets/base",
            "_model_module_version": "1.2.0",
            "_model_name": "LayoutModel",
            "_view_count": null,
            "_view_module": "@jupyter-widgets/base",
            "_view_module_version": "1.2.0",
            "_view_name": "LayoutView",
            "align_content": null,
            "align_items": null,
            "align_self": null,
            "border": null,
            "bottom": null,
            "display": null,
            "flex": null,
            "flex_flow": null,
            "grid_area": null,
            "grid_auto_columns": null,
            "grid_auto_flow": null,
            "grid_auto_rows": null,
            "grid_column": null,
            "grid_gap": null,
            "grid_row": null,
            "grid_template_areas": null,
            "grid_template_columns": null,
            "grid_template_rows": null,
            "height": null,
            "justify_content": null,
            "justify_items": null,
            "left": null,
            "margin": null,
            "max_height": null,
            "max_width": null,
            "min_height": null,
            "min_width": null,
            "object_fit": null,
            "object_position": null,
            "order": null,
            "overflow": null,
            "overflow_x": null,
            "overflow_y": null,
            "padding": null,
            "right": null,
            "top": null,
            "visibility": null,
            "width": null
          }
        },
        "9e45748338824e77bc3d1c985a69b03f": {
          "model_module": "@jupyter-widgets/controls",
          "model_name": "DescriptionStyleModel",
          "model_module_version": "1.5.0",
          "state": {
            "_model_module": "@jupyter-widgets/controls",
            "_model_module_version": "1.5.0",
            "_model_name": "DescriptionStyleModel",
            "_view_count": null,
            "_view_module": "@jupyter-widgets/base",
            "_view_module_version": "1.2.0",
            "_view_name": "StyleView",
            "description_width": ""
          }
        },
        "af2a9e184efd4fb4a9a86da4e33b6417": {
          "model_module": "@jupyter-widgets/base",
          "model_name": "LayoutModel",
          "model_module_version": "1.2.0",
          "state": {
            "_model_module": "@jupyter-widgets/base",
            "_model_module_version": "1.2.0",
            "_model_name": "LayoutModel",
            "_view_count": null,
            "_view_module": "@jupyter-widgets/base",
            "_view_module_version": "1.2.0",
            "_view_name": "LayoutView",
            "align_content": null,
            "align_items": null,
            "align_self": null,
            "border": null,
            "bottom": null,
            "display": null,
            "flex": null,
            "flex_flow": null,
            "grid_area": null,
            "grid_auto_columns": null,
            "grid_auto_flow": null,
            "grid_auto_rows": null,
            "grid_column": null,
            "grid_gap": null,
            "grid_row": null,
            "grid_template_areas": null,
            "grid_template_columns": null,
            "grid_template_rows": null,
            "height": null,
            "justify_content": null,
            "justify_items": null,
            "left": null,
            "margin": null,
            "max_height": null,
            "max_width": null,
            "min_height": null,
            "min_width": null,
            "object_fit": null,
            "object_position": null,
            "order": null,
            "overflow": null,
            "overflow_x": null,
            "overflow_y": null,
            "padding": null,
            "right": null,
            "top": null,
            "visibility": null,
            "width": null
          }
        },
        "05b9a7a972714f9489b2002587644acc": {
          "model_module": "@jupyter-widgets/controls",
          "model_name": "ProgressStyleModel",
          "model_module_version": "1.5.0",
          "state": {
            "_model_module": "@jupyter-widgets/controls",
            "_model_module_version": "1.5.0",
            "_model_name": "ProgressStyleModel",
            "_view_count": null,
            "_view_module": "@jupyter-widgets/base",
            "_view_module_version": "1.2.0",
            "_view_name": "StyleView",
            "bar_color": null,
            "description_width": ""
          }
        },
        "d97eac8c366e42d48fc6bd7fac950d59": {
          "model_module": "@jupyter-widgets/base",
          "model_name": "LayoutModel",
          "model_module_version": "1.2.0",
          "state": {
            "_model_module": "@jupyter-widgets/base",
            "_model_module_version": "1.2.0",
            "_model_name": "LayoutModel",
            "_view_count": null,
            "_view_module": "@jupyter-widgets/base",
            "_view_module_version": "1.2.0",
            "_view_name": "LayoutView",
            "align_content": null,
            "align_items": null,
            "align_self": null,
            "border": null,
            "bottom": null,
            "display": null,
            "flex": null,
            "flex_flow": null,
            "grid_area": null,
            "grid_auto_columns": null,
            "grid_auto_flow": null,
            "grid_auto_rows": null,
            "grid_column": null,
            "grid_gap": null,
            "grid_row": null,
            "grid_template_areas": null,
            "grid_template_columns": null,
            "grid_template_rows": null,
            "height": null,
            "justify_content": null,
            "justify_items": null,
            "left": null,
            "margin": null,
            "max_height": null,
            "max_width": null,
            "min_height": null,
            "min_width": null,
            "object_fit": null,
            "object_position": null,
            "order": null,
            "overflow": null,
            "overflow_x": null,
            "overflow_y": null,
            "padding": null,
            "right": null,
            "top": null,
            "visibility": null,
            "width": null
          }
        },
        "5243fedcbfec4a509b33f1ac190bc6fa": {
          "model_module": "@jupyter-widgets/controls",
          "model_name": "DescriptionStyleModel",
          "model_module_version": "1.5.0",
          "state": {
            "_model_module": "@jupyter-widgets/controls",
            "_model_module_version": "1.5.0",
            "_model_name": "DescriptionStyleModel",
            "_view_count": null,
            "_view_module": "@jupyter-widgets/base",
            "_view_module_version": "1.2.0",
            "_view_name": "StyleView",
            "description_width": ""
          }
        },
        "546453956ba343d1b0efa4428e7a6a8b": {
          "model_module": "@jupyter-widgets/controls",
          "model_name": "HBoxModel",
          "model_module_version": "1.5.0",
          "state": {
            "_dom_classes": [],
            "_model_module": "@jupyter-widgets/controls",
            "_model_module_version": "1.5.0",
            "_model_name": "HBoxModel",
            "_view_count": null,
            "_view_module": "@jupyter-widgets/controls",
            "_view_module_version": "1.5.0",
            "_view_name": "HBoxView",
            "box_style": "",
            "children": [
              "IPY_MODEL_115a8806ed1e4b519f4ed1a3b5fb76e5",
              "IPY_MODEL_e425d8346e5a4a93bd2b7454f6ed4683",
              "IPY_MODEL_066c644cb3294cfcbc29cf786ebbbd8b"
            ],
            "layout": "IPY_MODEL_d9cd63104f194f99a6510e7fd4ca994b"
          }
        },
        "115a8806ed1e4b519f4ed1a3b5fb76e5": {
          "model_module": "@jupyter-widgets/controls",
          "model_name": "HTMLModel",
          "model_module_version": "1.5.0",
          "state": {
            "_dom_classes": [],
            "_model_module": "@jupyter-widgets/controls",
            "_model_module_version": "1.5.0",
            "_model_name": "HTMLModel",
            "_view_count": null,
            "_view_module": "@jupyter-widgets/controls",
            "_view_module_version": "1.5.0",
            "_view_name": "HTMLView",
            "description": "",
            "description_tooltip": null,
            "layout": "IPY_MODEL_50296885c94840028c180567f212ccda",
            "placeholder": "​",
            "style": "IPY_MODEL_4e797b52ee4448a1b4625754d39b2a92",
            "value": "100%"
          }
        },
        "e425d8346e5a4a93bd2b7454f6ed4683": {
          "model_module": "@jupyter-widgets/controls",
          "model_name": "FloatProgressModel",
          "model_module_version": "1.5.0",
          "state": {
            "_dom_classes": [],
            "_model_module": "@jupyter-widgets/controls",
            "_model_module_version": "1.5.0",
            "_model_name": "FloatProgressModel",
            "_view_count": null,
            "_view_module": "@jupyter-widgets/controls",
            "_view_module_version": "1.5.0",
            "_view_name": "ProgressView",
            "bar_style": "success",
            "description": "",
            "description_tooltip": null,
            "layout": "IPY_MODEL_0cf4f8919517486194b3a3a1188e8bbc",
            "max": 3,
            "min": 0,
            "orientation": "horizontal",
            "style": "IPY_MODEL_36e867ee625b4fc79f7ad8960f0c3d5f",
            "value": 3
          }
        },
        "066c644cb3294cfcbc29cf786ebbbd8b": {
          "model_module": "@jupyter-widgets/controls",
          "model_name": "HTMLModel",
          "model_module_version": "1.5.0",
          "state": {
            "_dom_classes": [],
            "_model_module": "@jupyter-widgets/controls",
            "_model_module_version": "1.5.0",
            "_model_name": "HTMLModel",
            "_view_count": null,
            "_view_module": "@jupyter-widgets/controls",
            "_view_module_version": "1.5.0",
            "_view_name": "HTMLView",
            "description": "",
            "description_tooltip": null,
            "layout": "IPY_MODEL_8068dd1f31444414bac346ccc6ebfc39",
            "placeholder": "​",
            "style": "IPY_MODEL_12bb147855c04770b9a8bc131104aa5c",
            "value": " 3/3 [00:00&lt;00:00, 13.08it/s]"
          }
        },
        "d9cd63104f194f99a6510e7fd4ca994b": {
          "model_module": "@jupyter-widgets/base",
          "model_name": "LayoutModel",
          "model_module_version": "1.2.0",
          "state": {
            "_model_module": "@jupyter-widgets/base",
            "_model_module_version": "1.2.0",
            "_model_name": "LayoutModel",
            "_view_count": null,
            "_view_module": "@jupyter-widgets/base",
            "_view_module_version": "1.2.0",
            "_view_name": "LayoutView",
            "align_content": null,
            "align_items": null,
            "align_self": null,
            "border": null,
            "bottom": null,
            "display": null,
            "flex": null,
            "flex_flow": null,
            "grid_area": null,
            "grid_auto_columns": null,
            "grid_auto_flow": null,
            "grid_auto_rows": null,
            "grid_column": null,
            "grid_gap": null,
            "grid_row": null,
            "grid_template_areas": null,
            "grid_template_columns": null,
            "grid_template_rows": null,
            "height": null,
            "justify_content": null,
            "justify_items": null,
            "left": null,
            "margin": null,
            "max_height": null,
            "max_width": null,
            "min_height": null,
            "min_width": null,
            "object_fit": null,
            "object_position": null,
            "order": null,
            "overflow": null,
            "overflow_x": null,
            "overflow_y": null,
            "padding": null,
            "right": null,
            "top": null,
            "visibility": null,
            "width": null
          }
        },
        "50296885c94840028c180567f212ccda": {
          "model_module": "@jupyter-widgets/base",
          "model_name": "LayoutModel",
          "model_module_version": "1.2.0",
          "state": {
            "_model_module": "@jupyter-widgets/base",
            "_model_module_version": "1.2.0",
            "_model_name": "LayoutModel",
            "_view_count": null,
            "_view_module": "@jupyter-widgets/base",
            "_view_module_version": "1.2.0",
            "_view_name": "LayoutView",
            "align_content": null,
            "align_items": null,
            "align_self": null,
            "border": null,
            "bottom": null,
            "display": null,
            "flex": null,
            "flex_flow": null,
            "grid_area": null,
            "grid_auto_columns": null,
            "grid_auto_flow": null,
            "grid_auto_rows": null,
            "grid_column": null,
            "grid_gap": null,
            "grid_row": null,
            "grid_template_areas": null,
            "grid_template_columns": null,
            "grid_template_rows": null,
            "height": null,
            "justify_content": null,
            "justify_items": null,
            "left": null,
            "margin": null,
            "max_height": null,
            "max_width": null,
            "min_height": null,
            "min_width": null,
            "object_fit": null,
            "object_position": null,
            "order": null,
            "overflow": null,
            "overflow_x": null,
            "overflow_y": null,
            "padding": null,
            "right": null,
            "top": null,
            "visibility": null,
            "width": null
          }
        },
        "4e797b52ee4448a1b4625754d39b2a92": {
          "model_module": "@jupyter-widgets/controls",
          "model_name": "DescriptionStyleModel",
          "model_module_version": "1.5.0",
          "state": {
            "_model_module": "@jupyter-widgets/controls",
            "_model_module_version": "1.5.0",
            "_model_name": "DescriptionStyleModel",
            "_view_count": null,
            "_view_module": "@jupyter-widgets/base",
            "_view_module_version": "1.2.0",
            "_view_name": "StyleView",
            "description_width": ""
          }
        },
        "0cf4f8919517486194b3a3a1188e8bbc": {
          "model_module": "@jupyter-widgets/base",
          "model_name": "LayoutModel",
          "model_module_version": "1.2.0",
          "state": {
            "_model_module": "@jupyter-widgets/base",
            "_model_module_version": "1.2.0",
            "_model_name": "LayoutModel",
            "_view_count": null,
            "_view_module": "@jupyter-widgets/base",
            "_view_module_version": "1.2.0",
            "_view_name": "LayoutView",
            "align_content": null,
            "align_items": null,
            "align_self": null,
            "border": null,
            "bottom": null,
            "display": null,
            "flex": null,
            "flex_flow": null,
            "grid_area": null,
            "grid_auto_columns": null,
            "grid_auto_flow": null,
            "grid_auto_rows": null,
            "grid_column": null,
            "grid_gap": null,
            "grid_row": null,
            "grid_template_areas": null,
            "grid_template_columns": null,
            "grid_template_rows": null,
            "height": null,
            "justify_content": null,
            "justify_items": null,
            "left": null,
            "margin": null,
            "max_height": null,
            "max_width": null,
            "min_height": null,
            "min_width": null,
            "object_fit": null,
            "object_position": null,
            "order": null,
            "overflow": null,
            "overflow_x": null,
            "overflow_y": null,
            "padding": null,
            "right": null,
            "top": null,
            "visibility": null,
            "width": null
          }
        },
        "36e867ee625b4fc79f7ad8960f0c3d5f": {
          "model_module": "@jupyter-widgets/controls",
          "model_name": "ProgressStyleModel",
          "model_module_version": "1.5.0",
          "state": {
            "_model_module": "@jupyter-widgets/controls",
            "_model_module_version": "1.5.0",
            "_model_name": "ProgressStyleModel",
            "_view_count": null,
            "_view_module": "@jupyter-widgets/base",
            "_view_module_version": "1.2.0",
            "_view_name": "StyleView",
            "bar_color": null,
            "description_width": ""
          }
        },
        "8068dd1f31444414bac346ccc6ebfc39": {
          "model_module": "@jupyter-widgets/base",
          "model_name": "LayoutModel",
          "model_module_version": "1.2.0",
          "state": {
            "_model_module": "@jupyter-widgets/base",
            "_model_module_version": "1.2.0",
            "_model_name": "LayoutModel",
            "_view_count": null,
            "_view_module": "@jupyter-widgets/base",
            "_view_module_version": "1.2.0",
            "_view_name": "LayoutView",
            "align_content": null,
            "align_items": null,
            "align_self": null,
            "border": null,
            "bottom": null,
            "display": null,
            "flex": null,
            "flex_flow": null,
            "grid_area": null,
            "grid_auto_columns": null,
            "grid_auto_flow": null,
            "grid_auto_rows": null,
            "grid_column": null,
            "grid_gap": null,
            "grid_row": null,
            "grid_template_areas": null,
            "grid_template_columns": null,
            "grid_template_rows": null,
            "height": null,
            "justify_content": null,
            "justify_items": null,
            "left": null,
            "margin": null,
            "max_height": null,
            "max_width": null,
            "min_height": null,
            "min_width": null,
            "object_fit": null,
            "object_position": null,
            "order": null,
            "overflow": null,
            "overflow_x": null,
            "overflow_y": null,
            "padding": null,
            "right": null,
            "top": null,
            "visibility": null,
            "width": null
          }
        },
        "12bb147855c04770b9a8bc131104aa5c": {
          "model_module": "@jupyter-widgets/controls",
          "model_name": "DescriptionStyleModel",
          "model_module_version": "1.5.0",
          "state": {
            "_model_module": "@jupyter-widgets/controls",
            "_model_module_version": "1.5.0",
            "_model_name": "DescriptionStyleModel",
            "_view_count": null,
            "_view_module": "@jupyter-widgets/base",
            "_view_module_version": "1.2.0",
            "_view_name": "StyleView",
            "description_width": ""
          }
        }
      }
    }
  },
  "nbformat": 4,
  "nbformat_minor": 5
}